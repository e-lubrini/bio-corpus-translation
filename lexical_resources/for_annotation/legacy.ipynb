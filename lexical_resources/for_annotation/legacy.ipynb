{
 "cells": [
  {
   "cell_type": "markdown",
   "metadata": {},
   "source": [
    "#  Lexical Resource (LR) for Annotation"
   ]
  },
  {
   "cell_type": "markdown",
   "metadata": {},
   "source": [
    "#### Imports"
   ]
  },
  {
   "cell_type": "code",
   "execution_count": 1,
   "metadata": {},
   "outputs": [
    {
     "name": "stderr",
     "output_type": "stream",
     "text": [
      "[nltk_data] Error loading words: <urlopen error [Errno -3] Temporary\n",
      "[nltk_data]     failure in name resolution>\n"
     ]
    }
   ],
   "source": [
    "# interface\n",
    "from tqdm import tqdm\n",
    "from dsutils.de.files import dbg\n",
    "\n",
    "## Files and filesystem\n",
    "import os\n",
    "import json\n",
    "import csv\n",
    "import glob\n",
    "\n",
    "## Data management\n",
    "import numpy as np\n",
    "import pandas as pd\n",
    "\n",
    "## DS tools\n",
    "import re\n",
    "from types import NoneType\n",
    "from dsutils.de.files import describe_csv, get_csv_head, xls_to_csv, get_data_path, get_datafile_path\n",
    "from dsutils.nlp.language import get_lang_code"
   ]
  },
  {
   "cell_type": "markdown",
   "metadata": {},
   "source": [
    "#### Paths"
   ]
  },
  {
   "cell_type": "code",
   "execution_count": 2,
   "metadata": {},
   "outputs": [
    {
     "ename": "FileNotFoundError",
     "evalue": "[Errno 2] No such file or directory: '/home/elubrini/GitHub/bio-corpus-translation/data/2022-09-02_COMMONnames_EPPO_OQ.xlsx'",
     "output_type": "error",
     "traceback": [
      "\u001b[0;31m---------------------------------------------------------------------------\u001b[0m",
      "\u001b[0;31mFileNotFoundError\u001b[0m                         Traceback (most recent call last)",
      "Cell \u001b[0;32mIn [2], line 3\u001b[0m\n\u001b[1;32m      1\u001b[0m \u001b[39m## input\u001b[39;00m\n\u001b[1;32m      2\u001b[0m db_paths \u001b[39m=\u001b[39m \u001b[39mdict\u001b[39m(\n\u001b[0;32m----> 3\u001b[0m     eppo_com \u001b[39m=\u001b[39m get_datafile_path(\u001b[39m'\u001b[39;49m\u001b[39m2022-09-02_COMMONnames_EPPO_OQ.xlsx\u001b[39;49m\u001b[39m'\u001b[39;49m),\n\u001b[1;32m      4\u001b[0m     eppo_sci \u001b[39m=\u001b[39m get_datafile_path(\u001b[39m'\u001b[39m\u001b[39m2022-09-02_SCIENTIFICnames_EPPO_OQ.xlsx\u001b[39m\u001b[39m'\u001b[39m),\n\u001b[1;32m      5\u001b[0m     efsa \u001b[39m=\u001b[39m get_datafile_path(\u001b[39m'\u001b[39m\u001b[39mEFSA-keyword-match/FichierMotsClesMagaliLarenaudie.csv\u001b[39m\u001b[39m'\u001b[39m),\n\u001b[1;32m      6\u001b[0m     ncbi \u001b[39m=\u001b[39m get_datafile_path(\u001b[39m'\u001b[39m\u001b[39mtaxa+id_full.txt\u001b[39m\u001b[39m'\u001b[39m),\n\u001b[1;32m      7\u001b[0m )\n\u001b[1;32m      9\u001b[0m glossary_paths \u001b[39m=\u001b[39m \u001b[39mdict\u001b[39m(\n\u001b[1;32m     10\u001b[0m     efsa_glossary \u001b[39m=\u001b[39m get_datafile_path(\u001b[39m'\u001b[39m\u001b[39mefsa_glossary.csv\u001b[39m\u001b[39m'\u001b[39m),\n\u001b[1;32m     11\u001b[0m     eppo_glossary \u001b[39m=\u001b[39m get_datafile_path(\u001b[39m'\u001b[39m\u001b[39meppo_glossary.csv\u001b[39m\u001b[39m'\u001b[39m),\n\u001b[1;32m     12\u001b[0m )\n\u001b[1;32m     14\u001b[0m \u001b[39m## Output\u001b[39;00m\n",
      "File \u001b[0;32m~/GitHub/dsutils/dsutils/de/files.py:49\u001b[0m, in \u001b[0;36mget_datafile_path\u001b[0;34m(filename, data_path, format)\u001b[0m\n\u001b[1;32m     47\u001b[0m filepath \u001b[39m=\u001b[39m os\u001b[39m.\u001b[39mpath\u001b[39m.\u001b[39mjoin(data_path,filename)\n\u001b[1;32m     48\u001b[0m \u001b[39mif\u001b[39;00m \u001b[39m'\u001b[39m\u001b[39m.xls\u001b[39m\u001b[39m'\u001b[39m \u001b[39min\u001b[39;00m filename \u001b[39mand\u001b[39;00m \u001b[39m'\u001b[39m\u001b[39mcsv\u001b[39m\u001b[39m'\u001b[39m \u001b[39min\u001b[39;00m \u001b[39mformat\u001b[39m :\n\u001b[0;32m---> 49\u001b[0m     filepath \u001b[39m=\u001b[39m xls_to_csv(filepath)\n\u001b[1;32m     50\u001b[0m \u001b[39mreturn\u001b[39;00m filepath\n",
      "File \u001b[0;32m~/GitHub/dsutils/dsutils/de/files.py:190\u001b[0m, in \u001b[0;36mxls_to_csv\u001b[0;34m(xls_path, csv_path)\u001b[0m\n\u001b[1;32m    189\u001b[0m \u001b[39mdef\u001b[39;00m \u001b[39mxls_to_csv\u001b[39m(xls_path, csv_path\u001b[39m=\u001b[39m\u001b[39m'\u001b[39m\u001b[39m'\u001b[39m):\n\u001b[0;32m--> 190\u001b[0m     read_file \u001b[39m=\u001b[39m pd\u001b[39m.\u001b[39;49mread_excel(xls_path)\n\u001b[1;32m    191\u001b[0m     \u001b[39mif\u001b[39;00m \u001b[39mnot\u001b[39;00m csv_path:\n\u001b[1;32m    192\u001b[0m         csv_path \u001b[39m=\u001b[39m os\u001b[39m.\u001b[39mpath\u001b[39m.\u001b[39mjoin(get_parent_dir(xls_path),os\u001b[39m.\u001b[39mpath\u001b[39m.\u001b[39msplitext(os\u001b[39m.\u001b[39mpath\u001b[39m.\u001b[39mbasename(xls_path))[\u001b[39m0\u001b[39m]\u001b[39m+\u001b[39m\u001b[39m'\u001b[39m\u001b[39m.csv\u001b[39m\u001b[39m'\u001b[39m)\n",
      "File \u001b[0;32m~/GitHub/bio-corpus-translation/venv/lib/python3.10/site-packages/pandas/util/_decorators.py:211\u001b[0m, in \u001b[0;36mdeprecate_kwarg.<locals>._deprecate_kwarg.<locals>.wrapper\u001b[0;34m(*args, **kwargs)\u001b[0m\n\u001b[1;32m    209\u001b[0m     \u001b[39melse\u001b[39;00m:\n\u001b[1;32m    210\u001b[0m         kwargs[new_arg_name] \u001b[39m=\u001b[39m new_arg_value\n\u001b[0;32m--> 211\u001b[0m \u001b[39mreturn\u001b[39;00m func(\u001b[39m*\u001b[39;49margs, \u001b[39m*\u001b[39;49m\u001b[39m*\u001b[39;49mkwargs)\n",
      "File \u001b[0;32m~/GitHub/bio-corpus-translation/venv/lib/python3.10/site-packages/pandas/util/_decorators.py:317\u001b[0m, in \u001b[0;36mdeprecate_nonkeyword_arguments.<locals>.decorate.<locals>.wrapper\u001b[0;34m(*args, **kwargs)\u001b[0m\n\u001b[1;32m    311\u001b[0m \u001b[39mif\u001b[39;00m \u001b[39mlen\u001b[39m(args) \u001b[39m>\u001b[39m num_allow_args:\n\u001b[1;32m    312\u001b[0m     warnings\u001b[39m.\u001b[39mwarn(\n\u001b[1;32m    313\u001b[0m         msg\u001b[39m.\u001b[39mformat(arguments\u001b[39m=\u001b[39marguments),\n\u001b[1;32m    314\u001b[0m         \u001b[39mFutureWarning\u001b[39;00m,\n\u001b[1;32m    315\u001b[0m         stacklevel\u001b[39m=\u001b[39mfind_stack_level(inspect\u001b[39m.\u001b[39mcurrentframe()),\n\u001b[1;32m    316\u001b[0m     )\n\u001b[0;32m--> 317\u001b[0m \u001b[39mreturn\u001b[39;00m func(\u001b[39m*\u001b[39;49margs, \u001b[39m*\u001b[39;49m\u001b[39m*\u001b[39;49mkwargs)\n",
      "File \u001b[0;32m~/GitHub/bio-corpus-translation/venv/lib/python3.10/site-packages/pandas/io/excel/_base.py:483\u001b[0m, in \u001b[0;36mread_excel\u001b[0;34m(io, sheet_name, header, names, index_col, usecols, squeeze, dtype, engine, converters, true_values, false_values, skiprows, nrows, na_values, keep_default_na, na_filter, verbose, parse_dates, date_parser, thousands, decimal, comment, skipfooter, convert_float, mangle_dupe_cols, storage_options)\u001b[0m\n\u001b[1;32m    481\u001b[0m \u001b[39mif\u001b[39;00m \u001b[39mnot\u001b[39;00m \u001b[39misinstance\u001b[39m(io, ExcelFile):\n\u001b[1;32m    482\u001b[0m     should_close \u001b[39m=\u001b[39m \u001b[39mTrue\u001b[39;00m\n\u001b[0;32m--> 483\u001b[0m     io \u001b[39m=\u001b[39m ExcelFile(io, storage_options\u001b[39m=\u001b[39;49mstorage_options, engine\u001b[39m=\u001b[39;49mengine)\n\u001b[1;32m    484\u001b[0m \u001b[39melif\u001b[39;00m engine \u001b[39mand\u001b[39;00m engine \u001b[39m!=\u001b[39m io\u001b[39m.\u001b[39mengine:\n\u001b[1;32m    485\u001b[0m     \u001b[39mraise\u001b[39;00m \u001b[39mValueError\u001b[39;00m(\n\u001b[1;32m    486\u001b[0m         \u001b[39m\"\u001b[39m\u001b[39mEngine should not be specified when passing \u001b[39m\u001b[39m\"\u001b[39m\n\u001b[1;32m    487\u001b[0m         \u001b[39m\"\u001b[39m\u001b[39man ExcelFile - ExcelFile already has the engine set\u001b[39m\u001b[39m\"\u001b[39m\n\u001b[1;32m    488\u001b[0m     )\n",
      "File \u001b[0;32m~/GitHub/bio-corpus-translation/venv/lib/python3.10/site-packages/pandas/io/excel/_base.py:1629\u001b[0m, in \u001b[0;36mExcelFile.__init__\u001b[0;34m(self, path_or_buffer, engine, storage_options)\u001b[0m\n\u001b[1;32m   1627\u001b[0m     ext \u001b[39m=\u001b[39m \u001b[39m\"\u001b[39m\u001b[39mxls\u001b[39m\u001b[39m\"\u001b[39m\n\u001b[1;32m   1628\u001b[0m \u001b[39melse\u001b[39;00m:\n\u001b[0;32m-> 1629\u001b[0m     ext \u001b[39m=\u001b[39m inspect_excel_format(\n\u001b[1;32m   1630\u001b[0m         content_or_path\u001b[39m=\u001b[39;49mpath_or_buffer, storage_options\u001b[39m=\u001b[39;49mstorage_options\n\u001b[1;32m   1631\u001b[0m     )\n\u001b[1;32m   1632\u001b[0m     \u001b[39mif\u001b[39;00m ext \u001b[39mis\u001b[39;00m \u001b[39mNone\u001b[39;00m:\n\u001b[1;32m   1633\u001b[0m         \u001b[39mraise\u001b[39;00m \u001b[39mValueError\u001b[39;00m(\n\u001b[1;32m   1634\u001b[0m             \u001b[39m\"\u001b[39m\u001b[39mExcel file format cannot be determined, you must specify \u001b[39m\u001b[39m\"\u001b[39m\n\u001b[1;32m   1635\u001b[0m             \u001b[39m\"\u001b[39m\u001b[39man engine manually.\u001b[39m\u001b[39m\"\u001b[39m\n\u001b[1;32m   1636\u001b[0m         )\n",
      "File \u001b[0;32m~/GitHub/bio-corpus-translation/venv/lib/python3.10/site-packages/pandas/io/excel/_base.py:1502\u001b[0m, in \u001b[0;36minspect_excel_format\u001b[0;34m(content_or_path, storage_options)\u001b[0m\n\u001b[1;32m   1499\u001b[0m \u001b[39mif\u001b[39;00m \u001b[39misinstance\u001b[39m(content_or_path, \u001b[39mbytes\u001b[39m):\n\u001b[1;32m   1500\u001b[0m     content_or_path \u001b[39m=\u001b[39m BytesIO(content_or_path)\n\u001b[0;32m-> 1502\u001b[0m \u001b[39mwith\u001b[39;00m get_handle(\n\u001b[1;32m   1503\u001b[0m     content_or_path, \u001b[39m\"\u001b[39;49m\u001b[39mrb\u001b[39;49m\u001b[39m\"\u001b[39;49m, storage_options\u001b[39m=\u001b[39;49mstorage_options, is_text\u001b[39m=\u001b[39;49m\u001b[39mFalse\u001b[39;49;00m\n\u001b[1;32m   1504\u001b[0m ) \u001b[39mas\u001b[39;00m handle:\n\u001b[1;32m   1505\u001b[0m     stream \u001b[39m=\u001b[39m handle\u001b[39m.\u001b[39mhandle\n\u001b[1;32m   1506\u001b[0m     stream\u001b[39m.\u001b[39mseek(\u001b[39m0\u001b[39m)\n",
      "File \u001b[0;32m~/GitHub/bio-corpus-translation/venv/lib/python3.10/site-packages/pandas/io/common.py:866\u001b[0m, in \u001b[0;36mget_handle\u001b[0;34m(path_or_buf, mode, encoding, compression, memory_map, is_text, errors, storage_options)\u001b[0m\n\u001b[1;32m    857\u001b[0m         handle \u001b[39m=\u001b[39m \u001b[39mopen\u001b[39m(\n\u001b[1;32m    858\u001b[0m             handle,\n\u001b[1;32m    859\u001b[0m             ioargs\u001b[39m.\u001b[39mmode,\n\u001b[0;32m   (...)\u001b[0m\n\u001b[1;32m    862\u001b[0m             newline\u001b[39m=\u001b[39m\u001b[39m\"\u001b[39m\u001b[39m\"\u001b[39m,\n\u001b[1;32m    863\u001b[0m         )\n\u001b[1;32m    864\u001b[0m     \u001b[39melse\u001b[39;00m:\n\u001b[1;32m    865\u001b[0m         \u001b[39m# Binary mode\u001b[39;00m\n\u001b[0;32m--> 866\u001b[0m         handle \u001b[39m=\u001b[39m \u001b[39mopen\u001b[39;49m(handle, ioargs\u001b[39m.\u001b[39;49mmode)\n\u001b[1;32m    867\u001b[0m     handles\u001b[39m.\u001b[39mappend(handle)\n\u001b[1;32m    869\u001b[0m \u001b[39m# Convert BytesIO or file objects passed with an encoding\u001b[39;00m\n",
      "\u001b[0;31mFileNotFoundError\u001b[0m: [Errno 2] No such file or directory: '/home/elubrini/GitHub/bio-corpus-translation/data/2022-09-02_COMMONnames_EPPO_OQ.xlsx'"
     ]
    }
   ],
   "source": [
    "## input\n",
    "db_paths = dict(\n",
    "    eppo_com = get_datafile_path('2022-09-02_COMMONnames_EPPO_OQ.xlsx'),\n",
    "    eppo_sci = get_datafile_path('2022-09-02_SCIENTIFICnames_EPPO_OQ.xlsx'),\n",
    "    efsa = get_datafile_path('EFSA-keyword-match/FichierMotsClesMagaliLarenaudie.csv'),\n",
    "    ncbi = get_datafile_path('taxa+id_full.txt'),\n",
    ")\n",
    "\n",
    "glossary_paths = dict(\n",
    "    efsa_glossary = get_datafile_path('efsa_glossary.csv'),\n",
    "    eppo_glossary = get_datafile_path('eppo_glossary.csv'),\n",
    ")\n",
    "\n",
    "## Output\n",
    "data_path = get_data_path()\n",
    "full_eppo_path = os.path.join(data_path, 'eppo_glossary.csv')\n",
    "annotation_path = os.path.join(data_path, 'annotation_glossary')\n",
    "anno_gloss_path = os.path.join(data_path, 'annotation_glossary.csv')\n",
    "LR_filepath = 'LR.csv'"
   ]
  },
  {
   "cell_type": "markdown",
   "metadata": {},
   "source": [
    "#### Definitions"
   ]
  },
  {
   "cell_type": "markdown",
   "metadata": {},
   "source": [
    "Defining functions for preprocessing of original data"
   ]
  },
  {
   "cell_type": "code",
   "execution_count": null,
   "metadata": {},
   "outputs": [],
   "source": [
    "def PHT_to_lower_taxon(PHT_code):\n",
    "    taxon = re.sub(r'(?<!^)(?=[A-Z])', ' ', PHT_code[:-4]).lower()\n",
    "    return taxon\n",
    "# print('AcalymmaVittatum-PHT:',PHT_to_lower_taxon('AcalymmaVittatum-PHT')) # test\n",
    "assert PHT_to_lower_taxon('AcalymmaVittatum-PHT') == 'acalymma vittatum'\n",
    "\n",
    "def to_pattern(syn):\n",
    "    r = syn.replace('+', ' ')\n",
    "    r = r.replace('_', '\\\\w')\n",
    "    if r.endswith('%'):\n",
    "        r = r[:-1] + '\\\\w*'\n",
    "    r = r.replace('% ', '\\\\w* ')\n",
    "    r = r.replace('%', '\\\\S*\\\\s?')\n",
    "    return r\n",
    "assert to_pattern(r'chrysom_le%+ray_e+du+concombre') == 'chrysom\\wle\\w* ray\\we du concombre'"
   ]
  },
  {
   "cell_type": "markdown",
   "metadata": {},
   "source": [
    "#### Parameters"
   ]
  },
  {
   "cell_type": "code",
   "execution_count": null,
   "metadata": {},
   "outputs": [],
   "source": [
    "ncbi_sep = '\\t'\n",
    "\n",
    "## name of the desired coluimns in the LR\n",
    "anno_gloss_column_names = ['EPPO_CODE', 'EFSA_PHT', 'NCBI_TAXID', # 3 partial keys to relative dataset\n",
    "                           'preferred_name', 'synonym', 're',# terms\n",
    "                           'ds_language', 'match_language'] # languages"
   ]
  },
  {
   "cell_type": "code",
   "execution_count": null,
   "metadata": {},
   "outputs": [],
   "source": [
    "## column in each of the original datasets corresponding to the output LR column \n",
    "cc = dict(\n",
    "    eppo_com = ['CodeEOPP', None, None,\n",
    "                'PreferredName', 'CommonName', None,\n",
    "                ['Language', get_lang_code], None], # [obj (col name), fun] tuple when information is extracted via a function\n",
    "    eppo_sci = ['CodeEOPP', None, None,\n",
    "                'PreferredName', 'OtherScientificNames', None,\n",
    "                None, None],\n",
    "    efsa = [None, 'Category (pest name)', None,\n",
    "                ['Category (pest name)', PHT_to_lower_taxon], None,  ['Keywords', to_pattern],\n",
    "                'Unnamed: 3', None],\n",
    "    ncbi = [None, None, 'ncbi:2',\n",
    "            'Bacteria.1', 'Bacteria', None,\n",
    "            None, None],\n",
    "    )"
   ]
  },
  {
   "cell_type": "markdown",
   "metadata": {},
   "source": [
    "#### Check Data"
   ]
  },
  {
   "cell_type": "code",
   "execution_count": null,
   "metadata": {},
   "outputs": [],
   "source": [
    "## USE SMALLER VERSION OF NCBI\n",
    "ncbi_small = pd.read_csv(db_paths['ncbi'], on_bad_lines='skip', sep='\\t').head(100)\n",
    "ncbi_small.head()\n",
    "ncbi_small.to_csv(db_paths['ncbi'])"
   ]
  },
  {
   "cell_type": "code",
   "execution_count": null,
   "metadata": {},
   "outputs": [
    {
     "data": {
      "text/html": [
       "<div>\n",
       "<style scoped>\n",
       "    .dataframe tbody tr th:only-of-type {\n",
       "        vertical-align: middle;\n",
       "    }\n",
       "\n",
       "    .dataframe tbody tr th {\n",
       "        vertical-align: top;\n",
       "    }\n",
       "\n",
       "    .dataframe thead th {\n",
       "        text-align: right;\n",
       "    }\n",
       "</style>\n",
       "<table border=\"1\" class=\"dataframe\">\n",
       "  <thead>\n",
       "    <tr style=\"text-align: right;\">\n",
       "      <th></th>\n",
       "      <th>CommonName</th>\n",
       "      <th>Language</th>\n",
       "      <th>CodeEOPP</th>\n",
       "      <th>PreferredName</th>\n",
       "      <th>AuthorityPreferredName</th>\n",
       "    </tr>\n",
       "  </thead>\n",
       "  <tbody>\n",
       "    <tr>\n",
       "      <th>count</th>\n",
       "      <td>1276</td>\n",
       "      <td>1276</td>\n",
       "      <td>1324</td>\n",
       "      <td>1324</td>\n",
       "      <td>1142</td>\n",
       "    </tr>\n",
       "    <tr>\n",
       "      <th>unique</th>\n",
       "      <td>1235</td>\n",
       "      <td>38</td>\n",
       "      <td>239</td>\n",
       "      <td>239</td>\n",
       "      <td>169</td>\n",
       "    </tr>\n",
       "    <tr>\n",
       "      <th>top</th>\n",
       "      <td>citrus leprosis</td>\n",
       "      <td>English</td>\n",
       "      <td>HELIZE</td>\n",
       "      <td>Helicoverpa zea</td>\n",
       "      <td>(Boddie)</td>\n",
       "    </tr>\n",
       "    <tr>\n",
       "      <th>freq</th>\n",
       "      <td>4</td>\n",
       "      <td>477</td>\n",
       "      <td>30</td>\n",
       "      <td>30</td>\n",
       "      <td>30</td>\n",
       "    </tr>\n",
       "  </tbody>\n",
       "</table>\n",
       "</div>"
      ],
      "text/plain": [
       "             CommonName Language CodeEOPP    PreferredName  \\\n",
       "count              1276     1276     1324             1324   \n",
       "unique             1235       38      239              239   \n",
       "top     citrus leprosis  English   HELIZE  Helicoverpa zea   \n",
       "freq                  4      477       30               30   \n",
       "\n",
       "       AuthorityPreferredName  \n",
       "count                    1142  \n",
       "unique                    169  \n",
       "top                  (Boddie)  \n",
       "freq                       30  "
      ]
     },
     "metadata": {},
     "output_type": "display_data"
    },
    {
     "data": {
      "text/html": [
       "<div>\n",
       "<style scoped>\n",
       "    .dataframe tbody tr th:only-of-type {\n",
       "        vertical-align: middle;\n",
       "    }\n",
       "\n",
       "    .dataframe tbody tr th {\n",
       "        vertical-align: top;\n",
       "    }\n",
       "\n",
       "    .dataframe thead th {\n",
       "        text-align: right;\n",
       "    }\n",
       "</style>\n",
       "<table border=\"1\" class=\"dataframe\">\n",
       "  <thead>\n",
       "    <tr style=\"text-align: right;\">\n",
       "      <th></th>\n",
       "      <th>OtherScientificNames</th>\n",
       "      <th>Authority</th>\n",
       "      <th>CodeEOPP</th>\n",
       "      <th>PreferredName</th>\n",
       "      <th>AuthorityPreferredName</th>\n",
       "    </tr>\n",
       "  </thead>\n",
       "  <tbody>\n",
       "    <tr>\n",
       "      <th>count</th>\n",
       "      <td>616</td>\n",
       "      <td>453</td>\n",
       "      <td>664</td>\n",
       "      <td>664</td>\n",
       "      <td>502</td>\n",
       "    </tr>\n",
       "    <tr>\n",
       "      <th>unique</th>\n",
       "      <td>611</td>\n",
       "      <td>324</td>\n",
       "      <td>239</td>\n",
       "      <td>239</td>\n",
       "      <td>169</td>\n",
       "    </tr>\n",
       "    <tr>\n",
       "      <th>top</th>\n",
       "      <td>Tomato leaf curl New Delhi begomovirus</td>\n",
       "      <td>Corbett</td>\n",
       "      <td>BEMITA</td>\n",
       "      <td>Bemisia tabaci</td>\n",
       "      <td>(Gennadius)</td>\n",
       "    </tr>\n",
       "    <tr>\n",
       "      <th>freq</th>\n",
       "      <td>2</td>\n",
       "      <td>6</td>\n",
       "      <td>16</td>\n",
       "      <td>16</td>\n",
       "      <td>16</td>\n",
       "    </tr>\n",
       "  </tbody>\n",
       "</table>\n",
       "</div>"
      ],
      "text/plain": [
       "                          OtherScientificNames Authority CodeEOPP  \\\n",
       "count                                      616       453      664   \n",
       "unique                                     611       324      239   \n",
       "top     Tomato leaf curl New Delhi begomovirus   Corbett   BEMITA   \n",
       "freq                                         2         6       16   \n",
       "\n",
       "         PreferredName AuthorityPreferredName  \n",
       "count              664                    502  \n",
       "unique             239                    169  \n",
       "top     Bemisia tabaci            (Gennadius)  \n",
       "freq                16                     16  "
      ]
     },
     "metadata": {},
     "output_type": "display_data"
    },
    {
     "data": {
      "text/html": [
       "<div>\n",
       "<style scoped>\n",
       "    .dataframe tbody tr th:only-of-type {\n",
       "        vertical-align: middle;\n",
       "    }\n",
       "\n",
       "    .dataframe tbody tr th {\n",
       "        vertical-align: top;\n",
       "    }\n",
       "\n",
       "    .dataframe thead th {\n",
       "        text-align: right;\n",
       "    }\n",
       "</style>\n",
       "<table border=\"1\" class=\"dataframe\">\n",
       "  <thead>\n",
       "    <tr style=\"text-align: right;\">\n",
       "      <th></th>\n",
       "      <th>Category (pest name)</th>\n",
       "      <th>Keywords</th>\n",
       "      <th>Unnamed: 2</th>\n",
       "      <th>Unnamed: 3</th>\n",
       "    </tr>\n",
       "  </thead>\n",
       "  <tbody>\n",
       "    <tr>\n",
       "      <th>count</th>\n",
       "      <td>7558</td>\n",
       "      <td>7558</td>\n",
       "      <td>21</td>\n",
       "      <td>3</td>\n",
       "    </tr>\n",
       "    <tr>\n",
       "      <th>unique</th>\n",
       "      <td>1168</td>\n",
       "      <td>7393</td>\n",
       "      <td>5</td>\n",
       "      <td>3</td>\n",
       "    </tr>\n",
       "    <tr>\n",
       "      <th>top</th>\n",
       "      <td>Cronartium-PHT</td>\n",
       "      <td>margarodes</td>\n",
       "      <td>Au/Cabi</td>\n",
       "      <td>Fr</td>\n",
       "    </tr>\n",
       "    <tr>\n",
       "      <th>freq</th>\n",
       "      <td>85</td>\n",
       "      <td>3</td>\n",
       "      <td>16</td>\n",
       "      <td>1</td>\n",
       "    </tr>\n",
       "  </tbody>\n",
       "</table>\n",
       "</div>"
      ],
      "text/plain": [
       "       Category (pest name)    Keywords Unnamed: 2 Unnamed: 3\n",
       "count                  7558        7558         21          3\n",
       "unique                 1168        7393          5          3\n",
       "top          Cronartium-PHT  margarodes    Au/Cabi         Fr\n",
       "freq                     85           3         16          1"
      ]
     },
     "metadata": {},
     "output_type": "display_data"
    },
    {
     "data": {
      "text/html": [
       "<div>\n",
       "<style scoped>\n",
       "    .dataframe tbody tr th:only-of-type {\n",
       "        vertical-align: middle;\n",
       "    }\n",
       "\n",
       "    .dataframe tbody tr th {\n",
       "        vertical-align: top;\n",
       "    }\n",
       "\n",
       "    .dataframe thead th {\n",
       "        text-align: right;\n",
       "    }\n",
       "</style>\n",
       "<table border=\"1\" class=\"dataframe\">\n",
       "  <thead>\n",
       "    <tr style=\"text-align: right;\">\n",
       "      <th></th>\n",
       "      <th>Unnamed: 0</th>\n",
       "    </tr>\n",
       "  </thead>\n",
       "  <tbody>\n",
       "    <tr>\n",
       "      <th>count</th>\n",
       "      <td>100.000000</td>\n",
       "    </tr>\n",
       "    <tr>\n",
       "      <th>mean</th>\n",
       "      <td>49.500000</td>\n",
       "    </tr>\n",
       "    <tr>\n",
       "      <th>std</th>\n",
       "      <td>29.011492</td>\n",
       "    </tr>\n",
       "    <tr>\n",
       "      <th>min</th>\n",
       "      <td>0.000000</td>\n",
       "    </tr>\n",
       "    <tr>\n",
       "      <th>25%</th>\n",
       "      <td>24.750000</td>\n",
       "    </tr>\n",
       "    <tr>\n",
       "      <th>50%</th>\n",
       "      <td>49.500000</td>\n",
       "    </tr>\n",
       "    <tr>\n",
       "      <th>75%</th>\n",
       "      <td>74.250000</td>\n",
       "    </tr>\n",
       "    <tr>\n",
       "      <th>max</th>\n",
       "      <td>99.000000</td>\n",
       "    </tr>\n",
       "  </tbody>\n",
       "</table>\n",
       "</div>"
      ],
      "text/plain": [
       "       Unnamed: 0\n",
       "count  100.000000\n",
       "mean    49.500000\n",
       "std     29.011492\n",
       "min      0.000000\n",
       "25%     24.750000\n",
       "50%     49.500000\n",
       "75%     74.250000\n",
       "max     99.000000"
      ]
     },
     "metadata": {},
     "output_type": "display_data"
    }
   ],
   "source": [
    "for path in db_paths.values():\n",
    "    display(describe_csv(path))"
   ]
  },
  {
   "cell_type": "code",
   "execution_count": null,
   "metadata": {},
   "outputs": [
    {
     "data": {
      "text/html": [
       "<div>\n",
       "<style scoped>\n",
       "    .dataframe tbody tr th:only-of-type {\n",
       "        vertical-align: middle;\n",
       "    }\n",
       "\n",
       "    .dataframe tbody tr th {\n",
       "        vertical-align: top;\n",
       "    }\n",
       "\n",
       "    .dataframe thead th {\n",
       "        text-align: right;\n",
       "    }\n",
       "</style>\n",
       "<table border=\"1\" class=\"dataframe\">\n",
       "  <thead>\n",
       "    <tr style=\"text-align: right;\">\n",
       "      <th></th>\n",
       "      <th>Unnamed: 0</th>\n",
       "      <th>Bacteria</th>\n",
       "      <th>ncbi:2</th>\n",
       "      <th>Bacteria.1</th>\n",
       "      <th>/ncbi:1/ncbi:131567/ncbi:2</th>\n",
       "      <th>NP</th>\n",
       "      <th>superkingdom</th>\n",
       "      <th>Unnamed: 6</th>\n",
       "      <th>Unnamed: 7</th>\n",
       "    </tr>\n",
       "  </thead>\n",
       "  <tbody>\n",
       "    <tr>\n",
       "      <th>0</th>\n",
       "      <td>0</td>\n",
       "      <td>bacteria</td>\n",
       "      <td>ncbi:2</td>\n",
       "      <td>Bacteria</td>\n",
       "      <td>/ncbi:1/ncbi:131567/ncbi:2</td>\n",
       "      <td>NNS</td>\n",
       "      <td>superkingdom</td>\n",
       "      <td>NaN</td>\n",
       "      <td>NaN</td>\n",
       "    </tr>\n",
       "    <tr>\n",
       "      <th>1</th>\n",
       "      <td>1</td>\n",
       "      <td>eubacteria</td>\n",
       "      <td>ncbi:2</td>\n",
       "      <td>Bacteria</td>\n",
       "      <td>/ncbi:1/ncbi:131567/ncbi:2</td>\n",
       "      <td>NN</td>\n",
       "      <td>superkingdom</td>\n",
       "      <td>NaN</td>\n",
       "      <td>NaN</td>\n",
       "    </tr>\n",
       "    <tr>\n",
       "      <th>2</th>\n",
       "      <td>2</td>\n",
       "      <td>Monera</td>\n",
       "      <td>ncbi:2</td>\n",
       "      <td>Bacteria</td>\n",
       "      <td>/ncbi:1/ncbi:131567/ncbi:2</td>\n",
       "      <td>NP</td>\n",
       "      <td>superkingdom</td>\n",
       "      <td>NaN</td>\n",
       "      <td>NaN</td>\n",
       "    </tr>\n",
       "    <tr>\n",
       "      <th>3</th>\n",
       "      <td>3</td>\n",
       "      <td>Procaryotae</td>\n",
       "      <td>ncbi:2</td>\n",
       "      <td>Bacteria</td>\n",
       "      <td>/ncbi:1/ncbi:131567/ncbi:2</td>\n",
       "      <td>NP</td>\n",
       "      <td>superkingdom</td>\n",
       "      <td>NaN</td>\n",
       "      <td>NaN</td>\n",
       "    </tr>\n",
       "    <tr>\n",
       "      <th>4</th>\n",
       "      <td>4</td>\n",
       "      <td>Prokaryotae</td>\n",
       "      <td>ncbi:2</td>\n",
       "      <td>Bacteria</td>\n",
       "      <td>/ncbi:1/ncbi:131567/ncbi:2</td>\n",
       "      <td>NP</td>\n",
       "      <td>superkingdom</td>\n",
       "      <td>NaN</td>\n",
       "      <td>NaN</td>\n",
       "    </tr>\n",
       "  </tbody>\n",
       "</table>\n",
       "</div>"
      ],
      "text/plain": [
       "   Unnamed: 0     Bacteria  ncbi:2 Bacteria.1  /ncbi:1/ncbi:131567/ncbi:2  \\\n",
       "0           0     bacteria  ncbi:2   Bacteria  /ncbi:1/ncbi:131567/ncbi:2   \n",
       "1           1   eubacteria  ncbi:2   Bacteria  /ncbi:1/ncbi:131567/ncbi:2   \n",
       "2           2       Monera  ncbi:2   Bacteria  /ncbi:1/ncbi:131567/ncbi:2   \n",
       "3           3  Procaryotae  ncbi:2   Bacteria  /ncbi:1/ncbi:131567/ncbi:2   \n",
       "4           4  Prokaryotae  ncbi:2   Bacteria  /ncbi:1/ncbi:131567/ncbi:2   \n",
       "\n",
       "    NP  superkingdom Unnamed: 6 Unnamed: 7  \n",
       "0  NNS  superkingdom        NaN        NaN  \n",
       "1   NN  superkingdom        NaN        NaN  \n",
       "2   NP  superkingdom        NaN        NaN  \n",
       "3   NP  superkingdom        NaN        NaN  \n",
       "4   NP  superkingdom        NaN        NaN  "
      ]
     },
     "execution_count": 11,
     "metadata": {},
     "output_type": "execute_result"
    }
   ],
   "source": [
    "pd.read_csv(db_paths['ncbi'])\n"
   ]
  },
  {
   "cell_type": "markdown",
   "metadata": {},
   "source": [
    "## Create LR"
   ]
  },
  {
   "cell_type": "markdown",
   "metadata": {},
   "source": [
    "### (1) Preprocess original datasets"
   ]
  },
  {
   "cell_type": "markdown",
   "metadata": {},
   "source": [
    "Extract relevant information from each dataset and store it in table form (one `csv` per original dataset)"
   ]
  },
  {
   "cell_type": "code",
   "execution_count": null,
   "metadata": {},
   "outputs": [
    {
     "data": {
      "text/html": [
       "<div>\n",
       "<style scoped>\n",
       "    .dataframe tbody tr th:only-of-type {\n",
       "        vertical-align: middle;\n",
       "    }\n",
       "\n",
       "    .dataframe tbody tr th {\n",
       "        vertical-align: top;\n",
       "    }\n",
       "\n",
       "    .dataframe thead th {\n",
       "        text-align: right;\n",
       "    }\n",
       "</style>\n",
       "<table border=\"1\" class=\"dataframe\">\n",
       "  <thead>\n",
       "    <tr style=\"text-align: right;\">\n",
       "      <th></th>\n",
       "      <th>OtherScientificNames</th>\n",
       "      <th>Authority</th>\n",
       "      <th>CodeEOPP</th>\n",
       "      <th>PreferredName</th>\n",
       "      <th>AuthorityPreferredName</th>\n",
       "    </tr>\n",
       "  </thead>\n",
       "  <tbody>\n",
       "    <tr>\n",
       "      <th>count</th>\n",
       "      <td>616</td>\n",
       "      <td>453</td>\n",
       "      <td>664</td>\n",
       "      <td>664</td>\n",
       "      <td>502</td>\n",
       "    </tr>\n",
       "    <tr>\n",
       "      <th>unique</th>\n",
       "      <td>611</td>\n",
       "      <td>324</td>\n",
       "      <td>239</td>\n",
       "      <td>239</td>\n",
       "      <td>169</td>\n",
       "    </tr>\n",
       "    <tr>\n",
       "      <th>top</th>\n",
       "      <td>Tomato leaf curl New Delhi begomovirus</td>\n",
       "      <td>Corbett</td>\n",
       "      <td>BEMITA</td>\n",
       "      <td>Bemisia tabaci</td>\n",
       "      <td>(Gennadius)</td>\n",
       "    </tr>\n",
       "    <tr>\n",
       "      <th>freq</th>\n",
       "      <td>2</td>\n",
       "      <td>6</td>\n",
       "      <td>16</td>\n",
       "      <td>16</td>\n",
       "      <td>16</td>\n",
       "    </tr>\n",
       "  </tbody>\n",
       "</table>\n",
       "</div>"
      ],
      "text/plain": [
       "                          OtherScientificNames Authority CodeEOPP  \\\n",
       "count                                      616       453      664   \n",
       "unique                                     611       324      239   \n",
       "top     Tomato leaf curl New Delhi begomovirus   Corbett   BEMITA   \n",
       "freq                                         2         6       16   \n",
       "\n",
       "         PreferredName AuthorityPreferredName  \n",
       "count              664                    502  \n",
       "unique             239                    169  \n",
       "top     Bemisia tabaci            (Gennadius)  \n",
       "freq                16                     16  "
      ]
     },
     "metadata": {},
     "output_type": "display_data"
    },
    {
     "data": {
      "text/html": [
       "<div>\n",
       "<style scoped>\n",
       "    .dataframe tbody tr th:only-of-type {\n",
       "        vertical-align: middle;\n",
       "    }\n",
       "\n",
       "    .dataframe tbody tr th {\n",
       "        vertical-align: top;\n",
       "    }\n",
       "\n",
       "    .dataframe thead th {\n",
       "        text-align: right;\n",
       "    }\n",
       "</style>\n",
       "<table border=\"1\" class=\"dataframe\">\n",
       "  <thead>\n",
       "    <tr style=\"text-align: right;\">\n",
       "      <th></th>\n",
       "      <th>CommonName</th>\n",
       "      <th>Language</th>\n",
       "      <th>CodeEOPP</th>\n",
       "      <th>PreferredName</th>\n",
       "      <th>AuthorityPreferredName</th>\n",
       "    </tr>\n",
       "  </thead>\n",
       "  <tbody>\n",
       "    <tr>\n",
       "      <th>count</th>\n",
       "      <td>1276</td>\n",
       "      <td>1276</td>\n",
       "      <td>1324</td>\n",
       "      <td>1324</td>\n",
       "      <td>1142</td>\n",
       "    </tr>\n",
       "    <tr>\n",
       "      <th>unique</th>\n",
       "      <td>1235</td>\n",
       "      <td>38</td>\n",
       "      <td>239</td>\n",
       "      <td>239</td>\n",
       "      <td>169</td>\n",
       "    </tr>\n",
       "    <tr>\n",
       "      <th>top</th>\n",
       "      <td>citrus leprosis</td>\n",
       "      <td>English</td>\n",
       "      <td>HELIZE</td>\n",
       "      <td>Helicoverpa zea</td>\n",
       "      <td>(Boddie)</td>\n",
       "    </tr>\n",
       "    <tr>\n",
       "      <th>freq</th>\n",
       "      <td>4</td>\n",
       "      <td>477</td>\n",
       "      <td>30</td>\n",
       "      <td>30</td>\n",
       "      <td>30</td>\n",
       "    </tr>\n",
       "  </tbody>\n",
       "</table>\n",
       "</div>"
      ],
      "text/plain": [
       "             CommonName Language CodeEOPP    PreferredName  \\\n",
       "count              1276     1276     1324             1324   \n",
       "unique             1235       38      239              239   \n",
       "top     citrus leprosis  English   HELIZE  Helicoverpa zea   \n",
       "freq                  4      477       30               30   \n",
       "\n",
       "       AuthorityPreferredName  \n",
       "count                    1142  \n",
       "unique                    169  \n",
       "top                  (Boddie)  \n",
       "freq                       30  "
      ]
     },
     "execution_count": 9,
     "metadata": {},
     "output_type": "execute_result"
    }
   ],
   "source": [
    "## Display examples of input datasets\n",
    "display(pd.read_csv(db_paths['eppo_sci']).describe())\n",
    "pd.read_csv(db_paths['eppo_com']).describe()"
   ]
  },
  {
   "cell_type": "code",
   "execution_count": null,
   "metadata": {},
   "outputs": [
    {
     "ename": "KeyError",
     "evalue": "'ncbi:2'",
     "output_type": "error",
     "traceback": [
      "\u001b[0;31m---------------------------------------------------------------------------\u001b[0m",
      "\u001b[0;31mKeyError\u001b[0m                                  Traceback (most recent call last)",
      "File \u001b[0;32m~/GitHub/bio-corpus-translation/venv/lib/python3.10/site-packages/pandas/core/indexes/base.py:3800\u001b[0m, in \u001b[0;36mIndex.get_loc\u001b[0;34m(self, key, method, tolerance)\u001b[0m\n\u001b[1;32m   3799\u001b[0m \u001b[39mtry\u001b[39;00m:\n\u001b[0;32m-> 3800\u001b[0m     \u001b[39mreturn\u001b[39;00m \u001b[39mself\u001b[39;49m\u001b[39m.\u001b[39;49m_engine\u001b[39m.\u001b[39;49mget_loc(casted_key)\n\u001b[1;32m   3801\u001b[0m \u001b[39mexcept\u001b[39;00m \u001b[39mKeyError\u001b[39;00m \u001b[39mas\u001b[39;00m err:\n",
      "File \u001b[0;32m~/GitHub/bio-corpus-translation/venv/lib/python3.10/site-packages/pandas/_libs/index.pyx:138\u001b[0m, in \u001b[0;36mpandas._libs.index.IndexEngine.get_loc\u001b[0;34m()\u001b[0m\n",
      "File \u001b[0;32m~/GitHub/bio-corpus-translation/venv/lib/python3.10/site-packages/pandas/_libs/index.pyx:165\u001b[0m, in \u001b[0;36mpandas._libs.index.IndexEngine.get_loc\u001b[0;34m()\u001b[0m\n",
      "File \u001b[0;32mpandas/_libs/hashtable_class_helper.pxi:5745\u001b[0m, in \u001b[0;36mpandas._libs.hashtable.PyObjectHashTable.get_item\u001b[0;34m()\u001b[0m\n",
      "File \u001b[0;32mpandas/_libs/hashtable_class_helper.pxi:5753\u001b[0m, in \u001b[0;36mpandas._libs.hashtable.PyObjectHashTable.get_item\u001b[0;34m()\u001b[0m\n",
      "\u001b[0;31mKeyError\u001b[0m: 'ncbi:2'",
      "\nThe above exception was the direct cause of the following exception:\n",
      "\u001b[0;31mKeyError\u001b[0m                                  Traceback (most recent call last)",
      "Cell \u001b[0;32mIn [10], line 17\u001b[0m\n\u001b[1;32m     15\u001b[0m \u001b[39m# sep = tab (for ncbi)\u001b[39;00m\n\u001b[1;32m     16\u001b[0m \u001b[39mif\u001b[39;00m \u001b[39m'\u001b[39m\u001b[39mncbi\u001b[39m\u001b[39m'\u001b[39m \u001b[39min\u001b[39;00m db_name:\n\u001b[0;32m---> 17\u001b[0m     ds_col \u001b[39m=\u001b[39m pd\u001b[39m.\u001b[39;49mread_csv(db_paths[db_name], on_bad_lines\u001b[39m=\u001b[39;49m\u001b[39m'\u001b[39;49m\u001b[39mskip\u001b[39;49m\u001b[39m'\u001b[39;49m, sep\u001b[39m=\u001b[39;49m\u001b[39m'\u001b[39;49m\u001b[39m\\t\u001b[39;49;00m\u001b[39m'\u001b[39;49m)[orig_col]\n\u001b[1;32m     18\u001b[0m \u001b[39melse\u001b[39;00m:    \n\u001b[1;32m     19\u001b[0m     ds_col \u001b[39m=\u001b[39m pd\u001b[39m.\u001b[39mread_csv(db_paths[db_name])[orig_col]\n",
      "File \u001b[0;32m~/GitHub/bio-corpus-translation/venv/lib/python3.10/site-packages/pandas/core/frame.py:3805\u001b[0m, in \u001b[0;36mDataFrame.__getitem__\u001b[0;34m(self, key)\u001b[0m\n\u001b[1;32m   3803\u001b[0m \u001b[39mif\u001b[39;00m \u001b[39mself\u001b[39m\u001b[39m.\u001b[39mcolumns\u001b[39m.\u001b[39mnlevels \u001b[39m>\u001b[39m \u001b[39m1\u001b[39m:\n\u001b[1;32m   3804\u001b[0m     \u001b[39mreturn\u001b[39;00m \u001b[39mself\u001b[39m\u001b[39m.\u001b[39m_getitem_multilevel(key)\n\u001b[0;32m-> 3805\u001b[0m indexer \u001b[39m=\u001b[39m \u001b[39mself\u001b[39;49m\u001b[39m.\u001b[39;49mcolumns\u001b[39m.\u001b[39;49mget_loc(key)\n\u001b[1;32m   3806\u001b[0m \u001b[39mif\u001b[39;00m is_integer(indexer):\n\u001b[1;32m   3807\u001b[0m     indexer \u001b[39m=\u001b[39m [indexer]\n",
      "File \u001b[0;32m~/GitHub/bio-corpus-translation/venv/lib/python3.10/site-packages/pandas/core/indexes/base.py:3802\u001b[0m, in \u001b[0;36mIndex.get_loc\u001b[0;34m(self, key, method, tolerance)\u001b[0m\n\u001b[1;32m   3800\u001b[0m     \u001b[39mreturn\u001b[39;00m \u001b[39mself\u001b[39m\u001b[39m.\u001b[39m_engine\u001b[39m.\u001b[39mget_loc(casted_key)\n\u001b[1;32m   3801\u001b[0m \u001b[39mexcept\u001b[39;00m \u001b[39mKeyError\u001b[39;00m \u001b[39mas\u001b[39;00m err:\n\u001b[0;32m-> 3802\u001b[0m     \u001b[39mraise\u001b[39;00m \u001b[39mKeyError\u001b[39;00m(key) \u001b[39mfrom\u001b[39;00m \u001b[39merr\u001b[39;00m\n\u001b[1;32m   3803\u001b[0m \u001b[39mexcept\u001b[39;00m \u001b[39mTypeError\u001b[39;00m:\n\u001b[1;32m   3804\u001b[0m     \u001b[39m# If we have a listlike key, _check_indexing_error will raise\u001b[39;00m\n\u001b[1;32m   3805\u001b[0m     \u001b[39m#  InvalidIndexError. Otherwise we fall through and re-raise\u001b[39;00m\n\u001b[1;32m   3806\u001b[0m     \u001b[39m#  the TypeError.\u001b[39;00m\n\u001b[1;32m   3807\u001b[0m     \u001b[39mself\u001b[39m\u001b[39m.\u001b[39m_check_indexing_error(key)\n",
      "\u001b[0;31mKeyError\u001b[0m: 'ncbi:2'"
     ]
    }
   ],
   "source": [
    "db = dict()\n",
    "for db_name, columns in cc.items():\n",
    "    db[db_name] = dict()\n",
    "    cc_zip = zip(columns, anno_gloss_column_names)\n",
    "    for orig_col, targ_col in cc_zip:\n",
    "        if isinstance(orig_col, str):\n",
    "            def fun(x):\n",
    "                return x\n",
    "        elif isinstance(orig_col,NoneType):\n",
    "            continue\n",
    "        else:\n",
    "            fun = orig_col[1]\n",
    "            orig_col = orig_col[0]    \n",
    "            \n",
    "        # sep = tab (for ncbi)\n",
    "        if 'ncbi' in db_name:\n",
    "            ds_col = pd.read_csv(db_paths[db_name], on_bad_lines='skip', sep='\\t')[orig_col]\n",
    "        else:    \n",
    "            ds_col = pd.read_csv(db_paths[db_name])[orig_col]\n",
    "            \n",
    "        db[db_name][targ_col] = list(map(fun, ds_col)) # new_db col = old_db col\n",
    "    pd.DataFrame.from_dict(db[db_name]).to_csv(os.path.join(annotation_path, db_name+'_table.csv'), index=False)\n"
   ]
  },
  {
   "cell_type": "markdown",
   "metadata": {},
   "source": [
    "### (2) Join Datasets"
   ]
  },
  {
   "cell_type": "markdown",
   "metadata": {},
   "source": [
    "#### Merge, Case Insensitive"
   ]
  },
  {
   "cell_type": "code",
   "execution_count": null,
   "metadata": {},
   "outputs": [
    {
     "name": "stdout",
     "output_type": "stream",
     "text": [
      "['/home/elubrini/GitHub/bio-corpus-translation/data/annotation_glossary/re_LR.csv', '/home/elubrini/GitHub/bio-corpus-translation/data/annotation_glossary/eppo_com_table.csv', '/home/elubrini/GitHub/bio-corpus-translation/data/annotation_glossary/eppo_sci_table.csv', '/home/elubrini/GitHub/bio-corpus-translation/data/annotation_glossary/efsa_table.csv', '/home/elubrini/GitHub/bio-corpus-translation/data/annotation_glossary/annotation_LR.csv', '/home/elubrini/GitHub/bio-corpus-translation/data/annotation_glossary/ncbi_table.csv', '/home/elubrini/GitHub/bio-corpus-translation/data/annotation_glossary/LR.csv']\n"
     ]
    },
    {
     "name": "stderr",
     "output_type": "stream",
     "text": [
      "/tmp/ipykernel_27441/1111597208.py:4: DtypeWarning: Columns (1,3,4,5) have mixed types. Specify dtype option on import or set low_memory=False.\n",
      "  df = pd.concat((pd.read_csv(f) for f in all_files), ignore_index=True)\n",
      "/tmp/ipykernel_27441/1111597208.py:4: DtypeWarning: Columns (1,3,4,5) have mixed types. Specify dtype option on import or set low_memory=False.\n",
      "  df = pd.concat((pd.read_csv(f) for f in all_files), ignore_index=True)\n",
      "/tmp/ipykernel_27441/1111597208.py:4: DtypeWarning: Columns (1,3,4,5) have mixed types. Specify dtype option on import or set low_memory=False.\n",
      "  df = pd.concat((pd.read_csv(f) for f in all_files), ignore_index=True)\n"
     ]
    },
    {
     "name": "stdout",
     "output_type": "stream",
     "text": [
      "(17419180, 7)\n"
     ]
    },
    {
     "data": {
      "text/html": [
       "<div>\n",
       "<style scoped>\n",
       "    .dataframe tbody tr th:only-of-type {\n",
       "        vertical-align: middle;\n",
       "    }\n",
       "\n",
       "    .dataframe tbody tr th {\n",
       "        vertical-align: top;\n",
       "    }\n",
       "\n",
       "    .dataframe thead th {\n",
       "        text-align: right;\n",
       "    }\n",
       "</style>\n",
       "<table border=\"1\" class=\"dataframe\">\n",
       "  <thead>\n",
       "    <tr style=\"text-align: right;\">\n",
       "      <th></th>\n",
       "      <th>preferred_name</th>\n",
       "      <th>EPPO_CODE</th>\n",
       "      <th>synonym</th>\n",
       "      <th>ds_language</th>\n",
       "      <th>EFSA_PHT</th>\n",
       "      <th>re</th>\n",
       "      <th>NCBI_TAXID</th>\n",
       "    </tr>\n",
       "  </thead>\n",
       "  <tbody>\n",
       "    <tr>\n",
       "      <th>0</th>\n",
       "      <td>'Abelmoschus esculentus' bunchy top phytoplasma</td>\n",
       "      <td>NaN</td>\n",
       "      <td>'Abelmoschus esculentus' bunchy top phytoplasma</td>\n",
       "      <td>NaN</td>\n",
       "      <td>NaN</td>\n",
       "      <td>NaN</td>\n",
       "      <td>ncbi:926989</td>\n",
       "    </tr>\n",
       "    <tr>\n",
       "      <th>1</th>\n",
       "      <td>'Acacia arabica' phytoplasma</td>\n",
       "      <td>NaN</td>\n",
       "      <td>'Acacia arabica' phytoplasma</td>\n",
       "      <td>NaN</td>\n",
       "      <td>NaN</td>\n",
       "      <td>NaN</td>\n",
       "      <td>ncbi:2849181</td>\n",
       "    </tr>\n",
       "    <tr>\n",
       "      <th>2</th>\n",
       "      <td>'Acacia farnesiana' leaflet phytoplasma</td>\n",
       "      <td>NaN</td>\n",
       "      <td>'Acacia farnesiana' leaflet phytoplasma</td>\n",
       "      <td>NaN</td>\n",
       "      <td>NaN</td>\n",
       "      <td>NaN</td>\n",
       "      <td>ncbi:2654099</td>\n",
       "    </tr>\n",
       "    <tr>\n",
       "      <th>3</th>\n",
       "      <td>'Acacia mangium' little leaf and yellowing phy...</td>\n",
       "      <td>NaN</td>\n",
       "      <td>'Acacia mangium' little leaf and yellowing phy...</td>\n",
       "      <td>NaN</td>\n",
       "      <td>NaN</td>\n",
       "      <td>NaN</td>\n",
       "      <td>ncbi:2530013</td>\n",
       "    </tr>\n",
       "    <tr>\n",
       "      <th>4</th>\n",
       "      <td>'Acacia melanoxylon' phytoplasma</td>\n",
       "      <td>NaN</td>\n",
       "      <td>'Acacia melanoxylon' phytoplasma</td>\n",
       "      <td>NaN</td>\n",
       "      <td>NaN</td>\n",
       "      <td>NaN</td>\n",
       "      <td>ncbi:1477896</td>\n",
       "    </tr>\n",
       "  </tbody>\n",
       "</table>\n",
       "</div>"
      ],
      "text/plain": [
       "                                      preferred_name EPPO_CODE  \\\n",
       "0    'Abelmoschus esculentus' bunchy top phytoplasma       NaN   \n",
       "1                       'Acacia arabica' phytoplasma       NaN   \n",
       "2            'Acacia farnesiana' leaflet phytoplasma       NaN   \n",
       "3  'Acacia mangium' little leaf and yellowing phy...       NaN   \n",
       "4                   'Acacia melanoxylon' phytoplasma       NaN   \n",
       "\n",
       "                                             synonym ds_language EFSA_PHT  \\\n",
       "0    'Abelmoschus esculentus' bunchy top phytoplasma         NaN      NaN   \n",
       "1                       'Acacia arabica' phytoplasma         NaN      NaN   \n",
       "2            'Acacia farnesiana' leaflet phytoplasma         NaN      NaN   \n",
       "3  'Acacia mangium' little leaf and yellowing phy...         NaN      NaN   \n",
       "4                   'Acacia melanoxylon' phytoplasma         NaN      NaN   \n",
       "\n",
       "    re    NCBI_TAXID  \n",
       "0  NaN   ncbi:926989  \n",
       "1  NaN  ncbi:2849181  \n",
       "2  NaN  ncbi:2654099  \n",
       "3  NaN  ncbi:2530013  \n",
       "4  NaN  ncbi:1477896  "
      ]
     },
     "execution_count": 9,
     "metadata": {},
     "output_type": "execute_result"
    }
   ],
   "source": [
    "annotation_path = os.path.join(data_path, 'annotation_glossary')\n",
    "all_files = glob.glob(os.path.join(annotation_path, \"*.csv\"))\n",
    "print(all_files)\n",
    "df = pd.concat((pd.read_csv(f) for f in all_files), ignore_index=True)\n",
    "print(df.shape)\n",
    "df.head()"
   ]
  },
  {
   "cell_type": "code",
   "execution_count": null,
   "metadata": {},
   "outputs": [
    {
     "data": {
      "text/plain": [
       "(2474128, 7)"
      ]
     },
     "execution_count": 10,
     "metadata": {},
     "output_type": "execute_result"
    }
   ],
   "source": [
    "df = df.groupby(['preferred_name']).last().reset_index().astype(str)\n",
    "df.shape"
   ]
  },
  {
   "cell_type": "code",
   "execution_count": null,
   "metadata": {},
   "outputs": [
    {
     "name": "stdout",
     "output_type": "stream",
     "text": [
      "\u001b[35m\u001b[32mEFSA: \u001b[0m2100\n",
      "\u001b[35m\u001b[32mEPPO: \u001b[0m239\n",
      "\u001b[35m\u001b[32mEPPO_EFSA: \u001b[0m164\n"
     ]
    }
   ],
   "source": [
    "EFSA = len((df[df.EFSA_PHT != 'None'].EFSA_PHT))\n",
    "EPPO = len(((df[df.EPPO_CODE != 'None'].EPPO_CODE)))\n",
    "EPPO_EFSA = len((df[(df.EPPO_CODE != 'None') & (df.EFSA_PHT != 'None')].EFSA_PHT))\n",
    "NCBI = len((df[(df.EPPO_CODE != 'None') & (df.EFSA_PHT != 'None')].EFSA_PHT))\n",
    "\n",
    "dbg(EFSA)\n",
    "dbg(EPPO)\n",
    "dbg(EPPO_EFSA)"
   ]
  },
  {
   "cell_type": "code",
   "execution_count": null,
   "metadata": {},
   "outputs": [
    {
     "data": {
      "text/html": [
       "<div>\n",
       "<style scoped>\n",
       "    .dataframe tbody tr th:only-of-type {\n",
       "        vertical-align: middle;\n",
       "    }\n",
       "\n",
       "    .dataframe tbody tr th {\n",
       "        vertical-align: top;\n",
       "    }\n",
       "\n",
       "    .dataframe thead th {\n",
       "        text-align: right;\n",
       "    }\n",
       "</style>\n",
       "<table border=\"1\" class=\"dataframe\">\n",
       "  <thead>\n",
       "    <tr style=\"text-align: right;\">\n",
       "      <th></th>\n",
       "      <th>preferred_name</th>\n",
       "      <th>EPPO_CODE</th>\n",
       "      <th>synonym</th>\n",
       "      <th>ds_language</th>\n",
       "      <th>EFSA_PHT</th>\n",
       "      <th>re</th>\n",
       "      <th>NCBI_TAXID</th>\n",
       "    </tr>\n",
       "  </thead>\n",
       "  <tbody>\n",
       "    <tr>\n",
       "      <th>0</th>\n",
       "      <td>'Abelmoschus esculentus' bunchy top phytoplasma</td>\n",
       "      <td>None</td>\n",
       "      <td>'Abelmoschus esculentus' bunchy top phytoplasma</td>\n",
       "      <td>None</td>\n",
       "      <td>None</td>\n",
       "      <td>None</td>\n",
       "      <td>ncbi:926989</td>\n",
       "    </tr>\n",
       "    <tr>\n",
       "      <th>1</th>\n",
       "      <td>'Acacia arabica' phytoplasma</td>\n",
       "      <td>None</td>\n",
       "      <td>'Acacia arabica' phytoplasma</td>\n",
       "      <td>None</td>\n",
       "      <td>None</td>\n",
       "      <td>None</td>\n",
       "      <td>ncbi:2849181</td>\n",
       "    </tr>\n",
       "    <tr>\n",
       "      <th>2</th>\n",
       "      <td>'Acacia farnesiana' leaflet phytoplasma</td>\n",
       "      <td>None</td>\n",
       "      <td>'Acacia farnesiana' leaflet phytoplasma</td>\n",
       "      <td>None</td>\n",
       "      <td>None</td>\n",
       "      <td>None</td>\n",
       "      <td>ncbi:2654099</td>\n",
       "    </tr>\n",
       "    <tr>\n",
       "      <th>3</th>\n",
       "      <td>'Acacia mangium' little leaf and yellowing phy...</td>\n",
       "      <td>None</td>\n",
       "      <td>'Acacia mangium' little leaf and yellowing phy...</td>\n",
       "      <td>None</td>\n",
       "      <td>None</td>\n",
       "      <td>None</td>\n",
       "      <td>ncbi:2530013</td>\n",
       "    </tr>\n",
       "    <tr>\n",
       "      <th>4</th>\n",
       "      <td>'Acacia melanoxylon' phytoplasma</td>\n",
       "      <td>None</td>\n",
       "      <td>'Acacia melanoxylon' phytoplasma</td>\n",
       "      <td>None</td>\n",
       "      <td>None</td>\n",
       "      <td>None</td>\n",
       "      <td>ncbi:1477896</td>\n",
       "    </tr>\n",
       "  </tbody>\n",
       "</table>\n",
       "</div>"
      ],
      "text/plain": [
       "                                      preferred_name EPPO_CODE  \\\n",
       "0    'Abelmoschus esculentus' bunchy top phytoplasma      None   \n",
       "1                       'Acacia arabica' phytoplasma      None   \n",
       "2            'Acacia farnesiana' leaflet phytoplasma      None   \n",
       "3  'Acacia mangium' little leaf and yellowing phy...      None   \n",
       "4                   'Acacia melanoxylon' phytoplasma      None   \n",
       "\n",
       "                                             synonym ds_language EFSA_PHT  \\\n",
       "0    'Abelmoschus esculentus' bunchy top phytoplasma        None     None   \n",
       "1                       'Acacia arabica' phytoplasma        None     None   \n",
       "2            'Acacia farnesiana' leaflet phytoplasma        None     None   \n",
       "3  'Acacia mangium' little leaf and yellowing phy...        None     None   \n",
       "4                   'Acacia melanoxylon' phytoplasma        None     None   \n",
       "\n",
       "     re    NCBI_TAXID  \n",
       "0  None   ncbi:926989  \n",
       "1  None  ncbi:2849181  \n",
       "2  None  ncbi:2654099  \n",
       "3  None  ncbi:2530013  \n",
       "4  None  ncbi:1477896  "
      ]
     },
     "execution_count": 12,
     "metadata": {},
     "output_type": "execute_result"
    }
   ],
   "source": [
    "df.head()"
   ]
  },
  {
   "cell_type": "markdown",
   "metadata": {},
   "source": [
    "#### Add case information from sibling datasets\n",
    "Look for elements in list which have case information and add it to lowercase values by replacing them"
   ]
  },
  {
   "cell_type": "code",
   "execution_count": null,
   "metadata": {},
   "outputs": [],
   "source": [
    "def find_indices(list_, element):\n",
    "    indices = [i for i, x in enumerate(list_) if x == element]\n",
    "    return indices"
   ]
  },
  {
   "cell_type": "code",
   "execution_count": null,
   "metadata": {},
   "outputs": [
    {
     "name": "stderr",
     "output_type": "stream",
     "text": [
      "  0%|          | 0/7 [00:00<?, ?it/s]\r100%|██████████| 7/7 [00:00<00:00, 27594.11it/s]\n"
     ]
    },
    {
     "data": {
      "text/plain": [
       "['Apple', 'Apple', 'BANANA', 'BANANA', 'Plum', 'Plum', 'berries']"
      ]
     },
     "execution_count": 14,
     "metadata": {},
     "output_type": "execute_result"
    }
   ],
   "source": [
    "def add_case_info(mix_list):\n",
    "    low_list = list(map(lambda x: x.lower(),mix_list))\n",
    "    match_list = [i==j for i, j in zip(mix_list, low_list)]\n",
    "    for i in tqdm(range(len(mix_list))):\n",
    "        if match_list[i]:\n",
    "            low_term = low_list[i]\n",
    "            candidates = [t for t in mix_list # candidates for substitution are...\n",
    "                          if (t.lower()==low_term # (1) the same term as the one being substituted (case insensitive)\n",
    "                              and not match_list[find_indices(mix_list, t)[0]])] # (2) and not lowercase\n",
    "            #dbg(mix_list[i])\n",
    "            mix_list[i] = candidates[0] if len(candidates) else mix_list[i]\n",
    "            #dbg(mix_list[i])\n",
    "            #print()\n",
    "    return mix_list\n",
    "\n",
    "## test\n",
    "my_list = ['apple', 'Apple', 'banana', 'BANANA', 'Plum', 'plum', 'berries']\n",
    "add_case_info(my_list)"
   ]
  },
  {
   "cell_type": "code",
   "execution_count": null,
   "metadata": {},
   "outputs": [
    {
     "name": "stdout",
     "output_type": "stream",
     "text": [
      "(2474128, 7)\n",
      "(2474128, 7)\n"
     ]
    }
   ],
   "source": [
    "print(df.shape)\n",
    "df = df.groupby(['preferred_name']).last().reset_index().astype(str)\n",
    "print(df.shape)"
   ]
  },
  {
   "cell_type": "code",
   "execution_count": null,
   "metadata": {},
   "outputs": [
    {
     "name": "stderr",
     "output_type": "stream",
     "text": [
      "  0%|          | 0/2474128 [00:00<?, ?it/s]\r  0%|          | 1212/2474128 [00:00<33:23, 1234.22it/s]\r  0%|          | 1336/2474128 [00:04<2:37:28, 261.72it/s]\r  9%|▉         | 233962/2474128 [00:04<00:25, 86384.14it/s]\r 20%|██        | 500181/2474128 [00:04<00:09, 215784.10it/s]\r 32%|███▏      | 788330/2474128 [00:04<00:04, 394281.17it/s]\r 44%|████▍     | 1090126/2474128 [00:04<00:02, 623341.04it/s]\r 57%|█████▋    | 1412106/2474128 [00:04<00:01, 911260.74it/s]\r 70%|███████   | 1733496/2474128 [00:04<00:00, 1226135.89it/s]\r 84%|████████▎ | 2067831/2474128 [00:04<00:00, 1572127.16it/s]\r 84%|████████▎ | 2067831/2474128 [00:23<00:00, 1572127.16it/s]\r 94%|█████████▎| 2315052/2474128 [00:24<00:03, 46360.12it/s]  \r 94%|█████████▎| 2315052/2474128 [00:43<00:03, 46360.12it/s]\r 94%|█████████▎| 2315113/2474128 [00:43<00:08, 19138.26it/s]\r 94%|█████████▎| 2315114/2474128 [00:44<00:08, 18374.63it/s]\r 94%|█████████▎| 2315114/2474128 [01:03<00:08, 18374.63it/s]\r 94%|█████████▎| 2315134/2474128 [01:03<00:18, 8797.46it/s] \r 94%|█████████▎| 2315135/2474128 [01:04<00:18, 8461.70it/s]\r 94%|█████████▎| 2315135/2474128 [01:23<00:18, 8461.70it/s]\r 94%|█████████▎| 2315154/2474128 [01:23<00:37, 4183.97it/s]\r 94%|█████████▎| 2315155/2474128 [01:24<00:39, 4032.10it/s]\r 94%|█████████▎| 2315155/2474128 [01:43<00:39, 4032.10it/s]\r 94%|█████████▎| 2315177/2474128 [01:43<01:20, 1974.52it/s]\r 94%|█████████▎| 2315178/2474128 [01:44<01:23, 1905.75it/s]\r 94%|█████████▎| 2315178/2474128 [02:03<01:23, 1905.75it/s]\r 94%|█████████▎| 2316487/2474128 [02:04<02:39, 990.08it/s] \r 94%|█████████▎| 2316494/2474128 [02:11<03:19, 791.06it/s]\r 94%|█████████▎| 2316494/2474128 [02:23<03:19, 791.06it/s]\r 94%|█████████▎| 2316510/2474128 [02:23<05:04, 516.90it/s]\r 94%|█████████▎| 2316520/2474128 [02:24<05:16, 498.28it/s]\r 94%|█████████▎| 2316520/2474128 [02:43<05:16, 498.28it/s]\r 94%|█████████▎| 2317044/2474128 [02:43<10:03, 260.49it/s]\r 94%|█████████▎| 2317047/2474128 [02:44<10:25, 251.13it/s]\r 94%|█████████▎| 2317047/2474128 [03:03<10:25, 251.13it/s]\r 94%|█████████▎| 2317269/2474128 [03:03<19:58, 130.86it/s]\r 94%|█████████▎| 2317271/2474128 [03:06<21:45, 120.11it/s]"
     ]
    }
   ],
   "source": [
    "df['preferred_name'] = add_case_info(df['preferred_name'])"
   ]
  },
  {
   "cell_type": "code",
   "execution_count": null,
   "metadata": {},
   "outputs": [
    {
     "ename": "NameError",
     "evalue": "name 'df' is not defined",
     "output_type": "error",
     "traceback": [
      "\u001b[0;31m---------------------------------------------------------------------------\u001b[0m",
      "\u001b[0;31mNameError\u001b[0m                                 Traceback (most recent call last)",
      "Cell \u001b[0;32mIn [2], line 1\u001b[0m\n\u001b[0;32m----> 1\u001b[0m df\u001b[39m.\u001b[39mto_csv(LR_filepath, index\u001b[39m=\u001b[39m\u001b[39mFalse\u001b[39;00m)\n\u001b[1;32m      2\u001b[0m \u001b[39mprint\u001b[39m(df\u001b[39m.\u001b[39mshape)\n",
      "\u001b[0;31mNameError\u001b[0m: name 'df' is not defined"
     ]
    }
   ],
   "source": [
    "df.to_csv(LR_filepath, index=False)\n",
    "print(df.shape)"
   ]
  },
  {
   "cell_type": "markdown",
   "metadata": {},
   "source": [
    "### Add RegEx information to EPPO and NCBI lines "
   ]
  },
  {
   "cell_type": "code",
   "execution_count": null,
   "metadata": {},
   "outputs": [],
   "source": [
    "df = pd.read_csv(LR_filepath).astype(str)\n",
    "\n",
    "EFSA = len(set(df[df.EFSA_PHT != 'nan'].EFSA_PHT))\n",
    "EPPO = len((df[df.EPPO_CODE != 'nan'].EPPO_CODE))\n",
    "EPPO_EFSA = len((df[(df.EPPO_CODE != 'nan') & (df.EFSA_PHT != 'nan')].EFSA_PHT))\n",
    "\n",
    "dbg(EFSA)\n",
    "dbg(EPPO)\n",
    "dbg(EPPO_EFSA)"
   ]
  },
  {
   "cell_type": "code",
   "execution_count": null,
   "metadata": {},
   "outputs": [],
   "source": [
    "## For regex in list of regex:\n",
    "for pattern, code in tqdm(zip(df['re'], df['EFSA_PHT'])):\n",
    "    if not isinstance(pattern, str):\n",
    "        continue\n",
    "    #try:\n",
    "    ## For synonym in db:\n",
    "    for i in range(len(df)):\n",
    "        ## If there's no regex in line i yet AND there's a match...\n",
    "        if re.search(str(pattern), str(df['synonym'][i])):   ###df['re'][i] == None and \n",
    "            print(df['synonym'][i], pattern)\n",
    "            df['re'][i] = pattern #...add regex pattern to row in the 're' column \n",
    "            df['EFSA_PHT'][i] = code #...add EFSA code to row in the 'EFSA_PHT' column \n",
    "            \n",
    "    #except TypeError:\n",
    "    #    dbg(type(pattern))"
   ]
  },
  {
   "cell_type": "code",
   "execution_count": null,
   "metadata": {},
   "outputs": [],
   "source": [
    "df.to_csv('re_code_'+LR_filepath, index=False)"
   ]
  },
  {
   "cell_type": "markdown",
   "metadata": {},
   "source": [
    "# Display data"
   ]
  },
  {
   "cell_type": "code",
   "execution_count": null,
   "metadata": {},
   "outputs": [
    {
     "ename": "NameError",
     "evalue": "name 'pd' is not defined",
     "output_type": "error",
     "traceback": [
      "\u001b[0;31m---------------------------------------------------------------------------\u001b[0m",
      "\u001b[0;31mNameError\u001b[0m                                 Traceback (most recent call last)",
      "Cell \u001b[0;32mIn [1], line 1\u001b[0m\n\u001b[0;32m----> 1\u001b[0m df \u001b[39m=\u001b[39m pd\u001b[39m.\u001b[39mread_csv(\u001b[39m'\u001b[39m\u001b[39mre_code_\u001b[39m\u001b[39m'\u001b[39m\u001b[39m+\u001b[39mLR_filepath)\u001b[39m.\u001b[39mastype(\u001b[39mstr\u001b[39m)\n\u001b[1;32m      3\u001b[0m EFSA \u001b[39m=\u001b[39m \u001b[39mlen\u001b[39m(\u001b[39mset\u001b[39m(df[df\u001b[39m.\u001b[39mEFSA_PHT \u001b[39m!=\u001b[39m \u001b[39m'\u001b[39m\u001b[39mnan\u001b[39m\u001b[39m'\u001b[39m]\u001b[39m.\u001b[39mEFSA_PHT))\n\u001b[1;32m      4\u001b[0m EPPO \u001b[39m=\u001b[39m \u001b[39mlen\u001b[39m((df[df\u001b[39m.\u001b[39mEPPO_CODE \u001b[39m!=\u001b[39m \u001b[39m'\u001b[39m\u001b[39mnan\u001b[39m\u001b[39m'\u001b[39m]\u001b[39m.\u001b[39mEPPO_CODE))\n",
      "\u001b[0;31mNameError\u001b[0m: name 'pd' is not defined"
     ]
    }
   ],
   "source": [
    "df = pd.read_csv('re_code_'+LR_filepath).astype(str)\n",
    "\n",
    "EFSA = len(set(df[df.EFSA_PHT != 'nan'].EFSA_PHT))\n",
    "EPPO = len((df[df.EPPO_CODE != 'nan'].EPPO_CODE))\n",
    "EPPO_EFSA = len((df[(df.EPPO_CODE != 'nan') & (df.EFSA_PHT != 'nan')].EFSA_PHT))\n",
    "\n",
    "dbg(EFSA)\n",
    "dbg(EPPO)\n",
    "dbg(EPPO_EFSA)"
   ]
  },
  {
   "cell_type": "code",
   "execution_count": null,
   "metadata": {},
   "outputs": [],
   "source": [
    "df = df.astype(str)"
   ]
  },
  {
   "cell_type": "code",
   "execution_count": null,
   "metadata": {},
   "outputs": [
    {
     "data": {
      "text/html": [
       "<div>\n",
       "<style scoped>\n",
       "    .dataframe tbody tr th:only-of-type {\n",
       "        vertical-align: middle;\n",
       "    }\n",
       "\n",
       "    .dataframe tbody tr th {\n",
       "        vertical-align: top;\n",
       "    }\n",
       "\n",
       "    .dataframe thead th {\n",
       "        text-align: right;\n",
       "    }\n",
       "</style>\n",
       "<table border=\"1\" class=\"dataframe\">\n",
       "  <thead>\n",
       "    <tr style=\"text-align: right;\">\n",
       "      <th></th>\n",
       "      <th>preferred_name</th>\n",
       "      <th>EPPO_CODE</th>\n",
       "      <th>synonym</th>\n",
       "      <th>ds_language</th>\n",
       "      <th>EFSA_PHT</th>\n",
       "      <th>re</th>\n",
       "      <th>NCBI_TAXID</th>\n",
       "    </tr>\n",
       "  </thead>\n",
       "  <tbody>\n",
       "    <tr>\n",
       "      <th>124</th>\n",
       "      <td>'Borassus aethiopum' palm lethal yellowing phy...</td>\n",
       "      <td>NaN</td>\n",
       "      <td>'Borassus aethiopum' palm lethal yellowing phy...</td>\n",
       "      <td>NaN</td>\n",
       "      <td>PalmLethalYellowingMycoplasm-PHT</td>\n",
       "      <td>palm lethal yellowing phytoplasma</td>\n",
       "      <td>ncbi:1705292</td>\n",
       "    </tr>\n",
       "    <tr>\n",
       "      <th>64409</th>\n",
       "      <td>Aleurocanthus camelliae</td>\n",
       "      <td>NaN</td>\n",
       "      <td>camellia spiny whitefly</td>\n",
       "      <td>NaN</td>\n",
       "      <td>Aleurocanthus-PHT</td>\n",
       "      <td>spiny whitefl\\w*</td>\n",
       "      <td>ncbi:1000661</td>\n",
       "    </tr>\n",
       "    <tr>\n",
       "      <th>64417</th>\n",
       "      <td>Aleurocanthus spiniferus</td>\n",
       "      <td>ALECSN</td>\n",
       "      <td>citrus spiny whitefly</td>\n",
       "      <td>ja</td>\n",
       "      <td>Aleurocanthus-PHT</td>\n",
       "      <td>spiny whitefl\\w*</td>\n",
       "      <td>ncbi:593793</td>\n",
       "    </tr>\n",
       "    <tr>\n",
       "      <th>65946</th>\n",
       "      <td>Algerian watermelon mosaic virus</td>\n",
       "      <td>NaN</td>\n",
       "      <td>Algerian watermelon mosaic virus</td>\n",
       "      <td>NaN</td>\n",
       "      <td>WatermelonMosaicVirus-PHT</td>\n",
       "      <td>watermelon mosaic virus</td>\n",
       "      <td>ncbi:515575</td>\n",
       "    </tr>\n",
       "    <tr>\n",
       "      <th>85805</th>\n",
       "      <td>American plum line pattern virus</td>\n",
       "      <td>APLPV0</td>\n",
       "      <td>American plum line pattern virus</td>\n",
       "      <td>pt</td>\n",
       "      <td>AmericanPlumLinePatternVirus-PHT</td>\n",
       "      <td>plum line pattern virus</td>\n",
       "      <td>ncbi:134632</td>\n",
       "    </tr>\n",
       "  </tbody>\n",
       "</table>\n",
       "</div>"
      ],
      "text/plain": [
       "                                          preferred_name EPPO_CODE  \\\n",
       "124    'Borassus aethiopum' palm lethal yellowing phy...       NaN   \n",
       "64409                            Aleurocanthus camelliae       NaN   \n",
       "64417                           Aleurocanthus spiniferus    ALECSN   \n",
       "65946                   Algerian watermelon mosaic virus       NaN   \n",
       "85805                   American plum line pattern virus    APLPV0   \n",
       "\n",
       "                                                 synonym ds_language  \\\n",
       "124    'Borassus aethiopum' palm lethal yellowing phy...         NaN   \n",
       "64409                            camellia spiny whitefly         NaN   \n",
       "64417                              citrus spiny whitefly          ja   \n",
       "65946                   Algerian watermelon mosaic virus         NaN   \n",
       "85805                   American plum line pattern virus          pt   \n",
       "\n",
       "                               EFSA_PHT                                 re  \\\n",
       "124    PalmLethalYellowingMycoplasm-PHT  palm lethal yellowing phytoplasma   \n",
       "64409                 Aleurocanthus-PHT                   spiny whitefl\\w*   \n",
       "64417                 Aleurocanthus-PHT                   spiny whitefl\\w*   \n",
       "65946         WatermelonMosaicVirus-PHT            watermelon mosaic virus   \n",
       "85805  AmericanPlumLinePatternVirus-PHT            plum line pattern virus   \n",
       "\n",
       "         NCBI_TAXID  \n",
       "124    ncbi:1705292  \n",
       "64409  ncbi:1000661  \n",
       "64417   ncbi:593793  \n",
       "65946   ncbi:515575  \n",
       "85805   ncbi:134632  "
      ]
     },
     "execution_count": 34,
     "metadata": {},
     "output_type": "execute_result"
    }
   ],
   "source": [
    "df[df.EFSA_PHT != 'nan'].head()"
   ]
  }
 ],
 "metadata": {
  "kernelspec": {
   "display_name": "Python 3",
   "language": "python",
   "name": "python3"
  },
  "language_info": {
   "codemirror_mode": {
    "name": "ipython",
    "version": 3
   },
   "file_extension": ".py",
   "mimetype": "text/x-python",
   "name": "python",
   "nbconvert_exporter": "python",
   "pygments_lexer": "ipython3",
   "version": "3.10.6 (main, Aug 10 2022, 11:40:04) [GCC 11.3.0]"
  },
  "orig_nbformat": 4,
  "vscode": {
   "interpreter": {
    "hash": "65aabaf4492298ab6b95d3ba4006024321b8a1f76c38ae427ef0154a3a71d8f8"
   }
  }
 },
 "nbformat": 4,
 "nbformat_minor": 2
}
