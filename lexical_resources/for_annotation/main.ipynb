{
 "cells": [
  {
   "cell_type": "markdown",
   "metadata": {},
   "source": [
    "#  Lexical Resource (LR) for Annotation"
   ]
  },
  {
   "cell_type": "markdown",
   "metadata": {},
   "source": [
    "#### Imports"
   ]
  },
  {
   "cell_type": "code",
   "execution_count": null,
   "metadata": {},
   "outputs": [
    {
     "name": "stderr",
     "output_type": "stream",
     "text": [
      "[nltk_data] Downloading package words to /home/elubrini/nltk_data...\n",
      "[nltk_data]   Package words is already up-to-date!\n"
     ]
    }
   ],
   "source": [
    "# interface\n",
    "from tqdm import tqdm\n",
    "from dsutils.de.files import dbg\n",
    "\n",
    "## Files and filesystem\n",
    "import os\n",
    "import json\n",
    "import csv\n",
    "import glob\n",
    "\n",
    "## Data management\n",
    "import numpy as np\n",
    "import pandas as pd\n",
    "\n",
    "## DS tools\n",
    "import re\n",
    "from types import NoneType\n",
    "from dsutils.de.files import describe_csv, get_csv_head, xls_to_csv, get_data_path, get_datafile_path\n",
    "from dsutils.nlp.language import get_lang_code"
   ]
  },
  {
   "cell_type": "markdown",
   "metadata": {},
   "source": [
    "#### Paths"
   ]
  },
  {
   "cell_type": "code",
   "execution_count": null,
   "metadata": {},
   "outputs": [
    {
     "name": "stderr",
     "output_type": "stream",
     "text": [
      "/home/elubrini/GitHub/bio-corpus-translation/venv/lib/python3.10/site-packages/openpyxl/styles/stylesheet.py:226: UserWarning: Workbook contains no default style, apply openpyxl's default\n",
      "  warn(\"Workbook contains no default style, apply openpyxl's default\")\n",
      "/home/elubrini/GitHub/bio-corpus-translation/venv/lib/python3.10/site-packages/openpyxl/styles/stylesheet.py:226: UserWarning: Workbook contains no default style, apply openpyxl's default\n",
      "  warn(\"Workbook contains no default style, apply openpyxl's default\")\n"
     ]
    }
   ],
   "source": [
    "## input\n",
    "db_paths = dict(\n",
    "    eppo_com = get_datafile_path('2022-09-02_COMMONnames_EPPO_OQ.xlsx'),\n",
    "    eppo_sci = get_datafile_path('2022-09-02_SCIENTIFICnames_EPPO_OQ.xlsx'),\n",
    "    efsa = get_datafile_path('EFSA-keyword-match/FichierMotsClesMagaliLarenaudie.csv'),\n",
    "    ncbi = get_datafile_path('taxa+id_full.txt'),\n",
    ")\n",
    "\n",
    "glossary_paths = dict(\n",
    "    efsa_glossary = get_datafile_path('efsa_glossary.csv'),\n",
    "    eppo_glossary = get_datafile_path('eppo_glossary.csv'),\n",
    ")\n",
    "\n",
    "## Output\n",
    "data_path = get_data_path()\n",
    "full_eppo_path = os.path.join(data_path, 'eppo_glossary.csv')\n",
    "annotation_path = os.path.join(data_path, 'annotation_glossary')\n",
    "anno_gloss_path = os.path.join(data_path, 'annotation_glossary.csv')\n",
    "LR_filepath = 'LR.csv'"
   ]
  },
  {
   "cell_type": "markdown",
   "metadata": {},
   "source": [
    "#### Definitions"
   ]
  },
  {
   "cell_type": "markdown",
   "metadata": {},
   "source": [
    "Defining functions for preprocessing of original data"
   ]
  },
  {
   "cell_type": "code",
   "execution_count": null,
   "metadata": {},
   "outputs": [],
   "source": [
    "def PHT_to_lower_taxon(PHT_code):\n",
    "    taxon = re.sub(r'(?<!^)(?=[A-Z])', ' ', PHT_code[:-4]).lower()\n",
    "    return taxon\n",
    "# print('AcalymmaVittatum-PHT:',PHT_to_lower_taxon('AcalymmaVittatum-PHT')) # test\n",
    "assert PHT_to_lower_taxon('AcalymmaVittatum-PHT') == 'acalymma vittatum'\n",
    "\n",
    "def to_pattern(syn):\n",
    "    r = syn.replace('+', ' ')\n",
    "    r = r.replace('_', '\\\\w')\n",
    "    if r.endswith('%'):\n",
    "        r = r[:-1] + '\\\\w*'\n",
    "    r = r.replace('% ', '\\\\w* ')\n",
    "    r = r.replace('%', '\\\\S*\\\\s?')\n",
    "    return r\n",
    "assert to_pattern(r'chrysom_le%+ray_e+du+concombre') == 'chrysom\\wle\\w* ray\\we du concombre'"
   ]
  },
  {
   "cell_type": "markdown",
   "metadata": {},
   "source": [
    "#### Parameters"
   ]
  },
  {
   "cell_type": "code",
   "execution_count": null,
   "metadata": {},
   "outputs": [],
   "source": [
    "ncbi_sep = '\\t'\n",
    "\n",
    "## name of the desired coluimns in the LR\n",
    "anno_gloss_column_names = ['EPPO_CODE', 'EFSA_PHT', 'NCBI_TAXID', # 3 partial keys to relative dataset\n",
    "                           'preferred_name', 'synonym', 're',# terms\n",
    "                           'ds_language', 'match_language'] # languages"
   ]
  },
  {
   "cell_type": "code",
   "execution_count": null,
   "metadata": {},
   "outputs": [],
   "source": [
    "## column in each of the original datasets corresponding to the output LR column \n",
    "cc = dict(\n",
    "    eppo_com = ['CodeEOPP', None, None,\n",
    "                'PreferredName', 'CommonName', None,\n",
    "                ['Language', get_lang_code], None], # [obj (col name), fun] tuple when information is extracted via a function\n",
    "    eppo_sci = ['CodeEOPP', None, None,\n",
    "                'PreferredName', 'OtherScientificNames', None,\n",
    "                None, None],\n",
    "    efsa = [None, 'Category (pest name)', None,\n",
    "                ['Category (pest name)', PHT_to_lower_taxon], None,  ['Keywords', to_pattern],\n",
    "                'Unnamed: 3', None],\n",
    "    ncbi = [None, None, 'ncbi:2',\n",
    "            'Bacteria.1', 'Bacteria', None,\n",
    "            None, None],\n",
    "    )"
   ]
  }
 ],
 "metadata": {
  "language_info": {
   "name": "python"
  },
  "orig_nbformat": 4
 },
 "nbformat": 4,
 "nbformat_minor": 2
}
