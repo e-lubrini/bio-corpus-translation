{
 "cells": [
  {
   "cell_type": "code",
   "execution_count": 201,
   "metadata": {},
   "outputs": [],
   "source": [
    "SAMPLE = False"
   ]
  },
  {
   "cell_type": "markdown",
   "metadata": {},
   "source": [
    "#  Lexical Resource (LR) for Annotation"
   ]
  },
  {
   "cell_type": "markdown",
   "metadata": {},
   "source": [
    "#### Imports"
   ]
  },
  {
   "cell_type": "code",
   "execution_count": 202,
   "metadata": {},
   "outputs": [],
   "source": [
    "# interface\n",
    "from tqdm import tqdm\n",
    "from dsutils.de.files import dbg\n",
    "\n",
    "## Files and filesystem\n",
    "import os\n",
    "import json\n",
    "import csv\n",
    "import glob\n",
    "\n",
    "## Data management\n",
    "import numpy as np\n",
    "import pandas as pd\n",
    "\n",
    "## DS tools\n",
    "import re\n",
    "from types import NoneType\n",
    "from dsutils.de.files import describe_csv, get_csv_head, xls_to_csv, get_data_path, get_datafile_path\n",
    "from dsutils.nlp.language import get_lang_code"
   ]
  },
  {
   "cell_type": "markdown",
   "metadata": {},
   "source": [
    "#### Paths"
   ]
  },
  {
   "cell_type": "code",
   "execution_count": 203,
   "metadata": {},
   "outputs": [],
   "source": [
    "## input\n",
    "db_paths = dict(\n",
    "    eppo_com = get_datafile_path('original/2022-09-02_COMMONnames_EPPO_OQ.csv'),\n",
    "    eppo_sci = get_datafile_path('original/2022-09-02_SCIENTIFICnames_EPPO_OQ.csv'),\n",
    "    efsa = get_datafile_path('EFSA-keyword-match/FichierMotsClesMagaliLarenaudie.csv'),\n",
    "    ncbi = get_datafile_path('taxa+id_full.txt'),\n",
    ")\n",
    "\n",
    "glossary_paths = dict(\n",
    "    efsa_glossary = get_datafile_path('efsa_glossary.csv'),\n",
    "    eppo_glossary = get_datafile_path('eppo_glossary.csv'),\n",
    ")\n",
    "\n",
    "## Output\n",
    "data_path = get_data_path()\n",
    "full_eppo_path = os.path.join(data_path, 'eppo_glossary.csv')\n",
    "annotation_path = os.path.join(data_path, 'LRs_for_annotation')\n",
    "anno_gloss_path = os.path.join(data_path, 'annotation_glossary.csv')\n",
    "LR_filepath = 'LR.csv'"
   ]
  },
  {
   "cell_type": "markdown",
   "metadata": {},
   "source": [
    "#### Definitions"
   ]
  },
  {
   "cell_type": "markdown",
   "metadata": {},
   "source": [
    "Defining functions for preprocessing of original data"
   ]
  },
  {
   "cell_type": "code",
   "execution_count": 204,
   "metadata": {},
   "outputs": [],
   "source": [
    "def PHT_to_lower_taxon(PHT_code):\n",
    "    taxon = re.sub(r'(?<!^)(?=[A-Z])', ' ', PHT_code[:-4]).lower()\n",
    "    return taxon\n",
    "# print('AcalymmaVittatum-PHT:',PHT_to_lower_taxon('AcalymmaVittatum-PHT')) # test\n",
    "assert PHT_to_lower_taxon('AcalymmaVittatum-PHT') == 'acalymma vittatum'\n",
    "\n",
    "def to_pattern(syn):\n",
    "    r = syn.replace('+', ' ')\n",
    "    r = r.replace('_', '\\\\w')\n",
    "    if r.endswith('%'):\n",
    "        r = r[:-1] + '\\\\w*'\n",
    "    r = r.replace('% ', '\\\\w* ')\n",
    "    r = r.replace('%', '\\\\S*\\\\s?')\n",
    "    return r\n",
    "assert to_pattern(r'chrysom_le%+ray_e+du+concombre') == 'chrysom\\wle\\w* ray\\we du concombre'"
   ]
  },
  {
   "cell_type": "markdown",
   "metadata": {},
   "source": [
    "#### Parameters"
   ]
  },
  {
   "cell_type": "code",
   "execution_count": 205,
   "metadata": {},
   "outputs": [],
   "source": [
    "ncbi_sep = '\\t'\n",
    "ncbi_header = ['synonym','taxid','sci_name','tax_path','POS','rank','undefined','also_undefined']\n",
    "ncbi_ext = '.csv'\n",
    "\n",
    "db_paths['ncbi'] = db_paths['ncbi'][:-4]+ncbi_ext\n",
    "if SAMPLE:\n",
    "    for k in db_paths.keys():\n",
    "        db_paths[k] = db_paths[k][:-4]+' copy'+db_paths[k][-4:]\n",
    "\n",
    "## name of the desired coluimns in the LR\n",
    "anno_gloss_column_names = ['EPPO_CODE', 'EFSA_PHT', 'NCBI_TAXID', # 3 partial keys to relative dataset\n",
    "                           'preferred_name', 'synonym', 're',# terms\n",
    "                           'ds_language', 'match_language'] # languages"
   ]
  },
  {
   "cell_type": "code",
   "execution_count": 206,
   "metadata": {},
   "outputs": [],
   "source": [
    "## column in each of the original datasets corresponding to the output LR column \n",
    "cc = dict(\n",
    "    eppo_com = ['CodeEOPP', None, None,\n",
    "                'PreferredName', 'CommonName', None,\n",
    "                ['Language', get_lang_code], None], # [obj (col name), fun] tuple when information is extracted via a function\n",
    "    eppo_sci = ['CodeEOPP', None, None,\n",
    "                'PreferredName', 'OtherScientificNames', None,\n",
    "                None, None],\n",
    "    efsa = [None, 'Category (pest name)', None,\n",
    "                ['Category (pest name)', PHT_to_lower_taxon], None,  ['Keywords', to_pattern],\n",
    "                None, 'Unnamed: 3'],\n",
    "    ncbi = [None, None, 'taxid',\n",
    "            'sci_name', 'synonym', None,\n",
    "            None, None],\n",
    "    )"
   ]
  },
  {
   "cell_type": "markdown",
   "metadata": {},
   "source": [
    "#### Check Data"
   ]
  },
  {
   "cell_type": "markdown",
   "metadata": {},
   "source": [
    "for db_name, path in db_paths.items():\n",
    "    dbg(len(describe_csv(path).columns))\n",
    "    if (len(describe_csv(path).columns))==1:\n",
    "        dbg(path)\n",
    "        display(describe_csv(path))\n",
    "        print('starting normalisation:')\n",
    "        normalised_df = pd.read_csv(path, names=ncbi_header, index_col=0, on_bad_lines='skip', sep=ncbi_sep).reset_index(level=0)\n",
    "        print('normalised:')\n",
    "        display(normalised_df.head())\n",
    "        new_path = path[:-4]+'.csv'\n",
    "        normalised_df.to_csv(new_path, index=False)\n",
    "        db_paths[db_name] = new_path\n",
    "    display(describe_csv(path))"
   ]
  },
  {
   "cell_type": "markdown",
   "metadata": {},
   "source": [
    "# Create LR"
   ]
  },
  {
   "cell_type": "markdown",
   "metadata": {},
   "source": [
    "### (1) Preprocess original datasets"
   ]
  },
  {
   "cell_type": "markdown",
   "metadata": {},
   "source": [
    "Extract relevant information from each dataset and store it in table form (one `csv` per original dataset)"
   ]
  },
  {
   "cell_type": "markdown",
   "metadata": {},
   "source": [
    "## Display examples of input datasets\n",
    "display(pd.read_csv(db_paths['eppo_sci']).describe())\n",
    "pd.read_csv(db_paths['eppo_com']).describe()"
   ]
  },
  {
   "cell_type": "code",
   "execution_count": 207,
   "metadata": {},
   "outputs": [],
   "source": [
    "\n",
    "db = dict() # create dictionary of databases\n",
    "\n",
    "for db_name, columns in cc.items(): # loop over db names and respective relevant columns\n",
    "    db[db_name] = dict()    # new database in db dictionary\n",
    "    cc_zip = zip(columns, anno_gloss_column_names)  # match source-db column names to final-db column names\n",
    "\n",
    "    for orig_col, targ_col in cc_zip: # loop over matches\n",
    "\n",
    "        if isinstance(orig_col, str): # if only column name specified, take column as is\n",
    "            def fun(x):\n",
    "                return x\n",
    "        elif isinstance(orig_col,NoneType): # else, if column must not to be selected, continue\n",
    "            continue\n",
    "        else:    # else, if a preprocessing function has been specified, use it when extracting column\n",
    "            fun = orig_col[1]\n",
    "            orig_col = orig_col[0]\n",
    "        # sep = tab (for ncbi)\n",
    "        ds_col = pd.read_csv(db_paths[db_name])[orig_col] \n",
    "            \n",
    "        db[db_name][targ_col] = list(map(fun, ds_col)) # new_db col = old_db col\n",
    "    \n",
    "    pd.DataFrame.from_dict(db[db_name]).to_csv(os.path.join(annotation_path, db_name+'_table.csv'), index=False)\n"
   ]
  },
  {
   "cell_type": "markdown",
   "metadata": {},
   "source": [
    "### (2) Join Datasets"
   ]
  },
  {
   "cell_type": "code",
   "execution_count": null,
   "metadata": {},
   "outputs": [],
   "source": [
    "prep_dbs = dict()\n",
    "for db_name in cc.keys():\n",
    "    prep_dbs[db_name] = pd.read_csv(os.path.join(annotation_path, db_name + '_table.csv'))"
   ]
  },
  {
   "cell_type": "markdown",
   "metadata": {},
   "source": [
    "#### A concatenated version"
   ]
  },
  {
   "cell_type": "code",
   "execution_count": null,
   "metadata": {},
   "outputs": [
    {
     "data": {
      "text/plain": [
       "4"
      ]
     },
     "execution_count": 181,
     "metadata": {},
     "output_type": "execute_result"
    }
   ],
   "source": [
    "len(list(prep_dbs.items()))"
   ]
  },
  {
   "cell_type": "code",
   "execution_count": null,
   "metadata": {},
   "outputs": [
    {
     "data": {
      "text/html": [
       "<div>\n",
       "<style scoped>\n",
       "    .dataframe tbody tr th:only-of-type {\n",
       "        vertical-align: middle;\n",
       "    }\n",
       "\n",
       "    .dataframe tbody tr th {\n",
       "        vertical-align: top;\n",
       "    }\n",
       "\n",
       "    .dataframe thead th {\n",
       "        text-align: right;\n",
       "    }\n",
       "</style>\n",
       "<table border=\"1\" class=\"dataframe\">\n",
       "  <thead>\n",
       "    <tr style=\"text-align: right;\">\n",
       "      <th></th>\n",
       "      <th>EPPO_CODE</th>\n",
       "      <th>preferred_name</th>\n",
       "      <th>synonym</th>\n",
       "      <th>ds_language</th>\n",
       "    </tr>\n",
       "  </thead>\n",
       "  <tbody>\n",
       "    <tr>\n",
       "      <th>0</th>\n",
       "      <td>LIBEAF</td>\n",
       "      <td>'Candidatus Liberibacter africanus'</td>\n",
       "      <td>greening of citrus</td>\n",
       "      <td>en</td>\n",
       "    </tr>\n",
       "    <tr>\n",
       "      <th>1</th>\n",
       "      <td>LIBEAF</td>\n",
       "      <td>'Candidatus Liberibacter africanus'</td>\n",
       "      <td>greening des agrumes</td>\n",
       "      <td>fr</td>\n",
       "    </tr>\n",
       "    <tr>\n",
       "      <th>2</th>\n",
       "      <td>LIBEAF</td>\n",
       "      <td>'Candidatus Liberibacter africanus'</td>\n",
       "      <td>virescence des agrumes</td>\n",
       "      <td>fr</td>\n",
       "    </tr>\n",
       "    <tr>\n",
       "      <th>3</th>\n",
       "      <td>LIBEAF</td>\n",
       "      <td>'Candidatus Liberibacter africanus'</td>\n",
       "      <td>enverdecimiento de los cítricos</td>\n",
       "      <td>es</td>\n",
       "    </tr>\n",
       "    <tr>\n",
       "      <th>4</th>\n",
       "      <td>LIBEAM</td>\n",
       "      <td>'Candidatus Liberibacter americanus'</td>\n",
       "      <td>Brazilian citrus greening</td>\n",
       "      <td>en</td>\n",
       "    </tr>\n",
       "    <tr>\n",
       "      <th>5</th>\n",
       "      <td>LIBEAS</td>\n",
       "      <td>'Candidatus Liberibacter asiaticus'</td>\n",
       "      <td>blotchy mottle disease of citrus</td>\n",
       "      <td>en</td>\n",
       "    </tr>\n",
       "    <tr>\n",
       "      <th>6</th>\n",
       "      <td>LIBEAS</td>\n",
       "      <td>'Candidatus Liberibacter asiaticus'</td>\n",
       "      <td>citrus dieback</td>\n",
       "      <td>en</td>\n",
       "    </tr>\n",
       "    <tr>\n",
       "      <th>7</th>\n",
       "      <td>LIBEAS</td>\n",
       "      <td>'Candidatus Liberibacter asiaticus'</td>\n",
       "      <td>decline of citrus</td>\n",
       "      <td>en</td>\n",
       "    </tr>\n",
       "    <tr>\n",
       "      <th>8</th>\n",
       "      <td>LIBEAS</td>\n",
       "      <td>'Candidatus Liberibacter asiaticus'</td>\n",
       "      <td>greening of citrus</td>\n",
       "      <td>en</td>\n",
       "    </tr>\n",
       "    <tr>\n",
       "      <th>9</th>\n",
       "      <td>LIBEAS</td>\n",
       "      <td>'Candidatus Liberibacter asiaticus'</td>\n",
       "      <td>huanglongbing</td>\n",
       "      <td>en</td>\n",
       "    </tr>\n",
       "    <tr>\n",
       "      <th>10</th>\n",
       "      <td>LIBEAS</td>\n",
       "      <td>'Candidatus Liberibacter asiaticus'</td>\n",
       "      <td>leaf mottling of citrus</td>\n",
       "      <td>en</td>\n",
       "    </tr>\n",
       "    <tr>\n",
       "      <th>11</th>\n",
       "      <td>LIBEAS</td>\n",
       "      <td>'Candidatus Liberibacter asiaticus'</td>\n",
       "      <td>likubin</td>\n",
       "      <td>en</td>\n",
       "    </tr>\n",
       "    <tr>\n",
       "      <th>12</th>\n",
       "      <td>LIBEAS</td>\n",
       "      <td>'Candidatus Liberibacter asiaticus'</td>\n",
       "      <td>vein phloem degeneration of citrus deactivated</td>\n",
       "      <td>en</td>\n",
       "    </tr>\n",
       "    <tr>\n",
       "      <th>13</th>\n",
       "      <td>LIBEAS</td>\n",
       "      <td>'Candidatus Liberibacter asiaticus'</td>\n",
       "      <td>yellow branch of citrus</td>\n",
       "      <td>en</td>\n",
       "    </tr>\n",
       "    <tr>\n",
       "      <th>14</th>\n",
       "      <td>LIBEAS</td>\n",
       "      <td>'Candidatus Liberibacter asiaticus'</td>\n",
       "      <td>yellow shoot disease</td>\n",
       "      <td>en</td>\n",
       "    </tr>\n",
       "    <tr>\n",
       "      <th>15</th>\n",
       "      <td>LIBEAS</td>\n",
       "      <td>'Candidatus Liberibacter asiaticus'</td>\n",
       "      <td>yellow shoot of citrus</td>\n",
       "      <td>en</td>\n",
       "    </tr>\n",
       "    <tr>\n",
       "      <th>16</th>\n",
       "      <td>LIBEAS</td>\n",
       "      <td>'Candidatus Liberibacter asiaticus'</td>\n",
       "      <td>greening des agrumes</td>\n",
       "      <td>fr</td>\n",
       "    </tr>\n",
       "    <tr>\n",
       "      <th>17</th>\n",
       "      <td>LIBEAS</td>\n",
       "      <td>'Candidatus Liberibacter asiaticus'</td>\n",
       "      <td>enverdecimiento de los cítricos</td>\n",
       "      <td>es</td>\n",
       "    </tr>\n",
       "    <tr>\n",
       "      <th>18</th>\n",
       "      <td>LIBEAS</td>\n",
       "      <td>'Candidatus Liberibacter asiaticus'</td>\n",
       "      <td>黃龍病</td>\n",
       "      <td>zh</td>\n",
       "    </tr>\n",
       "    <tr>\n",
       "      <th>19</th>\n",
       "      <td>CORBFL</td>\n",
       "      <td>Curtobacterium flaccumfaciens pv. flaccumfaciens</td>\n",
       "      <td>bacterial tan spot of bean</td>\n",
       "      <td>en</td>\n",
       "    </tr>\n",
       "    <tr>\n",
       "      <th>20</th>\n",
       "      <td>CORBFL</td>\n",
       "      <td>Curtobacterium flaccumfaciens pv. flaccumfaciens</td>\n",
       "      <td>bacterial tan spot of soybean</td>\n",
       "      <td>en</td>\n",
       "    </tr>\n",
       "    <tr>\n",
       "      <th>21</th>\n",
       "      <td>CORBFL</td>\n",
       "      <td>Curtobacterium flaccumfaciens pv. flaccumfaciens</td>\n",
       "      <td>bacterial wilt of bean</td>\n",
       "      <td>en</td>\n",
       "    </tr>\n",
       "    <tr>\n",
       "      <th>22</th>\n",
       "      <td>CORBFL</td>\n",
       "      <td>Curtobacterium flaccumfaciens pv. flaccumfaciens</td>\n",
       "      <td>bacterial wilt of common bean</td>\n",
       "      <td>en</td>\n",
       "    </tr>\n",
       "    <tr>\n",
       "      <th>23</th>\n",
       "      <td>CORBFL</td>\n",
       "      <td>Curtobacterium flaccumfaciens pv. flaccumfaciens</td>\n",
       "      <td>bacterial wilt of dry beans</td>\n",
       "      <td>en</td>\n",
       "    </tr>\n",
       "    <tr>\n",
       "      <th>24</th>\n",
       "      <td>CORBFL</td>\n",
       "      <td>Curtobacterium flaccumfaciens pv. flaccumfaciens</td>\n",
       "      <td>vascular wilt of bean</td>\n",
       "      <td>en</td>\n",
       "    </tr>\n",
       "  </tbody>\n",
       "</table>\n",
       "</div>"
      ],
      "text/plain": [
       "   EPPO_CODE                                    preferred_name  \\\n",
       "0     LIBEAF               'Candidatus Liberibacter africanus'   \n",
       "1     LIBEAF               'Candidatus Liberibacter africanus'   \n",
       "2     LIBEAF               'Candidatus Liberibacter africanus'   \n",
       "3     LIBEAF               'Candidatus Liberibacter africanus'   \n",
       "4     LIBEAM              'Candidatus Liberibacter americanus'   \n",
       "5     LIBEAS               'Candidatus Liberibacter asiaticus'   \n",
       "6     LIBEAS               'Candidatus Liberibacter asiaticus'   \n",
       "7     LIBEAS               'Candidatus Liberibacter asiaticus'   \n",
       "8     LIBEAS               'Candidatus Liberibacter asiaticus'   \n",
       "9     LIBEAS               'Candidatus Liberibacter asiaticus'   \n",
       "10    LIBEAS               'Candidatus Liberibacter asiaticus'   \n",
       "11    LIBEAS               'Candidatus Liberibacter asiaticus'   \n",
       "12    LIBEAS               'Candidatus Liberibacter asiaticus'   \n",
       "13    LIBEAS               'Candidatus Liberibacter asiaticus'   \n",
       "14    LIBEAS               'Candidatus Liberibacter asiaticus'   \n",
       "15    LIBEAS               'Candidatus Liberibacter asiaticus'   \n",
       "16    LIBEAS               'Candidatus Liberibacter asiaticus'   \n",
       "17    LIBEAS               'Candidatus Liberibacter asiaticus'   \n",
       "18    LIBEAS               'Candidatus Liberibacter asiaticus'   \n",
       "19    CORBFL  Curtobacterium flaccumfaciens pv. flaccumfaciens   \n",
       "20    CORBFL  Curtobacterium flaccumfaciens pv. flaccumfaciens   \n",
       "21    CORBFL  Curtobacterium flaccumfaciens pv. flaccumfaciens   \n",
       "22    CORBFL  Curtobacterium flaccumfaciens pv. flaccumfaciens   \n",
       "23    CORBFL  Curtobacterium flaccumfaciens pv. flaccumfaciens   \n",
       "24    CORBFL  Curtobacterium flaccumfaciens pv. flaccumfaciens   \n",
       "\n",
       "                                           synonym ds_language  \n",
       "0                               greening of citrus          en  \n",
       "1                             greening des agrumes          fr  \n",
       "2                           virescence des agrumes          fr  \n",
       "3                  enverdecimiento de los cítricos          es  \n",
       "4                        Brazilian citrus greening          en  \n",
       "5                 blotchy mottle disease of citrus          en  \n",
       "6                                   citrus dieback          en  \n",
       "7                                decline of citrus          en  \n",
       "8                               greening of citrus          en  \n",
       "9                                    huanglongbing          en  \n",
       "10                         leaf mottling of citrus          en  \n",
       "11                                         likubin          en  \n",
       "12  vein phloem degeneration of citrus deactivated          en  \n",
       "13                         yellow branch of citrus          en  \n",
       "14                            yellow shoot disease          en  \n",
       "15                          yellow shoot of citrus          en  \n",
       "16                            greening des agrumes          fr  \n",
       "17                 enverdecimiento de los cítricos          es  \n",
       "18                                             黃龍病          zh  \n",
       "19                      bacterial tan spot of bean          en  \n",
       "20                   bacterial tan spot of soybean          en  \n",
       "21                          bacterial wilt of bean          en  \n",
       "22                   bacterial wilt of common bean          en  \n",
       "23                     bacterial wilt of dry beans          en  \n",
       "24                           vascular wilt of bean          en  "
      ]
     },
     "execution_count": 182,
     "metadata": {},
     "output_type": "execute_result"
    }
   ],
   "source": [
    "list(prep_dbs.items())[0][1]"
   ]
  },
  {
   "cell_type": "code",
   "execution_count": null,
   "metadata": {},
   "outputs": [],
   "source": [
    "conc_list = list(prep_dbs.values())\n",
    "conc_list[-1] = conc_list[-1].head()"
   ]
  },
  {
   "cell_type": "code",
   "execution_count": null,
   "metadata": {},
   "outputs": [
    {
     "data": {
      "text/plain": [
       "43"
      ]
     },
     "execution_count": 184,
     "metadata": {},
     "output_type": "execute_result"
    }
   ],
   "source": [
    "concat_df = pd.concat(\n",
    "    conc_list,\n",
    "    ignore_index=True)\n",
    "concat_df.to_csv('concatenated_glossary.csv')\n",
    "len(concat_df)"
   ]
  },
  {
   "cell_type": "code",
   "execution_count": null,
   "metadata": {},
   "outputs": [
    {
     "data": {
      "text/html": [
       "<div>\n",
       "<style scoped>\n",
       "    .dataframe tbody tr th:only-of-type {\n",
       "        vertical-align: middle;\n",
       "    }\n",
       "\n",
       "    .dataframe tbody tr th {\n",
       "        vertical-align: top;\n",
       "    }\n",
       "\n",
       "    .dataframe thead th {\n",
       "        text-align: right;\n",
       "    }\n",
       "</style>\n",
       "<table border=\"1\" class=\"dataframe\">\n",
       "  <thead>\n",
       "    <tr style=\"text-align: right;\">\n",
       "      <th></th>\n",
       "      <th>EPPO_CODE</th>\n",
       "      <th>preferred_name</th>\n",
       "      <th>synonym</th>\n",
       "      <th>ds_language</th>\n",
       "      <th>EFSA_PHT</th>\n",
       "      <th>re</th>\n",
       "      <th>match_language</th>\n",
       "      <th>NCBI_TAXID</th>\n",
       "    </tr>\n",
       "  </thead>\n",
       "  <tbody>\n",
       "    <tr>\n",
       "      <th>0</th>\n",
       "      <td>LIBEAF</td>\n",
       "      <td>'Candidatus Liberibacter africanus'</td>\n",
       "      <td>greening of citrus</td>\n",
       "      <td>en</td>\n",
       "      <td>NaN</td>\n",
       "      <td>NaN</td>\n",
       "      <td>NaN</td>\n",
       "      <td>NaN</td>\n",
       "    </tr>\n",
       "    <tr>\n",
       "      <th>1</th>\n",
       "      <td>LIBEAF</td>\n",
       "      <td>'Candidatus Liberibacter africanus'</td>\n",
       "      <td>greening des agrumes</td>\n",
       "      <td>fr</td>\n",
       "      <td>NaN</td>\n",
       "      <td>NaN</td>\n",
       "      <td>NaN</td>\n",
       "      <td>NaN</td>\n",
       "    </tr>\n",
       "    <tr>\n",
       "      <th>2</th>\n",
       "      <td>LIBEAF</td>\n",
       "      <td>'Candidatus Liberibacter africanus'</td>\n",
       "      <td>virescence des agrumes</td>\n",
       "      <td>fr</td>\n",
       "      <td>NaN</td>\n",
       "      <td>NaN</td>\n",
       "      <td>NaN</td>\n",
       "      <td>NaN</td>\n",
       "    </tr>\n",
       "    <tr>\n",
       "      <th>3</th>\n",
       "      <td>LIBEAF</td>\n",
       "      <td>'Candidatus Liberibacter africanus'</td>\n",
       "      <td>enverdecimiento de los cítricos</td>\n",
       "      <td>es</td>\n",
       "      <td>NaN</td>\n",
       "      <td>NaN</td>\n",
       "      <td>NaN</td>\n",
       "      <td>NaN</td>\n",
       "    </tr>\n",
       "    <tr>\n",
       "      <th>4</th>\n",
       "      <td>LIBEAM</td>\n",
       "      <td>'Candidatus Liberibacter americanus'</td>\n",
       "      <td>Brazilian citrus greening</td>\n",
       "      <td>en</td>\n",
       "      <td>NaN</td>\n",
       "      <td>NaN</td>\n",
       "      <td>NaN</td>\n",
       "      <td>NaN</td>\n",
       "    </tr>\n",
       "  </tbody>\n",
       "</table>\n",
       "</div>"
      ],
      "text/plain": [
       "  EPPO_CODE                        preferred_name  \\\n",
       "0    LIBEAF   'Candidatus Liberibacter africanus'   \n",
       "1    LIBEAF   'Candidatus Liberibacter africanus'   \n",
       "2    LIBEAF   'Candidatus Liberibacter africanus'   \n",
       "3    LIBEAF   'Candidatus Liberibacter africanus'   \n",
       "4    LIBEAM  'Candidatus Liberibacter americanus'   \n",
       "\n",
       "                           synonym ds_language EFSA_PHT   re  match_language  \\\n",
       "0               greening of citrus          en      NaN  NaN             NaN   \n",
       "1             greening des agrumes          fr      NaN  NaN             NaN   \n",
       "2           virescence des agrumes          fr      NaN  NaN             NaN   \n",
       "3  enverdecimiento de los cítricos          es      NaN  NaN             NaN   \n",
       "4        Brazilian citrus greening          en      NaN  NaN             NaN   \n",
       "\n",
       "  NCBI_TAXID  \n",
       "0        NaN  \n",
       "1        NaN  \n",
       "2        NaN  \n",
       "3        NaN  \n",
       "4        NaN  "
      ]
     },
     "execution_count": 185,
     "metadata": {},
     "output_type": "execute_result"
    }
   ],
   "source": [
    "concat_df.head()"
   ]
  },
  {
   "cell_type": "markdown",
   "metadata": {},
   "source": [
    "#### Create empty DF with col names"
   ]
  },
  {
   "cell_type": "code",
   "execution_count": null,
   "metadata": {},
   "outputs": [
    {
     "data": {
      "text/html": [
       "<div>\n",
       "<style scoped>\n",
       "    .dataframe tbody tr th:only-of-type {\n",
       "        vertical-align: middle;\n",
       "    }\n",
       "\n",
       "    .dataframe tbody tr th {\n",
       "        vertical-align: top;\n",
       "    }\n",
       "\n",
       "    .dataframe thead th {\n",
       "        text-align: right;\n",
       "    }\n",
       "</style>\n",
       "<table border=\"1\" class=\"dataframe\">\n",
       "  <thead>\n",
       "    <tr style=\"text-align: right;\">\n",
       "      <th></th>\n",
       "      <th>EPPO_CODE</th>\n",
       "      <th>EFSA_PHT</th>\n",
       "      <th>NCBI_TAXID</th>\n",
       "      <th>preferred_name</th>\n",
       "      <th>synonym</th>\n",
       "      <th>re</th>\n",
       "      <th>ds_language</th>\n",
       "      <th>match_language</th>\n",
       "    </tr>\n",
       "  </thead>\n",
       "  <tbody>\n",
       "  </tbody>\n",
       "</table>\n",
       "</div>"
      ],
      "text/plain": [
       "Empty DataFrame\n",
       "Columns: [EPPO_CODE, EFSA_PHT, NCBI_TAXID, preferred_name, synonym, re, ds_language, match_language]\n",
       "Index: []"
      ]
     },
     "metadata": {},
     "output_type": "display_data"
    }
   ],
   "source": [
    "structured_db = pd.DataFrame(columns=anno_gloss_column_names)\n",
    "display(structured_db)"
   ]
  },
  {
   "cell_type": "markdown",
   "metadata": {},
   "source": [
    "df1 = pd.DataFrame([[3,4],[5,6]], columns=['a','b'])\n",
    "df2 = pd.DataFrame([[5,6],[5,6]], columns=['a','c'])\n",
    "display(df1)\n",
    "pd.concat([df1,df2], ignore_index=True)"
   ]
  },
  {
   "cell_type": "markdown",
   "metadata": {},
   "source": [
    "#### Add EPPO info to final DB"
   ]
  },
  {
   "cell_type": "code",
   "execution_count": null,
   "metadata": {},
   "outputs": [],
   "source": [
    "db_names = list(str(x) for x in prep_dbs.keys()) # names of EPPO databases"
   ]
  },
  {
   "cell_type": "code",
   "execution_count": null,
   "metadata": {},
   "outputs": [
    {
     "data": {
      "text/html": [
       "<div>\n",
       "<style scoped>\n",
       "    .dataframe tbody tr th:only-of-type {\n",
       "        vertical-align: middle;\n",
       "    }\n",
       "\n",
       "    .dataframe tbody tr th {\n",
       "        vertical-align: top;\n",
       "    }\n",
       "\n",
       "    .dataframe thead th {\n",
       "        text-align: right;\n",
       "    }\n",
       "</style>\n",
       "<table border=\"1\" class=\"dataframe\">\n",
       "  <thead>\n",
       "    <tr style=\"text-align: right;\">\n",
       "      <th></th>\n",
       "      <th>EPPO_CODE</th>\n",
       "      <th>preferred_name</th>\n",
       "      <th>synonym</th>\n",
       "      <th>ds_language</th>\n",
       "    </tr>\n",
       "  </thead>\n",
       "  <tbody>\n",
       "    <tr>\n",
       "      <th>0</th>\n",
       "      <td>LIBEAF</td>\n",
       "      <td>'Candidatus Liberibacter africanus'</td>\n",
       "      <td>greening of citrus</td>\n",
       "      <td>en</td>\n",
       "    </tr>\n",
       "    <tr>\n",
       "      <th>1</th>\n",
       "      <td>LIBEAF</td>\n",
       "      <td>'Candidatus Liberibacter africanus'</td>\n",
       "      <td>greening des agrumes</td>\n",
       "      <td>fr</td>\n",
       "    </tr>\n",
       "    <tr>\n",
       "      <th>2</th>\n",
       "      <td>LIBEAF</td>\n",
       "      <td>'Candidatus Liberibacter africanus'</td>\n",
       "      <td>virescence des agrumes</td>\n",
       "      <td>fr</td>\n",
       "    </tr>\n",
       "    <tr>\n",
       "      <th>3</th>\n",
       "      <td>LIBEAF</td>\n",
       "      <td>'Candidatus Liberibacter africanus'</td>\n",
       "      <td>enverdecimiento de los cítricos</td>\n",
       "      <td>es</td>\n",
       "    </tr>\n",
       "    <tr>\n",
       "      <th>4</th>\n",
       "      <td>LIBEAM</td>\n",
       "      <td>'Candidatus Liberibacter americanus'</td>\n",
       "      <td>Brazilian citrus greening</td>\n",
       "      <td>en</td>\n",
       "    </tr>\n",
       "  </tbody>\n",
       "</table>\n",
       "</div>"
      ],
      "text/plain": [
       "  EPPO_CODE                        preferred_name  \\\n",
       "0    LIBEAF   'Candidatus Liberibacter africanus'   \n",
       "1    LIBEAF   'Candidatus Liberibacter africanus'   \n",
       "2    LIBEAF   'Candidatus Liberibacter africanus'   \n",
       "3    LIBEAF   'Candidatus Liberibacter africanus'   \n",
       "4    LIBEAM  'Candidatus Liberibacter americanus'   \n",
       "\n",
       "                           synonym ds_language  \n",
       "0               greening of citrus          en  \n",
       "1             greening des agrumes          fr  \n",
       "2           virescence des agrumes          fr  \n",
       "3  enverdecimiento de los cítricos          es  \n",
       "4        Brazilian citrus greening          en  "
      ]
     },
     "metadata": {},
     "output_type": "display_data"
    }
   ],
   "source": [
    "# copy into a new db to which eppo information will be added \n",
    "ncbi_eppo_db = structured_db.copy()\n",
    "prep_ncbi_db = prep_dbs['ncbi']\n",
    "\n",
    "## open both eppo (sci and com) dbs and concatenate them\n",
    "prep_eppo_dbs = [prep_dbs[db_name] for db_name in db_names if 'eppo' in db_name]\n",
    "prep_eppo_db = pd.concat(prep_eppo_dbs, ignore_index=True)\n",
    "display(prep_eppo_db.head())"
   ]
  },
  {
   "cell_type": "code",
   "execution_count": null,
   "metadata": {},
   "outputs": [
    {
     "name": "stderr",
     "output_type": "stream",
     "text": [
      "  0%|          | 0/38 [00:00<?, ?it/s]\r 37%|███▋      | 14/38 [00:00<00:00, 137.24it/s]\r100%|██████████| 38/38 [00:00<00:00, 192.26it/s]\n"
     ]
    }
   ],
   "source": [
    "## loop over syns in EPPO db\n",
    "for prep_eppo_db_i in tqdm(range(len(prep_eppo_db))):\n",
    "    syn = str(prep_eppo_db['synonym'][prep_eppo_db_i]) \n",
    "    lang = prep_eppo_db['ds_language'][prep_eppo_db_i]\n",
    "    key = prep_eppo_db['EPPO_CODE'][prep_eppo_db_i]\n",
    "    sci_name = prep_eppo_db['preferred_name'][prep_eppo_db_i]\n",
    "    \n",
    "    prep_ncbi_syn_rows = prep_ncbi_db[prep_ncbi_db['synonym']==syn]\n",
    "    prep_ncbi_sci_rows = prep_ncbi_db[(prep_ncbi_db['preferred_name']==sci_name) | (prep_ncbi_db['preferred_name']==sci_name) | (prep_ncbi_db['preferred_name']==\"'\"+sci_name+\"'\")]\n",
    "    \n",
    "    # rows in NCBI that have a matching synonym or scientific name\n",
    "    prep_ncbi_matching_rows = pd.concat([prep_ncbi_syn_rows, prep_ncbi_sci_rows], ignore_index=True)\n",
    "    \n",
    "    taxid_col = (prep_ncbi_matching_rows['NCBI_TAXID'])\n",
    "    sci_name_col = prep_ncbi_matching_rows['preferred_name']\n",
    "    \n",
    "    if len(prep_ncbi_matching_rows) != 0:\n",
    "        taxid = taxid_col[0]\n",
    "        sci_name = sci_name_col[0]\n",
    "    else:\n",
    "        taxid = ''\n",
    "        sci_name = prep_eppo_db['preferred_name'][prep_eppo_db_i]\n",
    "    \n",
    "    new_eppo_row = pd.DataFrame([[taxid, sci_name, syn, lang, key]], columns=['NCBI_TAXID', 'preferred_name', 'synonym', 'ds_language', 'EPPO_CODE'])\n",
    "    \n",
    "    ncbi_eppo_db = pd.concat([ncbi_eppo_db, new_eppo_row], ignore_index=True)"
   ]
  },
  {
   "cell_type": "markdown",
   "metadata": {},
   "source": [
    "ncbi_eppo_db.to_csv('output.csv')"
   ]
  },
  {
   "cell_type": "markdown",
   "metadata": {},
   "source": [
    "for i in range(10):\n",
    "    print('i is:'+str(i))\n",
    "    for j in range(10):\n",
    "        print(j)\n",
    "        if j%5 == 0 and j>0:\n",
    "            print(\"break\")\n",
    "            break"
   ]
  },
  {
   "cell_type": "markdown",
   "metadata": {},
   "source": [
    "#### Add EFSA info to final DB"
   ]
  },
  {
   "cell_type": "code",
   "execution_count": null,
   "metadata": {},
   "outputs": [
    {
     "data": {
      "text/html": [
       "<div>\n",
       "<style scoped>\n",
       "    .dataframe tbody tr th:only-of-type {\n",
       "        vertical-align: middle;\n",
       "    }\n",
       "\n",
       "    .dataframe tbody tr th {\n",
       "        vertical-align: top;\n",
       "    }\n",
       "\n",
       "    .dataframe thead th {\n",
       "        text-align: right;\n",
       "    }\n",
       "</style>\n",
       "<table border=\"1\" class=\"dataframe\">\n",
       "  <thead>\n",
       "    <tr style=\"text-align: right;\">\n",
       "      <th></th>\n",
       "      <th>EFSA_PHT</th>\n",
       "      <th>preferred_name</th>\n",
       "      <th>re</th>\n",
       "      <th>match_language</th>\n",
       "    </tr>\n",
       "  </thead>\n",
       "  <tbody>\n",
       "    <tr>\n",
       "      <th>0</th>\n",
       "      <td>AcaloleptaSejuncta-PHT</td>\n",
       "      <td>acalolepta sejuncta</td>\n",
       "      <td>acalolepta sejuncta</td>\n",
       "      <td>NaN</td>\n",
       "    </tr>\n",
       "    <tr>\n",
       "      <th>1</th>\n",
       "      <td>AcalymmaVittatum-PHT</td>\n",
       "      <td>acalymma vittatum</td>\n",
       "      <td>acalymma vittata</td>\n",
       "      <td>NaN</td>\n",
       "    </tr>\n",
       "    <tr>\n",
       "      <th>2</th>\n",
       "      <td>TESTTTTTT_PHT</td>\n",
       "      <td>t e s t t t t t t</td>\n",
       "      <td>cand</td>\n",
       "      <td>NaN</td>\n",
       "    </tr>\n",
       "    <tr>\n",
       "      <th>3</th>\n",
       "      <td>TESTTTTTTGREEN_PHT</td>\n",
       "      <td>t e s t t t t t t g r e e n</td>\n",
       "      <td>green</td>\n",
       "      <td>NaN</td>\n",
       "    </tr>\n",
       "  </tbody>\n",
       "</table>\n",
       "</div>"
      ],
      "text/plain": [
       "                 EFSA_PHT               preferred_name                   re  \\\n",
       "0  AcaloleptaSejuncta-PHT          acalolepta sejuncta  acalolepta sejuncta   \n",
       "1    AcalymmaVittatum-PHT            acalymma vittatum     acalymma vittata   \n",
       "2           TESTTTTTT_PHT            t e s t t t t t t                 cand   \n",
       "3      TESTTTTTTGREEN_PHT  t e s t t t t t t g r e e n                green   \n",
       "\n",
       "   match_language  \n",
       "0             NaN  \n",
       "1             NaN  \n",
       "2             NaN  \n",
       "3             NaN  "
      ]
     },
     "metadata": {},
     "output_type": "display_data"
    },
    {
     "data": {
      "text/plain": [
       "4"
      ]
     },
     "execution_count": 191,
     "metadata": {},
     "output_type": "execute_result"
    }
   ],
   "source": [
    "# copy into a new db to which eppo information will be added \n",
    "final_db = ncbi_eppo_db.copy()\n",
    "\n",
    "## open both eppo (sci and com) dbs and concatenate them\n",
    "prep_efsa_dbs = [prep_dbs[db_name] for db_name in db_names if 'efsa' in db_name]\n",
    "prep_efsa_db = pd.concat(prep_efsa_dbs, ignore_index=True)\n",
    "display(prep_efsa_db.head())\n",
    "len(prep_efsa_db)"
   ]
  },
  {
   "cell_type": "code",
   "execution_count": null,
   "metadata": {},
   "outputs": [
    {
     "name": "stderr",
     "output_type": "stream",
     "text": [
      "  0%|          | 0/4 [00:00<?, ?it/s]\r100%|██████████| 4/4 [00:00<00:00, 234.66it/s]\n"
     ]
    },
    {
     "data": {
      "text/html": [
       "<div>\n",
       "<style scoped>\n",
       "    .dataframe tbody tr th:only-of-type {\n",
       "        vertical-align: middle;\n",
       "    }\n",
       "\n",
       "    .dataframe tbody tr th {\n",
       "        vertical-align: top;\n",
       "    }\n",
       "\n",
       "    .dataframe thead th {\n",
       "        text-align: right;\n",
       "    }\n",
       "</style>\n",
       "<table border=\"1\" class=\"dataframe\">\n",
       "  <thead>\n",
       "    <tr style=\"text-align: right;\">\n",
       "      <th></th>\n",
       "      <th>EPPO_CODE</th>\n",
       "      <th>EFSA_PHT</th>\n",
       "      <th>NCBI_TAXID</th>\n",
       "      <th>preferred_name</th>\n",
       "      <th>synonym</th>\n",
       "      <th>re</th>\n",
       "      <th>ds_language</th>\n",
       "      <th>match_language</th>\n",
       "      <th>syn</th>\n",
       "    </tr>\n",
       "  </thead>\n",
       "  <tbody>\n",
       "    <tr>\n",
       "      <th>0</th>\n",
       "      <td>LIBEAF</td>\n",
       "      <td>TESTTTTTTGREEN_PHT</td>\n",
       "      <td>TEEEEEEEST TAXID</td>\n",
       "      <td>'Candidatus Liberibacter africanus'</td>\n",
       "      <td>greening of citrus</td>\n",
       "      <td>green</td>\n",
       "      <td>en</td>\n",
       "      <td>NaN</td>\n",
       "      <td>NaN</td>\n",
       "    </tr>\n",
       "    <tr>\n",
       "      <th>1</th>\n",
       "      <td>LIBEAF</td>\n",
       "      <td>TESTTTTTTGREEN_PHT</td>\n",
       "      <td>TEEEEEEEST TAXID</td>\n",
       "      <td>'Candidatus Liberibacter africanus'</td>\n",
       "      <td>greening des agrumes</td>\n",
       "      <td>green</td>\n",
       "      <td>fr</td>\n",
       "      <td>NaN</td>\n",
       "      <td>NaN</td>\n",
       "    </tr>\n",
       "    <tr>\n",
       "      <th>2</th>\n",
       "      <td>LIBEAF</td>\n",
       "      <td>NaN</td>\n",
       "      <td>TEEEEEEEST TAXID</td>\n",
       "      <td>'Candidatus Liberibacter africanus'</td>\n",
       "      <td>virescence des agrumes</td>\n",
       "      <td>NaN</td>\n",
       "      <td>fr</td>\n",
       "      <td>NaN</td>\n",
       "      <td>NaN</td>\n",
       "    </tr>\n",
       "    <tr>\n",
       "      <th>3</th>\n",
       "      <td>LIBEAF</td>\n",
       "      <td>NaN</td>\n",
       "      <td>TEEEEEEEST TAXID</td>\n",
       "      <td>'Candidatus Liberibacter africanus'</td>\n",
       "      <td>enverdecimiento de los cítricos</td>\n",
       "      <td>NaN</td>\n",
       "      <td>es</td>\n",
       "      <td>NaN</td>\n",
       "      <td>NaN</td>\n",
       "    </tr>\n",
       "    <tr>\n",
       "      <th>4</th>\n",
       "      <td>LIBEAM</td>\n",
       "      <td>NaN</td>\n",
       "      <td></td>\n",
       "      <td>'Candidatus Liberibacter americanus'</td>\n",
       "      <td>Brazilian citrus greening</td>\n",
       "      <td>NaN</td>\n",
       "      <td>en</td>\n",
       "      <td>NaN</td>\n",
       "      <td>NaN</td>\n",
       "    </tr>\n",
       "  </tbody>\n",
       "</table>\n",
       "</div>"
      ],
      "text/plain": [
       "  EPPO_CODE            EFSA_PHT        NCBI_TAXID  \\\n",
       "0    LIBEAF  TESTTTTTTGREEN_PHT  TEEEEEEEST TAXID   \n",
       "1    LIBEAF  TESTTTTTTGREEN_PHT  TEEEEEEEST TAXID   \n",
       "2    LIBEAF                 NaN  TEEEEEEEST TAXID   \n",
       "3    LIBEAF                 NaN  TEEEEEEEST TAXID   \n",
       "4    LIBEAM                 NaN                     \n",
       "\n",
       "                         preferred_name                          synonym  \\\n",
       "0   'Candidatus Liberibacter africanus'               greening of citrus   \n",
       "1   'Candidatus Liberibacter africanus'             greening des agrumes   \n",
       "2   'Candidatus Liberibacter africanus'           virescence des agrumes   \n",
       "3   'Candidatus Liberibacter africanus'  enverdecimiento de los cítricos   \n",
       "4  'Candidatus Liberibacter americanus'        Brazilian citrus greening   \n",
       "\n",
       "      re ds_language match_language  syn  \n",
       "0  green          en            NaN  NaN  \n",
       "1  green          fr            NaN  NaN  \n",
       "2    NaN          fr            NaN  NaN  \n",
       "3    NaN          es            NaN  NaN  \n",
       "4    NaN          en            NaN  NaN  "
      ]
     },
     "execution_count": 192,
     "metadata": {},
     "output_type": "execute_result"
    }
   ],
   "source": [
    "match_found = False\n",
    "## loop over res i n EFSA db\n",
    "for prep_efsa_db_i in tqdm(range(len(prep_efsa_db))):\n",
    "    for final_db_i in range(len(final_db)):\n",
    "        pattern = prep_efsa_db['re'][prep_efsa_db_i]\n",
    "        syn = final_db['synonym'][final_db_i]\n",
    "        \n",
    "        ## if re matches a syn, add: re, efsa key, language if None\n",
    "        if re.match(str(pattern), str(syn)):\n",
    "            final_db['re'][final_db_i] = prep_efsa_db['re'][prep_efsa_db_i]\n",
    "            final_db['EFSA_PHT'][final_db_i] = prep_efsa_db['EFSA_PHT'][prep_efsa_db_i]\n",
    "            final_db['match_language'][final_db_i] = prep_efsa_db['match_language'][prep_efsa_db_i]\n",
    "            match_found = True\n",
    "        \n",
    "    ## else, if no matches, add new line = re, syn, key, language\n",
    "    if not match_found:\n",
    "        pattern = prep_efsa_db['re'][prep_efsa_db_i]\n",
    "        #syn = prep_efsa_db['synonym'][prep_efsa_db_i]\n",
    "        key = prep_efsa_db['EFSA_PHT'][prep_efsa_db_i]\n",
    "        lang = prep_efsa_db['match_language'][prep_efsa_db_i]\n",
    "        \n",
    "        new_efsa_row = pd.DataFrame([[pattern, syn, lang, key]], columns=['re', 'syn', 'match_language', 'EFSA_PHT'])\n",
    "        \n",
    "        final_db = pd.concat([final_db, new_efsa_row], ignore_index=True)\n",
    "            \n",
    "final_db.head()"
   ]
  },
  {
   "cell_type": "code",
   "execution_count": null,
   "metadata": {},
   "outputs": [],
   "source": [
    "final_db.to_csv(LR_filepath)"
   ]
  }
 ],
 "metadata": {
  "kernelspec": {
   "display_name": "venv",
   "language": "python",
   "name": "python3"
  },
  "language_info": {
   "codemirror_mode": {
    "name": "ipython",
    "version": 3
   },
   "file_extension": ".py",
   "mimetype": "text/x-python",
   "name": "python",
   "nbconvert_exporter": "python",
   "pygments_lexer": "ipython3",
   "version": "3.10.6"
  },
  "orig_nbformat": 4,
  "vscode": {
   "interpreter": {
    "hash": "63f527d0a5d3fda1d4647c2bc079f23d6cbdfd3a23357b041dcef059260bde6f"
   }
  }
 },
 "nbformat": 4,
 "nbformat_minor": 2
}
