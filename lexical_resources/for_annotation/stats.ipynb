{
 "cells": [
  {
   "cell_type": "markdown",
   "metadata": {},
   "source": [
    "#### Imports"
   ]
  },
  {
   "cell_type": "code",
   "execution_count": 1,
   "metadata": {},
   "outputs": [
    {
     "name": "stderr",
     "output_type": "stream",
     "text": [
      "[nltk_data] Downloading package words to /home/elubrini/nltk_data...\n",
      "[nltk_data]   Package words is already up-to-date!\n"
     ]
    }
   ],
   "source": [
    "# interface\n",
    "from tqdm import tqdm\n",
    "from dsutils.de.files import dbg\n",
    "\n",
    "## Files and filesystem\n",
    "import os\n",
    "import json\n",
    "import csv\n",
    "import glob\n",
    "\n",
    "## Data management\n",
    "import numpy as np\n",
    "import pandas as pd\n",
    "\n",
    "## DS tools\n",
    "import re\n",
    "from types import NoneType\n",
    "from dsutils.de.files import describe_csv, get_csv_head, xls_to_csv, get_data_path, get_datafile_path\n",
    "from dsutils.nlp.language import get_lang_code"
   ]
  },
  {
   "cell_type": "markdown",
   "metadata": {},
   "source": [
    "#### Paths"
   ]
  },
  {
   "cell_type": "code",
   "execution_count": 2,
   "metadata": {},
   "outputs": [],
   "source": [
    "## input\n",
    "LR_filepath = '/home/elubrini/GitHub/bio-corpus-translation/data/annotation_glossary/annotation_LR.csv'\n",
    "\n",
    "## Output\n"
   ]
  },
  {
   "cell_type": "markdown",
   "metadata": {},
   "source": [
    "# Stats"
   ]
  },
  {
   "cell_type": "code",
   "execution_count": 3,
   "metadata": {},
   "outputs": [
    {
     "name": "stderr",
     "output_type": "stream",
     "text": [
      "/tmp/ipykernel_24324/1001951825.py:1: DtypeWarning: Columns (1,3,4,5) have mixed types. Specify dtype option on import or set low_memory=False.\n",
      "  df = pd.read_csv(LR_filepath).astype(str)\n"
     ]
    }
   ],
   "source": [
    "df = pd.read_csv(LR_filepath).astype(str)\n",
    "nan = df.EFSA_PHT[0]"
   ]
  },
  {
   "cell_type": "code",
   "execution_count": 4,
   "metadata": {},
   "outputs": [
    {
     "data": {
      "text/html": [
       "<div>\n",
       "<style scoped>\n",
       "    .dataframe tbody tr th:only-of-type {\n",
       "        vertical-align: middle;\n",
       "    }\n",
       "\n",
       "    .dataframe tbody tr th {\n",
       "        vertical-align: top;\n",
       "    }\n",
       "\n",
       "    .dataframe thead th {\n",
       "        text-align: right;\n",
       "    }\n",
       "</style>\n",
       "<table border=\"1\" class=\"dataframe\">\n",
       "  <thead>\n",
       "    <tr style=\"text-align: right;\">\n",
       "      <th></th>\n",
       "      <th>preferred_name</th>\n",
       "      <th>EPPO_CODE</th>\n",
       "      <th>synonym</th>\n",
       "      <th>ds_language</th>\n",
       "      <th>EFSA_PHT</th>\n",
       "      <th>re</th>\n",
       "      <th>NCBI_TAXID</th>\n",
       "    </tr>\n",
       "  </thead>\n",
       "  <tbody>\n",
       "    <tr>\n",
       "      <th>0</th>\n",
       "      <td>'Abelmoschus esculentus' bunchy top phytoplasma</td>\n",
       "      <td>nan</td>\n",
       "      <td>'Abelmoschus esculentus' bunchy top phytoplasma</td>\n",
       "      <td>nan</td>\n",
       "      <td>nan</td>\n",
       "      <td>nan</td>\n",
       "      <td>ncbi:926989</td>\n",
       "    </tr>\n",
       "    <tr>\n",
       "      <th>1</th>\n",
       "      <td>'Acacia arabica' phytoplasma</td>\n",
       "      <td>nan</td>\n",
       "      <td>'Acacia arabica' phytoplasma</td>\n",
       "      <td>nan</td>\n",
       "      <td>nan</td>\n",
       "      <td>nan</td>\n",
       "      <td>ncbi:2849181</td>\n",
       "    </tr>\n",
       "    <tr>\n",
       "      <th>2</th>\n",
       "      <td>'Acacia farnesiana' leaflet phytoplasma</td>\n",
       "      <td>nan</td>\n",
       "      <td>'Acacia farnesiana' leaflet phytoplasma</td>\n",
       "      <td>nan</td>\n",
       "      <td>nan</td>\n",
       "      <td>nan</td>\n",
       "      <td>ncbi:2654099</td>\n",
       "    </tr>\n",
       "    <tr>\n",
       "      <th>3</th>\n",
       "      <td>'Acacia mangium' little leaf and yellowing phy...</td>\n",
       "      <td>nan</td>\n",
       "      <td>'Acacia mangium' little leaf and yellowing phy...</td>\n",
       "      <td>nan</td>\n",
       "      <td>nan</td>\n",
       "      <td>nan</td>\n",
       "      <td>ncbi:2530013</td>\n",
       "    </tr>\n",
       "    <tr>\n",
       "      <th>4</th>\n",
       "      <td>'Acacia melanoxylon' phytoplasma</td>\n",
       "      <td>nan</td>\n",
       "      <td>'Acacia melanoxylon' phytoplasma</td>\n",
       "      <td>nan</td>\n",
       "      <td>nan</td>\n",
       "      <td>nan</td>\n",
       "      <td>ncbi:1477896</td>\n",
       "    </tr>\n",
       "  </tbody>\n",
       "</table>\n",
       "</div>"
      ],
      "text/plain": [
       "                                      preferred_name EPPO_CODE  \\\n",
       "0    'Abelmoschus esculentus' bunchy top phytoplasma       nan   \n",
       "1                       'Acacia arabica' phytoplasma       nan   \n",
       "2            'Acacia farnesiana' leaflet phytoplasma       nan   \n",
       "3  'Acacia mangium' little leaf and yellowing phy...       nan   \n",
       "4                   'Acacia melanoxylon' phytoplasma       nan   \n",
       "\n",
       "                                             synonym ds_language EFSA_PHT  \\\n",
       "0    'Abelmoschus esculentus' bunchy top phytoplasma         nan      nan   \n",
       "1                       'Acacia arabica' phytoplasma         nan      nan   \n",
       "2            'Acacia farnesiana' leaflet phytoplasma         nan      nan   \n",
       "3  'Acacia mangium' little leaf and yellowing phy...         nan      nan   \n",
       "4                   'Acacia melanoxylon' phytoplasma         nan      nan   \n",
       "\n",
       "    re    NCBI_TAXID  \n",
       "0  nan   ncbi:926989  \n",
       "1  nan  ncbi:2849181  \n",
       "2  nan  ncbi:2654099  \n",
       "3  nan  ncbi:2530013  \n",
       "4  nan  ncbi:1477896  "
      ]
     },
     "execution_count": 4,
     "metadata": {},
     "output_type": "execute_result"
    }
   ],
   "source": [
    "df.head()"
   ]
  },
  {
   "cell_type": "code",
   "execution_count": 5,
   "metadata": {},
   "outputs": [
    {
     "data": {
      "text/plain": [
       "False"
      ]
     },
     "execution_count": 5,
     "metadata": {},
     "output_type": "execute_result"
    }
   ],
   "source": [
    "np.NaN == np.NaN\n"
   ]
  },
  {
   "cell_type": "code",
   "execution_count": 9,
   "metadata": {},
   "outputs": [
    {
     "name": "stdout",
     "output_type": "stream",
     "text": [
      "\u001b[35m\u001b[32mEFSA: \u001b[0m1168\n",
      "\u001b[35m\u001b[32mEPPO: \u001b[0m239\n",
      "\u001b[35m\u001b[32mEPPO_NCBI: \u001b[0m1208\n"
     ]
    }
   ],
   "source": [
    "EFSA = len(set(df[df.EFSA_PHT != nan].EFSA_PHT))\n",
    "EPPO = len((df[df.EPPO_CODE != nan].EFSA_PHT))\n",
    "EPPO_NCBI = len((df[(df.NCBI_TAXID == nan) & (df.EPPO_CODE != nan)]))\n",
    "\n",
    "dbg(EFSA)\n",
    "dbg(EPPO)\n",
    "dbg(EPPO_NCBI)"
   ]
  },
  {
   "cell_type": "code",
   "execution_count": 11,
   "metadata": {},
   "outputs": [
    {
     "data": {
      "text/html": [
       "<div>\n",
       "<style scoped>\n",
       "    .dataframe tbody tr th:only-of-type {\n",
       "        vertical-align: middle;\n",
       "    }\n",
       "\n",
       "    .dataframe tbody tr th {\n",
       "        vertical-align: top;\n",
       "    }\n",
       "\n",
       "    .dataframe thead th {\n",
       "        text-align: right;\n",
       "    }\n",
       "</style>\n",
       "<table border=\"1\" class=\"dataframe\">\n",
       "  <thead>\n",
       "    <tr style=\"text-align: right;\">\n",
       "      <th></th>\n",
       "      <th>preferred_name</th>\n",
       "      <th>EPPO_CODE</th>\n",
       "      <th>synonym</th>\n",
       "      <th>ds_language</th>\n",
       "      <th>EFSA_PHT</th>\n",
       "      <th>re</th>\n",
       "      <th>NCBI_TAXID</th>\n",
       "    </tr>\n",
       "  </thead>\n",
       "  <tbody>\n",
       "    <tr>\n",
       "      <th>124</th>\n",
       "      <td>'Borassus aethiopum' palm lethal yellowing phy...</td>\n",
       "      <td>nan</td>\n",
       "      <td>'Borassus aethiopum' palm lethal yellowing phy...</td>\n",
       "      <td>nan</td>\n",
       "      <td>PalmLethalYellowingMycoplasm-PHT</td>\n",
       "      <td>palm lethal yellowing phytoplasma</td>\n",
       "      <td>ncbi:1705292</td>\n",
       "    </tr>\n",
       "    <tr>\n",
       "      <th>64409</th>\n",
       "      <td>Aleurocanthus camelliae</td>\n",
       "      <td>nan</td>\n",
       "      <td>camellia spiny whitefly</td>\n",
       "      <td>nan</td>\n",
       "      <td>Aleurocanthus-PHT</td>\n",
       "      <td>spiny whitefl\\w*</td>\n",
       "      <td>ncbi:1000661</td>\n",
       "    </tr>\n",
       "    <tr>\n",
       "      <th>64417</th>\n",
       "      <td>Aleurocanthus spiniferus</td>\n",
       "      <td>ALECSN</td>\n",
       "      <td>citrus spiny whitefly</td>\n",
       "      <td>ja</td>\n",
       "      <td>Aleurocanthus-PHT</td>\n",
       "      <td>spiny whitefl\\w*</td>\n",
       "      <td>ncbi:593793</td>\n",
       "    </tr>\n",
       "    <tr>\n",
       "      <th>65946</th>\n",
       "      <td>Algerian watermelon mosaic virus</td>\n",
       "      <td>nan</td>\n",
       "      <td>Algerian watermelon mosaic virus</td>\n",
       "      <td>nan</td>\n",
       "      <td>WatermelonMosaicVirus-PHT</td>\n",
       "      <td>watermelon mosaic virus</td>\n",
       "      <td>ncbi:515575</td>\n",
       "    </tr>\n",
       "    <tr>\n",
       "      <th>85805</th>\n",
       "      <td>American plum line pattern virus</td>\n",
       "      <td>APLPV0</td>\n",
       "      <td>American plum line pattern virus</td>\n",
       "      <td>pt</td>\n",
       "      <td>AmericanPlumLinePatternVirus-PHT</td>\n",
       "      <td>plum line pattern virus</td>\n",
       "      <td>ncbi:134632</td>\n",
       "    </tr>\n",
       "  </tbody>\n",
       "</table>\n",
       "</div>"
      ],
      "text/plain": [
       "                                          preferred_name EPPO_CODE  \\\n",
       "124    'Borassus aethiopum' palm lethal yellowing phy...       nan   \n",
       "64409                            Aleurocanthus camelliae       nan   \n",
       "64417                           Aleurocanthus spiniferus    ALECSN   \n",
       "65946                   Algerian watermelon mosaic virus       nan   \n",
       "85805                   American plum line pattern virus    APLPV0   \n",
       "\n",
       "                                                 synonym ds_language  \\\n",
       "124    'Borassus aethiopum' palm lethal yellowing phy...         nan   \n",
       "64409                            camellia spiny whitefly         nan   \n",
       "64417                              citrus spiny whitefly          ja   \n",
       "65946                   Algerian watermelon mosaic virus         nan   \n",
       "85805                   American plum line pattern virus          pt   \n",
       "\n",
       "                               EFSA_PHT                                 re  \\\n",
       "124    PalmLethalYellowingMycoplasm-PHT  palm lethal yellowing phytoplasma   \n",
       "64409                 Aleurocanthus-PHT                   spiny whitefl\\w*   \n",
       "64417                 Aleurocanthus-PHT                   spiny whitefl\\w*   \n",
       "65946         WatermelonMosaicVirus-PHT            watermelon mosaic virus   \n",
       "85805  AmericanPlumLinePatternVirus-PHT            plum line pattern virus   \n",
       "\n",
       "         NCBI_TAXID  \n",
       "124    ncbi:1705292  \n",
       "64409  ncbi:1000661  \n",
       "64417   ncbi:593793  \n",
       "65946   ncbi:515575  \n",
       "85805   ncbi:134632  "
      ]
     },
     "execution_count": 11,
     "metadata": {},
     "output_type": "execute_result"
    }
   ],
   "source": [
    "df[(df.NCBI_TAXID == nan)].head()\n",
    "df[(df.EFSA_PHT != nan)].head()"
   ]
  }
 ],
 "metadata": {
  "kernelspec": {
   "display_name": "Python 3",
   "language": "python",
   "name": "python3"
  },
  "language_info": {
   "codemirror_mode": {
    "name": "ipython",
    "version": 3
   },
   "file_extension": ".py",
   "mimetype": "text/x-python",
   "name": "python",
   "nbconvert_exporter": "python",
   "pygments_lexer": "ipython3",
   "version": "3.10.6"
  },
  "orig_nbformat": 4,
  "vscode": {
   "interpreter": {
    "hash": "65aabaf4492298ab6b95d3ba4006024321b8a1f76c38ae427ef0154a3a71d8f8"
   }
  }
 },
 "nbformat": 4,
 "nbformat_minor": 2
}
