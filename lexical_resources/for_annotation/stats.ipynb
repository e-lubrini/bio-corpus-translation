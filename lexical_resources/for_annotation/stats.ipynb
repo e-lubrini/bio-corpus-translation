{
 "cells": [
  {
   "cell_type": "markdown",
   "metadata": {},
   "source": [
    "#### Imports"
   ]
  },
  {
   "cell_type": "code",
   "execution_count": 1,
   "metadata": {},
   "outputs": [
    {
     "name": "stderr",
     "output_type": "stream",
     "text": [
      "[nltk_data] Downloading package words to /home/elubrini/nltk_data...\n",
      "[nltk_data]   Package words is already up-to-date!\n"
     ]
    }
   ],
   "source": [
    "# interface\n",
    "from tqdm import tqdm\n",
    "from dsutils.de.files import dbg\n",
    "\n",
    "## Files and filesystem\n",
    "import os\n",
    "import json\n",
    "import csv\n",
    "import glob\n",
    "\n",
    "## Data management\n",
    "import numpy as np\n",
    "import pandas as pd\n",
    "\n",
    "## DS tools\n",
    "import re\n",
    "from types import NoneType\n",
    "from dsutils.de.files import describe_csv, get_csv_head, xls_to_csv, get_data_path, get_datafile_path\n",
    "from dsutils.nlp.language import get_lang_code"
   ]
  },
  {
   "cell_type": "markdown",
   "metadata": {},
   "source": [
    "#### Paths"
   ]
  },
  {
   "cell_type": "code",
   "execution_count": 2,
   "metadata": {},
   "outputs": [],
   "source": [
    "## input\n",
    "LR_filepath = '/home/elubrini/GitHub/bio-corpus-translation/lexical_resources/for_annotation/LR.csv'\n",
    "\n",
    "## Output\n"
   ]
  },
  {
   "cell_type": "markdown",
   "metadata": {},
   "source": [
    "# Stats"
   ]
  },
  {
   "cell_type": "code",
   "execution_count": 3,
   "metadata": {},
   "outputs": [],
   "source": [
    "df = pd.read_csv(LR_filepath).astype(str)\n",
    "nan = df.EFSA_PHT[0]"
   ]
  },
  {
   "cell_type": "code",
   "execution_count": 4,
   "metadata": {},
   "outputs": [
    {
     "data": {
      "text/html": [
       "<div>\n",
       "<style scoped>\n",
       "    .dataframe tbody tr th:only-of-type {\n",
       "        vertical-align: middle;\n",
       "    }\n",
       "\n",
       "    .dataframe tbody tr th {\n",
       "        vertical-align: top;\n",
       "    }\n",
       "\n",
       "    .dataframe thead th {\n",
       "        text-align: right;\n",
       "    }\n",
       "</style>\n",
       "<table border=\"1\" class=\"dataframe\">\n",
       "  <thead>\n",
       "    <tr style=\"text-align: right;\">\n",
       "      <th></th>\n",
       "      <th>Unnamed: 0</th>\n",
       "      <th>EPPO_CODE</th>\n",
       "      <th>EFSA_PHT</th>\n",
       "      <th>NCBI_TAXID</th>\n",
       "      <th>preferred_name</th>\n",
       "      <th>synonym</th>\n",
       "      <th>re</th>\n",
       "      <th>ds_language</th>\n",
       "      <th>match_language</th>\n",
       "      <th>syn</th>\n",
       "    </tr>\n",
       "  </thead>\n",
       "  <tbody>\n",
       "    <tr>\n",
       "      <th>0</th>\n",
       "      <td>0</td>\n",
       "      <td>LIBEAF</td>\n",
       "      <td>LiberibacterAfricanusAsiaticusAmericanus-PHT</td>\n",
       "      <td>nan</td>\n",
       "      <td>'Candidatus Liberibacter africanus'</td>\n",
       "      <td>greening of citrus</td>\n",
       "      <td>greening of citrus</td>\n",
       "      <td>en</td>\n",
       "      <td>nan</td>\n",
       "      <td>nan</td>\n",
       "    </tr>\n",
       "    <tr>\n",
       "      <th>1</th>\n",
       "      <td>1</td>\n",
       "      <td>LIBEAF</td>\n",
       "      <td>LiberibacterAfricanusAsiaticusAmericanus-PHT</td>\n",
       "      <td>nan</td>\n",
       "      <td>'Candidatus Liberibacter africanus'</td>\n",
       "      <td>greening des agrumes</td>\n",
       "      <td>greening des agrumes</td>\n",
       "      <td>fr</td>\n",
       "      <td>nan</td>\n",
       "      <td>nan</td>\n",
       "    </tr>\n",
       "    <tr>\n",
       "      <th>2</th>\n",
       "      <td>2</td>\n",
       "      <td>LIBEAF</td>\n",
       "      <td>LiberibacterAfricanusAsiaticusAmericanus-PHT</td>\n",
       "      <td>nan</td>\n",
       "      <td>'Candidatus Liberibacter africanus'</td>\n",
       "      <td>virescence des agrumes</td>\n",
       "      <td>vir\\wscence des agrumes</td>\n",
       "      <td>fr</td>\n",
       "      <td>nan</td>\n",
       "      <td>nan</td>\n",
       "    </tr>\n",
       "    <tr>\n",
       "      <th>3</th>\n",
       "      <td>3</td>\n",
       "      <td>LIBEAF</td>\n",
       "      <td>LiberibacterAfricanusAsiaticusAmericanus-PHT</td>\n",
       "      <td>nan</td>\n",
       "      <td>'Candidatus Liberibacter africanus'</td>\n",
       "      <td>enverdecimiento de los cítricos</td>\n",
       "      <td>enverdecimiento de los c\\wtricos</td>\n",
       "      <td>es</td>\n",
       "      <td>nan</td>\n",
       "      <td>nan</td>\n",
       "    </tr>\n",
       "    <tr>\n",
       "      <th>4</th>\n",
       "      <td>4</td>\n",
       "      <td>LIBEAM</td>\n",
       "      <td>nan</td>\n",
       "      <td>nan</td>\n",
       "      <td>'Candidatus Liberibacter americanus'</td>\n",
       "      <td>Brazilian citrus greening</td>\n",
       "      <td>nan</td>\n",
       "      <td>en</td>\n",
       "      <td>nan</td>\n",
       "      <td>nan</td>\n",
       "    </tr>\n",
       "  </tbody>\n",
       "</table>\n",
       "</div>"
      ],
      "text/plain": [
       "  Unnamed: 0 EPPO_CODE                                      EFSA_PHT  \\\n",
       "0          0    LIBEAF  LiberibacterAfricanusAsiaticusAmericanus-PHT   \n",
       "1          1    LIBEAF  LiberibacterAfricanusAsiaticusAmericanus-PHT   \n",
       "2          2    LIBEAF  LiberibacterAfricanusAsiaticusAmericanus-PHT   \n",
       "3          3    LIBEAF  LiberibacterAfricanusAsiaticusAmericanus-PHT   \n",
       "4          4    LIBEAM                                           nan   \n",
       "\n",
       "  NCBI_TAXID                        preferred_name  \\\n",
       "0        nan   'Candidatus Liberibacter africanus'   \n",
       "1        nan   'Candidatus Liberibacter africanus'   \n",
       "2        nan   'Candidatus Liberibacter africanus'   \n",
       "3        nan   'Candidatus Liberibacter africanus'   \n",
       "4        nan  'Candidatus Liberibacter americanus'   \n",
       "\n",
       "                           synonym                                re  \\\n",
       "0               greening of citrus                greening of citrus   \n",
       "1             greening des agrumes              greening des agrumes   \n",
       "2           virescence des agrumes           vir\\wscence des agrumes   \n",
       "3  enverdecimiento de los cítricos  enverdecimiento de los c\\wtricos   \n",
       "4        Brazilian citrus greening                               nan   \n",
       "\n",
       "  ds_language match_language  syn  \n",
       "0          en            nan  nan  \n",
       "1          fr            nan  nan  \n",
       "2          fr            nan  nan  \n",
       "3          es            nan  nan  \n",
       "4          en            nan  nan  "
      ]
     },
     "execution_count": 4,
     "metadata": {},
     "output_type": "execute_result"
    }
   ],
   "source": [
    "df.head()"
   ]
  },
  {
   "cell_type": "code",
   "execution_count": 5,
   "metadata": {},
   "outputs": [
    {
     "data": {
      "text/plain": [
       "False"
      ]
     },
     "execution_count": 5,
     "metadata": {},
     "output_type": "execute_result"
    }
   ],
   "source": [
    "np.NaN == np.NaN\n"
   ]
  },
  {
   "cell_type": "code",
   "execution_count": 6,
   "metadata": {},
   "outputs": [
    {
     "data": {
      "text/html": [
       "<div>\n",
       "<style scoped>\n",
       "    .dataframe tbody tr th:only-of-type {\n",
       "        vertical-align: middle;\n",
       "    }\n",
       "\n",
       "    .dataframe tbody tr th {\n",
       "        vertical-align: top;\n",
       "    }\n",
       "\n",
       "    .dataframe thead th {\n",
       "        text-align: right;\n",
       "    }\n",
       "</style>\n",
       "<table border=\"1\" class=\"dataframe\">\n",
       "  <thead>\n",
       "    <tr style=\"text-align: right;\">\n",
       "      <th></th>\n",
       "      <th>Unnamed: 0</th>\n",
       "      <th>EPPO_CODE</th>\n",
       "      <th>EFSA_PHT</th>\n",
       "      <th>NCBI_TAXID</th>\n",
       "      <th>preferred_name</th>\n",
       "      <th>synonym</th>\n",
       "      <th>re</th>\n",
       "      <th>ds_language</th>\n",
       "      <th>match_language</th>\n",
       "      <th>syn</th>\n",
       "    </tr>\n",
       "  </thead>\n",
       "  <tbody>\n",
       "  </tbody>\n",
       "</table>\n",
       "</div>"
      ],
      "text/plain": [
       "Empty DataFrame\n",
       "Columns: [Unnamed: 0, EPPO_CODE, EFSA_PHT, NCBI_TAXID, preferred_name, synonym, re, ds_language, match_language, syn]\n",
       "Index: []"
      ]
     },
     "execution_count": 6,
     "metadata": {},
     "output_type": "execute_result"
    }
   ],
   "source": [
    "df[(df.NCBI_TAXID == nan)].head()\n",
    "df[(df.EFSA_PHT != nan) & (df.EPPO_CODE == nan)].head()"
   ]
  }
 ],
 "metadata": {
  "kernelspec": {
   "display_name": "venv",
   "language": "python",
   "name": "python3"
  },
  "language_info": {
   "codemirror_mode": {
    "name": "ipython",
    "version": 3
   },
   "file_extension": ".py",
   "mimetype": "text/x-python",
   "name": "python",
   "nbconvert_exporter": "python",
   "pygments_lexer": "ipython3",
   "version": "3.10.6"
  },
  "orig_nbformat": 4,
  "vscode": {
   "interpreter": {
    "hash": "63f527d0a5d3fda1d4647c2bc079f23d6cbdfd3a23357b041dcef059260bde6f"
   }
  }
 },
 "nbformat": 4,
 "nbformat_minor": 2
}
