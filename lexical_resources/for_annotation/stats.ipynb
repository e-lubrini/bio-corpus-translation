{
 "cells": [
  {
   "cell_type": "markdown",
   "metadata": {},
   "source": [
    "#### Imports"
   ]
  },
  {
   "cell_type": "code",
   "execution_count": 6,
   "metadata": {},
   "outputs": [],
   "source": [
    "# interface\n",
    "from tqdm import tqdm\n",
    "from dsutils.de.files import dbg\n",
    "\n",
    "## Files and filesystem\n",
    "import os\n",
    "import json\n",
    "import csv\n",
    "import glob\n",
    "\n",
    "## Data management\n",
    "import numpy as np\n",
    "import pandas as pd\n",
    "\n",
    "## DS tools\n",
    "import re\n",
    "from types import NoneType\n",
    "from dsutils.de.files import describe_csv, get_csv_head, xls_to_csv, get_data_path, get_datafile_path\n",
    "from dsutils.nlp.language import get_lang_code"
   ]
  },
  {
   "cell_type": "markdown",
   "metadata": {},
   "source": [
    "#### Paths"
   ]
  },
  {
   "cell_type": "code",
   "execution_count": 7,
   "metadata": {},
   "outputs": [],
   "source": [
    "## input\n",
    "LR_filepath = '/home/elubrini/GitHub/bio-corpus-translation/lexical_resources/for_annotation/LR.csv'\n",
    "\n",
    "## Output\n"
   ]
  },
  {
   "cell_type": "markdown",
   "metadata": {},
   "source": [
    "# Stats"
   ]
  },
  {
   "cell_type": "code",
   "execution_count": 8,
   "metadata": {},
   "outputs": [
    {
     "name": "stderr",
     "output_type": "stream",
     "text": [
      "/tmp/ipykernel_493637/1001951825.py:1: DtypeWarning: Columns (1,3,4,5) have mixed types. Specify dtype option on import or set low_memory=False.\n",
      "  df = pd.read_csv(LR_filepath).astype(str)\n"
     ]
    }
   ],
   "source": [
    "df = pd.read_csv(LR_filepath).astype(str)\n",
    "nan = df.EFSA_PHT[0]"
   ]
  },
  {
   "cell_type": "code",
   "execution_count": 9,
   "metadata": {},
   "outputs": [
    {
     "data": {
      "text/html": [
       "<div>\n",
       "<style scoped>\n",
       "    .dataframe tbody tr th:only-of-type {\n",
       "        vertical-align: middle;\n",
       "    }\n",
       "\n",
       "    .dataframe tbody tr th {\n",
       "        vertical-align: top;\n",
       "    }\n",
       "\n",
       "    .dataframe thead th {\n",
       "        text-align: right;\n",
       "    }\n",
       "</style>\n",
       "<table border=\"1\" class=\"dataframe\">\n",
       "  <thead>\n",
       "    <tr style=\"text-align: right;\">\n",
       "      <th></th>\n",
       "      <th>preferred_name</th>\n",
       "      <th>EPPO_CODE</th>\n",
       "      <th>synonym</th>\n",
       "      <th>ds_language</th>\n",
       "      <th>EFSA_PHT</th>\n",
       "      <th>re</th>\n",
       "      <th>NCBI_TAXID</th>\n",
       "    </tr>\n",
       "  </thead>\n",
       "  <tbody>\n",
       "    <tr>\n",
       "      <th>0</th>\n",
       "      <td>'Abelmoschus esculentus' bunchy top phytoplasma</td>\n",
       "      <td>nan</td>\n",
       "      <td>'Abelmoschus esculentus' bunchy top phytoplasma</td>\n",
       "      <td>nan</td>\n",
       "      <td>nan</td>\n",
       "      <td>nan</td>\n",
       "      <td>ncbi:926989</td>\n",
       "    </tr>\n",
       "    <tr>\n",
       "      <th>1</th>\n",
       "      <td>'Acacia arabica' phytoplasma</td>\n",
       "      <td>nan</td>\n",
       "      <td>'Acacia arabica' phytoplasma</td>\n",
       "      <td>nan</td>\n",
       "      <td>nan</td>\n",
       "      <td>nan</td>\n",
       "      <td>ncbi:2849181</td>\n",
       "    </tr>\n",
       "    <tr>\n",
       "      <th>2</th>\n",
       "      <td>'Acacia farnesiana' leaflet phytoplasma</td>\n",
       "      <td>nan</td>\n",
       "      <td>'Acacia farnesiana' leaflet phytoplasma</td>\n",
       "      <td>nan</td>\n",
       "      <td>nan</td>\n",
       "      <td>nan</td>\n",
       "      <td>ncbi:2654099</td>\n",
       "    </tr>\n",
       "    <tr>\n",
       "      <th>3</th>\n",
       "      <td>'Acacia mangium' little leaf and yellowing phy...</td>\n",
       "      <td>nan</td>\n",
       "      <td>'Acacia mangium' little leaf and yellowing phy...</td>\n",
       "      <td>nan</td>\n",
       "      <td>nan</td>\n",
       "      <td>nan</td>\n",
       "      <td>ncbi:2530013</td>\n",
       "    </tr>\n",
       "    <tr>\n",
       "      <th>4</th>\n",
       "      <td>'Acacia melanoxylon' phytoplasma</td>\n",
       "      <td>nan</td>\n",
       "      <td>'Acacia melanoxylon' phytoplasma</td>\n",
       "      <td>nan</td>\n",
       "      <td>nan</td>\n",
       "      <td>nan</td>\n",
       "      <td>ncbi:1477896</td>\n",
       "    </tr>\n",
       "  </tbody>\n",
       "</table>\n",
       "</div>"
      ],
      "text/plain": [
       "                                      preferred_name EPPO_CODE  \\\n",
       "0    'Abelmoschus esculentus' bunchy top phytoplasma       nan   \n",
       "1                       'Acacia arabica' phytoplasma       nan   \n",
       "2            'Acacia farnesiana' leaflet phytoplasma       nan   \n",
       "3  'Acacia mangium' little leaf and yellowing phy...       nan   \n",
       "4                   'Acacia melanoxylon' phytoplasma       nan   \n",
       "\n",
       "                                             synonym ds_language EFSA_PHT  \\\n",
       "0    'Abelmoschus esculentus' bunchy top phytoplasma         nan      nan   \n",
       "1                       'Acacia arabica' phytoplasma         nan      nan   \n",
       "2            'Acacia farnesiana' leaflet phytoplasma         nan      nan   \n",
       "3  'Acacia mangium' little leaf and yellowing phy...         nan      nan   \n",
       "4                   'Acacia melanoxylon' phytoplasma         nan      nan   \n",
       "\n",
       "    re    NCBI_TAXID  \n",
       "0  nan   ncbi:926989  \n",
       "1  nan  ncbi:2849181  \n",
       "2  nan  ncbi:2654099  \n",
       "3  nan  ncbi:2530013  \n",
       "4  nan  ncbi:1477896  "
      ]
     },
     "execution_count": 9,
     "metadata": {},
     "output_type": "execute_result"
    }
   ],
   "source": [
    "df.head()"
   ]
  },
  {
   "cell_type": "code",
   "execution_count": 10,
   "metadata": {},
   "outputs": [
    {
     "data": {
      "text/plain": [
       "False"
      ]
     },
     "execution_count": 10,
     "metadata": {},
     "output_type": "execute_result"
    }
   ],
   "source": [
    "np.NaN == np.NaN\n"
   ]
  },
  {
   "cell_type": "code",
   "execution_count": 14,
   "metadata": {},
   "outputs": [
    {
     "data": {
      "text/html": [
       "<div>\n",
       "<style scoped>\n",
       "    .dataframe tbody tr th:only-of-type {\n",
       "        vertical-align: middle;\n",
       "    }\n",
       "\n",
       "    .dataframe tbody tr th {\n",
       "        vertical-align: top;\n",
       "    }\n",
       "\n",
       "    .dataframe thead th {\n",
       "        text-align: right;\n",
       "    }\n",
       "</style>\n",
       "<table border=\"1\" class=\"dataframe\">\n",
       "  <thead>\n",
       "    <tr style=\"text-align: right;\">\n",
       "      <th></th>\n",
       "      <th>preferred_name</th>\n",
       "      <th>EPPO_CODE</th>\n",
       "      <th>synonym</th>\n",
       "      <th>ds_language</th>\n",
       "      <th>EFSA_PHT</th>\n",
       "      <th>re</th>\n",
       "      <th>NCBI_TAXID</th>\n",
       "    </tr>\n",
       "  </thead>\n",
       "  <tbody>\n",
       "    <tr>\n",
       "      <th>2315033</th>\n",
       "      <td>acalolepta sejuncta</td>\n",
       "      <td>nan</td>\n",
       "      <td>nan</td>\n",
       "      <td>nan</td>\n",
       "      <td>AcaloleptaSejuncta-PHT</td>\n",
       "      <td>acalolepta sejuncta</td>\n",
       "      <td>nan</td>\n",
       "    </tr>\n",
       "    <tr>\n",
       "      <th>2315034</th>\n",
       "      <td>Acalymma vittatum</td>\n",
       "      <td>nan</td>\n",
       "      <td>nan</td>\n",
       "      <td>Spanish</td>\n",
       "      <td>AcalymmaVittatum-PHT</td>\n",
       "      <td>tortuguilla\\w* de las cucurbit\\wceas</td>\n",
       "      <td>nan</td>\n",
       "    </tr>\n",
       "    <tr>\n",
       "      <th>2315035</th>\n",
       "      <td>acanthococcus pohutukawa</td>\n",
       "      <td>nan</td>\n",
       "      <td>nan</td>\n",
       "      <td>nan</td>\n",
       "      <td>AcanthococcusPohutukawa-PHT</td>\n",
       "      <td>acanthococcus pohutukawa</td>\n",
       "      <td>nan</td>\n",
       "    </tr>\n",
       "    <tr>\n",
       "      <th>2315036</th>\n",
       "      <td>acantholyda nipponica</td>\n",
       "      <td>nan</td>\n",
       "      <td>nan</td>\n",
       "      <td>nan</td>\n",
       "      <td>AcantholydaNipponica-PHT</td>\n",
       "      <td>lyda nipponica</td>\n",
       "      <td>nan</td>\n",
       "    </tr>\n",
       "    <tr>\n",
       "      <th>2315037</th>\n",
       "      <td>Acaphylla theae</td>\n",
       "      <td>nan</td>\n",
       "      <td>nan</td>\n",
       "      <td>nan</td>\n",
       "      <td>AcaphyllaTheae-PHT</td>\n",
       "      <td>vleeschkleurige theemijt</td>\n",
       "      <td>nan</td>\n",
       "    </tr>\n",
       "  </tbody>\n",
       "</table>\n",
       "</div>"
      ],
      "text/plain": [
       "                   preferred_name EPPO_CODE synonym ds_language  \\\n",
       "2315033       acalolepta sejuncta       nan     nan         nan   \n",
       "2315034         Acalymma vittatum       nan     nan     Spanish   \n",
       "2315035  acanthococcus pohutukawa       nan     nan         nan   \n",
       "2315036     acantholyda nipponica       nan     nan         nan   \n",
       "2315037           Acaphylla theae       nan     nan         nan   \n",
       "\n",
       "                            EFSA_PHT                                    re  \\\n",
       "2315033       AcaloleptaSejuncta-PHT                   acalolepta sejuncta   \n",
       "2315034         AcalymmaVittatum-PHT  tortuguilla\\w* de las cucurbit\\wceas   \n",
       "2315035  AcanthococcusPohutukawa-PHT              acanthococcus pohutukawa   \n",
       "2315036     AcantholydaNipponica-PHT                        lyda nipponica   \n",
       "2315037           AcaphyllaTheae-PHT              vleeschkleurige theemijt   \n",
       "\n",
       "        NCBI_TAXID  \n",
       "2315033        nan  \n",
       "2315034        nan  \n",
       "2315035        nan  \n",
       "2315036        nan  \n",
       "2315037        nan  "
      ]
     },
     "execution_count": 14,
     "metadata": {},
     "output_type": "execute_result"
    }
   ],
   "source": [
    "df[(df.NCBI_TAXID == nan)].head()\n",
    "df[(df.EFSA_PHT != nan) & (df.EPPO_CODE == nan)].head()"
   ]
  }
 ],
 "metadata": {
  "kernelspec": {
   "display_name": "Python 3",
   "language": "python",
   "name": "python3"
  },
  "language_info": {
   "codemirror_mode": {
    "name": "ipython",
    "version": 3
   },
   "file_extension": ".py",
   "mimetype": "text/x-python",
   "name": "python",
   "nbconvert_exporter": "python",
   "pygments_lexer": "ipython3",
   "version": "3.10.6 (main, Aug 10 2022, 11:40:04) [GCC 11.3.0]"
  },
  "orig_nbformat": 4,
  "vscode": {
   "interpreter": {
    "hash": "65aabaf4492298ab6b95d3ba4006024321b8a1f76c38ae427ef0154a3a71d8f8"
   }
  }
 },
 "nbformat": 4,
 "nbformat_minor": 2
}
