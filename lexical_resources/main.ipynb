{
 "cells": [
  {
   "cell_type": "code",
   "execution_count": 71,
   "metadata": {},
   "outputs": [],
   "source": [
    "SAMPLE = False"
   ]
  },
  {
   "cell_type": "markdown",
   "metadata": {},
   "source": [
    "#  Lexical Resource (LR) for Annotation"
   ]
  },
  {
   "cell_type": "markdown",
   "metadata": {},
   "source": [
    "#### Imports"
   ]
  },
  {
   "cell_type": "code",
   "execution_count": 72,
   "metadata": {},
   "outputs": [],
   "source": [
    "# interface\n",
    "from tqdm import tqdm\n",
    "from dsutils.de.files import dbg\n",
    "\n",
    "## Files and filesystem\n",
    "import os\n",
    "import json\n",
    "import csv\n",
    "import glob\n",
    "\n",
    "## Data management\n",
    "import numpy as np\n",
    "import pandas as pd\n",
    "\n",
    "## DS tools\n",
    "import re\n",
    "from types import NoneType\n",
    "from dsutils.de.files import describe_csv, get_csv_head, xls_to_csv, get_data_path, get_datafile_path\n",
    "from dsutils.nlp.language import get_lang_code"
   ]
  },
  {
   "cell_type": "markdown",
   "metadata": {},
   "source": [
    "#### Paths"
   ]
  },
  {
   "cell_type": "code",
   "execution_count": 73,
   "metadata": {},
   "outputs": [],
   "source": [
    "## input\n",
    "db_paths = dict(\n",
    "    eppo_com = get_datafile_path('original/2022-09-02_COMMONnames_EPPO_OQ.csv'),\n",
    "    eppo_sci = get_datafile_path('original/2022-09-02_SCIENTIFICnames_EPPO_OQ.csv'),\n",
    "    efsa = get_datafile_path('EFSA-keyword-match/FichierMotsClesMagaliLarenaudie.csv'),\n",
    "    ncbi = get_datafile_path('taxa+id_full.txt'), # or taxa+id_microbes+insects.txt\n",
    ")\n",
    "\n",
    "glossary_paths = dict(\n",
    "    efsa_glossary = get_datafile_path('efsa_glossary.csv'),\n",
    "    eppo_glossary = get_datafile_path('eppo_glossary.csv'),\n",
    ")\n",
    "\n",
    "## Output\n",
    "data_path = get_data_path()\n",
    "full_eppo_path = os.path.join(data_path, 'eppo_glossary.csv')\n",
    "annotation_path = os.path.join(data_path, 'LRs_for_annotation')\n",
    "anno_gloss_path = os.path.join(data_path, 'annotation_glossary.csv')\n",
    "LR_filepath = 'LR.csv'"
   ]
  },
  {
   "cell_type": "markdown",
   "metadata": {},
   "source": [
    "#### Definitions"
   ]
  },
  {
   "cell_type": "markdown",
   "metadata": {},
   "source": [
    "Defining functions for preprocessing of original data"
   ]
  },
  {
   "cell_type": "code",
   "execution_count": 74,
   "metadata": {},
   "outputs": [],
   "source": [
    "def PHT_to_lower_taxon(PHT_code):\n",
    "    taxon = re.sub(r'(?<!^)(?=[A-Z])', ' ', PHT_code[:-4]).lower()\n",
    "    return taxon\n",
    "# print('AcalymmaVittatum-PHT:',PHT_to_lower_taxon('AcalymmaVittatum-PHT')) # test\n",
    "assert PHT_to_lower_taxon('AcalymmaVittatum-PHT') == 'acalymma vittatum'\n",
    "\n",
    "def to_pattern(syn):\n",
    "    r = syn.replace('+', ' ')\n",
    "    r = r.replace('_', '\\\\w')\n",
    "    if r.endswith('%'):\n",
    "        r = r[:-1] + '\\\\w*'\n",
    "    r = r.replace('% ', '\\\\w* ')\n",
    "    r = r.replace('%', '\\\\S*\\\\s?')\n",
    "    return r\n",
    "assert to_pattern(r'chrysom_le%+ray_e+du+concombre') == 'chrysom\\wle\\w* ray\\we du concombre'"
   ]
  },
  {
   "cell_type": "markdown",
   "metadata": {},
   "source": [
    "#### Parameters"
   ]
  },
  {
   "cell_type": "code",
   "execution_count": 75,
   "metadata": {},
   "outputs": [],
   "source": [
    "ncbi_sep = '\\t'\n",
    "ncbi_header = ['synonym','taxid','sci_name','tax_path','POS','rank','_', '__']\n",
    "ncbi_ext = '.csv'\n",
    "\n",
    "db_paths['ncbi'] = db_paths['ncbi'][:-4]+ncbi_ext\n",
    "if SAMPLE:\n",
    "    for k in db_paths.keys():\n",
    "        db_paths[k] = db_paths[k][:-4]+' copy'+db_paths[k][-4:]\n",
    "    LR_filepath = LR_filepath[:-4]+'_sample'+LR_filepath[-4:]\n",
    "\n",
    "## name of the desired coluimns in the LR\n",
    "anno_gloss_column_names = ['EPPO_CODE', 'EFSA_PHT', 'NCBI_TAXID', # 3 partial keys to relative dataset\n",
    "                           'preferred_name', 'synonym', 're',# terms\n",
    "                           'ds_language', 'match_language'] # languages"
   ]
  },
  {
   "cell_type": "code",
   "execution_count": 76,
   "metadata": {},
   "outputs": [],
   "source": [
    "## column in each of the original datasets corresponding to the output LR column \n",
    "cc = dict(\n",
    "    eppo_com = ['CodeEOPP', None, None,\n",
    "                'PreferredName', 'CommonName', None,\n",
    "                ['Language', get_lang_code], None], # [obj (col name), fun] tuple when information is extracted via a function\n",
    "    eppo_sci = ['CodeEOPP', None, None,\n",
    "                'PreferredName', 'OtherScientificNames', None,\n",
    "                None, None],\n",
    "    efsa = [None, 'Category (pest name)', None,\n",
    "                ['Category (pest name)', PHT_to_lower_taxon], None,  ['Keywords', to_pattern],\n",
    "                None, 'Unnamed: 3'],\n",
    "    ncbi = [None, None, 'taxid',\n",
    "            'sci_name', 'synonym', None,\n",
    "            None, None],\n",
    "    )"
   ]
  },
  {
   "cell_type": "code",
   "execution_count": 77,
   "metadata": {},
   "outputs": [
    {
     "name": "stdout",
     "output_type": "stream",
     "text": [
      "\"Euscelis Brulle, 1832\",ncbi:6826,Euscelis,/ncbi:1/ncbi:131567/ncbi:2759/ncbi:33154/ncbi:33208/ncbi:6072/ncbi:33213/ncbi:33317/ncbi:1206794/ncbi:88770/ncbi:6656/ncbi:197563/ncbi:197562/ncbi:6960/ncbi:50557/ncbi:85512/ncbi:7496/ncbi:33340/ncbi:33342/ncbi:7524/ncbi:1955247/ncbi:33365/ncbi:33368/ncbi:30102/ncbi:33372/ncbi:565967/ncbi:6826,NP,genus,,\n",
      "\n"
     ]
    }
   ],
   "source": [
    "path =get_datafile_path('taxa+id_microbes+insects.csv')\n",
    "with open(path) as f:\n",
    "    line = f.readline()\n",
    "    line = f.readline()\n",
    "\n",
    "print(line)"
   ]
  },
  {
   "cell_type": "code",
   "execution_count": 78,
   "metadata": {},
   "outputs": [
    {
     "data": {
      "text/html": [
       "<div>\n",
       "<style scoped>\n",
       "    .dataframe tbody tr th:only-of-type {\n",
       "        vertical-align: middle;\n",
       "    }\n",
       "\n",
       "    .dataframe tbody tr th {\n",
       "        vertical-align: top;\n",
       "    }\n",
       "\n",
       "    .dataframe thead th {\n",
       "        text-align: right;\n",
       "    }\n",
       "</style>\n",
       "<table border=\"1\" class=\"dataframe\">\n",
       "  <thead>\n",
       "    <tr style=\"text-align: right;\">\n",
       "      <th></th>\n",
       "      <th>synonym</th>\n",
       "      <th>taxid</th>\n",
       "      <th>sci_name</th>\n",
       "      <th>tax_path</th>\n",
       "      <th>POS</th>\n",
       "      <th>rank</th>\n",
       "      <th>_</th>\n",
       "      <th>__</th>\n",
       "    </tr>\n",
       "  </thead>\n",
       "  <tbody>\n",
       "    <tr>\n",
       "      <th>count</th>\n",
       "      <td>859017</td>\n",
       "      <td>859017</td>\n",
       "      <td>859017</td>\n",
       "      <td>859017</td>\n",
       "      <td>859017</td>\n",
       "      <td>859017</td>\n",
       "      <td>0.0</td>\n",
       "      <td>0.0</td>\n",
       "    </tr>\n",
       "    <tr>\n",
       "      <th>unique</th>\n",
       "      <td>810220</td>\n",
       "      <td>238405</td>\n",
       "      <td>238305</td>\n",
       "      <td>238405</td>\n",
       "      <td>3</td>\n",
       "      <td>28</td>\n",
       "      <td>NaN</td>\n",
       "      <td>NaN</td>\n",
       "    </tr>\n",
       "    <tr>\n",
       "      <th>top</th>\n",
       "      <td>P. affinis</td>\n",
       "      <td>ncbi:7175</td>\n",
       "      <td>Culex pipiens</td>\n",
       "      <td>/ncbi:1/ncbi:131567/ncbi:2759/ncbi:33154/ncbi:...</td>\n",
       "      <td>NP</td>\n",
       "      <td>species</td>\n",
       "      <td>NaN</td>\n",
       "      <td>NaN</td>\n",
       "    </tr>\n",
       "    <tr>\n",
       "      <th>freq</th>\n",
       "      <td>22</td>\n",
       "      <td>174</td>\n",
       "      <td>174</td>\n",
       "      <td>174</td>\n",
       "      <td>855514</td>\n",
       "      <td>766080</td>\n",
       "      <td>NaN</td>\n",
       "      <td>NaN</td>\n",
       "    </tr>\n",
       "    <tr>\n",
       "      <th>mean</th>\n",
       "      <td>NaN</td>\n",
       "      <td>NaN</td>\n",
       "      <td>NaN</td>\n",
       "      <td>NaN</td>\n",
       "      <td>NaN</td>\n",
       "      <td>NaN</td>\n",
       "      <td>NaN</td>\n",
       "      <td>NaN</td>\n",
       "    </tr>\n",
       "    <tr>\n",
       "      <th>std</th>\n",
       "      <td>NaN</td>\n",
       "      <td>NaN</td>\n",
       "      <td>NaN</td>\n",
       "      <td>NaN</td>\n",
       "      <td>NaN</td>\n",
       "      <td>NaN</td>\n",
       "      <td>NaN</td>\n",
       "      <td>NaN</td>\n",
       "    </tr>\n",
       "    <tr>\n",
       "      <th>min</th>\n",
       "      <td>NaN</td>\n",
       "      <td>NaN</td>\n",
       "      <td>NaN</td>\n",
       "      <td>NaN</td>\n",
       "      <td>NaN</td>\n",
       "      <td>NaN</td>\n",
       "      <td>NaN</td>\n",
       "      <td>NaN</td>\n",
       "    </tr>\n",
       "    <tr>\n",
       "      <th>25%</th>\n",
       "      <td>NaN</td>\n",
       "      <td>NaN</td>\n",
       "      <td>NaN</td>\n",
       "      <td>NaN</td>\n",
       "      <td>NaN</td>\n",
       "      <td>NaN</td>\n",
       "      <td>NaN</td>\n",
       "      <td>NaN</td>\n",
       "    </tr>\n",
       "    <tr>\n",
       "      <th>50%</th>\n",
       "      <td>NaN</td>\n",
       "      <td>NaN</td>\n",
       "      <td>NaN</td>\n",
       "      <td>NaN</td>\n",
       "      <td>NaN</td>\n",
       "      <td>NaN</td>\n",
       "      <td>NaN</td>\n",
       "      <td>NaN</td>\n",
       "    </tr>\n",
       "    <tr>\n",
       "      <th>75%</th>\n",
       "      <td>NaN</td>\n",
       "      <td>NaN</td>\n",
       "      <td>NaN</td>\n",
       "      <td>NaN</td>\n",
       "      <td>NaN</td>\n",
       "      <td>NaN</td>\n",
       "      <td>NaN</td>\n",
       "      <td>NaN</td>\n",
       "    </tr>\n",
       "    <tr>\n",
       "      <th>max</th>\n",
       "      <td>NaN</td>\n",
       "      <td>NaN</td>\n",
       "      <td>NaN</td>\n",
       "      <td>NaN</td>\n",
       "      <td>NaN</td>\n",
       "      <td>NaN</td>\n",
       "      <td>NaN</td>\n",
       "      <td>NaN</td>\n",
       "    </tr>\n",
       "  </tbody>\n",
       "</table>\n",
       "</div>"
      ],
      "text/plain": [
       "           synonym      taxid       sci_name  \\\n",
       "count       859017     859017         859017   \n",
       "unique      810220     238405         238305   \n",
       "top     P. affinis  ncbi:7175  Culex pipiens   \n",
       "freq            22        174            174   \n",
       "mean           NaN        NaN            NaN   \n",
       "std            NaN        NaN            NaN   \n",
       "min            NaN        NaN            NaN   \n",
       "25%            NaN        NaN            NaN   \n",
       "50%            NaN        NaN            NaN   \n",
       "75%            NaN        NaN            NaN   \n",
       "max            NaN        NaN            NaN   \n",
       "\n",
       "                                                 tax_path     POS     rank  \\\n",
       "count                                              859017  859017   859017   \n",
       "unique                                             238405       3       28   \n",
       "top     /ncbi:1/ncbi:131567/ncbi:2759/ncbi:33154/ncbi:...      NP  species   \n",
       "freq                                                  174  855514   766080   \n",
       "mean                                                  NaN     NaN      NaN   \n",
       "std                                                   NaN     NaN      NaN   \n",
       "min                                                   NaN     NaN      NaN   \n",
       "25%                                                   NaN     NaN      NaN   \n",
       "50%                                                   NaN     NaN      NaN   \n",
       "75%                                                   NaN     NaN      NaN   \n",
       "max                                                   NaN     NaN      NaN   \n",
       "\n",
       "          _   __  \n",
       "count   0.0  0.0  \n",
       "unique  NaN  NaN  \n",
       "top     NaN  NaN  \n",
       "freq    NaN  NaN  \n",
       "mean    NaN  NaN  \n",
       "std     NaN  NaN  \n",
       "min     NaN  NaN  \n",
       "25%     NaN  NaN  \n",
       "50%     NaN  NaN  \n",
       "75%     NaN  NaN  \n",
       "max     NaN  NaN  "
      ]
     },
     "execution_count": 78,
     "metadata": {},
     "output_type": "execute_result"
    }
   ],
   "source": [
    "describe_csv(path)"
   ]
  },
  {
   "cell_type": "code",
   "execution_count": 79,
   "metadata": {},
   "outputs": [
    {
     "data": {
      "text/html": [
       "<div>\n",
       "<style scoped>\n",
       "    .dataframe tbody tr th:only-of-type {\n",
       "        vertical-align: middle;\n",
       "    }\n",
       "\n",
       "    .dataframe tbody tr th {\n",
       "        vertical-align: top;\n",
       "    }\n",
       "\n",
       "    .dataframe thead th {\n",
       "        text-align: right;\n",
       "    }\n",
       "</style>\n",
       "<table border=\"1\" class=\"dataframe\">\n",
       "  <thead>\n",
       "    <tr style=\"text-align: right;\">\n",
       "      <th></th>\n",
       "      <th>synonym</th>\n",
       "      <th>taxid</th>\n",
       "      <th>sci_name</th>\n",
       "      <th>tax_path</th>\n",
       "      <th>POS</th>\n",
       "      <th>rank</th>\n",
       "      <th>_</th>\n",
       "      <th>__</th>\n",
       "    </tr>\n",
       "  </thead>\n",
       "  <tbody>\n",
       "    <tr>\n",
       "      <th>0</th>\n",
       "      <td>Euscelis Brulle, 1832</td>\n",
       "      <td>ncbi:6826</td>\n",
       "      <td>Euscelis</td>\n",
       "      <td>/ncbi:1/ncbi:131567/ncbi:2759/ncbi:33154/ncbi:...</td>\n",
       "      <td>NP</td>\n",
       "      <td>genus</td>\n",
       "      <td>NaN</td>\n",
       "      <td>NaN</td>\n",
       "    </tr>\n",
       "    <tr>\n",
       "      <th>1</th>\n",
       "      <td>Euscelis Brulle</td>\n",
       "      <td>ncbi:6826</td>\n",
       "      <td>Euscelis</td>\n",
       "      <td>/ncbi:1/ncbi:131567/ncbi:2759/ncbi:33154/ncbi:...</td>\n",
       "      <td>NP</td>\n",
       "      <td>genus</td>\n",
       "      <td>NaN</td>\n",
       "      <td>NaN</td>\n",
       "    </tr>\n",
       "    <tr>\n",
       "      <th>2</th>\n",
       "      <td>Euscelis (Brulle)</td>\n",
       "      <td>ncbi:6826</td>\n",
       "      <td>Euscelis</td>\n",
       "      <td>/ncbi:1/ncbi:131567/ncbi:2759/ncbi:33154/ncbi:...</td>\n",
       "      <td>NP</td>\n",
       "      <td>genus</td>\n",
       "      <td>NaN</td>\n",
       "      <td>NaN</td>\n",
       "    </tr>\n",
       "    <tr>\n",
       "      <th>3</th>\n",
       "      <td>Euscelis</td>\n",
       "      <td>ncbi:6826</td>\n",
       "      <td>Euscelis</td>\n",
       "      <td>/ncbi:1/ncbi:131567/ncbi:2759/ncbi:33154/ncbi:...</td>\n",
       "      <td>NP</td>\n",
       "      <td>genus</td>\n",
       "      <td>NaN</td>\n",
       "      <td>NaN</td>\n",
       "    </tr>\n",
       "    <tr>\n",
       "      <th>4</th>\n",
       "      <td>Eusceli</td>\n",
       "      <td>ncbi:6826</td>\n",
       "      <td>Euscelis</td>\n",
       "      <td>/ncbi:1/ncbi:131567/ncbi:2759/ncbi:33154/ncbi:...</td>\n",
       "      <td>NP</td>\n",
       "      <td>genus</td>\n",
       "      <td>NaN</td>\n",
       "      <td>NaN</td>\n",
       "    </tr>\n",
       "  </tbody>\n",
       "</table>\n",
       "</div>"
      ],
      "text/plain": [
       "                 synonym      taxid  sci_name  \\\n",
       "0  Euscelis Brulle, 1832  ncbi:6826  Euscelis   \n",
       "1        Euscelis Brulle  ncbi:6826  Euscelis   \n",
       "2      Euscelis (Brulle)  ncbi:6826  Euscelis   \n",
       "3               Euscelis  ncbi:6826  Euscelis   \n",
       "4                Eusceli  ncbi:6826  Euscelis   \n",
       "\n",
       "                                            tax_path POS   rank   _  __  \n",
       "0  /ncbi:1/ncbi:131567/ncbi:2759/ncbi:33154/ncbi:...  NP  genus NaN NaN  \n",
       "1  /ncbi:1/ncbi:131567/ncbi:2759/ncbi:33154/ncbi:...  NP  genus NaN NaN  \n",
       "2  /ncbi:1/ncbi:131567/ncbi:2759/ncbi:33154/ncbi:...  NP  genus NaN NaN  \n",
       "3  /ncbi:1/ncbi:131567/ncbi:2759/ncbi:33154/ncbi:...  NP  genus NaN NaN  \n",
       "4  /ncbi:1/ncbi:131567/ncbi:2759/ncbi:33154/ncbi:...  NP  genus NaN NaN  "
      ]
     },
     "execution_count": 79,
     "metadata": {},
     "output_type": "execute_result"
    }
   ],
   "source": [
    "get_csv_head(path)"
   ]
  },
  {
   "cell_type": "code",
   "execution_count": 80,
   "metadata": {},
   "outputs": [
    {
     "data": {
      "text/html": [
       "<div>\n",
       "<style scoped>\n",
       "    .dataframe tbody tr th:only-of-type {\n",
       "        vertical-align: middle;\n",
       "    }\n",
       "\n",
       "    .dataframe tbody tr th {\n",
       "        vertical-align: top;\n",
       "    }\n",
       "\n",
       "    .dataframe thead th {\n",
       "        text-align: right;\n",
       "    }\n",
       "</style>\n",
       "<table border=\"1\" class=\"dataframe\">\n",
       "  <thead>\n",
       "    <tr style=\"text-align: right;\">\n",
       "      <th></th>\n",
       "      <th>synonym</th>\n",
       "      <th>taxid</th>\n",
       "      <th>sci_name</th>\n",
       "      <th>tax_path</th>\n",
       "      <th>POS</th>\n",
       "      <th>rank</th>\n",
       "      <th>_</th>\n",
       "      <th>__</th>\n",
       "    </tr>\n",
       "  </thead>\n",
       "  <tbody>\n",
       "    <tr>\n",
       "      <th>0</th>\n",
       "      <td>Euscelis Brulle, 1832</td>\n",
       "      <td>ncbi:6826</td>\n",
       "      <td>Euscelis</td>\n",
       "      <td>/ncbi:1/ncbi:131567/ncbi:2759/ncbi:33154/ncbi:...</td>\n",
       "      <td>NP</td>\n",
       "      <td>genus</td>\n",
       "      <td>NaN</td>\n",
       "      <td>NaN</td>\n",
       "    </tr>\n",
       "    <tr>\n",
       "      <th>1</th>\n",
       "      <td>Euscelis Brulle</td>\n",
       "      <td>ncbi:6826</td>\n",
       "      <td>Euscelis</td>\n",
       "      <td>/ncbi:1/ncbi:131567/ncbi:2759/ncbi:33154/ncbi:...</td>\n",
       "      <td>NP</td>\n",
       "      <td>genus</td>\n",
       "      <td>NaN</td>\n",
       "      <td>NaN</td>\n",
       "    </tr>\n",
       "    <tr>\n",
       "      <th>2</th>\n",
       "      <td>Euscelis (Brulle)</td>\n",
       "      <td>ncbi:6826</td>\n",
       "      <td>Euscelis</td>\n",
       "      <td>/ncbi:1/ncbi:131567/ncbi:2759/ncbi:33154/ncbi:...</td>\n",
       "      <td>NP</td>\n",
       "      <td>genus</td>\n",
       "      <td>NaN</td>\n",
       "      <td>NaN</td>\n",
       "    </tr>\n",
       "    <tr>\n",
       "      <th>3</th>\n",
       "      <td>Euscelis</td>\n",
       "      <td>ncbi:6826</td>\n",
       "      <td>Euscelis</td>\n",
       "      <td>/ncbi:1/ncbi:131567/ncbi:2759/ncbi:33154/ncbi:...</td>\n",
       "      <td>NP</td>\n",
       "      <td>genus</td>\n",
       "      <td>NaN</td>\n",
       "      <td>NaN</td>\n",
       "    </tr>\n",
       "    <tr>\n",
       "      <th>4</th>\n",
       "      <td>Eusceli</td>\n",
       "      <td>ncbi:6826</td>\n",
       "      <td>Euscelis</td>\n",
       "      <td>/ncbi:1/ncbi:131567/ncbi:2759/ncbi:33154/ncbi:...</td>\n",
       "      <td>NP</td>\n",
       "      <td>genus</td>\n",
       "      <td>NaN</td>\n",
       "      <td>NaN</td>\n",
       "    </tr>\n",
       "    <tr>\n",
       "      <th>...</th>\n",
       "      <td>...</td>\n",
       "      <td>...</td>\n",
       "      <td>...</td>\n",
       "      <td>...</td>\n",
       "      <td>...</td>\n",
       "      <td>...</td>\n",
       "      <td>...</td>\n",
       "      <td>...</td>\n",
       "    </tr>\n",
       "    <tr>\n",
       "      <th>859012</th>\n",
       "      <td>R.errabunda</td>\n",
       "      <td>ncbi:1519426</td>\n",
       "      <td>Ravinia errabunda</td>\n",
       "      <td>/ncbi:1/ncbi:131567/ncbi:2759/ncbi:33154/ncbi:...</td>\n",
       "      <td>NP</td>\n",
       "      <td>species</td>\n",
       "      <td>NaN</td>\n",
       "      <td>NaN</td>\n",
       "    </tr>\n",
       "    <tr>\n",
       "      <th>859013</th>\n",
       "      <td>R . errabunda</td>\n",
       "      <td>ncbi:1519426</td>\n",
       "      <td>Ravinia errabunda</td>\n",
       "      <td>/ncbi:1/ncbi:131567/ncbi:2759/ncbi:33154/ncbi:...</td>\n",
       "      <td>NP</td>\n",
       "      <td>species</td>\n",
       "      <td>NaN</td>\n",
       "      <td>NaN</td>\n",
       "    </tr>\n",
       "    <tr>\n",
       "      <th>859014</th>\n",
       "      <td>Ravinia errabunda (Wulp, 1896)</td>\n",
       "      <td>ncbi:1519426</td>\n",
       "      <td>Ravinia errabunda</td>\n",
       "      <td>/ncbi:1/ncbi:131567/ncbi:2759/ncbi:33154/ncbi:...</td>\n",
       "      <td>NP</td>\n",
       "      <td>species</td>\n",
       "      <td>NaN</td>\n",
       "      <td>NaN</td>\n",
       "    </tr>\n",
       "    <tr>\n",
       "      <th>859015</th>\n",
       "      <td>Ravinia errabunda Wulp</td>\n",
       "      <td>ncbi:1519426</td>\n",
       "      <td>Ravinia errabunda</td>\n",
       "      <td>/ncbi:1/ncbi:131567/ncbi:2759/ncbi:33154/ncbi:...</td>\n",
       "      <td>NP</td>\n",
       "      <td>species</td>\n",
       "      <td>NaN</td>\n",
       "      <td>NaN</td>\n",
       "    </tr>\n",
       "    <tr>\n",
       "      <th>859016</th>\n",
       "      <td>Ravinia errabunda (Wulp)</td>\n",
       "      <td>ncbi:1519426</td>\n",
       "      <td>Ravinia errabunda</td>\n",
       "      <td>/ncbi:1/ncbi:131567/ncbi:2759/ncbi:33154/ncbi:...</td>\n",
       "      <td>NP</td>\n",
       "      <td>species</td>\n",
       "      <td>NaN</td>\n",
       "      <td>NaN</td>\n",
       "    </tr>\n",
       "  </tbody>\n",
       "</table>\n",
       "<p>859017 rows × 8 columns</p>\n",
       "</div>"
      ],
      "text/plain": [
       "                               synonym         taxid           sci_name  \\\n",
       "0                Euscelis Brulle, 1832     ncbi:6826           Euscelis   \n",
       "1                      Euscelis Brulle     ncbi:6826           Euscelis   \n",
       "2                    Euscelis (Brulle)     ncbi:6826           Euscelis   \n",
       "3                             Euscelis     ncbi:6826           Euscelis   \n",
       "4                              Eusceli     ncbi:6826           Euscelis   \n",
       "...                                ...           ...                ...   \n",
       "859012                     R.errabunda  ncbi:1519426  Ravinia errabunda   \n",
       "859013                   R . errabunda  ncbi:1519426  Ravinia errabunda   \n",
       "859014  Ravinia errabunda (Wulp, 1896)  ncbi:1519426  Ravinia errabunda   \n",
       "859015          Ravinia errabunda Wulp  ncbi:1519426  Ravinia errabunda   \n",
       "859016        Ravinia errabunda (Wulp)  ncbi:1519426  Ravinia errabunda   \n",
       "\n",
       "                                                 tax_path POS     rank   _  __  \n",
       "0       /ncbi:1/ncbi:131567/ncbi:2759/ncbi:33154/ncbi:...  NP    genus NaN NaN  \n",
       "1       /ncbi:1/ncbi:131567/ncbi:2759/ncbi:33154/ncbi:...  NP    genus NaN NaN  \n",
       "2       /ncbi:1/ncbi:131567/ncbi:2759/ncbi:33154/ncbi:...  NP    genus NaN NaN  \n",
       "3       /ncbi:1/ncbi:131567/ncbi:2759/ncbi:33154/ncbi:...  NP    genus NaN NaN  \n",
       "4       /ncbi:1/ncbi:131567/ncbi:2759/ncbi:33154/ncbi:...  NP    genus NaN NaN  \n",
       "...                                                   ...  ..      ...  ..  ..  \n",
       "859012  /ncbi:1/ncbi:131567/ncbi:2759/ncbi:33154/ncbi:...  NP  species NaN NaN  \n",
       "859013  /ncbi:1/ncbi:131567/ncbi:2759/ncbi:33154/ncbi:...  NP  species NaN NaN  \n",
       "859014  /ncbi:1/ncbi:131567/ncbi:2759/ncbi:33154/ncbi:...  NP  species NaN NaN  \n",
       "859015  /ncbi:1/ncbi:131567/ncbi:2759/ncbi:33154/ncbi:...  NP  species NaN NaN  \n",
       "859016  /ncbi:1/ncbi:131567/ncbi:2759/ncbi:33154/ncbi:...  NP  species NaN NaN  \n",
       "\n",
       "[859017 rows x 8 columns]"
      ]
     },
     "execution_count": 80,
     "metadata": {},
     "output_type": "execute_result"
    }
   ],
   "source": [
    "pd.read_csv(path, on_bad_lines='skip')"
   ]
  },
  {
   "cell_type": "markdown",
   "metadata": {},
   "source": [
    "#### Check Data"
   ]
  },
  {
   "cell_type": "code",
   "execution_count": 81,
   "metadata": {},
   "outputs": [
    {
     "name": "stdout",
     "output_type": "stream",
     "text": [
      "\u001b[35m\u001b[32mmess: \u001b[0m5\n"
     ]
    },
    {
     "data": {
      "text/html": [
       "<div>\n",
       "<style scoped>\n",
       "    .dataframe tbody tr th:only-of-type {\n",
       "        vertical-align: middle;\n",
       "    }\n",
       "\n",
       "    .dataframe tbody tr th {\n",
       "        vertical-align: top;\n",
       "    }\n",
       "\n",
       "    .dataframe thead th {\n",
       "        text-align: right;\n",
       "    }\n",
       "</style>\n",
       "<table border=\"1\" class=\"dataframe\">\n",
       "  <thead>\n",
       "    <tr style=\"text-align: right;\">\n",
       "      <th></th>\n",
       "      <th>CommonName</th>\n",
       "      <th>Language</th>\n",
       "      <th>CodeEOPP</th>\n",
       "      <th>PreferredName</th>\n",
       "      <th>AuthorityPreferredName</th>\n",
       "    </tr>\n",
       "  </thead>\n",
       "  <tbody>\n",
       "    <tr>\n",
       "      <th>count</th>\n",
       "      <td>1276</td>\n",
       "      <td>1276</td>\n",
       "      <td>1324</td>\n",
       "      <td>1324</td>\n",
       "      <td>1142</td>\n",
       "    </tr>\n",
       "    <tr>\n",
       "      <th>unique</th>\n",
       "      <td>1235</td>\n",
       "      <td>38</td>\n",
       "      <td>239</td>\n",
       "      <td>239</td>\n",
       "      <td>169</td>\n",
       "    </tr>\n",
       "    <tr>\n",
       "      <th>top</th>\n",
       "      <td>citrus leprosis</td>\n",
       "      <td>English</td>\n",
       "      <td>HELIZE</td>\n",
       "      <td>Helicoverpa zea</td>\n",
       "      <td>(Boddie)</td>\n",
       "    </tr>\n",
       "    <tr>\n",
       "      <th>freq</th>\n",
       "      <td>4</td>\n",
       "      <td>477</td>\n",
       "      <td>30</td>\n",
       "      <td>30</td>\n",
       "      <td>30</td>\n",
       "    </tr>\n",
       "  </tbody>\n",
       "</table>\n",
       "</div>"
      ],
      "text/plain": [
       "             CommonName Language CodeEOPP    PreferredName  \\\n",
       "count              1276     1276     1324             1324   \n",
       "unique             1235       38      239              239   \n",
       "top     citrus leprosis  English   HELIZE  Helicoverpa zea   \n",
       "freq                  4      477       30               30   \n",
       "\n",
       "       AuthorityPreferredName  \n",
       "count                    1142  \n",
       "unique                    169  \n",
       "top                  (Boddie)  \n",
       "freq                       30  "
      ]
     },
     "metadata": {},
     "output_type": "display_data"
    },
    {
     "name": "stdout",
     "output_type": "stream",
     "text": [
      "\u001b[35m\u001b[32mmess: \u001b[0m5\n"
     ]
    },
    {
     "data": {
      "text/html": [
       "<div>\n",
       "<style scoped>\n",
       "    .dataframe tbody tr th:only-of-type {\n",
       "        vertical-align: middle;\n",
       "    }\n",
       "\n",
       "    .dataframe tbody tr th {\n",
       "        vertical-align: top;\n",
       "    }\n",
       "\n",
       "    .dataframe thead th {\n",
       "        text-align: right;\n",
       "    }\n",
       "</style>\n",
       "<table border=\"1\" class=\"dataframe\">\n",
       "  <thead>\n",
       "    <tr style=\"text-align: right;\">\n",
       "      <th></th>\n",
       "      <th>OtherScientificNames</th>\n",
       "      <th>Authority</th>\n",
       "      <th>CodeEOPP</th>\n",
       "      <th>PreferredName</th>\n",
       "      <th>AuthorityPreferredName</th>\n",
       "    </tr>\n",
       "  </thead>\n",
       "  <tbody>\n",
       "    <tr>\n",
       "      <th>count</th>\n",
       "      <td>616</td>\n",
       "      <td>453</td>\n",
       "      <td>664</td>\n",
       "      <td>664</td>\n",
       "      <td>502</td>\n",
       "    </tr>\n",
       "    <tr>\n",
       "      <th>unique</th>\n",
       "      <td>611</td>\n",
       "      <td>324</td>\n",
       "      <td>239</td>\n",
       "      <td>239</td>\n",
       "      <td>169</td>\n",
       "    </tr>\n",
       "    <tr>\n",
       "      <th>top</th>\n",
       "      <td>Tomato leaf curl New Delhi begomovirus</td>\n",
       "      <td>Corbett</td>\n",
       "      <td>BEMITA</td>\n",
       "      <td>Bemisia tabaci</td>\n",
       "      <td>(Gennadius)</td>\n",
       "    </tr>\n",
       "    <tr>\n",
       "      <th>freq</th>\n",
       "      <td>2</td>\n",
       "      <td>6</td>\n",
       "      <td>16</td>\n",
       "      <td>16</td>\n",
       "      <td>16</td>\n",
       "    </tr>\n",
       "  </tbody>\n",
       "</table>\n",
       "</div>"
      ],
      "text/plain": [
       "                          OtherScientificNames Authority CodeEOPP  \\\n",
       "count                                      616       453      664   \n",
       "unique                                     611       324      239   \n",
       "top     Tomato leaf curl New Delhi begomovirus   Corbett   BEMITA   \n",
       "freq                                         2         6       16   \n",
       "\n",
       "         PreferredName AuthorityPreferredName  \n",
       "count              664                    502  \n",
       "unique             239                    169  \n",
       "top     Bemisia tabaci            (Gennadius)  \n",
       "freq                16                     16  "
      ]
     },
     "metadata": {},
     "output_type": "display_data"
    },
    {
     "name": "stdout",
     "output_type": "stream",
     "text": [
      "\u001b[35m\u001b[32m_27: \u001b[0m4\n"
     ]
    },
    {
     "data": {
      "text/html": [
       "<div>\n",
       "<style scoped>\n",
       "    .dataframe tbody tr th:only-of-type {\n",
       "        vertical-align: middle;\n",
       "    }\n",
       "\n",
       "    .dataframe tbody tr th {\n",
       "        vertical-align: top;\n",
       "    }\n",
       "\n",
       "    .dataframe thead th {\n",
       "        text-align: right;\n",
       "    }\n",
       "</style>\n",
       "<table border=\"1\" class=\"dataframe\">\n",
       "  <thead>\n",
       "    <tr style=\"text-align: right;\">\n",
       "      <th></th>\n",
       "      <th>Category (pest name)</th>\n",
       "      <th>Keywords</th>\n",
       "      <th>Unnamed: 2</th>\n",
       "      <th>Unnamed: 3</th>\n",
       "    </tr>\n",
       "  </thead>\n",
       "  <tbody>\n",
       "    <tr>\n",
       "      <th>count</th>\n",
       "      <td>7558</td>\n",
       "      <td>7558</td>\n",
       "      <td>21</td>\n",
       "      <td>3</td>\n",
       "    </tr>\n",
       "    <tr>\n",
       "      <th>unique</th>\n",
       "      <td>1168</td>\n",
       "      <td>7393</td>\n",
       "      <td>5</td>\n",
       "      <td>3</td>\n",
       "    </tr>\n",
       "    <tr>\n",
       "      <th>top</th>\n",
       "      <td>Cronartium-PHT</td>\n",
       "      <td>margarodes</td>\n",
       "      <td>Au/Cabi</td>\n",
       "      <td>Fr</td>\n",
       "    </tr>\n",
       "    <tr>\n",
       "      <th>freq</th>\n",
       "      <td>85</td>\n",
       "      <td>3</td>\n",
       "      <td>16</td>\n",
       "      <td>1</td>\n",
       "    </tr>\n",
       "  </tbody>\n",
       "</table>\n",
       "</div>"
      ],
      "text/plain": [
       "       Category (pest name)    Keywords Unnamed: 2 Unnamed: 3\n",
       "count                  7558        7558         21          3\n",
       "unique                 1168        7393          5          3\n",
       "top          Cronartium-PHT  margarodes    Au/Cabi         Fr\n",
       "freq                     85           3         16          1"
      ]
     },
     "metadata": {},
     "output_type": "display_data"
    },
    {
     "name": "stdout",
     "output_type": "stream",
     "text": [
      "\u001b[35m\u001b[32mmess: \u001b[0m8\n"
     ]
    },
    {
     "data": {
      "text/html": [
       "<div>\n",
       "<style scoped>\n",
       "    .dataframe tbody tr th:only-of-type {\n",
       "        vertical-align: middle;\n",
       "    }\n",
       "\n",
       "    .dataframe tbody tr th {\n",
       "        vertical-align: top;\n",
       "    }\n",
       "\n",
       "    .dataframe thead th {\n",
       "        text-align: right;\n",
       "    }\n",
       "</style>\n",
       "<table border=\"1\" class=\"dataframe\">\n",
       "  <thead>\n",
       "    <tr style=\"text-align: right;\">\n",
       "      <th></th>\n",
       "      <th>synonym</th>\n",
       "      <th>taxid</th>\n",
       "      <th>sci_name</th>\n",
       "      <th>tax_path</th>\n",
       "      <th>POS</th>\n",
       "      <th>rank</th>\n",
       "      <th>undefined</th>\n",
       "      <th>also_undefined</th>\n",
       "    </tr>\n",
       "  </thead>\n",
       "  <tbody>\n",
       "    <tr>\n",
       "      <th>count</th>\n",
       "      <td>1607725</td>\n",
       "      <td>1607726</td>\n",
       "      <td>1607726</td>\n",
       "      <td>1607726</td>\n",
       "      <td>1607726</td>\n",
       "      <td>1607726</td>\n",
       "      <td>1515574</td>\n",
       "      <td>1515573</td>\n",
       "    </tr>\n",
       "    <tr>\n",
       "      <th>unique</th>\n",
       "      <td>1474816</td>\n",
       "      <td>242820</td>\n",
       "      <td>242457</td>\n",
       "      <td>242820</td>\n",
       "      <td>3</td>\n",
       "      <td>40</td>\n",
       "      <td>180141</td>\n",
       "      <td>180140</td>\n",
       "    </tr>\n",
       "    <tr>\n",
       "      <th>top</th>\n",
       "      <td>mitosporic Ascomycota</td>\n",
       "      <td>ncbi:1888</td>\n",
       "      <td>Streptomyces albus</td>\n",
       "      <td>/ncbi:1/ncbi:131567/ncbi:2/ncbi:1783272/ncbi:2...</td>\n",
       "      <td>NP</td>\n",
       "      <td>species</td>\n",
       "      <td>ncbi:11320</td>\n",
       "      <td>Influenza A virus</td>\n",
       "    </tr>\n",
       "    <tr>\n",
       "      <th>freq</th>\n",
       "      <td>48</td>\n",
       "      <td>532</td>\n",
       "      <td>532</td>\n",
       "      <td>532</td>\n",
       "      <td>1583049</td>\n",
       "      <td>1446117</td>\n",
       "      <td>4350</td>\n",
       "      <td>4350</td>\n",
       "    </tr>\n",
       "  </tbody>\n",
       "</table>\n",
       "</div>"
      ],
      "text/plain": [
       "                      synonym      taxid            sci_name  \\\n",
       "count                 1607725    1607726             1607726   \n",
       "unique                1474816     242820              242457   \n",
       "top     mitosporic Ascomycota  ncbi:1888  Streptomyces albus   \n",
       "freq                       48        532                 532   \n",
       "\n",
       "                                                 tax_path      POS     rank  \\\n",
       "count                                             1607726  1607726  1607726   \n",
       "unique                                             242820        3       40   \n",
       "top     /ncbi:1/ncbi:131567/ncbi:2/ncbi:1783272/ncbi:2...       NP  species   \n",
       "freq                                                  532  1583049  1446117   \n",
       "\n",
       "         undefined     also_undefined  \n",
       "count      1515574            1515573  \n",
       "unique      180141             180140  \n",
       "top     ncbi:11320  Influenza A virus  \n",
       "freq          4350               4350  "
      ]
     },
     "metadata": {},
     "output_type": "display_data"
    }
   ],
   "source": [
    "for db_name, path in db_paths.items():\n",
    "    dbg(len(describe_csv(path).columns))\n",
    "    if (len(describe_csv(path).columns))<=2:\n",
    "        dbg(path)\n",
    "        display(describe_csv(path))\n",
    "        print('starting csv format standardisation:')\n",
    "        normalised_df = pd.read_csv(path, names=ncbi_header, index_col=0, on_bad_lines='skip', sep=ncbi_sep).reset_index(level=0)\n",
    "        print('standardised:')\n",
    "        display(normalised_df.head())\n",
    "        new_path = path[:-4]+'.csv'\n",
    "        \n",
    "        normalised_df.to_csv(new_path, index=False,)\n",
    "        db_paths[db_name] = new_path\n",
    "    display(describe_csv(path))"
   ]
  },
  {
   "cell_type": "markdown",
   "metadata": {},
   "source": [
    "# Create LR"
   ]
  },
  {
   "cell_type": "markdown",
   "metadata": {},
   "source": [
    "### (1) Preprocess original datasets"
   ]
  },
  {
   "cell_type": "markdown",
   "metadata": {},
   "source": [
    "Extract relevant information from each dataset and store it in table form (one `csv` per original dataset)"
   ]
  },
  {
   "cell_type": "markdown",
   "metadata": {},
   "source": [
    "## Display examples of input datasets\n",
    "display(pd.read_csv(db_paths['eppo_sci']).describe())\n",
    "pd.read_csv(db_paths['eppo_com']).describe()"
   ]
  },
  {
   "cell_type": "code",
   "execution_count": 82,
   "metadata": {},
   "outputs": [
    {
     "name": "stdout",
     "output_type": "stream",
     "text": [
      "\u001b[35m\u001b[32morig_col: \u001b[0mCodeEOPP\n",
      "\u001b[35m\u001b[32m__package__: \u001b[0mNone\n",
      "\u001b[35m\u001b[32m__package__: \u001b[0mNone\n",
      "\u001b[35m\u001b[32morig_col: \u001b[0mPreferredName\n",
      "\u001b[35m\u001b[32morig_col: \u001b[0mCommonName\n",
      "\u001b[35m\u001b[32m__package__: \u001b[0mNone\n",
      "\u001b[35m\u001b[32morig_col: \u001b[0m['Language', <function get_lang_code at 0x7f732e710d30>]\n",
      "\u001b[35m\u001b[32m__package__: \u001b[0mNone\n",
      "\u001b[35m\u001b[32morig_col: \u001b[0mCodeEOPP\n",
      "\u001b[35m\u001b[32m__package__: \u001b[0mNone\n",
      "\u001b[35m\u001b[32m__package__: \u001b[0mNone\n",
      "\u001b[35m\u001b[32morig_col: \u001b[0mPreferredName\n",
      "\u001b[35m\u001b[32morig_col: \u001b[0mOtherScientificNames\n",
      "\u001b[35m\u001b[32m__package__: \u001b[0mNone\n",
      "\u001b[35m\u001b[32m__package__: \u001b[0mNone\n",
      "\u001b[35m\u001b[32m__package__: \u001b[0mNone\n",
      "\u001b[35m\u001b[32m__package__: \u001b[0mNone\n",
      "\u001b[35m\u001b[32morig_col: \u001b[0mCategory (pest name)\n",
      "\u001b[35m\u001b[32m__package__: \u001b[0mNone\n",
      "\u001b[35m\u001b[32morig_col: \u001b[0m['Category (pest name)', <function PHT_to_lower_taxon at 0x7f731bd4ae60>]\n",
      "\u001b[35m\u001b[32m__package__: \u001b[0mNone\n",
      "\u001b[35m\u001b[32morig_col: \u001b[0m['Keywords', <function to_pattern at 0x7f731bd484c0>]\n",
      "\u001b[35m\u001b[32m__package__: \u001b[0mNone\n",
      "\u001b[35m\u001b[32morig_col: \u001b[0mUnnamed: 3\n",
      "\u001b[35m\u001b[32m__package__: \u001b[0mNone\n",
      "\u001b[35m\u001b[32m__package__: \u001b[0mNone\n",
      "\u001b[35m\u001b[32morig_col: \u001b[0mtaxid\n",
      "\u001b[35m\u001b[32morig_col: \u001b[0msci_name\n",
      "\u001b[35m\u001b[32morig_col: \u001b[0msynonym\n",
      "\u001b[35m\u001b[32m__package__: \u001b[0mNone\n",
      "\u001b[35m\u001b[32m__package__: \u001b[0mNone\n",
      "\u001b[35m\u001b[32m__package__: \u001b[0mNone\n"
     ]
    }
   ],
   "source": [
    "\n",
    "db = dict() # create dictionary of databases\n",
    "\n",
    "for db_name, columns in cc.items(): # loop over db names and respective relevant columns\n",
    "    db[db_name] = dict()    # new database in db dictionary\n",
    "    cc_zip = zip(columns, anno_gloss_column_names)  # match source-db column names to final-db column names\n",
    "\n",
    "    for orig_col, targ_col in cc_zip: # loop over matches\n",
    "        dbg(orig_col)\n",
    "        if isinstance(orig_col, str): # if only column name specified, take column as is\n",
    "            def fun(x):\n",
    "                return x\n",
    "        elif isinstance(orig_col,NoneType): # else, if column must not to be selected, continue\n",
    "            continue\n",
    "        else:    # else, if a preprocessing function has been specified, use it when extracting column\n",
    "            fun = orig_col[1]\n",
    "            orig_col = orig_col[0]\n",
    "            \n",
    "        # sep = tab (for ncbi)\n",
    "        try:\n",
    "            ds_col = pd.read_csv(db_paths[db_name], on_bad_lines='skip')[orig_col]\n",
    "        except:\n",
    "            ds_col = pd.read_csv(db_paths[db_name], names=ncbi_header, index_col=0, on_bad_lines='skip', sep=ncbi_sep).reset_index(level=0)[orig_col]\n",
    "            \n",
    "        db[db_name][targ_col] = list(map(fun, ds_col)) # new_db col = old_db col\n",
    "    \n",
    "    pd.DataFrame.from_dict(db[db_name]).to_csv(os.path.join(annotation_path, db_name+'_table.csv'), index=False)\n"
   ]
  },
  {
   "cell_type": "markdown",
   "metadata": {},
   "source": [
    "### (2) Join Datasets"
   ]
  },
  {
   "cell_type": "code",
   "execution_count": 83,
   "metadata": {},
   "outputs": [],
   "source": [
    "prep_dbs = dict()\n",
    "for db_name in cc.keys():\n",
    "    prep_dbs[db_name] = pd.read_csv(os.path.join(annotation_path, db_name + '_table.csv'), on_bad_lines='skip')"
   ]
  },
  {
   "cell_type": "code",
   "execution_count": 84,
   "metadata": {},
   "outputs": [
    {
     "data": {
      "text/html": [
       "<div>\n",
       "<style scoped>\n",
       "    .dataframe tbody tr th:only-of-type {\n",
       "        vertical-align: middle;\n",
       "    }\n",
       "\n",
       "    .dataframe tbody tr th {\n",
       "        vertical-align: top;\n",
       "    }\n",
       "\n",
       "    .dataframe thead th {\n",
       "        text-align: right;\n",
       "    }\n",
       "</style>\n",
       "<table border=\"1\" class=\"dataframe\">\n",
       "  <thead>\n",
       "    <tr style=\"text-align: right;\">\n",
       "      <th></th>\n",
       "      <th>NCBI_TAXID</th>\n",
       "      <th>preferred_name</th>\n",
       "      <th>synonym</th>\n",
       "    </tr>\n",
       "  </thead>\n",
       "  <tbody>\n",
       "    <tr>\n",
       "      <th>0</th>\n",
       "      <td>ncbi:2</td>\n",
       "      <td>Bacteria</td>\n",
       "      <td>Bacteria</td>\n",
       "    </tr>\n",
       "    <tr>\n",
       "      <th>1</th>\n",
       "      <td>ncbi:2</td>\n",
       "      <td>Bacteria</td>\n",
       "      <td>bacteria</td>\n",
       "    </tr>\n",
       "    <tr>\n",
       "      <th>2</th>\n",
       "      <td>ncbi:2</td>\n",
       "      <td>Bacteria</td>\n",
       "      <td>eubacteria</td>\n",
       "    </tr>\n",
       "    <tr>\n",
       "      <th>3</th>\n",
       "      <td>ncbi:2</td>\n",
       "      <td>Bacteria</td>\n",
       "      <td>Monera</td>\n",
       "    </tr>\n",
       "    <tr>\n",
       "      <th>4</th>\n",
       "      <td>ncbi:2</td>\n",
       "      <td>Bacteria</td>\n",
       "      <td>Procaryotae</td>\n",
       "    </tr>\n",
       "  </tbody>\n",
       "</table>\n",
       "</div>"
      ],
      "text/plain": [
       "  NCBI_TAXID preferred_name      synonym\n",
       "0     ncbi:2       Bacteria     Bacteria\n",
       "1     ncbi:2       Bacteria     bacteria\n",
       "2     ncbi:2       Bacteria   eubacteria\n",
       "3     ncbi:2       Bacteria       Monera\n",
       "4     ncbi:2       Bacteria  Procaryotae"
      ]
     },
     "execution_count": 84,
     "metadata": {},
     "output_type": "execute_result"
    }
   ],
   "source": [
    "prep_dbs['ncbi'].head()"
   ]
  },
  {
   "cell_type": "markdown",
   "metadata": {},
   "source": [
    "#### A concatenated version"
   ]
  },
  {
   "cell_type": "code",
   "execution_count": 85,
   "metadata": {},
   "outputs": [
    {
     "data": {
      "text/plain": [
       "4"
      ]
     },
     "execution_count": 85,
     "metadata": {},
     "output_type": "execute_result"
    }
   ],
   "source": [
    "len(list(prep_dbs.items()))"
   ]
  },
  {
   "cell_type": "code",
   "execution_count": 86,
   "metadata": {},
   "outputs": [
    {
     "data": {
      "text/html": [
       "<div>\n",
       "<style scoped>\n",
       "    .dataframe tbody tr th:only-of-type {\n",
       "        vertical-align: middle;\n",
       "    }\n",
       "\n",
       "    .dataframe tbody tr th {\n",
       "        vertical-align: top;\n",
       "    }\n",
       "\n",
       "    .dataframe thead th {\n",
       "        text-align: right;\n",
       "    }\n",
       "</style>\n",
       "<table border=\"1\" class=\"dataframe\">\n",
       "  <thead>\n",
       "    <tr style=\"text-align: right;\">\n",
       "      <th></th>\n",
       "      <th>EPPO_CODE</th>\n",
       "      <th>preferred_name</th>\n",
       "      <th>synonym</th>\n",
       "      <th>ds_language</th>\n",
       "    </tr>\n",
       "  </thead>\n",
       "  <tbody>\n",
       "    <tr>\n",
       "      <th>0</th>\n",
       "      <td>LIBEAF</td>\n",
       "      <td>'Candidatus Liberibacter africanus'</td>\n",
       "      <td>greening of citrus</td>\n",
       "      <td>en</td>\n",
       "    </tr>\n",
       "    <tr>\n",
       "      <th>1</th>\n",
       "      <td>LIBEAF</td>\n",
       "      <td>'Candidatus Liberibacter africanus'</td>\n",
       "      <td>greening des agrumes</td>\n",
       "      <td>fr</td>\n",
       "    </tr>\n",
       "    <tr>\n",
       "      <th>2</th>\n",
       "      <td>LIBEAF</td>\n",
       "      <td>'Candidatus Liberibacter africanus'</td>\n",
       "      <td>virescence des agrumes</td>\n",
       "      <td>fr</td>\n",
       "    </tr>\n",
       "    <tr>\n",
       "      <th>3</th>\n",
       "      <td>LIBEAF</td>\n",
       "      <td>'Candidatus Liberibacter africanus'</td>\n",
       "      <td>enverdecimiento de los cítricos</td>\n",
       "      <td>es</td>\n",
       "    </tr>\n",
       "    <tr>\n",
       "      <th>4</th>\n",
       "      <td>LIBEAM</td>\n",
       "      <td>'Candidatus Liberibacter americanus'</td>\n",
       "      <td>Brazilian citrus greening</td>\n",
       "      <td>en</td>\n",
       "    </tr>\n",
       "    <tr>\n",
       "      <th>...</th>\n",
       "      <td>...</td>\n",
       "      <td>...</td>\n",
       "      <td>...</td>\n",
       "      <td>...</td>\n",
       "    </tr>\n",
       "    <tr>\n",
       "      <th>1319</th>\n",
       "      <td>PHYP64</td>\n",
       "      <td>Grapevine flavescence dorée phytoplasma</td>\n",
       "      <td>rougeau</td>\n",
       "      <td>fr</td>\n",
       "    </tr>\n",
       "    <tr>\n",
       "      <th>1320</th>\n",
       "      <td>PHYP64</td>\n",
       "      <td>Grapevine flavescence dorée phytoplasma</td>\n",
       "      <td>flavescencia dorada de la vid</td>\n",
       "      <td>es</td>\n",
       "    </tr>\n",
       "    <tr>\n",
       "      <th>1321</th>\n",
       "      <td>PHYP64</td>\n",
       "      <td>Grapevine flavescence dorée phytoplasma</td>\n",
       "      <td>flavescenza dorata de la vite</td>\n",
       "      <td>it</td>\n",
       "    </tr>\n",
       "    <tr>\n",
       "      <th>1322</th>\n",
       "      <td>PHYP64</td>\n",
       "      <td>Grapevine flavescence dorée phytoplasma</td>\n",
       "      <td>Фитоплазма золотистого пожелтения винограда</td>\n",
       "      <td>ru</td>\n",
       "    </tr>\n",
       "    <tr>\n",
       "      <th>1323</th>\n",
       "      <td>TOLCND</td>\n",
       "      <td>Tomato leaf curl New Delhi virus</td>\n",
       "      <td>NaN</td>\n",
       "      <td>NaN</td>\n",
       "    </tr>\n",
       "  </tbody>\n",
       "</table>\n",
       "<p>1324 rows × 4 columns</p>\n",
       "</div>"
      ],
      "text/plain": [
       "     EPPO_CODE                           preferred_name  \\\n",
       "0       LIBEAF      'Candidatus Liberibacter africanus'   \n",
       "1       LIBEAF      'Candidatus Liberibacter africanus'   \n",
       "2       LIBEAF      'Candidatus Liberibacter africanus'   \n",
       "3       LIBEAF      'Candidatus Liberibacter africanus'   \n",
       "4       LIBEAM     'Candidatus Liberibacter americanus'   \n",
       "...        ...                                      ...   \n",
       "1319    PHYP64  Grapevine flavescence dorée phytoplasma   \n",
       "1320    PHYP64  Grapevine flavescence dorée phytoplasma   \n",
       "1321    PHYP64  Grapevine flavescence dorée phytoplasma   \n",
       "1322    PHYP64  Grapevine flavescence dorée phytoplasma   \n",
       "1323    TOLCND         Tomato leaf curl New Delhi virus   \n",
       "\n",
       "                                          synonym ds_language  \n",
       "0                              greening of citrus          en  \n",
       "1                            greening des agrumes          fr  \n",
       "2                          virescence des agrumes          fr  \n",
       "3                 enverdecimiento de los cítricos          es  \n",
       "4                       Brazilian citrus greening          en  \n",
       "...                                           ...         ...  \n",
       "1319                                      rougeau          fr  \n",
       "1320                flavescencia dorada de la vid          es  \n",
       "1321                flavescenza dorata de la vite          it  \n",
       "1322  Фитоплазма золотистого пожелтения винограда          ru  \n",
       "1323                                          NaN         NaN  \n",
       "\n",
       "[1324 rows x 4 columns]"
      ]
     },
     "execution_count": 86,
     "metadata": {},
     "output_type": "execute_result"
    }
   ],
   "source": [
    "list(prep_dbs.items())[0][1]"
   ]
  },
  {
   "cell_type": "code",
   "execution_count": 87,
   "metadata": {},
   "outputs": [],
   "source": [
    "conc_list = list(prep_dbs.values())\n",
    "conc_list[-1] = conc_list[-1].head()"
   ]
  },
  {
   "cell_type": "code",
   "execution_count": 88,
   "metadata": {},
   "outputs": [
    {
     "data": {
      "text/plain": [
       "9551"
      ]
     },
     "execution_count": 88,
     "metadata": {},
     "output_type": "execute_result"
    }
   ],
   "source": [
    "concat_df = pd.concat(\n",
    "    conc_list,\n",
    "    ignore_index=True)\n",
    "concat_df.to_csv('concatenated_glossary.csv')\n",
    "len(concat_df)"
   ]
  },
  {
   "cell_type": "code",
   "execution_count": 89,
   "metadata": {},
   "outputs": [
    {
     "data": {
      "text/html": [
       "<div>\n",
       "<style scoped>\n",
       "    .dataframe tbody tr th:only-of-type {\n",
       "        vertical-align: middle;\n",
       "    }\n",
       "\n",
       "    .dataframe tbody tr th {\n",
       "        vertical-align: top;\n",
       "    }\n",
       "\n",
       "    .dataframe thead th {\n",
       "        text-align: right;\n",
       "    }\n",
       "</style>\n",
       "<table border=\"1\" class=\"dataframe\">\n",
       "  <thead>\n",
       "    <tr style=\"text-align: right;\">\n",
       "      <th></th>\n",
       "      <th>EPPO_CODE</th>\n",
       "      <th>preferred_name</th>\n",
       "      <th>synonym</th>\n",
       "      <th>ds_language</th>\n",
       "      <th>EFSA_PHT</th>\n",
       "      <th>re</th>\n",
       "      <th>match_language</th>\n",
       "      <th>NCBI_TAXID</th>\n",
       "    </tr>\n",
       "  </thead>\n",
       "  <tbody>\n",
       "    <tr>\n",
       "      <th>0</th>\n",
       "      <td>LIBEAF</td>\n",
       "      <td>'Candidatus Liberibacter africanus'</td>\n",
       "      <td>greening of citrus</td>\n",
       "      <td>en</td>\n",
       "      <td>NaN</td>\n",
       "      <td>NaN</td>\n",
       "      <td>NaN</td>\n",
       "      <td>NaN</td>\n",
       "    </tr>\n",
       "    <tr>\n",
       "      <th>1</th>\n",
       "      <td>LIBEAF</td>\n",
       "      <td>'Candidatus Liberibacter africanus'</td>\n",
       "      <td>greening des agrumes</td>\n",
       "      <td>fr</td>\n",
       "      <td>NaN</td>\n",
       "      <td>NaN</td>\n",
       "      <td>NaN</td>\n",
       "      <td>NaN</td>\n",
       "    </tr>\n",
       "    <tr>\n",
       "      <th>2</th>\n",
       "      <td>LIBEAF</td>\n",
       "      <td>'Candidatus Liberibacter africanus'</td>\n",
       "      <td>virescence des agrumes</td>\n",
       "      <td>fr</td>\n",
       "      <td>NaN</td>\n",
       "      <td>NaN</td>\n",
       "      <td>NaN</td>\n",
       "      <td>NaN</td>\n",
       "    </tr>\n",
       "    <tr>\n",
       "      <th>3</th>\n",
       "      <td>LIBEAF</td>\n",
       "      <td>'Candidatus Liberibacter africanus'</td>\n",
       "      <td>enverdecimiento de los cítricos</td>\n",
       "      <td>es</td>\n",
       "      <td>NaN</td>\n",
       "      <td>NaN</td>\n",
       "      <td>NaN</td>\n",
       "      <td>NaN</td>\n",
       "    </tr>\n",
       "    <tr>\n",
       "      <th>4</th>\n",
       "      <td>LIBEAM</td>\n",
       "      <td>'Candidatus Liberibacter americanus'</td>\n",
       "      <td>Brazilian citrus greening</td>\n",
       "      <td>en</td>\n",
       "      <td>NaN</td>\n",
       "      <td>NaN</td>\n",
       "      <td>NaN</td>\n",
       "      <td>NaN</td>\n",
       "    </tr>\n",
       "  </tbody>\n",
       "</table>\n",
       "</div>"
      ],
      "text/plain": [
       "  EPPO_CODE                        preferred_name  \\\n",
       "0    LIBEAF   'Candidatus Liberibacter africanus'   \n",
       "1    LIBEAF   'Candidatus Liberibacter africanus'   \n",
       "2    LIBEAF   'Candidatus Liberibacter africanus'   \n",
       "3    LIBEAF   'Candidatus Liberibacter africanus'   \n",
       "4    LIBEAM  'Candidatus Liberibacter americanus'   \n",
       "\n",
       "                           synonym ds_language EFSA_PHT   re match_language  \\\n",
       "0               greening of citrus          en      NaN  NaN            NaN   \n",
       "1             greening des agrumes          fr      NaN  NaN            NaN   \n",
       "2           virescence des agrumes          fr      NaN  NaN            NaN   \n",
       "3  enverdecimiento de los cítricos          es      NaN  NaN            NaN   \n",
       "4        Brazilian citrus greening          en      NaN  NaN            NaN   \n",
       "\n",
       "  NCBI_TAXID  \n",
       "0        NaN  \n",
       "1        NaN  \n",
       "2        NaN  \n",
       "3        NaN  \n",
       "4        NaN  "
      ]
     },
     "execution_count": 89,
     "metadata": {},
     "output_type": "execute_result"
    }
   ],
   "source": [
    "concat_df.head()"
   ]
  },
  {
   "cell_type": "markdown",
   "metadata": {},
   "source": [
    "#### Create empty DF with col names"
   ]
  },
  {
   "cell_type": "code",
   "execution_count": 90,
   "metadata": {},
   "outputs": [
    {
     "data": {
      "text/html": [
       "<div>\n",
       "<style scoped>\n",
       "    .dataframe tbody tr th:only-of-type {\n",
       "        vertical-align: middle;\n",
       "    }\n",
       "\n",
       "    .dataframe tbody tr th {\n",
       "        vertical-align: top;\n",
       "    }\n",
       "\n",
       "    .dataframe thead th {\n",
       "        text-align: right;\n",
       "    }\n",
       "</style>\n",
       "<table border=\"1\" class=\"dataframe\">\n",
       "  <thead>\n",
       "    <tr style=\"text-align: right;\">\n",
       "      <th></th>\n",
       "      <th>EPPO_CODE</th>\n",
       "      <th>EFSA_PHT</th>\n",
       "      <th>NCBI_TAXID</th>\n",
       "      <th>preferred_name</th>\n",
       "      <th>synonym</th>\n",
       "      <th>re</th>\n",
       "      <th>ds_language</th>\n",
       "      <th>match_language</th>\n",
       "    </tr>\n",
       "  </thead>\n",
       "  <tbody>\n",
       "  </tbody>\n",
       "</table>\n",
       "</div>"
      ],
      "text/plain": [
       "Empty DataFrame\n",
       "Columns: [EPPO_CODE, EFSA_PHT, NCBI_TAXID, preferred_name, synonym, re, ds_language, match_language]\n",
       "Index: []"
      ]
     },
     "metadata": {},
     "output_type": "display_data"
    }
   ],
   "source": [
    "structured_db = pd.DataFrame(columns=anno_gloss_column_names)\n",
    "display(structured_db)"
   ]
  },
  {
   "cell_type": "markdown",
   "metadata": {},
   "source": [
    "df1 = pd.DataFrame([[3,4],[5,6]], columns=['a','b'])\n",
    "df2 = pd.DataFrame([[5,6],[5,6]], columns=['a','c'])\n",
    "display(df1)\n",
    "pd.concat([df1,df2], ignore_index=True)"
   ]
  },
  {
   "cell_type": "markdown",
   "metadata": {},
   "source": [
    "#### Add EPPO info to final DB"
   ]
  },
  {
   "cell_type": "code",
   "execution_count": 91,
   "metadata": {},
   "outputs": [],
   "source": [
    "db_names = list(str(x) for x in prep_dbs.keys()) # names of EPPO databases"
   ]
  },
  {
   "cell_type": "code",
   "execution_count": 92,
   "metadata": {},
   "outputs": [
    {
     "data": {
      "text/html": [
       "<div>\n",
       "<style scoped>\n",
       "    .dataframe tbody tr th:only-of-type {\n",
       "        vertical-align: middle;\n",
       "    }\n",
       "\n",
       "    .dataframe tbody tr th {\n",
       "        vertical-align: top;\n",
       "    }\n",
       "\n",
       "    .dataframe thead th {\n",
       "        text-align: right;\n",
       "    }\n",
       "</style>\n",
       "<table border=\"1\" class=\"dataframe\">\n",
       "  <thead>\n",
       "    <tr style=\"text-align: right;\">\n",
       "      <th></th>\n",
       "      <th>EPPO_CODE</th>\n",
       "      <th>preferred_name</th>\n",
       "      <th>synonym</th>\n",
       "      <th>ds_language</th>\n",
       "    </tr>\n",
       "  </thead>\n",
       "  <tbody>\n",
       "    <tr>\n",
       "      <th>0</th>\n",
       "      <td>LIBEAF</td>\n",
       "      <td>'Candidatus Liberibacter africanus'</td>\n",
       "      <td>greening of citrus</td>\n",
       "      <td>en</td>\n",
       "    </tr>\n",
       "    <tr>\n",
       "      <th>1</th>\n",
       "      <td>LIBEAF</td>\n",
       "      <td>'Candidatus Liberibacter africanus'</td>\n",
       "      <td>greening des agrumes</td>\n",
       "      <td>fr</td>\n",
       "    </tr>\n",
       "    <tr>\n",
       "      <th>2</th>\n",
       "      <td>LIBEAF</td>\n",
       "      <td>'Candidatus Liberibacter africanus'</td>\n",
       "      <td>virescence des agrumes</td>\n",
       "      <td>fr</td>\n",
       "    </tr>\n",
       "    <tr>\n",
       "      <th>3</th>\n",
       "      <td>LIBEAF</td>\n",
       "      <td>'Candidatus Liberibacter africanus'</td>\n",
       "      <td>enverdecimiento de los cítricos</td>\n",
       "      <td>es</td>\n",
       "    </tr>\n",
       "    <tr>\n",
       "      <th>4</th>\n",
       "      <td>LIBEAM</td>\n",
       "      <td>'Candidatus Liberibacter americanus'</td>\n",
       "      <td>Brazilian citrus greening</td>\n",
       "      <td>en</td>\n",
       "    </tr>\n",
       "  </tbody>\n",
       "</table>\n",
       "</div>"
      ],
      "text/plain": [
       "  EPPO_CODE                        preferred_name  \\\n",
       "0    LIBEAF   'Candidatus Liberibacter africanus'   \n",
       "1    LIBEAF   'Candidatus Liberibacter africanus'   \n",
       "2    LIBEAF   'Candidatus Liberibacter africanus'   \n",
       "3    LIBEAF   'Candidatus Liberibacter africanus'   \n",
       "4    LIBEAM  'Candidatus Liberibacter americanus'   \n",
       "\n",
       "                           synonym ds_language  \n",
       "0               greening of citrus          en  \n",
       "1             greening des agrumes          fr  \n",
       "2           virescence des agrumes          fr  \n",
       "3  enverdecimiento de los cítricos          es  \n",
       "4        Brazilian citrus greening          en  "
      ]
     },
     "metadata": {},
     "output_type": "display_data"
    }
   ],
   "source": [
    "# copy into a new db to which eppo information will be added \n",
    "ncbi_eppo_db = structured_db.copy()\n",
    "prep_ncbi_db = prep_dbs['ncbi']\n",
    "\n",
    "## open both eppo (sci and com) dbs and concatenate them\n",
    "prep_eppo_dbs = [prep_dbs[db_name] for db_name in db_names if 'eppo' in db_name]\n",
    "prep_eppo_db = pd.concat(prep_eppo_dbs, ignore_index=True)\n",
    "display(prep_eppo_db.head())"
   ]
  },
  {
   "cell_type": "code",
   "execution_count": 93,
   "metadata": {},
   "outputs": [
    {
     "name": "stderr",
     "output_type": "stream",
     "text": [
      "100%|██████████| 1988/1988 [13:55<00:00,  2.38it/s]\n"
     ]
    }
   ],
   "source": [
    "## loop over syns in EPPO db\n",
    "for prep_eppo_db_i in tqdm(range(len(prep_eppo_db))):\n",
    "    syn = str(prep_eppo_db['synonym'][prep_eppo_db_i]) \n",
    "    lang = prep_eppo_db['ds_language'][prep_eppo_db_i]\n",
    "    key = prep_eppo_db['EPPO_CODE'][prep_eppo_db_i]\n",
    "    sci_name = prep_eppo_db['preferred_name'][prep_eppo_db_i]\n",
    "    \n",
    "    prep_ncbi_syn_rows = prep_ncbi_db[prep_ncbi_db['synonym']==syn]\n",
    "    prep_ncbi_sci_rows = prep_ncbi_db[(prep_ncbi_db['preferred_name']==sci_name) | (prep_ncbi_db['preferred_name']==\"'\"+sci_name+\"'\")]\n",
    "    \n",
    "    # rows in NCBI that have a matching synonym or scientific name\n",
    "    prep_ncbi_matching_rows = pd.concat([prep_ncbi_syn_rows, prep_ncbi_sci_rows], ignore_index=True)\n",
    "    \n",
    "    taxid_col = (prep_ncbi_matching_rows['NCBI_TAXID'])\n",
    "    sci_name_col = prep_ncbi_matching_rows['preferred_name']\n",
    "    \n",
    "    if len(prep_ncbi_matching_rows) != 0:\n",
    "        taxid = taxid_col[0]\n",
    "        sci_name = sci_name_col[0]\n",
    "    else:\n",
    "        taxid = ''\n",
    "        sci_name = prep_eppo_db['preferred_name'][prep_eppo_db_i]\n",
    "    \n",
    "    new_eppo_row = pd.DataFrame([[taxid, sci_name, syn, lang, key]], columns=['NCBI_TAXID', 'preferred_name', 'synonym', 'ds_language', 'EPPO_CODE'])\n",
    "    \n",
    "    ncbi_eppo_db = pd.concat([ncbi_eppo_db, new_eppo_row], ignore_index=True)"
   ]
  },
  {
   "cell_type": "code",
   "execution_count": 94,
   "metadata": {},
   "outputs": [],
   "source": [
    "ncbi_eppo_db.to_csv('output.csv')"
   ]
  },
  {
   "cell_type": "markdown",
   "metadata": {},
   "source": [
    "for i in range(10):\n",
    "    print('i is:'+str(i))\n",
    "    for j in range(10):\n",
    "        print(j)\n",
    "        if j%5 == 0 and j>0:\n",
    "            print(\"break\")\n",
    "            break"
   ]
  },
  {
   "cell_type": "markdown",
   "metadata": {},
   "source": [
    "#### Add EFSA info to final DB"
   ]
  },
  {
   "cell_type": "code",
   "execution_count": 95,
   "metadata": {},
   "outputs": [
    {
     "data": {
      "text/html": [
       "<div>\n",
       "<style scoped>\n",
       "    .dataframe tbody tr th:only-of-type {\n",
       "        vertical-align: middle;\n",
       "    }\n",
       "\n",
       "    .dataframe tbody tr th {\n",
       "        vertical-align: top;\n",
       "    }\n",
       "\n",
       "    .dataframe thead th {\n",
       "        text-align: right;\n",
       "    }\n",
       "</style>\n",
       "<table border=\"1\" class=\"dataframe\">\n",
       "  <thead>\n",
       "    <tr style=\"text-align: right;\">\n",
       "      <th></th>\n",
       "      <th>EFSA_PHT</th>\n",
       "      <th>preferred_name</th>\n",
       "      <th>re</th>\n",
       "      <th>match_language</th>\n",
       "    </tr>\n",
       "  </thead>\n",
       "  <tbody>\n",
       "    <tr>\n",
       "      <th>0</th>\n",
       "      <td>AcaloleptaSejuncta-PHT</td>\n",
       "      <td>acalolepta sejuncta</td>\n",
       "      <td>acalolepta sejuncta</td>\n",
       "      <td>NaN</td>\n",
       "    </tr>\n",
       "    <tr>\n",
       "      <th>1</th>\n",
       "      <td>AcalymmaVittatum-PHT</td>\n",
       "      <td>acalymma vittatum</td>\n",
       "      <td>acalymma vittata</td>\n",
       "      <td>NaN</td>\n",
       "    </tr>\n",
       "    <tr>\n",
       "      <th>2</th>\n",
       "      <td>AcalymmaVittatum-PHT</td>\n",
       "      <td>acalymma vittatum</td>\n",
       "      <td>acalymma vittatum</td>\n",
       "      <td>NaN</td>\n",
       "    </tr>\n",
       "    <tr>\n",
       "      <th>3</th>\n",
       "      <td>AcalymmaVittatum-PHT</td>\n",
       "      <td>acalymma vittatum</td>\n",
       "      <td>chrysom\\wle\\w* ray\\we du concombre</td>\n",
       "      <td>Fr</td>\n",
       "    </tr>\n",
       "    <tr>\n",
       "      <th>4</th>\n",
       "      <td>AcalymmaVittatum-PHT</td>\n",
       "      <td>acalymma vittatum</td>\n",
       "      <td>cistela melanocephala</td>\n",
       "      <td>NaN</td>\n",
       "    </tr>\n",
       "  </tbody>\n",
       "</table>\n",
       "</div>"
      ],
      "text/plain": [
       "                 EFSA_PHT       preferred_name  \\\n",
       "0  AcaloleptaSejuncta-PHT  acalolepta sejuncta   \n",
       "1    AcalymmaVittatum-PHT    acalymma vittatum   \n",
       "2    AcalymmaVittatum-PHT    acalymma vittatum   \n",
       "3    AcalymmaVittatum-PHT    acalymma vittatum   \n",
       "4    AcalymmaVittatum-PHT    acalymma vittatum   \n",
       "\n",
       "                                   re match_language  \n",
       "0                 acalolepta sejuncta            NaN  \n",
       "1                    acalymma vittata            NaN  \n",
       "2                   acalymma vittatum            NaN  \n",
       "3  chrysom\\wle\\w* ray\\we du concombre             Fr  \n",
       "4               cistela melanocephala            NaN  "
      ]
     },
     "metadata": {},
     "output_type": "display_data"
    },
    {
     "data": {
      "text/plain": [
       "7558"
      ]
     },
     "execution_count": 95,
     "metadata": {},
     "output_type": "execute_result"
    }
   ],
   "source": [
    "\n",
    "# copy into a new db to which eppo information will be added \n",
    "final_db = ncbi_eppo_db.copy()\n",
    "\n",
    "## open both eppo (sci and com) dbs and concatenate them\n",
    "prep_efsa_dbs = [prep_dbs[db_name] for db_name in db_names if 'efsa' in db_name]\n",
    "prep_efsa_db = pd.concat(prep_efsa_dbs, ignore_index=True)\n",
    "display(prep_efsa_db.head())\n",
    "len(prep_efsa_db)"
   ]
  },
  {
   "cell_type": "code",
   "execution_count": 96,
   "metadata": {},
   "outputs": [
    {
     "name": "stderr",
     "output_type": "stream",
     "text": [
      "100%|██████████| 7558/7558 [04:45<00:00, 26.50it/s]\n"
     ]
    },
    {
     "data": {
      "text/html": [
       "<div>\n",
       "<style scoped>\n",
       "    .dataframe tbody tr th:only-of-type {\n",
       "        vertical-align: middle;\n",
       "    }\n",
       "\n",
       "    .dataframe tbody tr th {\n",
       "        vertical-align: top;\n",
       "    }\n",
       "\n",
       "    .dataframe thead th {\n",
       "        text-align: right;\n",
       "    }\n",
       "</style>\n",
       "<table border=\"1\" class=\"dataframe\">\n",
       "  <thead>\n",
       "    <tr style=\"text-align: right;\">\n",
       "      <th></th>\n",
       "      <th>EPPO_CODE</th>\n",
       "      <th>EFSA_PHT</th>\n",
       "      <th>NCBI_TAXID</th>\n",
       "      <th>preferred_name</th>\n",
       "      <th>synonym</th>\n",
       "      <th>re</th>\n",
       "      <th>ds_language</th>\n",
       "      <th>match_language</th>\n",
       "    </tr>\n",
       "  </thead>\n",
       "  <tbody>\n",
       "    <tr>\n",
       "      <th>0</th>\n",
       "      <td>LIBEAF</td>\n",
       "      <td>LiberibacterAfricanusAsiaticusAmericanus-PHT</td>\n",
       "      <td></td>\n",
       "      <td>'Candidatus Liberibacter africanus'</td>\n",
       "      <td>greening of citrus</td>\n",
       "      <td>greening of citrus</td>\n",
       "      <td>en</td>\n",
       "      <td>NaN</td>\n",
       "    </tr>\n",
       "    <tr>\n",
       "      <th>1</th>\n",
       "      <td>LIBEAF</td>\n",
       "      <td>LiberibacterAfricanusAsiaticusAmericanus-PHT</td>\n",
       "      <td></td>\n",
       "      <td>'Candidatus Liberibacter africanus'</td>\n",
       "      <td>greening des agrumes</td>\n",
       "      <td>greening des agrumes</td>\n",
       "      <td>fr</td>\n",
       "      <td>NaN</td>\n",
       "    </tr>\n",
       "    <tr>\n",
       "      <th>2</th>\n",
       "      <td>LIBEAF</td>\n",
       "      <td>LiberibacterAfricanusAsiaticusAmericanus-PHT</td>\n",
       "      <td></td>\n",
       "      <td>'Candidatus Liberibacter africanus'</td>\n",
       "      <td>virescence des agrumes</td>\n",
       "      <td>vir\\wscence des agrumes</td>\n",
       "      <td>fr</td>\n",
       "      <td>NaN</td>\n",
       "    </tr>\n",
       "    <tr>\n",
       "      <th>3</th>\n",
       "      <td>LIBEAF</td>\n",
       "      <td>LiberibacterAfricanusAsiaticusAmericanus-PHT</td>\n",
       "      <td></td>\n",
       "      <td>'Candidatus Liberibacter africanus'</td>\n",
       "      <td>enverdecimiento de los cítricos</td>\n",
       "      <td>enverdecimiento de los c\\wtricos</td>\n",
       "      <td>es</td>\n",
       "      <td>NaN</td>\n",
       "    </tr>\n",
       "    <tr>\n",
       "      <th>4</th>\n",
       "      <td>LIBEAM</td>\n",
       "      <td>NaN</td>\n",
       "      <td></td>\n",
       "      <td>'Candidatus Liberibacter americanus'</td>\n",
       "      <td>Brazilian citrus greening</td>\n",
       "      <td>NaN</td>\n",
       "      <td>en</td>\n",
       "      <td>NaN</td>\n",
       "    </tr>\n",
       "  </tbody>\n",
       "</table>\n",
       "</div>"
      ],
      "text/plain": [
       "  EPPO_CODE                                      EFSA_PHT NCBI_TAXID  \\\n",
       "0    LIBEAF  LiberibacterAfricanusAsiaticusAmericanus-PHT              \n",
       "1    LIBEAF  LiberibacterAfricanusAsiaticusAmericanus-PHT              \n",
       "2    LIBEAF  LiberibacterAfricanusAsiaticusAmericanus-PHT              \n",
       "3    LIBEAF  LiberibacterAfricanusAsiaticusAmericanus-PHT              \n",
       "4    LIBEAM                                           NaN              \n",
       "\n",
       "                         preferred_name                          synonym  \\\n",
       "0   'Candidatus Liberibacter africanus'               greening of citrus   \n",
       "1   'Candidatus Liberibacter africanus'             greening des agrumes   \n",
       "2   'Candidatus Liberibacter africanus'           virescence des agrumes   \n",
       "3   'Candidatus Liberibacter africanus'  enverdecimiento de los cítricos   \n",
       "4  'Candidatus Liberibacter americanus'        Brazilian citrus greening   \n",
       "\n",
       "                                 re ds_language match_language  \n",
       "0                greening of citrus          en            NaN  \n",
       "1              greening des agrumes          fr            NaN  \n",
       "2           vir\\wscence des agrumes          fr            NaN  \n",
       "3  enverdecimiento de los c\\wtricos          es            NaN  \n",
       "4                               NaN          en            NaN  "
      ]
     },
     "execution_count": 96,
     "metadata": {},
     "output_type": "execute_result"
    }
   ],
   "source": [
    "match_found = False\n",
    "## loop over res i n EFSA db\n",
    "for prep_efsa_db_i in tqdm(range(len(prep_efsa_db))):\n",
    "    for final_db_i in range(len(final_db)):\n",
    "        pattern = prep_efsa_db['re'][prep_efsa_db_i]\n",
    "        syn = final_db['synonym'][final_db_i]\n",
    "        \n",
    "        ## if re matches a syn, add: re, efsa key, language if None\n",
    "        if re.match(str(pattern), str(syn)):\n",
    "            final_db['re'][final_db_i] = prep_efsa_db['re'][prep_efsa_db_i]\n",
    "            final_db['EFSA_PHT'][final_db_i] = prep_efsa_db['EFSA_PHT'][prep_efsa_db_i]\n",
    "            final_db['match_language'][final_db_i] = prep_efsa_db['match_language'][prep_efsa_db_i]\n",
    "            match_found = True\n",
    "        \n",
    "    ## else, if no matches, add new line = re, syn, key, language\n",
    "    if not match_found:\n",
    "        pattern = prep_efsa_db['re'][prep_efsa_db_i]\n",
    "        #syn = prep_efsa_db['synonym'][prep_efsa_db_i]\n",
    "        key = prep_efsa_db['EFSA_PHT'][prep_efsa_db_i]\n",
    "        lang = prep_efsa_db['match_language'][prep_efsa_db_i]\n",
    "        \n",
    "        new_efsa_row = pd.DataFrame([[pattern, syn, lang, key]], columns=['re', 'synonym', 'match_language', 'EFSA_PHT'])\n",
    "        \n",
    "        final_db = pd.concat([final_db, new_efsa_row], ignore_index=True)\n",
    "            \n",
    "final_db.head()"
   ]
  },
  {
   "cell_type": "markdown",
   "metadata": {},
   "source": [
    "#### add NCBI info in incomplete EFSA lines"
   ]
  },
  {
   "cell_type": "code",
   "execution_count": 122,
   "metadata": {},
   "outputs": [
    {
     "name": "stderr",
     "output_type": "stream",
     "text": [
      " 92%|█████████▏| 1989/2164 [00:40<00:03, 49.43it/s]"
     ]
    },
    {
     "name": "stdout",
     "output_type": "stream",
     "text": [
      "checked all NCBI for acalolepta sejuncta\n"
     ]
    },
    {
     "name": "stderr",
     "output_type": "stream",
     "text": [
      " 92%|█████████▏| 1990/2164 [01:21<00:08, 20.13it/s]"
     ]
    },
    {
     "name": "stdout",
     "output_type": "stream",
     "text": [
      "checked all NCBI for acalymma vittata\n"
     ]
    },
    {
     "name": "stderr",
     "output_type": "stream",
     "text": [
      " 92%|█████████▏| 1991/2164 [02:02<00:15, 10.87it/s]"
     ]
    },
    {
     "name": "stdout",
     "output_type": "stream",
     "text": [
      "checked all NCBI for acalymma vittatum\n"
     ]
    },
    {
     "name": "stderr",
     "output_type": "stream",
     "text": [
      " 92%|█████████▏| 1992/2164 [02:44<00:26,  6.56it/s]"
     ]
    },
    {
     "name": "stdout",
     "output_type": "stream",
     "text": [
      "checked all NCBI for chrysom\\wle\\w* ray\\we du concombre\n"
     ]
    },
    {
     "name": "stderr",
     "output_type": "stream",
     "text": [
      " 92%|█████████▏| 1993/2164 [03:24<00:40,  4.22it/s]"
     ]
    },
    {
     "name": "stdout",
     "output_type": "stream",
     "text": [
      "checked all NCBI for cistela melanocephala\n"
     ]
    },
    {
     "name": "stderr",
     "output_type": "stream",
     "text": [
      " 92%|█████████▏| 1994/2164 [04:05<01:00,  2.81it/s]"
     ]
    },
    {
     "name": "stdout",
     "output_type": "stream",
     "text": [
      "checked all NCBI for cizgili hiyar bocegi\n"
     ]
    },
    {
     "name": "stderr",
     "output_type": "stream",
     "text": [
      " 92%|█████████▏| 1995/2164 [04:47<01:30,  1.87it/s]"
     ]
    },
    {
     "name": "stdout",
     "output_type": "stream",
     "text": [
      "checked all NCBI for crioceris vittata\n"
     ]
    },
    {
     "name": "stderr",
     "output_type": "stream",
     "text": [
      " 92%|█████████▏| 1996/2164 [05:34<02:16,  1.23it/s]"
     ]
    },
    {
     "name": "stdout",
     "output_type": "stream",
     "text": [
      "checked all NCBI for cryptocephalus americanus\n"
     ]
    },
    {
     "name": "stderr",
     "output_type": "stream",
     "text": [
      " 92%|█████████▏| 1997/2164 [06:16<03:13,  1.16s/it]"
     ]
    },
    {
     "name": "stdout",
     "output_type": "stream",
     "text": [
      "checked all NCBI for cryptocephalus stolatus\n"
     ]
    },
    {
     "name": "stderr",
     "output_type": "stream",
     "text": [
      " 92%|█████████▏| 1998/2164 [06:56<04:30,  1.63s/it]"
     ]
    },
    {
     "name": "stdout",
     "output_type": "stream",
     "text": [
      "checked all NCBI for diabrotica americana\n"
     ]
    },
    {
     "name": "stderr",
     "output_type": "stream",
     "text": [
      " 92%|█████████▏| 1999/2164 [07:38<06:19,  2.30s/it]"
     ]
    },
    {
     "name": "stdout",
     "output_type": "stream",
     "text": [
      "checked all NCBI for diabrotica melanocephala\n"
     ]
    },
    {
     "name": "stderr",
     "output_type": "stream",
     "text": [
      " 92%|█████████▏| 2000/2164 [08:20<08:49,  3.23s/it]"
     ]
    },
    {
     "name": "stdout",
     "output_type": "stream",
     "text": [
      "checked all NCBI for diabrotica vittata\n"
     ]
    },
    {
     "name": "stderr",
     "output_type": "stream",
     "text": [
      " 92%|█████████▏| 2001/2164 [09:01<12:08,  4.47s/it]"
     ]
    },
    {
     "name": "stdout",
     "output_type": "stream",
     "text": [
      "checked all NCBI for diabrotica vittatae\n"
     ]
    },
    {
     "name": "stderr",
     "output_type": "stream",
     "text": [
      " 93%|█████████▎| 2002/2164 [09:45<16:44,  6.20s/it]"
     ]
    },
    {
     "name": "stdout",
     "output_type": "stream",
     "text": [
      "checked all NCBI for escarabajo de las cucurbit\\wceas\n"
     ]
    },
    {
     "name": "stderr",
     "output_type": "stream",
     "text": [
      " 93%|█████████▎| 2003/2164 [10:29<22:47,  8.49s/it]"
     ]
    },
    {
     "name": "stdout",
     "output_type": "stream",
     "text": [
      "checked all NCBI for galeruca cucumeris\n"
     ]
    },
    {
     "name": "stderr",
     "output_type": "stream",
     "text": [
      " 93%|█████████▎| 2004/2164 [11:09<29:09, 10.93s/it]"
     ]
    },
    {
     "name": "stdout",
     "output_type": "stream",
     "text": [
      "checked all NCBI for galeruca vittata\n"
     ]
    },
    {
     "name": "stderr",
     "output_type": "stream",
     "text": [
      " 93%|█████████▎| 2005/2164 [11:50<36:52, 13.92s/it]"
     ]
    },
    {
     "name": "stdout",
     "output_type": "stream",
     "text": [
      "checked all NCBI for galleruca americana\n"
     ]
    },
    {
     "name": "stderr",
     "output_type": "stream",
     "text": [
      " 93%|█████████▎| 2006/2164 [12:30<45:26, 17.26s/it]"
     ]
    },
    {
     "name": "stdout",
     "output_type": "stream",
     "text": [
      "checked all NCBI for galleruca pallipes\n"
     ]
    },
    {
     "name": "stderr",
     "output_type": "stream",
     "text": [
      " 93%|█████████▎| 2007/2164 [12:51<46:41, 17.85s/it]"
     ]
    },
    {
     "name": "stdout",
     "output_type": "stream",
     "text": [
      "\u001b[35mMATCH:striped cucumber beetle\\w*\u001b[32msyn: \u001b[0mstriped cucumber beetle\n",
      "\u001b[35mMATCH:striped cucumber beetle\\w*\u001b[32msci_name: \u001b[0mAcalymma vittatum\n",
      "checked all NCBI for striped cucumber beetle\\w*\n"
     ]
    },
    {
     "name": "stderr",
     "output_type": "stream",
     "text": [
      " 93%|█████████▎| 2008/2164 [13:32<56:53, 21.88s/it]"
     ]
    },
    {
     "name": "stdout",
     "output_type": "stream",
     "text": [
      "checked all NCBI for tortuguilla\\w* de las cucurbit\\wceas\n"
     ]
    },
    {
     "name": "stderr",
     "output_type": "stream",
     "text": [
      " 93%|█████████▎| 2009/2164 [14:12<1:06:17, 25.66s/it]"
     ]
    },
    {
     "name": "stdout",
     "output_type": "stream",
     "text": [
      "checked all NCBI for acanthococcus pohutukawa\n"
     ]
    },
    {
     "name": "stderr",
     "output_type": "stream",
     "text": [
      " 93%|█████████▎| 2010/2164 [14:52<1:14:23, 28.99s/it]"
     ]
    },
    {
     "name": "stdout",
     "output_type": "stream",
     "text": [
      "checked all NCBI for acantholyda nipponica\n"
     ]
    },
    {
     "name": "stderr",
     "output_type": "stream",
     "text": [
      " 93%|█████████▎| 2011/2164 [15:32<1:20:08, 31.43s/it]"
     ]
    },
    {
     "name": "stdout",
     "output_type": "stream",
     "text": [
      "checked all NCBI for lyda nipponica\n"
     ]
    },
    {
     "name": "stderr",
     "output_type": "stream",
     "text": [
      " 93%|█████████▎| 2012/2164 [16:09<1:23:52, 33.11s/it]"
     ]
    },
    {
     "name": "stdout",
     "output_type": "stream",
     "text": [
      "checked all NCBI for acaphylla theae\n"
     ]
    },
    {
     "name": "stderr",
     "output_type": "stream",
     "text": [
      " 93%|█████████▎| 2013/2164 [16:48<1:26:42, 34.45s/it]"
     ]
    },
    {
     "name": "stdout",
     "output_type": "stream",
     "text": [
      "checked all NCBI for acarien couleur chair\n"
     ]
    },
    {
     "name": "stderr",
     "output_type": "stream",
     "text": [
      " 93%|█████████▎| 2014/2164 [17:26<1:28:38, 35.46s/it]"
     ]
    },
    {
     "name": "stdout",
     "output_type": "stream",
     "text": [
      "checked all NCBI for acarien rose\n"
     ]
    },
    {
     "name": "stderr",
     "output_type": "stream",
     "text": [
      " 93%|█████████▎| 2015/2164 [18:03<1:29:38, 36.10s/it]"
     ]
    },
    {
     "name": "stdout",
     "output_type": "stream",
     "text": [
      "checked all NCBI for pink mite\n"
     ]
    },
    {
     "name": "stderr",
     "output_type": "stream",
     "text": [
      " 93%|█████████▎| 2016/2164 [18:41<1:30:05, 36.52s/it]"
     ]
    },
    {
     "name": "stdout",
     "output_type": "stream",
     "text": [
      "checked all NCBI for pink tea mite\n"
     ]
    },
    {
     "name": "stderr",
     "output_type": "stream",
     "text": [
      " 93%|█████████▎| 2017/2164 [19:18<1:29:32, 36.54s/it]"
     ]
    },
    {
     "name": "stdout",
     "output_type": "stream",
     "text": [
      "checked all NCBI for rosafarbene teegallmilbe\n"
     ]
    },
    {
     "name": "stderr",
     "output_type": "stream",
     "text": [
      " 93%|█████████▎| 2018/2164 [19:55<1:29:57, 36.97s/it]"
     ]
    },
    {
     "name": "stdout",
     "output_type": "stream",
     "text": [
      "checked all NCBI for roze theemijt\n"
     ]
    },
    {
     "name": "stderr",
     "output_type": "stream",
     "text": [
      " 93%|█████████▎| 2019/2164 [20:33<1:29:59, 37.24s/it]"
     ]
    },
    {
     "name": "stdout",
     "output_type": "stream",
     "text": [
      "checked all NCBI for vleeschkleurige theemijt\n"
     ]
    },
    {
     "name": "stderr",
     "output_type": "stream",
     "text": [
      " 93%|█████████▎| 2020/2164 [21:11<1:29:38, 37.35s/it]"
     ]
    },
    {
     "name": "stdout",
     "output_type": "stream",
     "text": [
      "checked all NCBI for acarien du figuier\n"
     ]
    },
    {
     "name": "stderr",
     "output_type": "stream",
     "text": [
      " 93%|█████████▎| 2021/2164 [21:49<1:29:28, 37.54s/it]"
     ]
    },
    {
     "name": "stdout",
     "output_type": "stream",
     "text": [
      "checked all NCBI for eriof\\wdeo\\S*\\s?da\\S*\\s?figueira\n"
     ]
    },
    {
     "name": "stderr",
     "output_type": "stream",
     "text": [
      " 93%|█████████▎| 2022/2164 [22:27<1:29:32, 37.83s/it]"
     ]
    },
    {
     "name": "stdout",
     "output_type": "stream",
     "text": [
      "checked all NCBI for feigengallmilbe\n"
     ]
    },
    {
     "name": "stderr",
     "output_type": "stream",
     "text": [
      " 93%|█████████▎| 2023/2164 [23:05<1:28:38, 37.72s/it]"
     ]
    },
    {
     "name": "stdout",
     "output_type": "stream",
     "text": [
      "checked all NCBI for fig blister mite\n"
     ]
    },
    {
     "name": "stderr",
     "output_type": "stream",
     "text": [
      " 94%|█████████▎| 2024/2164 [23:43<1:28:09, 37.78s/it]"
     ]
    },
    {
     "name": "stdout",
     "output_type": "stream",
     "text": [
      "checked all NCBI for fig mite\n"
     ]
    },
    {
     "name": "stderr",
     "output_type": "stream",
     "text": [
      " 94%|█████████▎| 2025/2164 [24:20<1:27:09, 37.62s/it]"
     ]
    },
    {
     "name": "stdout",
     "output_type": "stream",
     "text": [
      "checked all NCBI for fig rust mite\n"
     ]
    },
    {
     "name": "stderr",
     "output_type": "stream",
     "text": [
      " 94%|█████████▎| 2026/2164 [24:58<1:26:26, 37.58s/it]"
     ]
    },
    {
     "name": "stdout",
     "output_type": "stream",
     "text": [
      "checked all NCBI for aceria kuko\n"
     ]
    },
    {
     "name": "stderr",
     "output_type": "stream",
     "text": [
      " 94%|█████████▎| 2027/2164 [25:36<1:26:20, 37.81s/it]"
     ]
    },
    {
     "name": "stdout",
     "output_type": "stream",
     "text": [
      "checked all NCBI for goji gall mite\\w*\n"
     ]
    },
    {
     "name": "stderr",
     "output_type": "stream",
     "text": [
      " 94%|█████████▎| 2028/2164 [26:16<1:27:07, 38.44s/it]"
     ]
    },
    {
     "name": "stdout",
     "output_type": "stream",
     "text": [
      "checked all NCBI for goji-gallmilbe\n"
     ]
    },
    {
     "name": "stderr",
     "output_type": "stream",
     "text": [
      " 94%|█████████▍| 2029/2164 [26:55<1:26:41, 38.53s/it]"
     ]
    },
    {
     "name": "stdout",
     "output_type": "stream",
     "text": [
      "checked all NCBI for vlnovn\\wk kuko\n"
     ]
    },
    {
     "name": "stderr",
     "output_type": "stream",
     "text": [
      " 94%|█████████▍| 2030/2164 [27:33<1:26:17, 38.64s/it]"
     ]
    },
    {
     "name": "stdout",
     "output_type": "stream",
     "text": [
      "checked all NCBI for галообразуващ ериофиден акар\n"
     ]
    },
    {
     "name": "stderr",
     "output_type": "stream",
     "text": [
      " 94%|█████████▍| 2031/2164 [28:13<1:26:06, 38.84s/it]"
     ]
    },
    {
     "name": "stdout",
     "output_type": "stream",
     "text": [
      "checked all NCBI for \\wcaro erinoso de lichi\n"
     ]
    },
    {
     "name": "stderr",
     "output_type": "stream",
     "text": [
      " 94%|█████████▍| 2032/2164 [28:55<1:27:40, 39.85s/it]"
     ]
    },
    {
     "name": "stdout",
     "output_type": "stream",
     "text": [
      "checked all NCBI for aceria litchii\n"
     ]
    },
    {
     "name": "stderr",
     "output_type": "stream",
     "text": [
      " 94%|█████████▍| 2033/2164 [29:35<1:27:14, 39.96s/it]"
     ]
    },
    {
     "name": "stdout",
     "output_type": "stream",
     "text": [
      "checked all NCBI for eriophyes litchii\n"
     ]
    },
    {
     "name": "stderr",
     "output_type": "stream",
     "text": [
      " 94%|█████████▍| 2034/2164 [30:16<1:27:01, 40.16s/it]"
     ]
    },
    {
     "name": "stdout",
     "output_type": "stream",
     "text": [
      "checked all NCBI for litchi mite\\w*\n"
     ]
    },
    {
     "name": "stderr",
     "output_type": "stream",
     "text": [
      " 94%|█████████▍| 2035/2164 [30:55<1:25:51, 39.94s/it]"
     ]
    },
    {
     "name": "stdout",
     "output_type": "stream",
     "text": [
      "checked all NCBI for vlnovn\\wk li\\wiov\\w\n"
     ]
    },
    {
     "name": "stderr",
     "output_type": "stream",
     "text": [
      " 94%|█████████▍| 2036/2164 [31:35<1:24:52, 39.79s/it]"
     ]
    },
    {
     "name": "stdout",
     "output_type": "stream",
     "text": [
      "checked all NCBI for escargot g\\want africain\n"
     ]
    },
    {
     "name": "stderr",
     "output_type": "stream",
     "text": [
      " 94%|█████████▍| 2037/2164 [32:13<1:23:33, 39.47s/it]"
     ]
    },
    {
     "name": "stdout",
     "output_type": "stream",
     "text": [
      "checked all NCBI for acatina africana\n"
     ]
    },
    {
     "name": "stderr",
     "output_type": "stream",
     "text": [
      " 94%|█████████▍| 2038/2164 [32:49<1:20:33, 38.36s/it]"
     ]
    },
    {
     "name": "stdout",
     "output_type": "stream",
     "text": [
      "checked all NCBI for acatina dell' Isola maurizio\n"
     ]
    },
    {
     "name": "stderr",
     "output_type": "stream",
     "text": [
      " 94%|█████████▍| 2039/2164 [33:25<1:18:29, 37.67s/it]"
     ]
    },
    {
     "name": "stdout",
     "output_type": "stream",
     "text": [
      "checked all NCBI for achatina fulica\n"
     ]
    },
    {
     "name": "stderr",
     "output_type": "stream",
     "text": [
      " 94%|█████████▍| 2040/2164 [34:01<1:16:33, 37.04s/it]"
     ]
    },
    {
     "name": "stdout",
     "output_type": "stream",
     "text": [
      "checked all NCBI for achatine de madagascar\n"
     ]
    },
    {
     "name": "stderr",
     "output_type": "stream",
     "text": [
      " 94%|█████████▍| 2041/2164 [34:36<1:14:59, 36.58s/it]"
     ]
    },
    {
     "name": "stdout",
     "output_type": "stream",
     "text": [
      "checked all NCBI for achatine foulque\n"
     ]
    },
    {
     "name": "stderr",
     "output_type": "stream",
     "text": [
      " 94%|█████████▍| 2042/2164 [35:12<1:13:54, 36.35s/it]"
     ]
    },
    {
     "name": "stdout",
     "output_type": "stream",
     "text": [
      "checked all NCBI for achatine mauritanienne\n"
     ]
    },
    {
     "name": "stderr",
     "output_type": "stream",
     "text": [
      " 94%|█████████▍| 2043/2164 [35:48<1:12:49, 36.11s/it]"
     ]
    },
    {
     "name": "stdout",
     "output_type": "stream",
     "text": [
      "checked all NCBI for african giant snail\n"
     ]
    },
    {
     "name": "stderr",
     "output_type": "stream",
     "text": [
      " 94%|█████████▍| 2044/2164 [36:23<1:11:50, 35.92s/it]"
     ]
    },
    {
     "name": "stdout",
     "output_type": "stream",
     "text": [
      "checked all NCBI for afrikaanse reuzenslak\n"
     ]
    },
    {
     "name": "stderr",
     "output_type": "stream",
     "text": [
      " 95%|█████████▍| 2045/2164 [36:59<1:11:05, 35.85s/it]"
     ]
    },
    {
     "name": "stdout",
     "output_type": "stream",
     "text": [
      "checked all NCBI for afrikanische riesenschnecke\n"
     ]
    },
    {
     "name": "stderr",
     "output_type": "stream",
     "text": [
      " 95%|█████████▍| 2046/2164 [37:35<1:10:35, 35.89s/it]"
     ]
    },
    {
     "name": "stdout",
     "output_type": "stream",
     "text": [
      "checked all NCBI for agaatslak\n"
     ]
    },
    {
     "name": "stderr",
     "output_type": "stream",
     "text": [
      " 95%|█████████▍| 2047/2164 [38:10<1:09:49, 35.81s/it]"
     ]
    },
    {
     "name": "stdout",
     "output_type": "stream",
     "text": [
      "checked all NCBI for babosa gigante africana\n"
     ]
    },
    {
     "name": "stderr",
     "output_type": "stream",
     "text": [
      " 95%|█████████▍| 2048/2164 [38:47<1:09:23, 35.89s/it]"
     ]
    },
    {
     "name": "stdout",
     "output_type": "stream",
     "text": [
      "checked all NCBI for caracol gigante africano\n"
     ]
    },
    {
     "name": "stderr",
     "output_type": "stream",
     "text": [
      " 95%|█████████▍| 2049/2164 [39:22<1:08:45, 35.87s/it]"
     ]
    },
    {
     "name": "stdout",
     "output_type": "stream",
     "text": [
      "checked all NCBI for caramujo gigante\n"
     ]
    },
    {
     "name": "stderr",
     "output_type": "stream",
     "text": [
      " 95%|█████████▍| 2050/2164 [39:58<1:07:49, 35.69s/it]"
     ]
    },
    {
     "name": "stdout",
     "output_type": "stream",
     "text": [
      "checked all NCBI for escargot g\\want africain\n"
     ]
    },
    {
     "name": "stderr",
     "output_type": "stream",
     "text": [
      " 95%|█████████▍| 2051/2164 [40:33<1:06:53, 35.52s/it]"
     ]
    },
    {
     "name": "stdout",
     "output_type": "stream",
     "text": [
      "checked all NCBI for giant african snail\n"
     ]
    },
    {
     "name": "stderr",
     "output_type": "stream",
     "text": [
      " 95%|█████████▍| 2052/2164 [41:08<1:06:11, 35.46s/it]"
     ]
    },
    {
     "name": "stdout",
     "output_type": "stream",
     "text": [
      "checked all NCBI for gran caracol africano\n"
     ]
    },
    {
     "name": "stderr",
     "output_type": "stream",
     "text": [
      " 95%|█████████▍| 2053/2164 [41:44<1:05:42, 35.52s/it]"
     ]
    },
    {
     "name": "stdout",
     "output_type": "stream",
     "text": [
      "checked all NCBI for große achatschnecke\n"
     ]
    },
    {
     "name": "stderr",
     "output_type": "stream",
     "text": [
      " 95%|█████████▍| 2054/2164 [42:19<1:05:06, 35.52s/it]"
     ]
    },
    {
     "name": "stdout",
     "output_type": "stream",
     "text": [
      "checked all NCBI for grote afrikaanse slak\n"
     ]
    },
    {
     "name": "stderr",
     "output_type": "stream",
     "text": [
      " 95%|█████████▍| 2055/2164 [42:55<1:04:28, 35.49s/it]"
     ]
    },
    {
     "name": "stdout",
     "output_type": "stream",
     "text": [
      "checked all NCBI for kalutara snail\n"
     ]
    },
    {
     "name": "stderr",
     "output_type": "stream",
     "text": [
      " 95%|█████████▌| 2056/2164 [43:31<1:04:06, 35.61s/it]"
     ]
    },
    {
     "name": "stdout",
     "output_type": "stream",
     "text": [
      "checked all NCBI for lissachatina fulica\n"
     ]
    },
    {
     "name": "stderr",
     "output_type": "stream",
     "text": [
      " 95%|█████████▌| 2057/2164 [44:06<1:03:27, 35.59s/it]"
     ]
    },
    {
     "name": "stdout",
     "output_type": "stream",
     "text": [
      "checked all NCBI for vanlig afrikansk jättelandsnäcka\n"
     ]
    },
    {
     "name": "stderr",
     "output_type": "stream",
     "text": [
      " 95%|█████████▌| 2058/2164 [44:41<1:02:40, 35.48s/it]"
     ]
    },
    {
     "name": "stdout",
     "output_type": "stream",
     "text": [
      "checked all NCBI for гигантская африканская улитка\n"
     ]
    },
    {
     "name": "stderr",
     "output_type": "stream",
     "text": [
      " 95%|█████████▌| 2059/2164 [45:17<1:02:12, 35.55s/it]"
     ]
    },
    {
     "name": "stdout",
     "output_type": "stream",
     "text": [
      "checked all NCBI for eurycreon rantalis\n"
     ]
    },
    {
     "name": "stderr",
     "output_type": "stream",
     "text": [
      " 95%|█████████▌| 2060/2164 [45:52<1:01:27, 35.46s/it]"
     ]
    },
    {
     "name": "stdout",
     "output_type": "stream",
     "text": [
      "checked all NCBI for garden webworm\\w*\n"
     ]
    },
    {
     "name": "stderr",
     "output_type": "stream",
     "text": [
      " 95%|█████████▌| 2061/2164 [46:28<1:01:04, 35.58s/it]"
     ]
    },
    {
     "name": "stdout",
     "output_type": "stream",
     "text": [
      "checked all NCBI for loxostege rantalis\n"
     ]
    },
    {
     "name": "stderr",
     "output_type": "stream",
     "text": [
      " 95%|█████████▌| 2062/2164 [47:04<1:00:32, 35.61s/it]"
     ]
    },
    {
     "name": "stdout",
     "output_type": "stream",
     "text": [
      "checked all NCBI for phlyctaenodes rantalis\n"
     ]
    },
    {
     "name": "stderr",
     "output_type": "stream",
     "text": [
      " 95%|█████████▌| 2063/2164 [47:40<1:00:05, 35.69s/it]"
     ]
    },
    {
     "name": "stdout",
     "output_type": "stream",
     "text": [
      "checked all NCBI for pseudomonas avenae ssp citrulli\n"
     ]
    },
    {
     "name": "stderr",
     "output_type": "stream",
     "text": [
      " 95%|█████████▌| 2064/2164 [48:16<59:33, 35.73s/it]  "
     ]
    },
    {
     "name": "stdout",
     "output_type": "stream",
     "text": [
      "checked all NCBI for acidovorax avenae subsp. citrulli\n"
     ]
    },
    {
     "name": "stderr",
     "output_type": "stream",
     "text": [
      " 95%|█████████▌| 2065/2164 [48:51<58:54, 35.70s/it]"
     ]
    },
    {
     "name": "stdout",
     "output_type": "stream",
     "text": [
      "checked all NCBI for pseudomonas avenae subsp. citrulli\n"
     ]
    },
    {
     "name": "stderr",
     "output_type": "stream",
     "text": [
      " 95%|█████████▌| 2066/2164 [49:26<58:05, 35.56s/it]"
     ]
    },
    {
     "name": "stdout",
     "output_type": "stream",
     "text": [
      "checked all NCBI for pseudomonas pseudoalcaligenes subsp. citrulli\n"
     ]
    },
    {
     "name": "stderr",
     "output_type": "stream",
     "text": [
      " 96%|█████████▌| 2067/2164 [50:02<57:32, 35.59s/it]"
     ]
    },
    {
     "name": "stdout",
     "output_type": "stream",
     "text": [
      "checked all NCBI for pseudomonas sp. nrrl b\\w12227\n"
     ]
    },
    {
     "name": "stderr",
     "output_type": "stream",
     "text": [
      " 96%|█████████▌| 2068/2164 [50:37<56:42, 35.44s/it]"
     ]
    },
    {
     "name": "stdout",
     "output_type": "stream",
     "text": [
      "checked all NCBI for pseudomonas sp. nrrlb12227\n"
     ]
    },
    {
     "name": "stderr",
     "output_type": "stream",
     "text": [
      " 96%|█████████▌| 2069/2164 [51:13<56:11, 35.49s/it]"
     ]
    },
    {
     "name": "stdout",
     "output_type": "stream",
     "text": [
      "checked all NCBI for acidivorax citrulli\n"
     ]
    },
    {
     "name": "stderr",
     "output_type": "stream",
     "text": [
      " 96%|█████████▌| 2070/2164 [51:48<55:28, 35.41s/it]"
     ]
    },
    {
     "name": "stdout",
     "output_type": "stream",
     "text": [
      "checked all NCBI for acidovorax avenae subsp\\w* citrulli\n"
     ]
    },
    {
     "name": "stderr",
     "output_type": "stream",
     "text": [
      " 96%|█████████▌| 2071/2164 [52:23<54:53, 35.42s/it]"
     ]
    },
    {
     "name": "stdout",
     "output_type": "stream",
     "text": [
      "checked all NCBI for acidovorax citrulli\n"
     ]
    },
    {
     "name": "stderr",
     "output_type": "stream",
     "text": [
      " 96%|█████████▌| 2072/2164 [52:59<54:12, 35.36s/it]"
     ]
    },
    {
     "name": "stdout",
     "output_type": "stream",
     "text": [
      "checked all NCBI for atcc 29625\n"
     ]
    },
    {
     "name": "stderr",
     "output_type": "stream",
     "text": [
      " 96%|█████████▌| 2073/2164 [53:34<53:40, 35.39s/it]"
     ]
    },
    {
     "name": "stdout",
     "output_type": "stream",
     "text": [
      "checked all NCBI for ccug 17393\n"
     ]
    },
    {
     "name": "stderr",
     "output_type": "stream",
     "text": [
      " 96%|█████████▌| 2074/2164 [54:10<53:18, 35.53s/it]"
     ]
    },
    {
     "name": "stdout",
     "output_type": "stream",
     "text": [
      "checked all NCBI for cfbp 4459\n"
     ]
    },
    {
     "name": "stderr",
     "output_type": "stream",
     "text": [
      " 96%|█████████▌| 2075/2164 [54:45<52:37, 35.47s/it]"
     ]
    },
    {
     "name": "stdout",
     "output_type": "stream",
     "text": [
      "checked all NCBI for cip 106436\n"
     ]
    },
    {
     "name": "stderr",
     "output_type": "stream",
     "text": [
      " 96%|█████████▌| 2076/2164 [55:21<52:08, 35.55s/it]"
     ]
    },
    {
     "name": "stdout",
     "output_type": "stream",
     "text": [
      "checked all NCBI for ibsbf 1851\n"
     ]
    },
    {
     "name": "stderr",
     "output_type": "stream",
     "text": [
      " 96%|█████████▌| 2077/2164 [55:57<51:35, 35.58s/it]"
     ]
    },
    {
     "name": "stdout",
     "output_type": "stream",
     "text": [
      "checked all NCBI for icmp 7500\n"
     ]
    },
    {
     "name": "stderr",
     "output_type": "stream",
     "text": [
      " 96%|█████████▌| 2078/2164 [56:33<51:06, 35.66s/it]"
     ]
    },
    {
     "name": "stdout",
     "output_type": "stream",
     "text": [
      "checked all NCBI for icpb 30064\n"
     ]
    },
    {
     "name": "stderr",
     "output_type": "stream",
     "text": [
      " 96%|█████████▌| 2079/2164 [57:08<50:20, 35.53s/it]"
     ]
    },
    {
     "name": "stdout",
     "output_type": "stream",
     "text": [
      "checked all NCBI for lmg 5376\n"
     ]
    },
    {
     "name": "stderr",
     "output_type": "stream",
     "text": [
      " 96%|█████████▌| 2080/2164 [57:43<49:30, 35.36s/it]"
     ]
    },
    {
     "name": "stdout",
     "output_type": "stream",
     "text": [
      "checked all NCBI for mancha bacteriana de los frutos\n"
     ]
    },
    {
     "name": "stderr",
     "output_type": "stream",
     "text": [
      " 96%|█████████▌| 2081/2164 [58:19<49:06, 35.49s/it]"
     ]
    },
    {
     "name": "stdout",
     "output_type": "stream",
     "text": [
      "checked all NCBI for ncppb 3679\n"
     ]
    },
    {
     "name": "stderr",
     "output_type": "stream",
     "text": [
      " 96%|█████████▌| 2082/2164 [58:54<48:36, 35.56s/it]"
     ]
    },
    {
     "name": "stdout",
     "output_type": "stream",
     "text": [
      "checked all NCBI for pseudomonas avenae s\\w* citrulli\n"
     ]
    },
    {
     "name": "stderr",
     "output_type": "stream",
     "text": [
      " 96%|█████████▋| 2083/2164 [59:29<47:50, 35.43s/it]"
     ]
    },
    {
     "name": "stdout",
     "output_type": "stream",
     "text": [
      "checked all NCBI for pseudomonas avenae subsp\\w* citrulli\n"
     ]
    },
    {
     "name": "stderr",
     "output_type": "stream",
     "text": [
      " 96%|█████████▋| 2084/2164 [1:00:05<47:27, 35.59s/it]"
     ]
    },
    {
     "name": "stdout",
     "output_type": "stream",
     "text": [
      "checked all NCBI for pseudomonas pseudoalcaligenes citrulli\n"
     ]
    },
    {
     "name": "stderr",
     "output_type": "stream",
     "text": [
      " 96%|█████████▋| 2085/2164 [1:00:41<46:51, 35.59s/it]"
     ]
    },
    {
     "name": "stdout",
     "output_type": "stream",
     "text": [
      "checked all NCBI for pseudomonas pseudoalcaligenes subsp\\w* citrulli\n"
     ]
    },
    {
     "name": "stderr",
     "output_type": "stream",
     "text": [
      " 96%|█████████▋| 2086/2164 [1:01:17<46:22, 35.67s/it]"
     ]
    },
    {
     "name": "stdout",
     "output_type": "stream",
     "text": [
      "checked all NCBI for pseudomonas sp\\w* nrrl\\S*\\s?b\\S*\\s?12227\n"
     ]
    },
    {
     "name": "stderr",
     "output_type": "stream",
     "text": [
      " 96%|█████████▋| 2087/2164 [1:01:52<45:36, 35.53s/it]"
     ]
    },
    {
     "name": "stdout",
     "output_type": "stream",
     "text": [
      "checked all NCBI for strain fc\\w247\n"
     ]
    },
    {
     "name": "stderr",
     "output_type": "stream",
     "text": [
      " 96%|█████████▋| 2088/2164 [1:02:28<45:08, 35.64s/it]"
     ]
    },
    {
     "name": "stdout",
     "output_type": "stream",
     "text": [
      "checked all NCBI for бактериални петна по динята\n"
     ]
    },
    {
     "name": "stderr",
     "output_type": "stream",
     "text": [
      " 97%|█████████▋| 2089/2164 [1:03:03<44:29, 35.60s/it]"
     ]
    },
    {
     "name": "stdout",
     "output_type": "stream",
     "text": [
      "checked all NCBI for Бактериальная пятнистость тыквенных культур\n"
     ]
    },
    {
     "name": "stderr",
     "output_type": "stream",
     "text": [
      " 97%|█████████▋| 2090/2164 [1:03:39<43:58, 35.65s/it]"
     ]
    },
    {
     "name": "stdout",
     "output_type": "stream",
     "text": [
      "checked all NCBI for aclerda berlesii\n"
     ]
    },
    {
     "name": "stderr",
     "output_type": "stream",
     "text": [
      " 97%|█████████▋| 2091/2164 [1:04:15<43:19, 35.61s/it]"
     ]
    },
    {
     "name": "stdout",
     "output_type": "stream",
     "text": [
      "checked all NCBI for a\\w* gloveran\\w*\n"
     ]
    },
    {
     "name": "stderr",
     "output_type": "stream",
     "text": [
      " 97%|█████████▋| 2092/2164 [1:04:51<42:48, 35.68s/it]"
     ]
    },
    {
     "name": "stdout",
     "output_type": "stream",
     "text": [
      "checked all NCBI for acleris gloverana\n"
     ]
    },
    {
     "name": "stderr",
     "output_type": "stream",
     "text": [
      " 97%|█████████▋| 2093/2164 [1:05:26<42:07, 35.60s/it]"
     ]
    },
    {
     "name": "stdout",
     "output_type": "stream",
     "text": [
      "checked all NCBI for oruga cabecinegra occidental de las yemas\n"
     ]
    },
    {
     "name": "stderr",
     "output_type": "stream",
     "text": [
      " 97%|█████████▋| 2094/2164 [1:06:01<41:24, 35.49s/it]"
     ]
    },
    {
     "name": "stdout",
     "output_type": "stream",
     "text": [
      "checked all NCBI for western black\\wheaded bud worm\\w*\n"
     ]
    },
    {
     "name": "stderr",
     "output_type": "stream",
     "text": [
      " 97%|█████████▋| 2095/2164 [1:06:37<40:45, 35.44s/it]"
     ]
    },
    {
     "name": "stdout",
     "output_type": "stream",
     "text": [
      "checked all NCBI for western blackheaded budworm\\w*\n"
     ]
    },
    {
     "name": "stderr",
     "output_type": "stream",
     "text": [
      " 97%|█████████▋| 2096/2164 [1:07:12<40:05, 35.38s/it]"
     ]
    },
    {
     "name": "stdout",
     "output_type": "stream",
     "text": [
      "checked all NCBI for западная черноголовая листовертка\n"
     ]
    },
    {
     "name": "stderr",
     "output_type": "stream",
     "text": [
      " 97%|█████████▋| 2097/2164 [1:07:47<39:30, 35.39s/it]"
     ]
    },
    {
     "name": "stdout",
     "output_type": "stream",
     "text": [
      "checked all NCBI for acleris issikii\n"
     ]
    },
    {
     "name": "stderr",
     "output_type": "stream",
     "text": [
      " 97%|█████████▋| 2098/2164 [1:08:23<38:57, 35.42s/it]"
     ]
    },
    {
     "name": "stdout",
     "output_type": "stream",
     "text": [
      "checked all NCBI for a. minuta\n"
     ]
    },
    {
     "name": "stderr",
     "output_type": "stream",
     "text": [
      " 97%|█████████▋| 2099/2164 [1:08:58<38:16, 35.34s/it]"
     ]
    },
    {
     "name": "stdout",
     "output_type": "stream",
     "text": [
      "checked all NCBI for acalla minuta\n"
     ]
    },
    {
     "name": "stderr",
     "output_type": "stream",
     "text": [
      " 97%|█████████▋| 2100/2164 [1:09:33<37:45, 35.40s/it]"
     ]
    },
    {
     "name": "stdout",
     "output_type": "stream",
     "text": [
      "checked all NCBI for acleris minuta\n"
     ]
    },
    {
     "name": "stderr",
     "output_type": "stream",
     "text": [
      " 97%|█████████▋| 2101/2164 [1:10:09<37:05, 35.32s/it]"
     ]
    },
    {
     "name": "stdout",
     "output_type": "stream",
     "text": [
      "checked all NCBI for lesser apple\\w* leaf\\w* folder\\w*\n"
     ]
    },
    {
     "name": "stderr",
     "output_type": "stream",
     "text": [
      " 97%|█████████▋| 2102/2164 [1:10:44<36:26, 35.26s/it]"
     ]
    },
    {
     "name": "stdout",
     "output_type": "stream",
     "text": [
      "checked all NCBI for peronea minuta\n"
     ]
    },
    {
     "name": "stderr",
     "output_type": "stream",
     "text": [
      " 97%|█████████▋| 2103/2164 [1:11:19<36:01, 35.43s/it]"
     ]
    },
    {
     "name": "stdout",
     "output_type": "stream",
     "text": [
      "checked all NCBI for tordeuse\\w* \\w t\\wte jaune\n"
     ]
    },
    {
     "name": "stderr",
     "output_type": "stream",
     "text": [
      " 97%|█████████▋| 2104/2164 [1:11:55<35:22, 35.38s/it]"
     ]
    },
    {
     "name": "stdout",
     "output_type": "stream",
     "text": [
      "checked all NCBI for yellow\\S*\\s?headed cranberr\\w* worm\\w*\n"
     ]
    },
    {
     "name": "stderr",
     "output_type": "stream",
     "text": [
      " 97%|█████████▋| 2105/2164 [1:12:30<34:50, 35.44s/it]"
     ]
    },
    {
     "name": "stdout",
     "output_type": "stream",
     "text": [
      "checked all NCBI for yellow\\S*\\s?headed fire worm\\w*\n"
     ]
    },
    {
     "name": "stderr",
     "output_type": "stream",
     "text": [
      " 97%|█████████▋| 2106/2164 [1:13:06<34:15, 35.43s/it]"
     ]
    },
    {
     "name": "stdout",
     "output_type": "stream",
     "text": [
      "checked all NCBI for acleris nishidai\n"
     ]
    },
    {
     "name": "stderr",
     "output_type": "stream",
     "text": [
      " 97%|█████████▋| 2107/2164 [1:13:42<33:47, 35.57s/it]"
     ]
    },
    {
     "name": "stdout",
     "output_type": "stream",
     "text": [
      "checked all NCBI for acleris nivisellana\n"
     ]
    },
    {
     "name": "stderr",
     "output_type": "stream",
     "text": [
      " 97%|█████████▋| 2108/2164 [1:14:17<33:11, 35.56s/it]"
     ]
    },
    {
     "name": "stdout",
     "output_type": "stream",
     "text": [
      "checked all NCBI for acleris robinsoniana\n"
     ]
    },
    {
     "name": "stderr",
     "output_type": "stream",
     "text": [
      " 97%|█████████▋| 2109/2164 [1:14:52<32:28, 35.43s/it]"
     ]
    },
    {
     "name": "stdout",
     "output_type": "stream",
     "text": [
      "checked all NCBI for acleris semipurpurana\n"
     ]
    },
    {
     "name": "stderr",
     "output_type": "stream",
     "text": [
      " 98%|█████████▊| 2110/2164 [1:15:28<31:52, 35.42s/it]"
     ]
    },
    {
     "name": "stdout",
     "output_type": "stream",
     "text": [
      "checked all NCBI for croesia semipurpurana\n"
     ]
    },
    {
     "name": "stderr",
     "output_type": "stream",
     "text": [
      " 98%|█████████▊| 2111/2164 [1:16:03<31:20, 35.48s/it]"
     ]
    },
    {
     "name": "stdout",
     "output_type": "stream",
     "text": [
      "checked all NCBI for oak leaf ti\\w*\n"
     ]
    },
    {
     "name": "stderr",
     "output_type": "stream",
     "text": [
      " 98%|█████████▊| 2112/2164 [1:16:39<30:44, 35.47s/it]"
     ]
    },
    {
     "name": "stdout",
     "output_type": "stream",
     "text": [
      "checked all NCBI for oak leafshredd\\w*\n"
     ]
    },
    {
     "name": "stderr",
     "output_type": "stream",
     "text": [
      " 98%|█████████▊| 2113/2164 [1:17:14<30:09, 35.48s/it]"
     ]
    },
    {
     "name": "stdout",
     "output_type": "stream",
     "text": [
      "checked all NCBI for oak leaft\\w*\n"
     ]
    },
    {
     "name": "stderr",
     "output_type": "stream",
     "text": [
      " 98%|█████████▊| 2114/2164 [1:17:50<29:35, 35.50s/it]"
     ]
    },
    {
     "name": "stdout",
     "output_type": "stream",
     "text": [
      "checked all NCBI for acleris senescens\n"
     ]
    },
    {
     "name": "stderr",
     "output_type": "stream",
     "text": [
      " 98%|█████████▊| 2115/2164 [1:18:25<28:56, 35.45s/it]"
     ]
    },
    {
     "name": "stdout",
     "output_type": "stream",
     "text": [
      "checked all NCBI for a\\w* variana\n"
     ]
    },
    {
     "name": "stderr",
     "output_type": "stream",
     "text": [
      " 98%|█████████▊| 2116/2164 [1:19:00<28:17, 35.37s/it]"
     ]
    },
    {
     "name": "stdout",
     "output_type": "stream",
     "text": [
      "checked all NCBI for acleris variana\n"
     ]
    },
    {
     "name": "stderr",
     "output_type": "stream",
     "text": [
      " 98%|█████████▊| 2117/2164 [1:19:36<27:40, 35.34s/it]"
     ]
    },
    {
     "name": "stdout",
     "output_type": "stream",
     "text": [
      "checked all NCBI for eastern black\\S*\\s?headed budworm\\w*\n"
     ]
    },
    {
     "name": "stderr",
     "output_type": "stream",
     "text": [
      " 98%|█████████▊| 2118/2164 [1:20:11<27:11, 35.46s/it]"
     ]
    },
    {
     "name": "stdout",
     "output_type": "stream",
     "text": [
      "checked all NCBI for hemlock budworm\\w*\n"
     ]
    },
    {
     "name": "stderr",
     "output_type": "stream",
     "text": [
      " 98%|█████████▊| 2119/2164 [1:20:47<26:36, 35.47s/it]"
     ]
    },
    {
     "name": "stdout",
     "output_type": "stream",
     "text": [
      "checked all NCBI for oruga cabecinegra de las yemas de la picea\n"
     ]
    },
    {
     "name": "stderr",
     "output_type": "stream",
     "text": [
      " 98%|█████████▊| 2120/2164 [1:21:22<26:00, 35.46s/it]"
     ]
    },
    {
     "name": "stdout",
     "output_type": "stream",
     "text": [
      "checked all NCBI for tordeuse\\w* \\w t\\wte noire d\\S*\\s?\\wpinette\n"
     ]
    },
    {
     "name": "stderr",
     "output_type": "stream",
     "text": [
      " 98%|█████████▊| 2121/2164 [1:21:58<25:23, 35.44s/it]"
     ]
    },
    {
     "name": "stdout",
     "output_type": "stream",
     "text": [
      "checked all NCBI for восточная черноголовая листовертка\n"
     ]
    },
    {
     "name": "stderr",
     "output_type": "stream",
     "text": [
      " 98%|█████████▊| 2122/2164 [1:22:34<24:54, 35.58s/it]"
     ]
    },
    {
     "name": "stdout",
     "output_type": "stream",
     "text": [
      "checked all NCBI for a citrina\n"
     ]
    },
    {
     "name": "stderr",
     "output_type": "stream",
     "text": [
      " 98%|█████████▊| 2123/2164 [1:23:10<24:24, 35.71s/it]"
     ]
    },
    {
     "name": "stdout",
     "output_type": "stream",
     "text": [
      "checked all NCBI for acrogonia citrina\n"
     ]
    },
    {
     "name": "stderr",
     "output_type": "stream",
     "text": [
      " 98%|█████████▊| 2124/2164 [1:23:45<23:50, 35.75s/it]"
     ]
    },
    {
     "name": "stdout",
     "output_type": "stream",
     "text": [
      "checked all NCBI for a bicolor\n"
     ]
    },
    {
     "name": "stderr",
     "output_type": "stream",
     "text": [
      " 98%|█████████▊| 2125/2164 [1:24:21<23:15, 35.79s/it]"
     ]
    },
    {
     "name": "stdout",
     "output_type": "stream",
     "text": [
      "checked all NCBI for a virescens\n"
     ]
    },
    {
     "name": "stderr",
     "output_type": "stream",
     "text": [
      " 98%|█████████▊| 2126/2164 [1:24:57<22:40, 35.80s/it]"
     ]
    },
    {
     "name": "stdout",
     "output_type": "stream",
     "text": [
      "checked all NCBI for acrogonia bicolor\n"
     ]
    },
    {
     "name": "stderr",
     "output_type": "stream",
     "text": [
      " 98%|█████████▊| 2127/2164 [1:25:32<21:59, 35.68s/it]"
     ]
    },
    {
     "name": "stdout",
     "output_type": "stream",
     "text": [
      "checked all NCBI for acrogonia virescens\n"
     ]
    },
    {
     "name": "stderr",
     "output_type": "stream",
     "text": [
      " 98%|█████████▊| 2128/2164 [1:26:08<21:22, 35.63s/it]"
     ]
    },
    {
     "name": "stdout",
     "output_type": "stream",
     "text": [
      "checked all NCBI for actinidia virus c\n"
     ]
    },
    {
     "name": "stderr",
     "output_type": "stream",
     "text": [
      " 98%|█████████▊| 2129/2164 [1:26:44<20:46, 35.60s/it]"
     ]
    },
    {
     "name": "stdout",
     "output_type": "stream",
     "text": [
      "checked all NCBI for \\wcaro de la agalla de la fuchsia\n"
     ]
    },
    {
     "name": "stderr",
     "output_type": "stream",
     "text": [
      " 98%|█████████▊| 2130/2164 [1:27:19<20:05, 35.45s/it]"
     ]
    },
    {
     "name": "stdout",
     "output_type": "stream",
     "text": [
      "checked all NCBI for aculops fuchsiae\n"
     ]
    },
    {
     "name": "stderr",
     "output_type": "stream",
     "text": [
      " 98%|█████████▊| 2131/2164 [1:27:54<19:29, 35.44s/it]"
     ]
    },
    {
     "name": "stdout",
     "output_type": "stream",
     "text": [
      "checked all NCBI for brazilian fuchsia mite\n"
     ]
    },
    {
     "name": "stderr",
     "output_type": "stream",
     "text": [
      " 99%|█████████▊| 2132/2164 [1:28:30<18:56, 35.52s/it]"
     ]
    },
    {
     "name": "stdout",
     "output_type": "stream",
     "text": [
      "checked all NCBI for fuchsia\\S*\\s?galmijt\n"
     ]
    },
    {
     "name": "stderr",
     "output_type": "stream",
     "text": [
      " 99%|█████████▊| 2133/2164 [1:29:05<18:21, 35.53s/it]"
     ]
    },
    {
     "name": "stdout",
     "output_type": "stream",
     "text": [
      "checked all NCBI for fuchsia gall mite\\w*\n"
     ]
    },
    {
     "name": "stderr",
     "output_type": "stream",
     "text": [
      " 99%|█████████▊| 2134/2164 [1:29:41<17:46, 35.56s/it]"
     ]
    },
    {
     "name": "stdout",
     "output_type": "stream",
     "text": [
      "checked all NCBI for fuchsia mite\n"
     ]
    },
    {
     "name": "stderr",
     "output_type": "stream",
     "text": [
      " 99%|█████████▊| 2135/2164 [1:30:17<17:11, 35.59s/it]"
     ]
    },
    {
     "name": "stdout",
     "output_type": "stream",
     "text": [
      "checked all NCBI for galle du fuchsia\n"
     ]
    },
    {
     "name": "stderr",
     "output_type": "stream",
     "text": [
      " 99%|█████████▊| 2136/2164 [1:30:52<16:35, 35.55s/it]"
     ]
    },
    {
     "name": "stdout",
     "output_type": "stream",
     "text": [
      "checked all NCBI for phytopte\\w* d\\w* fuchsia\n"
     ]
    },
    {
     "name": "stderr",
     "output_type": "stream",
     "text": [
      " 99%|█████████▉| 2137/2164 [1:31:28<16:00, 35.57s/it]"
     ]
    },
    {
     "name": "stdout",
     "output_type": "stream",
     "text": [
      "checked all NCBI for phytopte du fuchsia\n"
     ]
    },
    {
     "name": "stderr",
     "output_type": "stream",
     "text": [
      " 99%|█████████▉| 2138/2164 [1:32:03<15:23, 35.51s/it]"
     ]
    },
    {
     "name": "stdout",
     "output_type": "stream",
     "text": [
      "checked all NCBI for vlnovn\\wk fuchsiov\\w\n"
     ]
    },
    {
     "name": "stderr",
     "output_type": "stream",
     "text": [
      " 99%|█████████▉| 2139/2164 [1:32:39<14:50, 35.62s/it]"
     ]
    },
    {
     "name": "stdout",
     "output_type": "stream",
     "text": [
      "checked all NCBI for acute oak decline\n"
     ]
    },
    {
     "name": "stderr",
     "output_type": "stream",
     "text": [
      " 99%|█████████▉| 2140/2164 [1:33:14<14:14, 35.59s/it]"
     ]
    },
    {
     "name": "stdout",
     "output_type": "stream",
     "text": [
      "checked all NCBI for ad\\wlgido lanudo del falso abeto\n"
     ]
    },
    {
     "name": "stderr",
     "output_type": "stream",
     "text": [
      " 99%|█████████▉| 2141/2164 [1:33:49<13:34, 35.42s/it]"
     ]
    },
    {
     "name": "stdout",
     "output_type": "stream",
     "text": [
      "checked all NCBI for adelges funitectus\n"
     ]
    },
    {
     "name": "stderr",
     "output_type": "stream",
     "text": [
      " 99%|█████████▉| 2142/2164 [1:34:25<13:02, 35.58s/it]"
     ]
    },
    {
     "name": "stdout",
     "output_type": "stream",
     "text": [
      "checked all NCBI for adelges tsugae\n"
     ]
    },
    {
     "name": "stderr",
     "output_type": "stream",
     "text": [
      " 99%|█████████▉| 2143/2164 [1:35:01<12:29, 35.69s/it]"
     ]
    },
    {
     "name": "stdout",
     "output_type": "stream",
     "text": [
      "checked all NCBI for aphrastasia funitecta\n"
     ]
    },
    {
     "name": "stderr",
     "output_type": "stream",
     "text": [
      " 99%|█████████▉| 2144/2164 [1:35:38<11:57, 35.86s/it]"
     ]
    },
    {
     "name": "stdout",
     "output_type": "stream",
     "text": [
      "checked all NCBI for chermes tsugae\n"
     ]
    },
    {
     "name": "stderr",
     "output_type": "stream",
     "text": [
      " 99%|█████████▉| 2145/2164 [1:36:13<11:18, 35.71s/it]"
     ]
    },
    {
     "name": "stdout",
     "output_type": "stream",
     "text": [
      "checked all NCBI for hemlock woolly aphid\n"
     ]
    },
    {
     "name": "stderr",
     "output_type": "stream",
     "text": [
      " 99%|█████████▉| 2146/2164 [1:36:49<10:42, 35.68s/it]"
     ]
    },
    {
     "name": "stdout",
     "output_type": "stream",
     "text": [
      "checked all NCBI for hemlock wooly adelgid\n"
     ]
    },
    {
     "name": "stderr",
     "output_type": "stream",
     "text": [
      " 99%|█████████▉| 2147/2164 [1:37:24<10:06, 35.68s/it]"
     ]
    },
    {
     "name": "stdout",
     "output_type": "stream",
     "text": [
      "checked all NCBI for hemlockstannen\n"
     ]
    },
    {
     "name": "stderr",
     "output_type": "stream",
     "text": [
      " 99%|█████████▉| 2148/2164 [1:38:00<09:28, 35.56s/it]"
     ]
    },
    {
     "name": "stdout",
     "output_type": "stream",
     "text": [
      "checked all NCBI for hemlockstannenlaus\n"
     ]
    },
    {
     "name": "stderr",
     "output_type": "stream",
     "text": [
      " 99%|█████████▉| 2149/2164 [1:38:35<08:53, 35.57s/it]"
     ]
    },
    {
     "name": "stdout",
     "output_type": "stream",
     "text": [
      "checked all NCBI for korovnice jedlovcov\\w\n"
     ]
    },
    {
     "name": "stderr",
     "output_type": "stream",
     "text": [
      " 99%|█████████▉| 2150/2164 [1:39:11<08:17, 35.51s/it]"
     ]
    },
    {
     "name": "stdout",
     "output_type": "stream",
     "text": [
      "checked all NCBI for puceron lanig\\wre de la pruche\n"
     ]
    },
    {
     "name": "stderr",
     "output_type": "stream",
     "text": [
      " 99%|█████████▉| 2151/2164 [1:39:46<07:43, 35.62s/it]"
     ]
    },
    {
     "name": "stdout",
     "output_type": "stream",
     "text": [
      "checked all NCBI for pulg\\wn lan\\wgero de la tsuga\n"
     ]
    },
    {
     "name": "stderr",
     "output_type": "stream",
     "text": [
      " 99%|█████████▉| 2152/2164 [1:40:22<07:05, 35.47s/it]"
     ]
    },
    {
     "name": "stdout",
     "output_type": "stream",
     "text": [
      "checked all NCBI for pulg\\wn lan\\wgero del abeto\n"
     ]
    },
    {
     "name": "stderr",
     "output_type": "stream",
     "text": [
      " 99%|█████████▉| 2153/2164 [1:40:58<06:34, 35.82s/it]"
     ]
    },
    {
     "name": "stdout",
     "output_type": "stream",
     "text": [
      "checked all NCBI for tannenlaus\n"
     ]
    },
    {
     "name": "stderr",
     "output_type": "stream",
     "text": [
      "100%|█████████▉| 2154/2164 [1:41:34<05:58, 35.84s/it]"
     ]
    },
    {
     "name": "stdout",
     "output_type": "stream",
     "text": [
      "checked all NCBI for aeolesthes sarta\n"
     ]
    },
    {
     "name": "stderr",
     "output_type": "stream",
     "text": [
      "100%|█████████▉| 2155/2164 [1:42:10<05:23, 35.90s/it]"
     ]
    },
    {
     "name": "stdout",
     "output_type": "stream",
     "text": [
      "checked all NCBI for city longhorn beetle\n"
     ]
    },
    {
     "name": "stderr",
     "output_type": "stream",
     "text": [
      "100%|█████████▉| 2156/2164 [1:42:46<04:46, 35.84s/it]"
     ]
    },
    {
     "name": "stdout",
     "output_type": "stream",
     "text": [
      "checked all NCBI for sart longhorn beetle\n"
     ]
    },
    {
     "name": "stderr",
     "output_type": "stream",
     "text": [
      "100%|█████████▉| 2157/2164 [1:43:21<04:09, 35.64s/it]"
     ]
    },
    {
     "name": "stdout",
     "output_type": "stream",
     "text": [
      "checked all NCBI for town longhorn beetle\n"
     ]
    },
    {
     "name": "stderr",
     "output_type": "stream",
     "text": [
      "100%|█████████▉| 2158/2164 [1:43:57<03:34, 35.78s/it]"
     ]
    },
    {
     "name": "stdout",
     "output_type": "stream",
     "text": [
      "checked all NCBI for uzbek longhorn beetle\n"
     ]
    },
    {
     "name": "stderr",
     "output_type": "stream",
     "text": [
      "100%|█████████▉| 2159/2164 [1:44:33<02:59, 35.80s/it]"
     ]
    },
    {
     "name": "stdout",
     "output_type": "stream",
     "text": [
      "checked all NCBI for agonoxena argaula\n"
     ]
    },
    {
     "name": "stderr",
     "output_type": "stream",
     "text": [
      "100%|█████████▉| 2160/2164 [1:45:09<02:22, 35.74s/it]"
     ]
    },
    {
     "name": "stdout",
     "output_type": "stream",
     "text": [
      "checked all NCBI for coconut flat moth\\w*\n"
     ]
    },
    {
     "name": "stderr",
     "output_type": "stream",
     "text": [
      "100%|█████████▉| 2161/2164 [1:45:44<01:46, 35.66s/it]"
     ]
    },
    {
     "name": "stdout",
     "output_type": "stream",
     "text": [
      "checked all NCBI for coconut leaf miner\\w*\n"
     ]
    },
    {
     "name": "stderr",
     "output_type": "stream",
     "text": [
      "100%|█████████▉| 2162/2164 [1:46:19<01:10, 35.48s/it]"
     ]
    },
    {
     "name": "stdout",
     "output_type": "stream",
     "text": [
      "checked all NCBI for papillon\\w* des spathes du cocotier\n"
     ]
    },
    {
     "name": "stderr",
     "output_type": "stream",
     "text": [
      "100%|█████████▉| 2163/2164 [1:46:54<00:35, 35.38s/it]"
     ]
    },
    {
     "name": "stdout",
     "output_type": "stream",
     "text": [
      "checked all NCBI for polilla plana del coco\n"
     ]
    },
    {
     "name": "stderr",
     "output_type": "stream",
     "text": [
      "100%|██████████| 2164/2164 [1:47:29<00:00,  2.98s/it]"
     ]
    },
    {
     "name": "stdout",
     "output_type": "stream",
     "text": [
      "checked all NCBI for small coconut leaf moth\\w*\n"
     ]
    },
    {
     "name": "stderr",
     "output_type": "stream",
     "text": [
      "\n"
     ]
    },
    {
     "data": {
      "text/html": [
       "<div>\n",
       "<style scoped>\n",
       "    .dataframe tbody tr th:only-of-type {\n",
       "        vertical-align: middle;\n",
       "    }\n",
       "\n",
       "    .dataframe tbody tr th {\n",
       "        vertical-align: top;\n",
       "    }\n",
       "\n",
       "    .dataframe thead th {\n",
       "        text-align: right;\n",
       "    }\n",
       "</style>\n",
       "<table border=\"1\" class=\"dataframe\">\n",
       "  <thead>\n",
       "    <tr style=\"text-align: right;\">\n",
       "      <th></th>\n",
       "      <th>EPPO_CODE</th>\n",
       "      <th>EFSA_PHT</th>\n",
       "      <th>NCBI_TAXID</th>\n",
       "      <th>preferred_name</th>\n",
       "      <th>synonym</th>\n",
       "      <th>re</th>\n",
       "      <th>ds_language</th>\n",
       "      <th>match_language</th>\n",
       "    </tr>\n",
       "  </thead>\n",
       "  <tbody>\n",
       "    <tr>\n",
       "      <th>0</th>\n",
       "      <td>LIBEAF</td>\n",
       "      <td>LiberibacterAfricanusAsiaticusAmericanus-PHT</td>\n",
       "      <td></td>\n",
       "      <td>'Candidatus Liberibacter africanus'</td>\n",
       "      <td>greening of citrus</td>\n",
       "      <td>greening of citrus</td>\n",
       "      <td>en</td>\n",
       "      <td>NaN</td>\n",
       "    </tr>\n",
       "    <tr>\n",
       "      <th>1</th>\n",
       "      <td>LIBEAF</td>\n",
       "      <td>LiberibacterAfricanusAsiaticusAmericanus-PHT</td>\n",
       "      <td></td>\n",
       "      <td>'Candidatus Liberibacter africanus'</td>\n",
       "      <td>greening des agrumes</td>\n",
       "      <td>greening des agrumes</td>\n",
       "      <td>fr</td>\n",
       "      <td>NaN</td>\n",
       "    </tr>\n",
       "    <tr>\n",
       "      <th>2</th>\n",
       "      <td>LIBEAF</td>\n",
       "      <td>LiberibacterAfricanusAsiaticusAmericanus-PHT</td>\n",
       "      <td></td>\n",
       "      <td>'Candidatus Liberibacter africanus'</td>\n",
       "      <td>virescence des agrumes</td>\n",
       "      <td>vir\\wscence des agrumes</td>\n",
       "      <td>fr</td>\n",
       "      <td>NaN</td>\n",
       "    </tr>\n",
       "    <tr>\n",
       "      <th>3</th>\n",
       "      <td>LIBEAF</td>\n",
       "      <td>LiberibacterAfricanusAsiaticusAmericanus-PHT</td>\n",
       "      <td></td>\n",
       "      <td>'Candidatus Liberibacter africanus'</td>\n",
       "      <td>enverdecimiento de los cítricos</td>\n",
       "      <td>enverdecimiento de los c\\wtricos</td>\n",
       "      <td>es</td>\n",
       "      <td>NaN</td>\n",
       "    </tr>\n",
       "    <tr>\n",
       "      <th>4</th>\n",
       "      <td>LIBEAM</td>\n",
       "      <td>NaN</td>\n",
       "      <td></td>\n",
       "      <td>'Candidatus Liberibacter americanus'</td>\n",
       "      <td>Brazilian citrus greening</td>\n",
       "      <td>NaN</td>\n",
       "      <td>en</td>\n",
       "      <td>NaN</td>\n",
       "    </tr>\n",
       "    <tr>\n",
       "      <th>...</th>\n",
       "      <td>...</td>\n",
       "      <td>...</td>\n",
       "      <td>...</td>\n",
       "      <td>...</td>\n",
       "      <td>...</td>\n",
       "      <td>...</td>\n",
       "      <td>...</td>\n",
       "      <td>...</td>\n",
       "    </tr>\n",
       "    <tr>\n",
       "      <th>2159</th>\n",
       "      <td>NaN</td>\n",
       "      <td>AgonoxenaArgaula-PHT</td>\n",
       "      <td>NaN</td>\n",
       "      <td>NaN</td>\n",
       "      <td>Tomato leaf curl New Delhi begomovirus</td>\n",
       "      <td>coconut flat moth\\w*</td>\n",
       "      <td>NaN</td>\n",
       "      <td>NaN</td>\n",
       "    </tr>\n",
       "    <tr>\n",
       "      <th>2160</th>\n",
       "      <td>NaN</td>\n",
       "      <td>AgonoxenaArgaula-PHT</td>\n",
       "      <td>NaN</td>\n",
       "      <td>NaN</td>\n",
       "      <td>Tomato leaf curl New Delhi begomovirus</td>\n",
       "      <td>coconut leaf miner\\w*</td>\n",
       "      <td>NaN</td>\n",
       "      <td>NaN</td>\n",
       "    </tr>\n",
       "    <tr>\n",
       "      <th>2161</th>\n",
       "      <td>NaN</td>\n",
       "      <td>AgonoxenaArgaula-PHT</td>\n",
       "      <td>NaN</td>\n",
       "      <td>NaN</td>\n",
       "      <td>Tomato leaf curl New Delhi begomovirus</td>\n",
       "      <td>papillon\\w* des spathes du cocotier</td>\n",
       "      <td>NaN</td>\n",
       "      <td>NaN</td>\n",
       "    </tr>\n",
       "    <tr>\n",
       "      <th>2162</th>\n",
       "      <td>NaN</td>\n",
       "      <td>AgonoxenaArgaula-PHT</td>\n",
       "      <td>NaN</td>\n",
       "      <td>NaN</td>\n",
       "      <td>Tomato leaf curl New Delhi begomovirus</td>\n",
       "      <td>polilla plana del coco</td>\n",
       "      <td>NaN</td>\n",
       "      <td>NaN</td>\n",
       "    </tr>\n",
       "    <tr>\n",
       "      <th>2163</th>\n",
       "      <td>NaN</td>\n",
       "      <td>AgonoxenaArgaula-PHT</td>\n",
       "      <td>NaN</td>\n",
       "      <td>NaN</td>\n",
       "      <td>Tomato leaf curl New Delhi begomovirus</td>\n",
       "      <td>small coconut leaf moth\\w*</td>\n",
       "      <td>NaN</td>\n",
       "      <td>NaN</td>\n",
       "    </tr>\n",
       "  </tbody>\n",
       "</table>\n",
       "<p>2164 rows × 8 columns</p>\n",
       "</div>"
      ],
      "text/plain": [
       "     EPPO_CODE                                      EFSA_PHT NCBI_TAXID  \\\n",
       "0       LIBEAF  LiberibacterAfricanusAsiaticusAmericanus-PHT              \n",
       "1       LIBEAF  LiberibacterAfricanusAsiaticusAmericanus-PHT              \n",
       "2       LIBEAF  LiberibacterAfricanusAsiaticusAmericanus-PHT              \n",
       "3       LIBEAF  LiberibacterAfricanusAsiaticusAmericanus-PHT              \n",
       "4       LIBEAM                                           NaN              \n",
       "...        ...                                           ...        ...   \n",
       "2159       NaN                          AgonoxenaArgaula-PHT        NaN   \n",
       "2160       NaN                          AgonoxenaArgaula-PHT        NaN   \n",
       "2161       NaN                          AgonoxenaArgaula-PHT        NaN   \n",
       "2162       NaN                          AgonoxenaArgaula-PHT        NaN   \n",
       "2163       NaN                          AgonoxenaArgaula-PHT        NaN   \n",
       "\n",
       "                            preferred_name  \\\n",
       "0      'Candidatus Liberibacter africanus'   \n",
       "1      'Candidatus Liberibacter africanus'   \n",
       "2      'Candidatus Liberibacter africanus'   \n",
       "3      'Candidatus Liberibacter africanus'   \n",
       "4     'Candidatus Liberibacter americanus'   \n",
       "...                                    ...   \n",
       "2159                                   NaN   \n",
       "2160                                   NaN   \n",
       "2161                                   NaN   \n",
       "2162                                   NaN   \n",
       "2163                                   NaN   \n",
       "\n",
       "                                     synonym  \\\n",
       "0                         greening of citrus   \n",
       "1                       greening des agrumes   \n",
       "2                     virescence des agrumes   \n",
       "3            enverdecimiento de los cítricos   \n",
       "4                  Brazilian citrus greening   \n",
       "...                                      ...   \n",
       "2159  Tomato leaf curl New Delhi begomovirus   \n",
       "2160  Tomato leaf curl New Delhi begomovirus   \n",
       "2161  Tomato leaf curl New Delhi begomovirus   \n",
       "2162  Tomato leaf curl New Delhi begomovirus   \n",
       "2163  Tomato leaf curl New Delhi begomovirus   \n",
       "\n",
       "                                       re ds_language match_language  \n",
       "0                      greening of citrus          en            NaN  \n",
       "1                    greening des agrumes          fr            NaN  \n",
       "2                 vir\\wscence des agrumes          fr            NaN  \n",
       "3        enverdecimiento de los c\\wtricos          es            NaN  \n",
       "4                                     NaN          en            NaN  \n",
       "...                                   ...         ...            ...  \n",
       "2159                 coconut flat moth\\w*         NaN            NaN  \n",
       "2160                coconut leaf miner\\w*         NaN            NaN  \n",
       "2161  papillon\\w* des spathes du cocotier         NaN            NaN  \n",
       "2162               polilla plana del coco         NaN            NaN  \n",
       "2163           small coconut leaf moth\\w*         NaN            NaN  \n",
       "\n",
       "[2164 rows x 8 columns]"
      ]
     },
     "execution_count": 122,
     "metadata": {},
     "output_type": "execute_result"
    }
   ],
   "source": [
    "## Iterate over final db lines \n",
    "for final_db_i in tqdm(range(len(final_db))):\n",
    "    pattern = final_db.at[final_db_i,'re']\n",
    "    # check if row has only efsa info\n",
    "    if pattern and pd.isna(final_db.at[final_db_i,'NCBI_TAXID']):\n",
    "        # iterate through NCBI to find an item that corresponds to pattern\n",
    "        for prep_ncbi_db_i in range(len(prep_ncbi_db)):\n",
    "            syn = prep_ncbi_db.at[prep_ncbi_db_i,'synonym']\n",
    "            sci_name = prep_ncbi_db.at[prep_ncbi_db_i,'preferred_name']\n",
    "            taxid = prep_ncbi_db.at[prep_ncbi_db_i,'NCBI_TAXID']\n",
    "            if re.match(str(pattern), str(syn)):\n",
    "                dbg(syn,'MATCH:'+pattern)\n",
    "                final_db.at[final_db_i,'synonym'] = syn\n",
    "            if re.match(str(pattern), str(syn)) or re.match(str(pattern), str(sci_name)):\n",
    "                dbg(sci_name,'MATCH:'+pattern)\n",
    "                final_db.at[final_db_i,'NCBI_TAXID'] = taxid\n",
    "                final_db.at[final_db_i,'preferred_name'] = sci_name\n",
    "                break\n",
    "        print('checked all NCBI for '+pattern)\n",
    "final_db.head()"
   ]
  },
  {
   "cell_type": "code",
   "execution_count": 166,
   "metadata": {},
   "outputs": [
    {
     "name": "stdout",
     "output_type": "stream",
     "text": [
      "INPUT:\n"
     ]
    },
    {
     "data": {
      "text/html": [
       "<div>\n",
       "<style scoped>\n",
       "    .dataframe tbody tr th:only-of-type {\n",
       "        vertical-align: middle;\n",
       "    }\n",
       "\n",
       "    .dataframe tbody tr th {\n",
       "        vertical-align: top;\n",
       "    }\n",
       "\n",
       "    .dataframe thead th {\n",
       "        text-align: right;\n",
       "    }\n",
       "</style>\n",
       "<table border=\"1\" class=\"dataframe\">\n",
       "  <thead>\n",
       "    <tr style=\"text-align: right;\">\n",
       "      <th></th>\n",
       "      <th>a</th>\n",
       "      <th>b</th>\n",
       "      <th>c</th>\n",
       "      <th>name</th>\n",
       "    </tr>\n",
       "  </thead>\n",
       "  <tbody>\n",
       "    <tr>\n",
       "      <th>0</th>\n",
       "      <td>x</td>\n",
       "      <td>y</td>\n",
       "      <td>None</td>\n",
       "      <td>tizio</td>\n",
       "    </tr>\n",
       "    <tr>\n",
       "      <th>1</th>\n",
       "      <td>None</td>\n",
       "      <td>y</td>\n",
       "      <td>z</td>\n",
       "      <td>caio</td>\n",
       "    </tr>\n",
       "    <tr>\n",
       "      <th>2</th>\n",
       "      <td>w</td>\n",
       "      <td>None</td>\n",
       "      <td>None</td>\n",
       "      <td>sempronio</td>\n",
       "    </tr>\n",
       "  </tbody>\n",
       "</table>\n",
       "</div>"
      ],
      "text/plain": [
       "      a     b     c       name\n",
       "0     x     y  None      tizio\n",
       "1  None     y     z       caio\n",
       "2     w  None  None  sempronio"
      ]
     },
     "metadata": {},
     "output_type": "display_data"
    },
    {
     "name": "stdout",
     "output_type": "stream",
     "text": [
      "The output I want:\n"
     ]
    },
    {
     "data": {
      "text/html": [
       "<div>\n",
       "<style scoped>\n",
       "    .dataframe tbody tr th:only-of-type {\n",
       "        vertical-align: middle;\n",
       "    }\n",
       "\n",
       "    .dataframe tbody tr th {\n",
       "        vertical-align: top;\n",
       "    }\n",
       "\n",
       "    .dataframe thead th {\n",
       "        text-align: right;\n",
       "    }\n",
       "</style>\n",
       "<table border=\"1\" class=\"dataframe\">\n",
       "  <thead>\n",
       "    <tr style=\"text-align: right;\">\n",
       "      <th></th>\n",
       "      <th>a</th>\n",
       "      <th>b</th>\n",
       "      <th>c</th>\n",
       "      <th>name</th>\n",
       "    </tr>\n",
       "  </thead>\n",
       "  <tbody>\n",
       "    <tr>\n",
       "      <th>0</th>\n",
       "      <td>x</td>\n",
       "      <td>y</td>\n",
       "      <td>z</td>\n",
       "      <td>tizio</td>\n",
       "    </tr>\n",
       "    <tr>\n",
       "      <th>1</th>\n",
       "      <td>x</td>\n",
       "      <td>y</td>\n",
       "      <td>z</td>\n",
       "      <td>caio</td>\n",
       "    </tr>\n",
       "    <tr>\n",
       "      <th>2</th>\n",
       "      <td>w</td>\n",
       "      <td>None</td>\n",
       "      <td>None</td>\n",
       "      <td>sempronio</td>\n",
       "    </tr>\n",
       "  </tbody>\n",
       "</table>\n",
       "</div>"
      ],
      "text/plain": [
       "   a     b     c       name\n",
       "0  x     y     z      tizio\n",
       "1  x     y     z       caio\n",
       "2  w  None  None  sempronio"
      ]
     },
     "metadata": {},
     "output_type": "display_data"
    },
    {
     "name": "stdout",
     "output_type": "stream",
     "text": [
      "Output of my attempt:\n"
     ]
    },
    {
     "data": {
      "text/html": [
       "<div>\n",
       "<style scoped>\n",
       "    .dataframe tbody tr th:only-of-type {\n",
       "        vertical-align: middle;\n",
       "    }\n",
       "\n",
       "    .dataframe tbody tr th {\n",
       "        vertical-align: top;\n",
       "    }\n",
       "\n",
       "    .dataframe thead th {\n",
       "        text-align: right;\n",
       "    }\n",
       "</style>\n",
       "<table border=\"1\" class=\"dataframe\">\n",
       "  <thead>\n",
       "    <tr style=\"text-align: right;\">\n",
       "      <th></th>\n",
       "      <th>a</th>\n",
       "      <th>b</th>\n",
       "      <th>c</th>\n",
       "    </tr>\n",
       "  </thead>\n",
       "  <tbody>\n",
       "  </tbody>\n",
       "</table>\n",
       "</div>"
      ],
      "text/plain": [
       "Empty DataFrame\n",
       "Columns: [a, b, c]\n",
       "Index: []"
      ]
     },
     "execution_count": 166,
     "metadata": {},
     "output_type": "execute_result"
    }
   ],
   "source": [
    "column_names = ['EPPO_CODE','EFSA_PHT','NCBI_TAXID','name']\n",
    "column_names = ['a','b','c','name']\n",
    "df = pd.DataFrame([['x','y',None,'tizio'],[None,'y','z','caio'],['w',None,None,'sempronio']], columns=column_names)\n",
    "df_out = pd.DataFrame([['x','y','z','tizio'],['x','y','z','caio'],['w',None,None,'sempronio']], columns=column_names)\n",
    "print('INPUT:')\n",
    "display(df)\n",
    "print('The output I want:')\n",
    "display(df_out)\n",
    "print('Output of my attempt:')\n",
    "df.groupby(['a','b','c'], as_index=False).agg({'a' : 'max', 'b' : 'max', 'c' : 'max'})"
   ]
  },
  {
   "cell_type": "code",
   "execution_count": 227,
   "metadata": {},
   "outputs": [
    {
     "name": "stderr",
     "output_type": "stream",
     "text": [
      "100%|██████████| 2164/2164 [01:07<00:00, 31.89it/s]\n",
      "100%|██████████| 2164/2164 [01:04<00:00, 33.73it/s]\n",
      "100%|██████████| 2164/2164 [00:41<00:00, 51.81it/s] \n"
     ]
    },
    {
     "data": {
      "text/html": [
       "<div>\n",
       "<style scoped>\n",
       "    .dataframe tbody tr th:only-of-type {\n",
       "        vertical-align: middle;\n",
       "    }\n",
       "\n",
       "    .dataframe tbody tr th {\n",
       "        vertical-align: top;\n",
       "    }\n",
       "\n",
       "    .dataframe thead th {\n",
       "        text-align: right;\n",
       "    }\n",
       "</style>\n",
       "<table border=\"1\" class=\"dataframe\">\n",
       "  <thead>\n",
       "    <tr style=\"text-align: right;\">\n",
       "      <th></th>\n",
       "      <th>EPPO_CODE</th>\n",
       "      <th>EFSA_PHT</th>\n",
       "      <th>NCBI_TAXID</th>\n",
       "      <th>preferred_name</th>\n",
       "      <th>synonym</th>\n",
       "      <th>re</th>\n",
       "      <th>ds_language</th>\n",
       "      <th>match_language</th>\n",
       "    </tr>\n",
       "  </thead>\n",
       "  <tbody>\n",
       "    <tr>\n",
       "      <th>0</th>\n",
       "      <td>LIBEAF</td>\n",
       "      <td>LiberibacterAfricanusAsiaticusAmericanus-PHT</td>\n",
       "      <td>ncbi:34020</td>\n",
       "      <td>'Candidatus Liberibacter africanus'</td>\n",
       "      <td>greening of citrus</td>\n",
       "      <td>greening of citrus</td>\n",
       "      <td>en</td>\n",
       "      <td>NaN</td>\n",
       "    </tr>\n",
       "    <tr>\n",
       "      <th>1</th>\n",
       "      <td>LIBEAF</td>\n",
       "      <td>LiberibacterAfricanusAsiaticusAmericanus-PHT</td>\n",
       "      <td>ncbi:34020</td>\n",
       "      <td>'Candidatus Liberibacter africanus'</td>\n",
       "      <td>greening des agrumes</td>\n",
       "      <td>greening des agrumes</td>\n",
       "      <td>fr</td>\n",
       "      <td>NaN</td>\n",
       "    </tr>\n",
       "    <tr>\n",
       "      <th>2</th>\n",
       "      <td>LIBEAF</td>\n",
       "      <td>LiberibacterAfricanusAsiaticusAmericanus-PHT</td>\n",
       "      <td>ncbi:34020</td>\n",
       "      <td>'Candidatus Liberibacter africanus'</td>\n",
       "      <td>virescence des agrumes</td>\n",
       "      <td>vir\\wscence des agrumes</td>\n",
       "      <td>fr</td>\n",
       "      <td>NaN</td>\n",
       "    </tr>\n",
       "    <tr>\n",
       "      <th>3</th>\n",
       "      <td>LIBEAF</td>\n",
       "      <td>LiberibacterAfricanusAsiaticusAmericanus-PHT</td>\n",
       "      <td>ncbi:34020</td>\n",
       "      <td>'Candidatus Liberibacter africanus'</td>\n",
       "      <td>enverdecimiento de los cítricos</td>\n",
       "      <td>enverdecimiento de los c\\wtricos</td>\n",
       "      <td>es</td>\n",
       "      <td>NaN</td>\n",
       "    </tr>\n",
       "    <tr>\n",
       "      <th>4</th>\n",
       "      <td>LIBEAM</td>\n",
       "      <td>NaN</td>\n",
       "      <td></td>\n",
       "      <td>'Candidatus Liberibacter americanus'</td>\n",
       "      <td>Brazilian citrus greening</td>\n",
       "      <td>NaN</td>\n",
       "      <td>en</td>\n",
       "      <td>NaN</td>\n",
       "    </tr>\n",
       "    <tr>\n",
       "      <th>...</th>\n",
       "      <td>...</td>\n",
       "      <td>...</td>\n",
       "      <td>...</td>\n",
       "      <td>...</td>\n",
       "      <td>...</td>\n",
       "      <td>...</td>\n",
       "      <td>...</td>\n",
       "      <td>...</td>\n",
       "    </tr>\n",
       "    <tr>\n",
       "      <th>2159</th>\n",
       "      <td>NaN</td>\n",
       "      <td>AgonoxenaArgaula-PHT</td>\n",
       "      <td>NaN</td>\n",
       "      <td>NaN</td>\n",
       "      <td>Tomato leaf curl New Delhi begomovirus</td>\n",
       "      <td>coconut flat moth\\w*</td>\n",
       "      <td>NaN</td>\n",
       "      <td>NaN</td>\n",
       "    </tr>\n",
       "    <tr>\n",
       "      <th>2160</th>\n",
       "      <td>NaN</td>\n",
       "      <td>AgonoxenaArgaula-PHT</td>\n",
       "      <td>NaN</td>\n",
       "      <td>NaN</td>\n",
       "      <td>Tomato leaf curl New Delhi begomovirus</td>\n",
       "      <td>coconut leaf miner\\w*</td>\n",
       "      <td>NaN</td>\n",
       "      <td>NaN</td>\n",
       "    </tr>\n",
       "    <tr>\n",
       "      <th>2161</th>\n",
       "      <td>NaN</td>\n",
       "      <td>AgonoxenaArgaula-PHT</td>\n",
       "      <td>NaN</td>\n",
       "      <td>NaN</td>\n",
       "      <td>Tomato leaf curl New Delhi begomovirus</td>\n",
       "      <td>papillon\\w* des spathes du cocotier</td>\n",
       "      <td>NaN</td>\n",
       "      <td>NaN</td>\n",
       "    </tr>\n",
       "    <tr>\n",
       "      <th>2162</th>\n",
       "      <td>NaN</td>\n",
       "      <td>AgonoxenaArgaula-PHT</td>\n",
       "      <td>NaN</td>\n",
       "      <td>NaN</td>\n",
       "      <td>Tomato leaf curl New Delhi begomovirus</td>\n",
       "      <td>polilla plana del coco</td>\n",
       "      <td>NaN</td>\n",
       "      <td>NaN</td>\n",
       "    </tr>\n",
       "    <tr>\n",
       "      <th>2163</th>\n",
       "      <td>NaN</td>\n",
       "      <td>AgonoxenaArgaula-PHT</td>\n",
       "      <td>NaN</td>\n",
       "      <td>NaN</td>\n",
       "      <td>Tomato leaf curl New Delhi begomovirus</td>\n",
       "      <td>small coconut leaf moth\\w*</td>\n",
       "      <td>NaN</td>\n",
       "      <td>NaN</td>\n",
       "    </tr>\n",
       "  </tbody>\n",
       "</table>\n",
       "<p>2164 rows × 8 columns</p>\n",
       "</div>"
      ],
      "text/plain": [
       "     EPPO_CODE                                      EFSA_PHT  NCBI_TAXID  \\\n",
       "0       LIBEAF  LiberibacterAfricanusAsiaticusAmericanus-PHT  ncbi:34020   \n",
       "1       LIBEAF  LiberibacterAfricanusAsiaticusAmericanus-PHT  ncbi:34020   \n",
       "2       LIBEAF  LiberibacterAfricanusAsiaticusAmericanus-PHT  ncbi:34020   \n",
       "3       LIBEAF  LiberibacterAfricanusAsiaticusAmericanus-PHT  ncbi:34020   \n",
       "4       LIBEAM                                           NaN               \n",
       "...        ...                                           ...         ...   \n",
       "2159       NaN                          AgonoxenaArgaula-PHT         NaN   \n",
       "2160       NaN                          AgonoxenaArgaula-PHT         NaN   \n",
       "2161       NaN                          AgonoxenaArgaula-PHT         NaN   \n",
       "2162       NaN                          AgonoxenaArgaula-PHT         NaN   \n",
       "2163       NaN                          AgonoxenaArgaula-PHT         NaN   \n",
       "\n",
       "                            preferred_name  \\\n",
       "0      'Candidatus Liberibacter africanus'   \n",
       "1      'Candidatus Liberibacter africanus'   \n",
       "2      'Candidatus Liberibacter africanus'   \n",
       "3      'Candidatus Liberibacter africanus'   \n",
       "4     'Candidatus Liberibacter americanus'   \n",
       "...                                    ...   \n",
       "2159                                   NaN   \n",
       "2160                                   NaN   \n",
       "2161                                   NaN   \n",
       "2162                                   NaN   \n",
       "2163                                   NaN   \n",
       "\n",
       "                                     synonym  \\\n",
       "0                         greening of citrus   \n",
       "1                       greening des agrumes   \n",
       "2                     virescence des agrumes   \n",
       "3            enverdecimiento de los cítricos   \n",
       "4                  Brazilian citrus greening   \n",
       "...                                      ...   \n",
       "2159  Tomato leaf curl New Delhi begomovirus   \n",
       "2160  Tomato leaf curl New Delhi begomovirus   \n",
       "2161  Tomato leaf curl New Delhi begomovirus   \n",
       "2162  Tomato leaf curl New Delhi begomovirus   \n",
       "2163  Tomato leaf curl New Delhi begomovirus   \n",
       "\n",
       "                                       re ds_language match_language  \n",
       "0                      greening of citrus          en            NaN  \n",
       "1                    greening des agrumes          fr            NaN  \n",
       "2                 vir\\wscence des agrumes          fr            NaN  \n",
       "3        enverdecimiento de los c\\wtricos          es            NaN  \n",
       "4                                     NaN          en            NaN  \n",
       "...                                   ...         ...            ...  \n",
       "2159                 coconut flat moth\\w*         NaN            NaN  \n",
       "2160                coconut leaf miner\\w*         NaN            NaN  \n",
       "2161  papillon\\w* des spathes du cocotier         NaN            NaN  \n",
       "2162               polilla plana del coco         NaN            NaN  \n",
       "2163           small coconut leaf moth\\w*         NaN            NaN  \n",
       "\n",
       "[2164 rows x 8 columns]"
      ]
     },
     "execution_count": 227,
     "metadata": {},
     "output_type": "execute_result"
    }
   ],
   "source": [
    "column_names = ['EPPO_CODE','EFSA_PHT','NCBI_TAXID','name']\n",
    "df_sample = pd.DataFrame([['x','y',None,'tizio'],[None,'y','z','caio'],['w',None,None,'sempronio']], columns=column_names)\n",
    "#display(df_sample)\n",
    "## Copy NCBI info to all EFSA terms representing the same entity (same EFSA PHT)\n",
    "\n",
    "cc = ['EPPO_CODE','EFSA_PHT','NCBI_TAXID']\n",
    "indices = list(range(len(cc)))\n",
    "\n",
    "#for _ in indices:\n",
    "for col_i in indices:\n",
    "    empty_col_indices = indices.copy()\n",
    "    empty_col_indices.remove(col_i)\n",
    "    \n",
    "    ref_col_name = cc[col_i]\n",
    "    blank_col_names = [cc[x] for x in empty_col_indices] \n",
    "#dbg(ref_col_name, '\\nNEW ITERATION: ')\n",
    "    ## Iterate over final db lines \n",
    "    for final_db_i in tqdm(range(len(final_db))):\n",
    "#print('extracting info from row:', final_db_i)\n",
    "        ## check if row has a value in the reference column \n",
    "        ref_col_value = final_db.at[final_db_i,ref_col_name]\n",
    "#dbg(ref_col_value)\n",
    "        if ref_col_value:\n",
    "            ## store id values from other columns\n",
    "            id_values = {col_name:final_db.at[final_db_i,col_name] for col_name in blank_col_names}\n",
    "#dbg(id_values, ref_col_value)\n",
    "#print('all rows with',ref_col_value,'will be completed with',list(id_values.values()))\n",
    "            for edit_db_i in (range(len(final_db))):\n",
    "                for col_name in blank_col_names:\n",
    "#dbg(col_name, 'column')\n",
    "#dbg(edit_db_i, 'row')\n",
    "                    if not final_db.at[edit_db_i,col_name] and final_db.at[edit_db_i,ref_col_name]==ref_col_value:\n",
    "#print('EDITING')\n",
    "#print(col_name,'none, replace with',id_values[col_name])\n",
    "                        final_db.at[edit_db_i,col_name] = id_values[col_name]\n",
    "final_db"
   ]
  },
  {
   "cell_type": "code",
   "execution_count": 228,
   "metadata": {},
   "outputs": [],
   "source": [
    "final_db.to_csv(LR_filepath)"
   ]
  },
  {
   "cell_type": "code",
   "execution_count": 229,
   "metadata": {},
   "outputs": [
    {
     "data": {
      "text/html": [
       "<div>\n",
       "<style scoped>\n",
       "    .dataframe tbody tr th:only-of-type {\n",
       "        vertical-align: middle;\n",
       "    }\n",
       "\n",
       "    .dataframe tbody tr th {\n",
       "        vertical-align: top;\n",
       "    }\n",
       "\n",
       "    .dataframe thead th {\n",
       "        text-align: right;\n",
       "    }\n",
       "</style>\n",
       "<table border=\"1\" class=\"dataframe\">\n",
       "  <thead>\n",
       "    <tr style=\"text-align: right;\">\n",
       "      <th></th>\n",
       "      <th>NCBI_TAXID</th>\n",
       "      <th>preferred_name</th>\n",
       "      <th>synonym</th>\n",
       "    </tr>\n",
       "  </thead>\n",
       "  <tbody>\n",
       "    <tr>\n",
       "      <th>1</th>\n",
       "      <td>ncbi:2</td>\n",
       "      <td>Bacteria</td>\n",
       "      <td>bacteria</td>\n",
       "    </tr>\n",
       "  </tbody>\n",
       "</table>\n",
       "</div>"
      ],
      "text/plain": [
       "  NCBI_TAXID preferred_name   synonym\n",
       "1     ncbi:2       Bacteria  bacteria"
      ]
     },
     "execution_count": 229,
     "metadata": {},
     "output_type": "execute_result"
    }
   ],
   "source": [
    "sci_name = 'Ralstonia pseudosolanacearum'\n",
    "\n",
    "prep_ncbi_db[(prep_ncbi_db['synonym']=='bacteria') | (prep_ncbi_db['synonym']==\"'\"+sci_name+\"'\")]"
   ]
  }
 ],
 "metadata": {
  "kernelspec": {
   "display_name": "venv",
   "language": "python",
   "name": "python3"
  },
  "language_info": {
   "codemirror_mode": {
    "name": "ipython",
    "version": 3
   },
   "file_extension": ".py",
   "mimetype": "text/x-python",
   "name": "python",
   "nbconvert_exporter": "python",
   "pygments_lexer": "ipython3",
   "version": "3.10.6"
  },
  "orig_nbformat": 4,
  "vscode": {
   "interpreter": {
    "hash": "63f527d0a5d3fda1d4647c2bc079f23d6cbdfd3a23357b041dcef059260bde6f"
   }
  }
 },
 "nbformat": 4,
 "nbformat_minor": 2
}
