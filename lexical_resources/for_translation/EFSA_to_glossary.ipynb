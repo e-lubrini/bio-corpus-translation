{
 "cells": [
  {
   "cell_type": "markdown",
   "metadata": {},
   "source": [
    "# Preprocessing"
   ]
  },
  {
   "cell_type": "code",
   "execution_count": 1,
   "metadata": {},
   "outputs": [],
   "source": [
    "from dsutils.de.files import get_data_path, get_datafile_path, xls_to_csv, sample_csv, get_csv_head\n",
    "import re\n",
    "import pandas as pd\n",
    "import csv\n",
    "import json\n",
    "import os\n",
    "import sys\n",
    "import collections\n",
    "from tqdm import tqdm\n",
    "import numpy as np"
   ]
  },
  {
   "cell_type": "code",
   "execution_count": 2,
   "metadata": {},
   "outputs": [
    {
     "name": "stderr",
     "output_type": "stream",
     "text": [
      "/home/elubrini/GitHub/bio-doc-translation/venv/lib/python3.10/site-packages/openpyxl/styles/stylesheet.py:226: UserWarning: Workbook contains no default style, apply openpyxl's default\n",
      "  warn(\"Workbook contains no default style, apply openpyxl's default\")\n",
      "/home/elubrini/GitHub/bio-doc-translation/venv/lib/python3.10/site-packages/openpyxl/styles/stylesheet.py:226: UserWarning: Workbook contains no default style, apply openpyxl's default\n",
      "  warn(\"Workbook contains no default style, apply openpyxl's default\")\n"
     ]
    }
   ],
   "source": [
    "TEXT_FIELDS = ('title_extraction', 'abstract_extraction', )\n",
    "\n",
    "## Input\n",
    "corpus_path = get_datafile_path('dataset_tiers-esv.csv')\n",
    "eppo_path = get_datafile_path('2022-09-02_COMMONnames_EPPO_OQ.xlsx')\n",
    "re_path = get_datafile_path('EFSA-keyword-match/FichierMotsClesMagaliLarenaudie.csv')\n",
    "ncbi_path = get_datafile_path('taxa+id_full.txt')\n",
    "eppo_sci_path = get_datafile_path('2022-09-02_SCIENTIFICnames_EPPO_OQ.xlsx')\n",
    "\n",
    "## Output\n",
    "data_path = get_data_path()\n",
    "efsa_match_json_path = os.path.join(data_path, 'efsa_matches.json')\n",
    "efsa_glossary_path = os.path.join(data_path, 'efsa_glossary.csv')"
   ]
  },
  {
   "cell_type": "code",
   "execution_count": 3,
   "metadata": {},
   "outputs": [],
   "source": [
    "with open(corpus_path) as f:\n",
    "    CORPUS = pd.read_csv(f)"
   ]
  },
  {
   "cell_type": "code",
   "execution_count": 4,
   "metadata": {},
   "outputs": [],
   "source": [
    "#sample_path = sample_csv(corpus_path, in_col_select_rows={'id':['61664']})\n",
    "\n",
    "#with open(sample_path) as f:\n",
    "#    SAMPLE_CORPUS = pd.read_csv(f)"
   ]
  },
  {
   "cell_type": "markdown",
   "metadata": {},
   "source": [
    "## Extract EFSA term lang info"
   ]
  },
  {
   "cell_type": "markdown",
   "metadata": {},
   "source": [
    "### Match with Corpus Language "
   ]
  },
  {
   "cell_type": "code",
   "execution_count": 5,
   "metadata": {},
   "outputs": [
    {
     "data": {
      "text/html": [
       "<div>\n",
       "<style scoped>\n",
       "    .dataframe tbody tr th:only-of-type {\n",
       "        vertical-align: middle;\n",
       "    }\n",
       "\n",
       "    .dataframe tbody tr th {\n",
       "        vertical-align: top;\n",
       "    }\n",
       "\n",
       "    .dataframe thead th {\n",
       "        text-align: right;\n",
       "    }\n",
       "</style>\n",
       "<table border=\"1\" class=\"dataframe\">\n",
       "  <thead>\n",
       "    <tr style=\"text-align: right;\">\n",
       "      <th></th>\n",
       "      <th>Category (pest name)</th>\n",
       "      <th>Keywords</th>\n",
       "      <th>Unnamed: 2</th>\n",
       "      <th>Unnamed: 3</th>\n",
       "    </tr>\n",
       "  </thead>\n",
       "  <tbody>\n",
       "    <tr>\n",
       "      <th>0</th>\n",
       "      <td>AcaloleptaSejuncta-PHT</td>\n",
       "      <td>acalolepta+sejuncta</td>\n",
       "      <td>Au/Cabi</td>\n",
       "      <td>NaN</td>\n",
       "    </tr>\n",
       "    <tr>\n",
       "      <th>1</th>\n",
       "      <td>AcalymmaVittatum-PHT</td>\n",
       "      <td>acalymma+vittata</td>\n",
       "      <td>Au/Cabi</td>\n",
       "      <td>NaN</td>\n",
       "    </tr>\n",
       "    <tr>\n",
       "      <th>2</th>\n",
       "      <td>AcalymmaVittatum-PHT</td>\n",
       "      <td>acalymma+vittatum</td>\n",
       "      <td>Au/Cabi</td>\n",
       "      <td>NaN</td>\n",
       "    </tr>\n",
       "    <tr>\n",
       "      <th>3</th>\n",
       "      <td>AcalymmaVittatum-PHT</td>\n",
       "      <td>chrysom_le%+ray_e+du+concombre</td>\n",
       "      <td>EOL/Cabi</td>\n",
       "      <td>Fr</td>\n",
       "    </tr>\n",
       "    <tr>\n",
       "      <th>4</th>\n",
       "      <td>AcalymmaVittatum-PHT</td>\n",
       "      <td>cistela+melanocephala</td>\n",
       "      <td>Au/Cabi</td>\n",
       "      <td>NaN</td>\n",
       "    </tr>\n",
       "  </tbody>\n",
       "</table>\n",
       "</div>"
      ],
      "text/plain": [
       "     Category (pest name)                        Keywords Unnamed: 2  \\\n",
       "0  AcaloleptaSejuncta-PHT             acalolepta+sejuncta    Au/Cabi   \n",
       "1    AcalymmaVittatum-PHT                acalymma+vittata    Au/Cabi   \n",
       "2    AcalymmaVittatum-PHT               acalymma+vittatum    Au/Cabi   \n",
       "3    AcalymmaVittatum-PHT  chrysom_le%+ray_e+du+concombre   EOL/Cabi   \n",
       "4    AcalymmaVittatum-PHT           cistela+melanocephala    Au/Cabi   \n",
       "\n",
       "  Unnamed: 3  \n",
       "0        NaN  \n",
       "1        NaN  \n",
       "2        NaN  \n",
       "3         Fr  \n",
       "4        NaN  "
      ]
     },
     "execution_count": 5,
     "metadata": {},
     "output_type": "execute_result"
    }
   ],
   "source": [
    "with open(re_path) as f:\n",
    "    EFSA = pd.read_csv(f, delimiter=',')\n",
    "EFSA.head()"
   ]
  },
  {
   "cell_type": "code",
   "execution_count": 6,
   "metadata": {},
   "outputs": [
    {
     "data": {
      "text/html": [
       "<div>\n",
       "<style scoped>\n",
       "    .dataframe tbody tr th:only-of-type {\n",
       "        vertical-align: middle;\n",
       "    }\n",
       "\n",
       "    .dataframe tbody tr th {\n",
       "        vertical-align: top;\n",
       "    }\n",
       "\n",
       "    .dataframe thead th {\n",
       "        text-align: right;\n",
       "    }\n",
       "</style>\n",
       "<table border=\"1\" class=\"dataframe\">\n",
       "  <thead>\n",
       "    <tr style=\"text-align: right;\">\n",
       "      <th></th>\n",
       "      <th>id</th>\n",
       "      <th>date_publication</th>\n",
       "      <th>titre</th>\n",
       "      <th>auteurs</th>\n",
       "      <th>journal</th>\n",
       "      <th>url</th>\n",
       "      <th>pertinence</th>\n",
       "      <th>sujet</th>\n",
       "      <th>pays_journal</th>\n",
       "      <th>fiabilite</th>\n",
       "      <th>...</th>\n",
       "      <th>class</th>\n",
       "      <th>lang_ft</th>\n",
       "      <th>lang_ft_confidence</th>\n",
       "      <th>fold</th>\n",
       "      <th>chi2_lang</th>\n",
       "      <th>chi2_cat</th>\n",
       "      <th>norm_title_extraction</th>\n",
       "      <th>norm_abstract_extraction</th>\n",
       "      <th>norm_translation_title</th>\n",
       "      <th>norm_translation_abstract</th>\n",
       "    </tr>\n",
       "  </thead>\n",
       "  <tbody>\n",
       "    <tr>\n",
       "      <th>0</th>\n",
       "      <td>59183</td>\n",
       "      <td>2021/09/01</td>\n",
       "      <td>Bureau n° 7583/2021</td>\n",
       "      <td>NaN</td>\n",
       "      <td>NaN</td>\n",
       "      <td>https://dre.pt/web/guest/home/-/dre/168760770/...</td>\n",
       "      <td>3.0</td>\n",
       "      <td>2481.0</td>\n",
       "      <td>175.0</td>\n",
       "      <td>+++</td>\n",
       "      <td>...</td>\n",
       "      <td>1</td>\n",
       "      <td>ht</td>\n",
       "      <td>0.987593</td>\n",
       "      <td>8</td>\n",
       "      <td>99</td>\n",
       "      <td>991</td>\n",
       "      <td>NaN</td>\n",
       "      <td>NaN</td>\n",
       "      <td>NaN</td>\n",
       "      <td>NaN</td>\n",
       "    </tr>\n",
       "    <tr>\n",
       "      <th>1</th>\n",
       "      <td>59184</td>\n",
       "      <td>2021/09/01</td>\n",
       "      <td>Qu'est-ce que la bactérie Xylella fastidiosa ?</td>\n",
       "      <td>NaN</td>\n",
       "      <td>NaN</td>\n",
       "      <td>https://agriculture.gouv.fr/quest-ce-que-la-ba...</td>\n",
       "      <td>3.0</td>\n",
       "      <td>2482.0</td>\n",
       "      <td>77.0</td>\n",
       "      <td>+++</td>\n",
       "      <td>...</td>\n",
       "      <td>1</td>\n",
       "      <td>fr</td>\n",
       "      <td>0.976940</td>\n",
       "      <td>7</td>\n",
       "      <td>fr</td>\n",
       "      <td>fr1</td>\n",
       "      <td>qu est ce que la bactérie xylella fastidiosa</td>\n",
       "      <td>info 07 07 2021 santé protection des végétaux ...</td>\n",
       "      <td>xylella fastidiosa bacteria</td>\n",
       "      <td>info 07 07 2021 health plant protection xylell...</td>\n",
       "    </tr>\n",
       "    <tr>\n",
       "      <th>2</th>\n",
       "      <td>59186</td>\n",
       "      <td>2021/09/03</td>\n",
       "      <td>Introgression among North American wild grapes...</td>\n",
       "      <td>A Morales-Cruz, JA Aguirre-Liguori, Y Zhou, A ...</td>\n",
       "      <td>Genome Biol</td>\n",
       "      <td>https://www.ncbi.nlm.nih.gov/pubmed/34479604</td>\n",
       "      <td>0.0</td>\n",
       "      <td>NaN</td>\n",
       "      <td>NaN</td>\n",
       "      <td>NaN</td>\n",
       "      <td>...</td>\n",
       "      <td>0</td>\n",
       "      <td>en</td>\n",
       "      <td>0.800591</td>\n",
       "      <td>8</td>\n",
       "      <td>en</td>\n",
       "      <td>en0</td>\n",
       "      <td>introgression among north american wild grapes...</td>\n",
       "      <td>abstract background introgressive hybridizatio...</td>\n",
       "      <td>introgression among north american wild grapes...</td>\n",
       "      <td>abstract background introgressive hybridizatio...</td>\n",
       "    </tr>\n",
       "  </tbody>\n",
       "</table>\n",
       "<p>3 rows × 46 columns</p>\n",
       "</div>"
      ],
      "text/plain": [
       "      id date_publication                                              titre  \\\n",
       "0  59183       2021/09/01                                Bureau n° 7583/2021   \n",
       "1  59184       2021/09/01     Qu'est-ce que la bactérie Xylella fastidiosa ?   \n",
       "2  59186       2021/09/03  Introgression among North American wild grapes...   \n",
       "\n",
       "                                             auteurs      journal  \\\n",
       "0                                                NaN          NaN   \n",
       "1                                                NaN          NaN   \n",
       "2  A Morales-Cruz, JA Aguirre-Liguori, Y Zhou, A ...  Genome Biol   \n",
       "\n",
       "                                                 url  pertinence   sujet  \\\n",
       "0  https://dre.pt/web/guest/home/-/dre/168760770/...         3.0  2481.0   \n",
       "1  https://agriculture.gouv.fr/quest-ce-que-la-ba...         3.0  2482.0   \n",
       "2       https://www.ncbi.nlm.nih.gov/pubmed/34479604         0.0     NaN   \n",
       "\n",
       "   pays_journal fiabilite  ...  class lang_ft  lang_ft_confidence  fold  \\\n",
       "0         175.0       +++  ...      1      ht            0.987593     8   \n",
       "1          77.0       +++  ...      1      fr            0.976940     7   \n",
       "2           NaN       NaN  ...      0      en            0.800591     8   \n",
       "\n",
       "  chi2_lang chi2_cat                              norm_title_extraction  \\\n",
       "0        99      991                                                NaN   \n",
       "1        fr      fr1       qu est ce que la bactérie xylella fastidiosa   \n",
       "2        en      en0  introgression among north american wild grapes...   \n",
       "\n",
       "                            norm_abstract_extraction  \\\n",
       "0                                                NaN   \n",
       "1  info 07 07 2021 santé protection des végétaux ...   \n",
       "2  abstract background introgressive hybridizatio...   \n",
       "\n",
       "                              norm_translation_title  \\\n",
       "0                                                NaN   \n",
       "1                        xylella fastidiosa bacteria   \n",
       "2  introgression among north american wild grapes...   \n",
       "\n",
       "                           norm_translation_abstract  \n",
       "0                                                NaN  \n",
       "1  info 07 07 2021 health plant protection xylell...  \n",
       "2  abstract background introgressive hybridizatio...  \n",
       "\n",
       "[3 rows x 46 columns]"
      ]
     },
     "execution_count": 6,
     "metadata": {},
     "output_type": "execute_result"
    }
   ],
   "source": [
    "get_csv_head(corpus_path, size=3)"
   ]
  },
  {
   "cell_type": "markdown",
   "metadata": {},
   "source": [
    "#### Extract texts from corpus"
   ]
  },
  {
   "cell_type": "code",
   "execution_count": 7,
   "metadata": {},
   "outputs": [],
   "source": [
    "## USE SAMPLE\n",
    "#corpus_path = sample_csv(corpus_path, in_col_select_rows={'norm_title_extraction':['huanglongbing']})\n",
    "#re_path = sample_csv(re_path, in_col_select_rows={'Keywords':['candidatus']})\n",
    "#print_csv_head(corpus_path, size=6)"
   ]
  },
  {
   "cell_type": "code",
   "execution_count": 8,
   "metadata": {},
   "outputs": [],
   "source": [
    "csv.field_size_limit(sys.maxsize)\n",
    "TEXT = {}\n",
    "LANG = {}\n",
    "with open(corpus_path) as f:\n",
    "    r = csv.DictReader(f, delimiter=',')\n",
    "    for cols in r:\n",
    "        txt = ' '.join(cols[tf].strip() for tf in TEXT_FIELDS)\n",
    "        lang = cols['lang_ft'].strip()\n",
    "        TEXT[cols['id']] = txt\n",
    "        LANG[cols['id']] = lang"
   ]
  },
  {
   "cell_type": "markdown",
   "metadata": {},
   "source": [
    "#### def functions"
   ]
  },
  {
   "cell_type": "code",
   "execution_count": 9,
   "metadata": {},
   "outputs": [],
   "source": [
    "def to_pattern(syn):\n",
    "    r = syn.replace('+', ' ')\n",
    "    r = r.replace('_', '\\\\w')\n",
    "    if r.endswith('%'):\n",
    "        r = r[:-1] + '\\\\w*'\n",
    "    r = r.replace('% ', '\\\\w* ')\n",
    "    r = r.replace('%', '\\\\S*\\\\s?')\n",
    "    return r\n",
    "\n",
    "DATA = dict()\n",
    "def match_keyword(pht,s):\n",
    "    sre = to_pattern(s)\n",
    "    pat = re.compile(sre, flags=re.IGNORECASE)\n",
    "    #pat = re.compile('huanglongbing', flags=re.IGNORECASE)\n",
    "    matches = set()\n",
    "    docids = set()\n",
    "    for did, txt in TEXT.items():\n",
    "        ms = pat.findall(txt)\n",
    "        if len(ms) > 0:\n",
    "            for m in ms:\n",
    "                if m not in DATA.keys():\n",
    "                    DATA[m] = {'langs': set(),\n",
    "                                'PHT' : pht,\n",
    "                                'doc_ids' : set()}\n",
    "                DATA[m]['langs'].add(str(LANG[did]))\n",
    "                DATA[m]['doc_ids'].add(did)\n",
    "    return "
   ]
  },
  {
   "cell_type": "markdown",
   "metadata": {},
   "source": [
    "#### Match patterns in corpus"
   ]
  },
  {
   "cell_type": "code",
   "execution_count": 10,
   "metadata": {},
   "outputs": [
    {
     "name": "stderr",
     "output_type": "stream",
     "text": [
      "7559it [4:10:32,  1.99s/it]\n"
     ]
    }
   ],
   "source": [
    "#sys.stderr.write('matching\\n')\n",
    "with open(re_path) as f:\n",
    "    READER = csv.reader(f, delimiter=',')\n",
    "    DICT = collections.defaultdict(set)\n",
    "    N = 0\n",
    "    M = 0\n",
    "    DOCIDS = set()\n",
    "    for cols in tqdm(READER):\n",
    "        N += 1\n",
    "        if N == 1:\n",
    "            continue\n",
    "        key, syn, *_ = cols\n",
    "        match_keyword(key,syn)\n",
    "    #sys.stderr.write('%d/%d matched\\n' % (M, N))"
   ]
  },
  {
   "cell_type": "code",
   "execution_count": 11,
   "metadata": {},
   "outputs": [],
   "source": [
    "## SAVE\n",
    "import json\n",
    "\n",
    "for m, mdata in DATA.items():\n",
    "    for mdat, setdat in mdata.items():\n",
    "        if not isinstance(setdat, str):\n",
    "            DATA[m][mdat] = list(setdat)\n",
    "\n",
    "with open(efsa_match_json_path, 'w') as f:\n",
    "    json.dump(DATA, f)"
   ]
  },
  {
   "cell_type": "code",
   "execution_count": 12,
   "metadata": {},
   "outputs": [
    {
     "data": {
      "text/plain": [
       "('Acalymma vittatum',\n",
       " {'langs': ['en'],\n",
       "  'PHT': 'AcalymmaVittatum-PHT',\n",
       "  'doc_ids': ['61664', '65355', '65991']})"
      ]
     },
     "execution_count": 12,
     "metadata": {},
     "output_type": "execute_result"
    }
   ],
   "source": [
    "with open(efsa_match_json_path, 'r') as f:\n",
    "    DATA = json.load(f)\n",
    "list(DATA.items())[0]"
   ]
  },
  {
   "cell_type": "code",
   "execution_count": 13,
   "metadata": {},
   "outputs": [],
   "source": [
    "## Caracol\n",
    "#list(DATA.items())[8:12]"
   ]
  },
  {
   "cell_type": "markdown",
   "metadata": {},
   "source": [
    "### Match with Google Search"
   ]
  },
  {
   "cell_type": "code",
   "execution_count": null,
   "metadata": {},
   "outputs": [],
   "source": []
  },
  {
   "cell_type": "markdown",
   "metadata": {},
   "source": [
    "## Extract EFSA Scientific Term from NCBI"
   ]
  },
  {
   "cell_type": "markdown",
   "metadata": {},
   "source": [
    "### Load Data"
   ]
  },
  {
   "cell_type": "code",
   "execution_count": 14,
   "metadata": {},
   "outputs": [
    {
     "data": {
      "text/html": [
       "<div>\n",
       "<style scoped>\n",
       "    .dataframe tbody tr th:only-of-type {\n",
       "        vertical-align: middle;\n",
       "    }\n",
       "\n",
       "    .dataframe tbody tr th {\n",
       "        vertical-align: top;\n",
       "    }\n",
       "\n",
       "    .dataframe thead th {\n",
       "        text-align: right;\n",
       "    }\n",
       "</style>\n",
       "<table border=\"1\" class=\"dataframe\">\n",
       "  <thead>\n",
       "    <tr style=\"text-align: right;\">\n",
       "      <th></th>\n",
       "      <th>OtherScientificNames</th>\n",
       "      <th>Authority</th>\n",
       "      <th>CodeEOPP</th>\n",
       "      <th>PreferredName</th>\n",
       "      <th>AuthorityPreferredName</th>\n",
       "    </tr>\n",
       "  </thead>\n",
       "  <tbody>\n",
       "    <tr>\n",
       "      <th>0</th>\n",
       "      <td>Citrus greening bacterium (heat-sensitive strain)</td>\n",
       "      <td>NaN</td>\n",
       "      <td>LIBEAF</td>\n",
       "      <td>'Candidatus Liberibacter africanus'</td>\n",
       "      <td>Jagoueix, Bové &amp; Garnier</td>\n",
       "    </tr>\n",
       "    <tr>\n",
       "      <th>1</th>\n",
       "      <td>Liberibacter africanum</td>\n",
       "      <td>NaN</td>\n",
       "      <td>LIBEAF</td>\n",
       "      <td>'Candidatus Liberibacter africanus'</td>\n",
       "      <td>Jagoueix, Bové &amp; Garnier</td>\n",
       "    </tr>\n",
       "    <tr>\n",
       "      <th>2</th>\n",
       "      <td>Liberibacter africanus</td>\n",
       "      <td>NaN</td>\n",
       "      <td>LIBEAF</td>\n",
       "      <td>'Candidatus Liberibacter africanus'</td>\n",
       "      <td>Jagoueix, Bové &amp; Garnier</td>\n",
       "    </tr>\n",
       "    <tr>\n",
       "      <th>3</th>\n",
       "      <td>Liberibacter americanus</td>\n",
       "      <td>NaN</td>\n",
       "      <td>LIBEAM</td>\n",
       "      <td>'Candidatus Liberibacter americanus'</td>\n",
       "      <td>Teixeira, Saillard, Eveillard, Danet, da Costa...</td>\n",
       "    </tr>\n",
       "    <tr>\n",
       "      <th>4</th>\n",
       "      <td>Citrus greening bacterium (heat-tolerant strain)</td>\n",
       "      <td>NaN</td>\n",
       "      <td>LIBEAS</td>\n",
       "      <td>'Candidatus Liberibacter asiaticus'</td>\n",
       "      <td>Jagoueix, Bové &amp; Garnier</td>\n",
       "    </tr>\n",
       "  </tbody>\n",
       "</table>\n",
       "</div>"
      ],
      "text/plain": [
       "                                OtherScientificNames Authority CodeEOPP  \\\n",
       "0  Citrus greening bacterium (heat-sensitive strain)       NaN   LIBEAF   \n",
       "1                             Liberibacter africanum       NaN   LIBEAF   \n",
       "2                             Liberibacter africanus       NaN   LIBEAF   \n",
       "3                            Liberibacter americanus       NaN   LIBEAM   \n",
       "4   Citrus greening bacterium (heat-tolerant strain)       NaN   LIBEAS   \n",
       "\n",
       "                          PreferredName  \\\n",
       "0   'Candidatus Liberibacter africanus'   \n",
       "1   'Candidatus Liberibacter africanus'   \n",
       "2   'Candidatus Liberibacter africanus'   \n",
       "3  'Candidatus Liberibacter americanus'   \n",
       "4   'Candidatus Liberibacter asiaticus'   \n",
       "\n",
       "                              AuthorityPreferredName  \n",
       "0                           Jagoueix, Bové & Garnier  \n",
       "1                           Jagoueix, Bové & Garnier  \n",
       "2                           Jagoueix, Bové & Garnier  \n",
       "3  Teixeira, Saillard, Eveillard, Danet, da Costa...  \n",
       "4                           Jagoueix, Bové & Garnier  "
      ]
     },
     "execution_count": 14,
     "metadata": {},
     "output_type": "execute_result"
    }
   ],
   "source": [
    "## Load EPPO_SCI\n",
    "with open(eppo_sci_path, 'r') as f:\n",
    "    EPPO_SCI = pd.read_csv(f, on_bad_lines='skip', sep=',')#index_col=0 )\n",
    "EPPO_SCI.head()"
   ]
  },
  {
   "cell_type": "code",
   "execution_count": 15,
   "metadata": {},
   "outputs": [
    {
     "data": {
      "text/html": [
       "<div>\n",
       "<style scoped>\n",
       "    .dataframe tbody tr th:only-of-type {\n",
       "        vertical-align: middle;\n",
       "    }\n",
       "\n",
       "    .dataframe tbody tr th {\n",
       "        vertical-align: top;\n",
       "    }\n",
       "\n",
       "    .dataframe thead th {\n",
       "        text-align: right;\n",
       "    }\n",
       "</style>\n",
       "<table border=\"1\" class=\"dataframe\">\n",
       "  <thead>\n",
       "    <tr style=\"text-align: right;\">\n",
       "      <th></th>\n",
       "      <th>term</th>\n",
       "      <th>ID</th>\n",
       "      <th>kingdom</th>\n",
       "      <th>taxon_path</th>\n",
       "      <th>POS</th>\n",
       "      <th>taxon_ranking</th>\n",
       "      <th>NA1</th>\n",
       "      <th>NA2</th>\n",
       "      <th>lang</th>\n",
       "    </tr>\n",
       "  </thead>\n",
       "  <tbody>\n",
       "    <tr>\n",
       "      <th>0</th>\n",
       "      <td>Bacteria</td>\n",
       "      <td>ncbi:2</td>\n",
       "      <td>Bacteria</td>\n",
       "      <td>/ncbi:1/ncbi:131567/ncbi:2</td>\n",
       "      <td>NP</td>\n",
       "      <td>superkingdom</td>\n",
       "      <td>NaN</td>\n",
       "      <td>NaN</td>\n",
       "      <td>NaN</td>\n",
       "    </tr>\n",
       "    <tr>\n",
       "      <th>1</th>\n",
       "      <td>bacteria</td>\n",
       "      <td>ncbi:2</td>\n",
       "      <td>Bacteria</td>\n",
       "      <td>/ncbi:1/ncbi:131567/ncbi:2</td>\n",
       "      <td>NNS</td>\n",
       "      <td>superkingdom</td>\n",
       "      <td>NaN</td>\n",
       "      <td>NaN</td>\n",
       "      <td>NaN</td>\n",
       "    </tr>\n",
       "    <tr>\n",
       "      <th>2</th>\n",
       "      <td>eubacteria</td>\n",
       "      <td>ncbi:2</td>\n",
       "      <td>Bacteria</td>\n",
       "      <td>/ncbi:1/ncbi:131567/ncbi:2</td>\n",
       "      <td>NN</td>\n",
       "      <td>superkingdom</td>\n",
       "      <td>NaN</td>\n",
       "      <td>NaN</td>\n",
       "      <td>NaN</td>\n",
       "    </tr>\n",
       "    <tr>\n",
       "      <th>3</th>\n",
       "      <td>Monera</td>\n",
       "      <td>ncbi:2</td>\n",
       "      <td>Bacteria</td>\n",
       "      <td>/ncbi:1/ncbi:131567/ncbi:2</td>\n",
       "      <td>NP</td>\n",
       "      <td>superkingdom</td>\n",
       "      <td>NaN</td>\n",
       "      <td>NaN</td>\n",
       "      <td>NaN</td>\n",
       "    </tr>\n",
       "    <tr>\n",
       "      <th>4</th>\n",
       "      <td>Procaryotae</td>\n",
       "      <td>ncbi:2</td>\n",
       "      <td>Bacteria</td>\n",
       "      <td>/ncbi:1/ncbi:131567/ncbi:2</td>\n",
       "      <td>NP</td>\n",
       "      <td>superkingdom</td>\n",
       "      <td>NaN</td>\n",
       "      <td>NaN</td>\n",
       "      <td>NaN</td>\n",
       "    </tr>\n",
       "  </tbody>\n",
       "</table>\n",
       "</div>"
      ],
      "text/plain": [
       "          term      ID   kingdom                  taxon_path  POS  \\\n",
       "0     Bacteria  ncbi:2  Bacteria  /ncbi:1/ncbi:131567/ncbi:2   NP   \n",
       "1     bacteria  ncbi:2  Bacteria  /ncbi:1/ncbi:131567/ncbi:2  NNS   \n",
       "2   eubacteria  ncbi:2  Bacteria  /ncbi:1/ncbi:131567/ncbi:2   NN   \n",
       "3       Monera  ncbi:2  Bacteria  /ncbi:1/ncbi:131567/ncbi:2   NP   \n",
       "4  Procaryotae  ncbi:2  Bacteria  /ncbi:1/ncbi:131567/ncbi:2   NP   \n",
       "\n",
       "  taxon_ranking  NA1  NA2  lang  \n",
       "0  superkingdom  NaN  NaN   NaN  \n",
       "1  superkingdom  NaN  NaN   NaN  \n",
       "2  superkingdom  NaN  NaN   NaN  \n",
       "3  superkingdom  NaN  NaN   NaN  \n",
       "4  superkingdom  NaN  NaN   NaN  "
      ]
     },
     "execution_count": 15,
     "metadata": {},
     "output_type": "execute_result"
    }
   ],
   "source": [
    "## Load NCBI\n",
    "col_names = ['term','ID','kingdom', 'taxon_path', 'POS', 'taxon_ranking', 'NA1', 'NA2', 'lang']\n",
    "with open(ncbi_path, 'r') as f:\n",
    "    NCBI = pd.read_csv(f, on_bad_lines='skip', sep='\\t', names=col_names )#index_col=0 )\n",
    "NCBI.head()"
   ]
  },
  {
   "cell_type": "code",
   "execution_count": 16,
   "metadata": {},
   "outputs": [
    {
     "data": {
      "text/plain": [
       "('Acalymma vittatum',\n",
       " {'langs': ['en'],\n",
       "  'PHT': 'AcalymmaVittatum-PHT',\n",
       "  'doc_ids': ['61664', '65355', '65991']})"
      ]
     },
     "execution_count": 16,
     "metadata": {},
     "output_type": "execute_result"
    }
   ],
   "source": [
    "## Load EFSA json\n",
    "with open(efsa_match_json_path, 'r') as f:\n",
    "    DATA = json.load(f)\n",
    "list(DATA.items())[0]"
   ]
  },
  {
   "cell_type": "markdown",
   "metadata": {},
   "source": [
    "### Def"
   ]
  },
  {
   "cell_type": "code",
   "execution_count": 17,
   "metadata": {},
   "outputs": [
    {
     "name": "stdout",
     "output_type": "stream",
     "text": [
      "AcalymmaVittatum-PHT: acalymma vittatum\n"
     ]
    }
   ],
   "source": [
    "def PHT_to_lower_taxon(PHT_code):\n",
    "    taxon = re.sub(r'(?<!^)(?=[A-Z])', ' ', PHT_code[:-4]).lower()\n",
    "    return taxon\n",
    "print('AcalymmaVittatum-PHT:',PHT_to_lower_taxon('AcalymmaVittatum-PHT')) # test"
   ]
  },
  {
   "cell_type": "markdown",
   "metadata": {},
   "source": [
    "### Align EFSA taxa with NCBI and EPPO"
   ]
  },
  {
   "cell_type": "markdown",
   "metadata": {},
   "source": [
    "Add translation data to `json` by aligning it with NCBI taxa "
   ]
  },
  {
   "cell_type": "code",
   "execution_count": null,
   "metadata": {},
   "outputs": [],
   "source": []
  },
  {
   "cell_type": "code",
   "execution_count": 18,
   "metadata": {},
   "outputs": [],
   "source": [
    "ncbi_terms = list(set(NCBI['term'].astype(str)))\n",
    "eppo_sci_terms = list(set(EPPO_SCI['OtherScientificNames'].astype(str)))\n",
    "#lowercase_ncbi_terms = list(map(lambda x: str(x).lower(), ncbi_terms))"
   ]
  },
  {
   "cell_type": "code",
   "execution_count": 19,
   "metadata": {},
   "outputs": [
    {
     "name": "stderr",
     "output_type": "stream",
     "text": [
      "100%|██████████| 1960/1960 [49:08:00<00:00, 90.25s/it]        \n"
     ]
    },
    {
     "data": {
      "text/plain": [
       "('Acalymma vittatum',\n",
       " {'langs': ['en'],\n",
       "  'PHT': 'AcalymmaVittatum-PHT',\n",
       "  'doc_ids': ['61664', '65355', '65991'],\n",
       "  'sci_term': ['Acalymma vittatum (Fabricius)',\n",
       "   'Acalymma vittatum Fabricius',\n",
       "   'Acalymma vittatum (Fabricius, 1775)',\n",
       "   'Acalymma vittatum']})"
      ]
     },
     "execution_count": 19,
     "metadata": {},
     "output_type": "execute_result"
    }
   ],
   "source": [
    "for m, md in tqdm(DATA.items()):\n",
    "    efsa_taxon = PHT_to_lower_taxon(DATA[m]['PHT'])\n",
    "    #md['lowercase_taxon'] = efsa_taxon\n",
    "    ncbi_taxa_matching_efsa_term = [t for t in ncbi_terms if efsa_taxon in str(t).lower()]\n",
    "    md['sci_term'] = ncbi_taxa_matching_efsa_term\n",
    "list(DATA.items())[0]"
   ]
  },
  {
   "cell_type": "code",
   "execution_count": null,
   "metadata": {},
   "outputs": [],
   "source": [
    "for m, md in tqdm(DATA.items()):\n",
    "    if m in ncbi_terms or m in eppo_sci_terms:\n",
    "        DATA[m]['langs'] = ['en']\n",
    "    if m in eppo_sci_terms:\n",
    "        DATA[m]['langs'] = ['la'] # TODO differenciate between scientific name and vernacular\n",
    "list(DATA.items())[0]"
   ]
  },
  {
   "cell_type": "code",
   "execution_count": 20,
   "metadata": {},
   "outputs": [
    {
     "data": {
      "text/plain": [
       "1960"
      ]
     },
     "execution_count": 20,
     "metadata": {},
     "output_type": "execute_result"
    }
   ],
   "source": [
    "len(DATA)"
   ]
  },
  {
   "cell_type": "code",
   "execution_count": 21,
   "metadata": {},
   "outputs": [],
   "source": [
    "with open(efsa_match_json_path, 'w') as f:\n",
    "    json.dump(DATA, f)"
   ]
  },
  {
   "cell_type": "markdown",
   "metadata": {},
   "source": [
    "## Make EFSA Glossary"
   ]
  },
  {
   "cell_type": "markdown",
   "metadata": {},
   "source": [
    "Use extracted info to create a translation glossary"
   ]
  },
  {
   "cell_type": "code",
   "execution_count": 22,
   "metadata": {},
   "outputs": [
    {
     "data": {
      "text/plain": [
       "('Acalymma vittatum',\n",
       " {'langs': ['en'],\n",
       "  'PHT': 'AcalymmaVittatum-PHT',\n",
       "  'doc_ids': ['61664', '65355', '65991'],\n",
       "  'sci_term': ['Acalymma vittatum (Fabricius)',\n",
       "   'Acalymma vittatum Fabricius',\n",
       "   'Acalymma vittatum (Fabricius, 1775)',\n",
       "   'Acalymma vittatum']})"
      ]
     },
     "execution_count": 22,
     "metadata": {},
     "output_type": "execute_result"
    }
   ],
   "source": [
    "## Load EFSA json\n",
    "with open(efsa_match_json_path, 'r') as f:\n",
    "    DATA = json.load(f)\n",
    "list(DATA.items())[0]"
   ]
  },
  {
   "cell_type": "code",
   "execution_count": 23,
   "metadata": {},
   "outputs": [],
   "source": [
    "efsa_glossary = dict(term=list(),\n",
    "                    lang=list(),\n",
    "                    sci_term=list())\n",
    "\n",
    "for m, md in DATA.items():\n",
    "    for lang in (md['langs']):\n",
    "        efsa_glossary['term'].append(m)\n",
    "        efsa_glossary['lang'].append(lang)\n",
    "        efsa_glossary['sci_term'].append(max(list(md['sci_term']), key=len) if md['sci_term'] else None)\n",
    "efsa_glossary_df = pd.DataFrame(efsa_glossary)"
   ]
  },
  {
   "cell_type": "code",
   "execution_count": 24,
   "metadata": {},
   "outputs": [
    {
     "data": {
      "text/html": [
       "<div>\n",
       "<style scoped>\n",
       "    .dataframe tbody tr th:only-of-type {\n",
       "        vertical-align: middle;\n",
       "    }\n",
       "\n",
       "    .dataframe tbody tr th {\n",
       "        vertical-align: top;\n",
       "    }\n",
       "\n",
       "    .dataframe thead th {\n",
       "        text-align: right;\n",
       "    }\n",
       "</style>\n",
       "<table border=\"1\" class=\"dataframe\">\n",
       "  <thead>\n",
       "    <tr style=\"text-align: right;\">\n",
       "      <th></th>\n",
       "      <th>term</th>\n",
       "      <th>lang</th>\n",
       "      <th>sci_term</th>\n",
       "    </tr>\n",
       "  </thead>\n",
       "  <tbody>\n",
       "    <tr>\n",
       "      <th>0</th>\n",
       "      <td>Acalymma vittatum</td>\n",
       "      <td>en</td>\n",
       "      <td>Acalymma vittatum (Fabricius, 1775)</td>\n",
       "    </tr>\n",
       "    <tr>\n",
       "      <th>1</th>\n",
       "      <td>Chrysomèle rayée du concombre</td>\n",
       "      <td>fr</td>\n",
       "      <td>Acalymma vittatum (Fabricius, 1775)</td>\n",
       "    </tr>\n",
       "    <tr>\n",
       "      <th>2</th>\n",
       "      <td>chrysomèle rayée du concombre</td>\n",
       "      <td>fr</td>\n",
       "      <td>Acalymma vittatum (Fabricius, 1775)</td>\n",
       "    </tr>\n",
       "    <tr>\n",
       "      <th>3</th>\n",
       "      <td>striped cucumber beetles</td>\n",
       "      <td>en</td>\n",
       "      <td>Acalymma vittatum (Fabricius, 1775)</td>\n",
       "    </tr>\n",
       "    <tr>\n",
       "      <th>4</th>\n",
       "      <td>Striped cucumber beetles</td>\n",
       "      <td>en</td>\n",
       "      <td>Acalymma vittatum (Fabricius, 1775)</td>\n",
       "    </tr>\n",
       "  </tbody>\n",
       "</table>\n",
       "</div>"
      ],
      "text/plain": [
       "                            term lang                             sci_term\n",
       "0              Acalymma vittatum   en  Acalymma vittatum (Fabricius, 1775)\n",
       "1  Chrysomèle rayée du concombre   fr  Acalymma vittatum (Fabricius, 1775)\n",
       "2  chrysomèle rayée du concombre   fr  Acalymma vittatum (Fabricius, 1775)\n",
       "3       striped cucumber beetles   en  Acalymma vittatum (Fabricius, 1775)\n",
       "4       Striped cucumber beetles   en  Acalymma vittatum (Fabricius, 1775)"
      ]
     },
     "execution_count": 24,
     "metadata": {},
     "output_type": "execute_result"
    }
   ],
   "source": [
    "efsa_glossary_df.head()"
   ]
  },
  {
   "cell_type": "markdown",
   "metadata": {},
   "source": [
    "### Save EFSA Glossary"
   ]
  },
  {
   "cell_type": "code",
   "execution_count": 25,
   "metadata": {},
   "outputs": [],
   "source": [
    "with open(efsa_glossary_path, 'w') as f:\n",
    "    efsa_glossary_df.to_csv(f, index=False)"
   ]
  }
 ],
 "metadata": {
  "kernelspec": {
   "display_name": "Python 3.10.6 ('venv': venv)",
   "language": "python",
   "name": "python3"
  },
  "language_info": {
   "codemirror_mode": {
    "name": "ipython",
    "version": 3
   },
   "file_extension": ".py",
   "mimetype": "text/x-python",
   "name": "python",
   "nbconvert_exporter": "python",
   "pygments_lexer": "ipython3",
   "version": "3.10.6 (main, Aug 10 2022, 11:40:04) [GCC 11.3.0]"
  },
  "orig_nbformat": 4,
  "vscode": {
   "interpreter": {
    "hash": "65aabaf4492298ab6b95d3ba4006024321b8a1f76c38ae427ef0154a3a71d8f8"
   }
  }
 },
 "nbformat": 4,
 "nbformat_minor": 2
}
