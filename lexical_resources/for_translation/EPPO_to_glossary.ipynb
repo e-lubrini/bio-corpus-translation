{
 "cells": [
  {
   "cell_type": "code",
   "execution_count": 50,
   "metadata": {},
   "outputs": [],
   "source": [
    "import pandas as pd\n",
    "import os\n",
    "from dsutils.nlp.language import get_lang_code, get_langs\n",
    "from dsutils.de.files import xls_to_csv, get_datafile_path, get_data_path\n",
    "from tqdm import tqdm"
   ]
  },
  {
   "cell_type": "code",
   "execution_count": 51,
   "metadata": {},
   "outputs": [
    {
     "name": "stderr",
     "output_type": "stream",
     "text": [
      "/home/elubrini/GitHub/bio-doc-translation/venv/lib/python3.10/site-packages/openpyxl/styles/stylesheet.py:226: UserWarning: Workbook contains no default style, apply openpyxl's default\n",
      "  warn(\"Workbook contains no default style, apply openpyxl's default\")\n"
     ]
    }
   ],
   "source": [
    "## Input\n",
    "eppo_path = get_datafile_path('2022-09-02_COMMONnames_EPPO_OQ.xlsx')\n",
    "\n",
    "## Output\n",
    "data_path = get_data_path()\n",
    "eppo_glossary_path = os.path.join(data_path, 'eppo_glossary.csv')\n",
    "\n",
    "if '.xls' in str(eppo_path):\n",
    "    eppo_path = xls_to_csv(eppo_path)"
   ]
  },
  {
   "cell_type": "code",
   "execution_count": 52,
   "metadata": {},
   "outputs": [
    {
     "name": "stderr",
     "output_type": "stream",
     "text": [
      "/home/elubrini/GitHub/bio-doc-translation/venv/lib/python3.10/site-packages/openpyxl/styles/stylesheet.py:226: UserWarning: Workbook contains no default style, apply openpyxl's default\n",
      "  warn(\"Workbook contains no default style, apply openpyxl's default\")\n"
     ]
    }
   ],
   "source": [
    "lex_res_path = get_datafile_path('2022-09-06_COMMONnames_EPPO_OQ_Magali.xlsx')\n",
    "if '.xls' in lex_res_path:\n",
    "    csv_path = xls_to_csv(lex_res_path)"
   ]
  },
  {
   "cell_type": "code",
   "execution_count": 53,
   "metadata": {},
   "outputs": [],
   "source": [
    "lang_col_name = 'Language'\n",
    "term_col_name = 'CommonName'\n",
    "en_col_name = 'PreferredName'"
   ]
  },
  {
   "cell_type": "markdown",
   "metadata": {},
   "source": [
    "### Load File"
   ]
  },
  {
   "cell_type": "code",
   "execution_count": 54,
   "metadata": {},
   "outputs": [
    {
     "data": {
      "text/html": [
       "<div>\n",
       "<style scoped>\n",
       "    .dataframe tbody tr th:only-of-type {\n",
       "        vertical-align: middle;\n",
       "    }\n",
       "\n",
       "    .dataframe tbody tr th {\n",
       "        vertical-align: top;\n",
       "    }\n",
       "\n",
       "    .dataframe thead th {\n",
       "        text-align: right;\n",
       "    }\n",
       "</style>\n",
       "<table border=\"1\" class=\"dataframe\">\n",
       "  <thead>\n",
       "    <tr style=\"text-align: right;\">\n",
       "      <th></th>\n",
       "      <th>CommonName</th>\n",
       "      <th>Language</th>\n",
       "      <th>CodeEOPP</th>\n",
       "      <th>PreferredName</th>\n",
       "      <th>AuthorityPreferredName</th>\n",
       "    </tr>\n",
       "  </thead>\n",
       "  <tbody>\n",
       "    <tr>\n",
       "      <th>0</th>\n",
       "      <td>greening of citrus</td>\n",
       "      <td>English</td>\n",
       "      <td>LIBEAF</td>\n",
       "      <td>'Candidatus Liberibacter africanus'</td>\n",
       "      <td>Jagoueix, Bové &amp; Garnier</td>\n",
       "    </tr>\n",
       "    <tr>\n",
       "      <th>1</th>\n",
       "      <td>greening des agrumes</td>\n",
       "      <td>French</td>\n",
       "      <td>LIBEAF</td>\n",
       "      <td>'Candidatus Liberibacter africanus'</td>\n",
       "      <td>Jagoueix, Bové &amp; Garnier</td>\n",
       "    </tr>\n",
       "    <tr>\n",
       "      <th>2</th>\n",
       "      <td>virescence des agrumes</td>\n",
       "      <td>French</td>\n",
       "      <td>LIBEAF</td>\n",
       "      <td>'Candidatus Liberibacter africanus'</td>\n",
       "      <td>Jagoueix, Bové &amp; Garnier</td>\n",
       "    </tr>\n",
       "    <tr>\n",
       "      <th>3</th>\n",
       "      <td>enverdecimiento de los cítricos</td>\n",
       "      <td>Spanish</td>\n",
       "      <td>LIBEAF</td>\n",
       "      <td>'Candidatus Liberibacter africanus'</td>\n",
       "      <td>Jagoueix, Bové &amp; Garnier</td>\n",
       "    </tr>\n",
       "    <tr>\n",
       "      <th>4</th>\n",
       "      <td>Brazilian citrus greening</td>\n",
       "      <td>English</td>\n",
       "      <td>LIBEAM</td>\n",
       "      <td>'Candidatus Liberibacter americanus'</td>\n",
       "      <td>Teixeira, Saillard, Eveillard, Danet, da Costa...</td>\n",
       "    </tr>\n",
       "  </tbody>\n",
       "</table>\n",
       "</div>"
      ],
      "text/plain": [
       "                        CommonName Language CodeEOPP  \\\n",
       "0               greening of citrus  English   LIBEAF   \n",
       "1             greening des agrumes   French   LIBEAF   \n",
       "2           virescence des agrumes   French   LIBEAF   \n",
       "3  enverdecimiento de los cítricos  Spanish   LIBEAF   \n",
       "4        Brazilian citrus greening  English   LIBEAM   \n",
       "\n",
       "                          PreferredName  \\\n",
       "0   'Candidatus Liberibacter africanus'   \n",
       "1   'Candidatus Liberibacter africanus'   \n",
       "2   'Candidatus Liberibacter africanus'   \n",
       "3   'Candidatus Liberibacter africanus'   \n",
       "4  'Candidatus Liberibacter americanus'   \n",
       "\n",
       "                              AuthorityPreferredName  \n",
       "0                           Jagoueix, Bové & Garnier  \n",
       "1                           Jagoueix, Bové & Garnier  \n",
       "2                           Jagoueix, Bové & Garnier  \n",
       "3                           Jagoueix, Bové & Garnier  \n",
       "4  Teixeira, Saillard, Eveillard, Danet, da Costa...  "
      ]
     },
     "execution_count": 54,
     "metadata": {},
     "output_type": "execute_result"
    }
   ],
   "source": [
    "data = pd.read_csv(eppo_path)\n",
    "data.head()"
   ]
  },
  {
   "cell_type": "code",
   "execution_count": 55,
   "metadata": {},
   "outputs": [],
   "source": [
    "#sum(list(data.MagaliEFSA))"
   ]
  },
  {
   "cell_type": "code",
   "execution_count": 56,
   "metadata": {},
   "outputs": [
    {
     "data": {
      "text/html": [
       "<div>\n",
       "<style scoped>\n",
       "    .dataframe tbody tr th:only-of-type {\n",
       "        vertical-align: middle;\n",
       "    }\n",
       "\n",
       "    .dataframe tbody tr th {\n",
       "        vertical-align: top;\n",
       "    }\n",
       "\n",
       "    .dataframe thead th {\n",
       "        text-align: right;\n",
       "    }\n",
       "</style>\n",
       "<table border=\"1\" class=\"dataframe\">\n",
       "  <thead>\n",
       "    <tr style=\"text-align: right;\">\n",
       "      <th></th>\n",
       "      <th>term</th>\n",
       "      <th>lang</th>\n",
       "      <th>sci_term</th>\n",
       "    </tr>\n",
       "  </thead>\n",
       "  <tbody>\n",
       "    <tr>\n",
       "      <th>0</th>\n",
       "      <td>greening of citrus</td>\n",
       "      <td>en</td>\n",
       "      <td>'Candidatus Liberibacter africanus'</td>\n",
       "    </tr>\n",
       "    <tr>\n",
       "      <th>1</th>\n",
       "      <td>greening des agrumes</td>\n",
       "      <td>fr</td>\n",
       "      <td>'Candidatus Liberibacter africanus'</td>\n",
       "    </tr>\n",
       "    <tr>\n",
       "      <th>2</th>\n",
       "      <td>virescence des agrumes</td>\n",
       "      <td>fr</td>\n",
       "      <td>'Candidatus Liberibacter africanus'</td>\n",
       "    </tr>\n",
       "    <tr>\n",
       "      <th>3</th>\n",
       "      <td>enverdecimiento de los cítricos</td>\n",
       "      <td>es</td>\n",
       "      <td>'Candidatus Liberibacter africanus'</td>\n",
       "    </tr>\n",
       "    <tr>\n",
       "      <th>4</th>\n",
       "      <td>Brazilian citrus greening</td>\n",
       "      <td>en</td>\n",
       "      <td>'Candidatus Liberibacter americanus'</td>\n",
       "    </tr>\n",
       "  </tbody>\n",
       "</table>\n",
       "</div>"
      ],
      "text/plain": [
       "                              term lang                              sci_term\n",
       "0               greening of citrus   en   'Candidatus Liberibacter africanus'\n",
       "1             greening des agrumes   fr   'Candidatus Liberibacter africanus'\n",
       "2           virescence des agrumes   fr   'Candidatus Liberibacter africanus'\n",
       "3  enverdecimiento de los cítricos   es   'Candidatus Liberibacter africanus'\n",
       "4        Brazilian citrus greening   en  'Candidatus Liberibacter americanus'"
      ]
     },
     "execution_count": 56,
     "metadata": {},
     "output_type": "execute_result"
    }
   ],
   "source": [
    "eppo_glossary = dict(term=list(),\n",
    "                    lang=list(),\n",
    "                    sci_term=list())\n",
    "\n",
    "eppo_glossary['term'] = data[term_col_name]\n",
    "eppo_glossary['lang'] = list(map(lambda x: get_lang_code(x), data[lang_col_name]))\n",
    "eppo_glossary['sci_term'] = data[en_col_name]\n",
    "eppo_glossary_df = pd.DataFrame(eppo_glossary)\n",
    "\n",
    "eppo_glossary_df.head()"
   ]
  },
  {
   "cell_type": "markdown",
   "metadata": {},
   "source": [
    "### Save EPPO Glossary"
   ]
  },
  {
   "cell_type": "code",
   "execution_count": 57,
   "metadata": {},
   "outputs": [],
   "source": [
    "with open(eppo_glossary_path, 'w') as f:\n",
    "    eppo_glossary_df.to_csv(f, index=False)"
   ]
  }
 ],
 "metadata": {
  "kernelspec": {
   "display_name": "Python 3.10.6 ('venv': venv)",
   "language": "python",
   "name": "python3"
  },
  "language_info": {
   "codemirror_mode": {
    "name": "ipython",
    "version": 3
   },
   "file_extension": ".py",
   "mimetype": "text/x-python",
   "name": "python",
   "nbconvert_exporter": "python",
   "pygments_lexer": "ipython3",
   "version": "3.10.6 (main, Aug 10 2022, 11:40:04) [GCC 11.3.0]"
  },
  "orig_nbformat": 4,
  "vscode": {
   "interpreter": {
    "hash": "65aabaf4492298ab6b95d3ba4006024321b8a1f76c38ae427ef0154a3a71d8f8"
   }
  }
 },
 "nbformat": 4,
 "nbformat_minor": 2
}
