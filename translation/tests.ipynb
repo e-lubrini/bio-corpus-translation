{
 "cells": [
  {
   "cell_type": "code",
   "execution_count": 10,
   "metadata": {},
   "outputs": [],
   "source": [
    "import os\n",
    "import json\n",
    "import pandas as pd\n",
    "from dsutils.de.files import xls_to_csv, get_data_path, get_datafile_path\n",
    "from google.oauth2 import service_account\n",
    "\n",
    "# Imports the Google Cloud Translation library\n",
    "from google.cloud import translate\n",
    "\n",
    "# Import google cloud storage:\n",
    "from google.cloud import storage"
   ]
  },
  {
   "cell_type": "code",
   "execution_count": 11,
   "metadata": {},
   "outputs": [],
   "source": [
    "## Input\n",
    "glossary_path = get_datafile_path(\"google_glossary.csv\")\n",
    "path_to_json_key = get_datafile_path(\"vsi-esv-ab828a611479.json\")\n",
    "\n",
    "## Output\n",
    "bucket_name = 'glossary_bucket' # store the glossaries in the \"bucket name\" bucket/folder/directory\n",
    "glossary_name = \"EFSA_EPPO_NCBI_glossary.csv\" #the name the csv file will have after being stored in google cloud\n",
    "\n",
    "## Env Variables\n",
    "with open(path_to_json_key, 'r') as file:\n",
    "    json_authentication_file = json.load(file)\n",
    "\n",
    "project_id = json_authentication_file['project_id']\n",
    "os.environ[\"GOOGLE_APPLICATION_CREDENTIALS\"] = path_to_json_key"
   ]
  },
  {
   "cell_type": "markdown",
   "metadata": {},
   "source": [
    "# Load credentials"
   ]
  },
  {
   "cell_type": "code",
   "execution_count": 12,
   "metadata": {},
   "outputs": [
    {
     "data": {
      "text/plain": [
       "<google.oauth2.service_account.Credentials at 0x7f7ad4db6e90>"
      ]
     },
     "execution_count": 12,
     "metadata": {},
     "output_type": "execute_result"
    }
   ],
   "source": [
    "credentials = service_account.Credentials.from_service_account_file(\n",
    "    path_to_json_key\n",
    ")\n",
    "\n",
    "#scoped_credentials = credentials.with_scopes(\n",
    "#    ['https://www.googleapis.com/auth/cloud-platform'])\n",
    "credentials"
   ]
  },
  {
   "cell_type": "code",
   "execution_count": 13,
   "metadata": {},
   "outputs": [
    {
     "data": {
      "text/plain": [
       "'vsi-esv'"
      ]
     },
     "execution_count": 13,
     "metadata": {},
     "output_type": "execute_result"
    }
   ],
   "source": [
    "project_id"
   ]
  },
  {
   "cell_type": "markdown",
   "metadata": {},
   "source": [
    "# Simple translation test"
   ]
  },
  {
   "cell_type": "code",
   "execution_count": 14,
   "metadata": {},
   "outputs": [],
   "source": [
    "# snippet adapted from \n",
    "# https://cloud.google.com/translate/docs/advanced/translating-text-v3\n",
    "\n",
    "# Initialize Translation client\n",
    "def test_translate_text_1(\n",
    "    text=\"Sample text.\",  # text for the test\n",
    "    project_id = project_id,            # your project ID\n",
    "    source_lang='en',\n",
    "    target_lang='fr'\n",
    "    ):\n",
    "    \"\"\"Translating Text.\"\"\"\n",
    "\n",
    "    client = translate.TranslationServiceClient()\n",
    "\n",
    "    location = \"global\"\n",
    "\n",
    "    parent = f\"projects/{project_id}/locations/{location}\"\n",
    "\n",
    "    # Translate text from English to French\n",
    "    # Detail on supported types can be found here:\n",
    "    # https://cloud.google.com/translate/docs/supported-formats\n",
    "    response = client.translate_text(\n",
    "        request={\n",
    "            \"parent\": parent,\n",
    "            \"contents\": [text], # you can also send several strings!\n",
    "            \"mime_type\": \"text/plain\",  # other types: text/plain, text/html\n",
    "            \"source_language_code\": source_lang,\n",
    "            \"target_language_code\": target_lang,\n",
    "        }\n",
    "    )\n",
    "\n",
    "    # Display the translation for each input text provided\n",
    "    for translation in response.translations:\n",
    "        print(\"Translated text: {}\".format(translation.translated_text))\n"
   ]
  },
  {
   "cell_type": "code",
   "execution_count": 15,
   "metadata": {},
   "outputs": [
    {
     "name": "stdout",
     "output_type": "stream",
     "text": [
      "Translated text: le temps est mauvais aujourd'hui.\n"
     ]
    }
   ],
   "source": [
    "## Test\n",
    "test_translate_text_1(\n",
    "    text = \"the weather is bad today.\",\n",
    "    project_id= project_id\n",
    ")\n"
   ]
  },
  {
   "cell_type": "markdown",
   "metadata": {},
   "source": [
    "## Create glossary"
   ]
  },
  {
   "cell_type": "markdown",
   "metadata": {},
   "source": [
    "Format: equivalent term set CSV"
   ]
  },
  {
   "cell_type": "code",
   "execution_count": 16,
   "metadata": {},
   "outputs": [],
   "source": [
    "# Using Equivalent term sets \n",
    "# https://cloud.google.com/translate/docs/advanced/glossary#equivalent_term_sets_csv"
   ]
  },
  {
   "cell_type": "code",
   "execution_count": 17,
   "metadata": {},
   "outputs": [],
   "source": [
    "glossary_df = pd.read_csv(\n",
    "    glossary_path\n",
    "    )\n",
    "#glossary_df"
   ]
  },
  {
   "cell_type": "markdown",
   "metadata": {},
   "source": [
    "## Upload csv to google cloud storage"
   ]
  },
  {
   "cell_type": "code",
   "execution_count": 18,
   "metadata": {},
   "outputs": [
    {
     "ename": "Forbidden",
     "evalue": "403 POST https://storage.googleapis.com/upload/storage/v1/b/glossary_bucket/o?uploadType=multipart: {\n  \"error\": {\n    \"code\": 403,\n    \"message\": \"elisa-lubrini@vsi-esv.iam.gserviceaccount.com does not have storage.objects.create access to the Google Cloud Storage object.\",\n    \"errors\": [\n      {\n        \"message\": \"elisa-lubrini@vsi-esv.iam.gserviceaccount.com does not have storage.objects.create access to the Google Cloud Storage object.\",\n        \"domain\": \"global\",\n        \"reason\": \"forbidden\"\n      }\n    ]\n  }\n}\n: ('Request failed with status code', 403, 'Expected one of', <HTTPStatus.OK: 200>)",
     "output_type": "error",
     "traceback": [
      "\u001b[0;31m---------------------------------------------------------------------------\u001b[0m",
      "\u001b[0;31mInvalidResponse\u001b[0m                           Traceback (most recent call last)",
      "File \u001b[0;32m~/GitHub/bio-corpus-translation/venv/lib/python3.10/site-packages/google/cloud/storage/blob.py:2567\u001b[0m, in \u001b[0;36mBlob.upload_from_file\u001b[0;34m(self, file_obj, rewind, size, content_type, num_retries, client, predefined_acl, if_generation_match, if_generation_not_match, if_metageneration_match, if_metageneration_not_match, timeout, checksum, retry)\u001b[0m\n\u001b[1;32m   2566\u001b[0m \u001b[39mtry\u001b[39;00m:\n\u001b[0;32m-> 2567\u001b[0m     created_json \u001b[39m=\u001b[39m \u001b[39mself\u001b[39;49m\u001b[39m.\u001b[39;49m_do_upload(\n\u001b[1;32m   2568\u001b[0m         client,\n\u001b[1;32m   2569\u001b[0m         file_obj,\n\u001b[1;32m   2570\u001b[0m         content_type,\n\u001b[1;32m   2571\u001b[0m         size,\n\u001b[1;32m   2572\u001b[0m         num_retries,\n\u001b[1;32m   2573\u001b[0m         predefined_acl,\n\u001b[1;32m   2574\u001b[0m         if_generation_match,\n\u001b[1;32m   2575\u001b[0m         if_generation_not_match,\n\u001b[1;32m   2576\u001b[0m         if_metageneration_match,\n\u001b[1;32m   2577\u001b[0m         if_metageneration_not_match,\n\u001b[1;32m   2578\u001b[0m         timeout\u001b[39m=\u001b[39;49mtimeout,\n\u001b[1;32m   2579\u001b[0m         checksum\u001b[39m=\u001b[39;49mchecksum,\n\u001b[1;32m   2580\u001b[0m         retry\u001b[39m=\u001b[39;49mretry,\n\u001b[1;32m   2581\u001b[0m     )\n\u001b[1;32m   2582\u001b[0m     \u001b[39mself\u001b[39m\u001b[39m.\u001b[39m_set_properties(created_json)\n",
      "File \u001b[0;32m~/GitHub/bio-corpus-translation/venv/lib/python3.10/site-packages/google/cloud/storage/blob.py:2368\u001b[0m, in \u001b[0;36mBlob._do_upload\u001b[0;34m(self, client, stream, content_type, size, num_retries, predefined_acl, if_generation_match, if_generation_not_match, if_metageneration_match, if_metageneration_not_match, timeout, checksum, retry)\u001b[0m\n\u001b[1;32m   2367\u001b[0m \u001b[39mif\u001b[39;00m size \u001b[39mis\u001b[39;00m \u001b[39mnot\u001b[39;00m \u001b[39mNone\u001b[39;00m \u001b[39mand\u001b[39;00m size \u001b[39m<\u001b[39m\u001b[39m=\u001b[39m _MAX_MULTIPART_SIZE:\n\u001b[0;32m-> 2368\u001b[0m     response \u001b[39m=\u001b[39m \u001b[39mself\u001b[39;49m\u001b[39m.\u001b[39;49m_do_multipart_upload(\n\u001b[1;32m   2369\u001b[0m         client,\n\u001b[1;32m   2370\u001b[0m         stream,\n\u001b[1;32m   2371\u001b[0m         content_type,\n\u001b[1;32m   2372\u001b[0m         size,\n\u001b[1;32m   2373\u001b[0m         num_retries,\n\u001b[1;32m   2374\u001b[0m         predefined_acl,\n\u001b[1;32m   2375\u001b[0m         if_generation_match,\n\u001b[1;32m   2376\u001b[0m         if_generation_not_match,\n\u001b[1;32m   2377\u001b[0m         if_metageneration_match,\n\u001b[1;32m   2378\u001b[0m         if_metageneration_not_match,\n\u001b[1;32m   2379\u001b[0m         timeout\u001b[39m=\u001b[39;49mtimeout,\n\u001b[1;32m   2380\u001b[0m         checksum\u001b[39m=\u001b[39;49mchecksum,\n\u001b[1;32m   2381\u001b[0m         retry\u001b[39m=\u001b[39;49mretry,\n\u001b[1;32m   2382\u001b[0m     )\n\u001b[1;32m   2383\u001b[0m \u001b[39melse\u001b[39;00m:\n",
      "File \u001b[0;32m~/GitHub/bio-corpus-translation/venv/lib/python3.10/site-packages/google/cloud/storage/blob.py:1903\u001b[0m, in \u001b[0;36mBlob._do_multipart_upload\u001b[0;34m(self, client, stream, content_type, size, num_retries, predefined_acl, if_generation_match, if_generation_not_match, if_metageneration_match, if_metageneration_not_match, timeout, checksum, retry)\u001b[0m\n\u001b[1;32m   1899\u001b[0m upload\u001b[39m.\u001b[39m_retry_strategy \u001b[39m=\u001b[39m _api_core_retry_to_resumable_media_retry(\n\u001b[1;32m   1900\u001b[0m     retry, num_retries\n\u001b[1;32m   1901\u001b[0m )\n\u001b[0;32m-> 1903\u001b[0m response \u001b[39m=\u001b[39m upload\u001b[39m.\u001b[39;49mtransmit(\n\u001b[1;32m   1904\u001b[0m     transport, data, object_metadata, content_type, timeout\u001b[39m=\u001b[39;49mtimeout\n\u001b[1;32m   1905\u001b[0m )\n\u001b[1;32m   1907\u001b[0m \u001b[39mreturn\u001b[39;00m response\n",
      "File \u001b[0;32m~/GitHub/bio-corpus-translation/venv/lib/python3.10/site-packages/google/resumable_media/requests/upload.py:153\u001b[0m, in \u001b[0;36mMultipartUpload.transmit\u001b[0;34m(self, transport, data, metadata, content_type, timeout)\u001b[0m\n\u001b[1;32m    151\u001b[0m     \u001b[39mreturn\u001b[39;00m result\n\u001b[0;32m--> 153\u001b[0m \u001b[39mreturn\u001b[39;00m _request_helpers\u001b[39m.\u001b[39;49mwait_and_retry(\n\u001b[1;32m    154\u001b[0m     retriable_request, \u001b[39mself\u001b[39;49m\u001b[39m.\u001b[39;49m_get_status_code, \u001b[39mself\u001b[39;49m\u001b[39m.\u001b[39;49m_retry_strategy\n\u001b[1;32m    155\u001b[0m )\n",
      "File \u001b[0;32m~/GitHub/bio-corpus-translation/venv/lib/python3.10/site-packages/google/resumable_media/requests/_request_helpers.py:148\u001b[0m, in \u001b[0;36mwait_and_retry\u001b[0;34m(func, get_status_code, retry_strategy)\u001b[0m\n\u001b[1;32m    147\u001b[0m \u001b[39mtry\u001b[39;00m:\n\u001b[0;32m--> 148\u001b[0m     response \u001b[39m=\u001b[39m func()\n\u001b[1;32m    149\u001b[0m \u001b[39mexcept\u001b[39;00m _CONNECTION_ERROR_CLASSES \u001b[39mas\u001b[39;00m e:\n",
      "File \u001b[0;32m~/GitHub/bio-corpus-translation/venv/lib/python3.10/site-packages/google/resumable_media/requests/upload.py:149\u001b[0m, in \u001b[0;36mMultipartUpload.transmit.<locals>.retriable_request\u001b[0;34m()\u001b[0m\n\u001b[1;32m    145\u001b[0m result \u001b[39m=\u001b[39m transport\u001b[39m.\u001b[39mrequest(\n\u001b[1;32m    146\u001b[0m     method, url, data\u001b[39m=\u001b[39mpayload, headers\u001b[39m=\u001b[39mheaders, timeout\u001b[39m=\u001b[39mtimeout\n\u001b[1;32m    147\u001b[0m )\n\u001b[0;32m--> 149\u001b[0m \u001b[39mself\u001b[39;49m\u001b[39m.\u001b[39;49m_process_response(result)\n\u001b[1;32m    151\u001b[0m \u001b[39mreturn\u001b[39;00m result\n",
      "File \u001b[0;32m~/GitHub/bio-corpus-translation/venv/lib/python3.10/site-packages/google/resumable_media/_upload.py:114\u001b[0m, in \u001b[0;36mUploadBase._process_response\u001b[0;34m(self, response)\u001b[0m\n\u001b[1;32m    113\u001b[0m \u001b[39mself\u001b[39m\u001b[39m.\u001b[39m_finished \u001b[39m=\u001b[39m \u001b[39mTrue\u001b[39;00m\n\u001b[0;32m--> 114\u001b[0m _helpers\u001b[39m.\u001b[39;49mrequire_status_code(response, (http\u001b[39m.\u001b[39;49mclient\u001b[39m.\u001b[39;49mOK,), \u001b[39mself\u001b[39;49m\u001b[39m.\u001b[39;49m_get_status_code)\n",
      "File \u001b[0;32m~/GitHub/bio-corpus-translation/venv/lib/python3.10/site-packages/google/resumable_media/_helpers.py:105\u001b[0m, in \u001b[0;36mrequire_status_code\u001b[0;34m(response, status_codes, get_status_code, callback)\u001b[0m\n\u001b[1;32m    104\u001b[0m         callback()\n\u001b[0;32m--> 105\u001b[0m     \u001b[39mraise\u001b[39;00m common\u001b[39m.\u001b[39mInvalidResponse(\n\u001b[1;32m    106\u001b[0m         response,\n\u001b[1;32m    107\u001b[0m         \u001b[39m\"\u001b[39m\u001b[39mRequest failed with status code\u001b[39m\u001b[39m\"\u001b[39m,\n\u001b[1;32m    108\u001b[0m         status_code,\n\u001b[1;32m    109\u001b[0m         \u001b[39m\"\u001b[39m\u001b[39mExpected one of\u001b[39m\u001b[39m\"\u001b[39m,\n\u001b[1;32m    110\u001b[0m         \u001b[39m*\u001b[39mstatus_codes\n\u001b[1;32m    111\u001b[0m     )\n\u001b[1;32m    112\u001b[0m \u001b[39mreturn\u001b[39;00m status_code\n",
      "\u001b[0;31mInvalidResponse\u001b[0m: ('Request failed with status code', 403, 'Expected one of', <HTTPStatus.OK: 200>)",
      "\nDuring handling of the above exception, another exception occurred:\n",
      "\u001b[0;31mForbidden\u001b[0m                                 Traceback (most recent call last)",
      "Cell \u001b[0;32mIn [18], line 23\u001b[0m\n\u001b[1;32m     21\u001b[0m bucket \u001b[39m=\u001b[39m client\u001b[39m.\u001b[39mbucket(bucket_name)\n\u001b[1;32m     22\u001b[0m blob \u001b[39m=\u001b[39m bucket\u001b[39m.\u001b[39mblob(glossary_name) \n\u001b[0;32m---> 23\u001b[0m blob\u001b[39m.\u001b[39;49mupload_from_filename(\n\u001b[1;32m     24\u001b[0m     glossary_path\n\u001b[1;32m     25\u001b[0m     )\n\u001b[1;32m     27\u001b[0m csv_gs_URI \u001b[39m=\u001b[39m  \u001b[39m\"\u001b[39m\u001b[39mgs://\u001b[39m\u001b[39m\"\u001b[39m \u001b[39m+\u001b[39m bucket_name \u001b[39m+\u001b[39m \u001b[39m\"\u001b[39m\u001b[39m/\u001b[39m\u001b[39m\"\u001b[39m\u001b[39m+\u001b[39m glossary_name\n",
      "File \u001b[0;32m~/GitHub/bio-corpus-translation/venv/lib/python3.10/site-packages/google/cloud/storage/blob.py:2708\u001b[0m, in \u001b[0;36mBlob.upload_from_filename\u001b[0;34m(self, filename, content_type, num_retries, client, predefined_acl, if_generation_match, if_generation_not_match, if_metageneration_match, if_metageneration_not_match, timeout, checksum, retry)\u001b[0m\n\u001b[1;32m   2706\u001b[0m \u001b[39mwith\u001b[39;00m \u001b[39mopen\u001b[39m(filename, \u001b[39m\"\u001b[39m\u001b[39mrb\u001b[39m\u001b[39m\"\u001b[39m) \u001b[39mas\u001b[39;00m file_obj:\n\u001b[1;32m   2707\u001b[0m     total_bytes \u001b[39m=\u001b[39m os\u001b[39m.\u001b[39mfstat(file_obj\u001b[39m.\u001b[39mfileno())\u001b[39m.\u001b[39mst_size\n\u001b[0;32m-> 2708\u001b[0m     \u001b[39mself\u001b[39;49m\u001b[39m.\u001b[39;49mupload_from_file(\n\u001b[1;32m   2709\u001b[0m         file_obj,\n\u001b[1;32m   2710\u001b[0m         content_type\u001b[39m=\u001b[39;49mcontent_type,\n\u001b[1;32m   2711\u001b[0m         num_retries\u001b[39m=\u001b[39;49mnum_retries,\n\u001b[1;32m   2712\u001b[0m         client\u001b[39m=\u001b[39;49mclient,\n\u001b[1;32m   2713\u001b[0m         size\u001b[39m=\u001b[39;49mtotal_bytes,\n\u001b[1;32m   2714\u001b[0m         predefined_acl\u001b[39m=\u001b[39;49mpredefined_acl,\n\u001b[1;32m   2715\u001b[0m         if_generation_match\u001b[39m=\u001b[39;49mif_generation_match,\n\u001b[1;32m   2716\u001b[0m         if_generation_not_match\u001b[39m=\u001b[39;49mif_generation_not_match,\n\u001b[1;32m   2717\u001b[0m         if_metageneration_match\u001b[39m=\u001b[39;49mif_metageneration_match,\n\u001b[1;32m   2718\u001b[0m         if_metageneration_not_match\u001b[39m=\u001b[39;49mif_metageneration_not_match,\n\u001b[1;32m   2719\u001b[0m         timeout\u001b[39m=\u001b[39;49mtimeout,\n\u001b[1;32m   2720\u001b[0m         checksum\u001b[39m=\u001b[39;49mchecksum,\n\u001b[1;32m   2721\u001b[0m         retry\u001b[39m=\u001b[39;49mretry,\n\u001b[1;32m   2722\u001b[0m     )\n",
      "File \u001b[0;32m~/GitHub/bio-corpus-translation/venv/lib/python3.10/site-packages/google/cloud/storage/blob.py:2584\u001b[0m, in \u001b[0;36mBlob.upload_from_file\u001b[0;34m(self, file_obj, rewind, size, content_type, num_retries, client, predefined_acl, if_generation_match, if_generation_not_match, if_metageneration_match, if_metageneration_not_match, timeout, checksum, retry)\u001b[0m\n\u001b[1;32m   2582\u001b[0m     \u001b[39mself\u001b[39m\u001b[39m.\u001b[39m_set_properties(created_json)\n\u001b[1;32m   2583\u001b[0m \u001b[39mexcept\u001b[39;00m resumable_media\u001b[39m.\u001b[39mInvalidResponse \u001b[39mas\u001b[39;00m exc:\n\u001b[0;32m-> 2584\u001b[0m     _raise_from_invalid_response(exc)\n",
      "File \u001b[0;32m~/GitHub/bio-corpus-translation/venv/lib/python3.10/site-packages/google/cloud/storage/blob.py:4457\u001b[0m, in \u001b[0;36m_raise_from_invalid_response\u001b[0;34m(error)\u001b[0m\n\u001b[1;32m   4453\u001b[0m     error_message \u001b[39m=\u001b[39m \u001b[39mstr\u001b[39m(error)\n\u001b[1;32m   4455\u001b[0m message \u001b[39m=\u001b[39m \u001b[39mf\u001b[39m\u001b[39m\"\u001b[39m\u001b[39m{\u001b[39;00mresponse\u001b[39m.\u001b[39mrequest\u001b[39m.\u001b[39mmethod\u001b[39m}\u001b[39;00m\u001b[39m \u001b[39m\u001b[39m{\u001b[39;00mresponse\u001b[39m.\u001b[39mrequest\u001b[39m.\u001b[39murl\u001b[39m}\u001b[39;00m\u001b[39m: \u001b[39m\u001b[39m{\u001b[39;00merror_message\u001b[39m}\u001b[39;00m\u001b[39m\"\u001b[39m\n\u001b[0;32m-> 4457\u001b[0m \u001b[39mraise\u001b[39;00m exceptions\u001b[39m.\u001b[39mfrom_http_status(response\u001b[39m.\u001b[39mstatus_code, message, response\u001b[39m=\u001b[39mresponse)\n",
      "\u001b[0;31mForbidden\u001b[0m: 403 POST https://storage.googleapis.com/upload/storage/v1/b/glossary_bucket/o?uploadType=multipart: {\n  \"error\": {\n    \"code\": 403,\n    \"message\": \"elisa-lubrini@vsi-esv.iam.gserviceaccount.com does not have storage.objects.create access to the Google Cloud Storage object.\",\n    \"errors\": [\n      {\n        \"message\": \"elisa-lubrini@vsi-esv.iam.gserviceaccount.com does not have storage.objects.create access to the Google Cloud Storage object.\",\n        \"domain\": \"global\",\n        \"reason\": \"forbidden\"\n      }\n    ]\n  }\n}\n: ('Request failed with status code', 403, 'Expected one of', <HTTPStatus.OK: 200>)"
     ]
    }
   ],
   "source": [
    "# to upload a file to google cloud storage, I need the project to give me access to a google storage bucket!\n",
    "\n",
    "# Buckets are like folders/directories, but for Google storage\n",
    "# read more about buckets:\n",
    "# https://cloud.google.com/storage/docs/buckets\n",
    "\n",
    "# how to create buckets from the command line:\n",
    "# https://cloud.google.com/storage/docs/creating-buckets\n",
    "\n",
    "# to use the credentials in a command line session, run in the terminal:\n",
    "# `export GOOGLE_APPLICATION_CREDENTIALS=\"KEY_PATH\" `\n",
    "# where \"KEY_PATH\" is a path to a JSON with your credentials\n",
    "# (from \n",
    "# https://cloud.google.com/translate/docs/setup#using_the_service_account_key_file_in_your_environment\n",
    "# )\n",
    "\n",
    "\n",
    "client = storage.Client()\n",
    "## Upload\n",
    "#legacy: bucket = client.get_bucket(bucket_name) \n",
    "bucket = client.bucket(bucket_name)\n",
    "blob = bucket.blob(glossary_name) \n",
    "blob.upload_from_filename(\n",
    "    glossary_path\n",
    "    )\n",
    "\n",
    "csv_gs_URI =  \"gs://\" + bucket_name + \"/\"+ glossary_name # URL of the google storage file"
   ]
  },
  {
   "cell_type": "markdown",
   "metadata": {},
   "source": [
    "## Create a test glossary"
   ]
  },
  {
   "cell_type": "code",
   "execution_count": null,
   "metadata": {},
   "outputs": [],
   "source": [
    "# adapted from\n",
    "#https://cloud.google.com/translate/docs/advanced/glossary#equivalent_term_sets_glossary"
   ]
  },
  {
   "cell_type": "code",
   "execution_count": null,
   "metadata": {},
   "outputs": [],
   "source": [
    "from google.cloud import translate_v3 as translate\n",
    "languages = glossary_df.columns\n",
    "\n",
    "def test_create_glossary_1(\n",
    "    project_id=\"YOUR_PROJECT_ID\",\n",
    "    input_uri=\"YOUR_INPUT_URI\", # where is the glossary in your google cloud storage\n",
    "    glossary_id=\"YOUR_GLOSSARY_ID\", # your name for the glossary?\n",
    "    timeout=180,\n",
    "    languages=['en', 'fr'],\n",
    "):\n",
    "    \"\"\"\n",
    "    Create a equivalent term sets glossary. Glossary can be words or\n",
    "    short phrases (usually fewer than five words).\n",
    "    https://cloud.google.com/translate/docs/advanced/glossary#format-glossary\n",
    "    \"\"\"\n",
    "    client = translate.TranslationServiceClient()\n",
    "\n",
    "    # Supported language codes: https://cloud.google.com/translate/docs/languages\n",
    "\n",
    "    \n",
    "    location = \"us-central1\"  # The location of the glossary\n",
    "\n",
    "    name = client.glossary_path(project_id, location, glossary_id)\n",
    "    language_codes_set = translate.types.Glossary.LanguageCodesSet(\n",
    "        language_codes=languages\n",
    "    )\n",
    "\n",
    "    gcs_source = translate.types.GcsSource(input_uri=input_uri)\n",
    "\n",
    "    input_config = translate.types.GlossaryInputConfig(gcs_source=gcs_source)\n",
    "\n",
    "    glossary = translate.types.Glossary(\n",
    "        name=name, language_codes_set=language_codes_set, input_config=input_config\n",
    "    )\n",
    "\n",
    "    parent = f\"projects/{project_id}/locations/{location}\"\n",
    "    # glossary is a custom dictionary Translation API uses\n",
    "    # to translate the domain-specific terminology.\n",
    "    operation = client.create_glossary(parent=parent, glossary=glossary)\n",
    "\n",
    "    result = operation.result(timeout)\n",
    "    print(\"Created: {}\".format(result.name))\n",
    "    print(\"Input Uri: {}\".format(result.input_config.gcs_source.input_uri))"
   ]
  },
  {
   "cell_type": "code",
   "execution_count": null,
   "metadata": {},
   "outputs": [
    {
     "ename": "NameError",
     "evalue": "name 'csv_gs_URI' is not defined",
     "output_type": "error",
     "traceback": [
      "\u001b[0;31m---------------------------------------------------------------------------\u001b[0m",
      "\u001b[0;31mNameError\u001b[0m                                 Traceback (most recent call last)",
      "Cell \u001b[0;32mIn [12], line 3\u001b[0m\n\u001b[1;32m      1\u001b[0m test_create_glossary_1(\n\u001b[1;32m      2\u001b[0m     project_id\u001b[38;5;241m=\u001b[39mproject_id,\n\u001b[0;32m----> 3\u001b[0m     input_uri\u001b[38;5;241m=\u001b[39m \u001b[43mcsv_gs_URI\u001b[49m, \u001b[38;5;66;03m# URL of the csv in google cloud\u001b[39;00m\n\u001b[1;32m      4\u001b[0m     glossary_id\u001b[38;5;241m=\u001b[39m\u001b[38;5;124m\"\u001b[39m\u001b[38;5;124mtest_1\u001b[39m\u001b[38;5;124m\"\u001b[39m \u001b[38;5;66;03m#name for the created glossary\u001b[39;00m\n\u001b[1;32m      5\u001b[0m )\n",
      "\u001b[0;31mNameError\u001b[0m: name 'csv_gs_URI' is not defined"
     ]
    }
   ],
   "source": [
    "test_create_glossary_1(\n",
    "    project_id=project_id,\n",
    "    input_uri= csv_gs_URI, # URL of the csv in google cloud\n",
    "    glossary_id=\"test_1\" #name for the created glossary\n",
    ")"
   ]
  },
  {
   "cell_type": "markdown",
   "metadata": {},
   "source": [
    "# Translate text with a glossary"
   ]
  },
  {
   "cell_type": "code",
   "execution_count": null,
   "metadata": {},
   "outputs": [],
   "source": [
    "# adapted from\n",
    "# https://cloud.google.com/translate/docs/advanced/glossary#v3"
   ]
  },
  {
   "cell_type": "code",
   "execution_count": null,
   "metadata": {},
   "outputs": [
    {
     "ename": "",
     "evalue": "",
     "output_type": "error",
     "traceback": [
      "\u001b[1;31mRunning cells with 'Python 3.10.4 ('venv': venv)' requires ipykernel package.\n",
      "\u001b[1;31mRun the following command to install 'ipykernel' into the Python environment. \n",
      "\u001b[1;31mCommand: '/home/elubrini/GitHub/bio-doc-translation/venv/bin/python3 -m pip install ipykernel -U --force-reinstall'"
     ]
    }
   ],
   "source": [
    "\n",
    "from google.cloud import translate\n",
    "\n",
    "\n",
    "def test_translate_text_with_glossary(\n",
    "    text=\"YOUR_TEXT_TO_TRANSLATE\",\n",
    "    project_id=\"YOUR_PROJECT_ID\",\n",
    "    glossary_id=\"YOUR_GLOSSARY_ID\",\n",
    "    source_language='en',\n",
    "    target_language='en',\n",
    "):\n",
    "    \"\"\"Translates a given text using a glossary.\"\"\"\n",
    "\n",
    "    client = translate.TranslationServiceClient()\n",
    "    location = \"us-central1\"\n",
    "    parent = f\"projects/{project_id}/locations/{location}\"\n",
    "\n",
    "    glossary = client.glossary_path(\n",
    "        project_id, \"us-central1\", glossary_id  # The location of the glossary\n",
    "    )\n",
    "\n",
    "    glossary_config = translate.TranslateTextGlossaryConfig(glossary=glossary)\n",
    "\n",
    "    # Supported language codes: https://cloud.google.com/translate/docs/languages\n",
    "    response = client.translate_text(\n",
    "        request={\n",
    "            \"contents\": [text],\n",
    "            \"target_language_code\": target_language,\n",
    "            \"source_language_code\": source_language,\n",
    "            \"parent\": parent,\n",
    "            \"glossary_config\": glossary_config            \n",
    "        }\n",
    "    )\n",
    "\n",
    "    print(\"Translated text: \\n\")\n",
    "    for translation in response.glossary_translations:\n",
    "        print(\"\\t {}\".format(translation.translated_text))\n",
    "\n"
   ]
  },
  {
   "cell_type": "code",
   "execution_count": null,
   "metadata": {},
   "outputs": [
    {
     "ename": "",
     "evalue": "",
     "output_type": "error",
     "traceback": [
      "\u001b[1;31mRunning cells with 'Python 3.10.4 ('venv': venv)' requires ipykernel package.\n",
      "\u001b[1;31mRun the following command to install 'ipykernel' into the Python environment. \n",
      "\u001b[1;31mCommand: '/home/elubrini/GitHub/bio-doc-translation/venv/bin/python3 -m pip install ipykernel -U --force-reinstall'"
     ]
    }
   ],
   "source": [
    "test_translate_text_with_glossary(\n",
    "    text= \"La chrysomèle rayée du concombre est pas très connue\",\n",
    "    project_id= project_id,\n",
    "    glossary_id= csv_gs_URI,\n",
    "    source_language='fr',\n",
    "    target_language='en'\n",
    ")"
   ]
  },
  {
   "cell_type": "code",
   "execution_count": null,
   "metadata": {},
   "outputs": [
    {
     "ename": "",
     "evalue": "",
     "output_type": "error",
     "traceback": [
      "\u001b[1;31mRunning cells with 'Python 3.10.4 ('venv': venv)' requires ipykernel package.\n",
      "\u001b[1;31mRun the following command to install 'ipykernel' into the Python environment. \n",
      "\u001b[1;31mCommand: '/home/elubrini/GitHub/bio-doc-translation/venv/bin/python3 -m pip install ipykernel -U --force-reinstall'"
     ]
    }
   ],
   "source": []
  }
 ],
 "metadata": {
  "kernelspec": {
   "display_name": "Python 3.10.6 ('venv': venv)",
   "language": "python",
   "name": "python3"
  },
  "language_info": {
   "codemirror_mode": {
    "name": "ipython",
    "version": 3
   },
   "file_extension": ".py",
   "mimetype": "text/x-python",
   "name": "python",
   "nbconvert_exporter": "python",
   "pygments_lexer": "ipython3",
   "version": "3.10.6"
  },
  "orig_nbformat": 4,
  "vscode": {
   "interpreter": {
    "hash": "65aabaf4492298ab6b95d3ba4006024321b8a1f76c38ae427ef0154a3a71d8f8"
   }
  }
 },
 "nbformat": 4,
 "nbformat_minor": 2
}
